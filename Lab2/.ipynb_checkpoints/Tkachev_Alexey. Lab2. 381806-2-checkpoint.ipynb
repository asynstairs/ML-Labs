{
 "cells": [
  {
   "cell_type": "markdown",
   "id": "02f3c8b0",
   "metadata": {
    "id": "02f3c8b0"
   },
   "source": [
    "# Лабораторная работа 2. Машинное обучение.\n",
    "\n",
    "- Ткачев Алексей Игоревич\n",
    "- Группа 381806-2\n",
    "- ФИИТ\n",
    "- 4 курс"
   ]
  },
  {
   "cell_type": "markdown",
   "id": "75e01a39",
   "metadata": {
    "id": "75e01a39"
   },
   "source": [
    "# Название датасета\n",
    "\n",
    "Wine Quality Dataset."
   ]
  },
  {
   "cell_type": "markdown",
   "id": "d4e5bfab",
   "metadata": {
    "id": "d4e5bfab"
   },
   "source": [
    "# Описание задачи\n",
    "- Обучить полносвязную неглубокую нейронную сеть распознавать качество вина.\n",
    "- Постоить графики зависимости ошибки на обучеющей выборке и на тестовой от параметра альфа и количества нейронов.\n",
    "- Сделать выводы."
   ]
  },
  {
   "cell_type": "markdown",
   "id": "5IWnsDRypGG3",
   "metadata": {
    "id": "5IWnsDRypGG3"
   },
   "source": [
    "# Все выводы (переобучение, недообучение, итоги) в конце данной работы"
   ]
  },
  {
   "cell_type": "markdown",
   "id": "cac8af97",
   "metadata": {
    "id": "cac8af97"
   },
   "source": [
    "# Загрузка нужных библиотек"
   ]
  },
  {
   "cell_type": "code",
   "execution_count": 1,
   "id": "1a2e8e8b",
   "metadata": {
    "id": "1a2e8e8b"
   },
   "outputs": [],
   "source": [
    "import numpy as np\n",
    "import matplotlib.pyplot as plt\n",
    "import pandas as pd\n",
    "\n",
    "from time import time\n",
    "%matplotlib inline"
   ]
  },
  {
   "cell_type": "markdown",
   "id": "a02dd7b4",
   "metadata": {
    "id": "a02dd7b4"
   },
   "source": [
    "# Загрузка датасета\n",
    "`given_data` - весь \"сырой\" датасет."
   ]
  },
  {
   "cell_type": "code",
   "execution_count": 2,
   "id": "11cfb5cd",
   "metadata": {
    "id": "11cfb5cd"
   },
   "outputs": [],
   "source": [
    "given_data = pd.read_csv('dataset.csv', sep=',', header=0,  engine='python')"
   ]
  },
  {
   "cell_type": "markdown",
   "id": "6272a40e",
   "metadata": {
    "id": "6272a40e"
   },
   "source": [
    "Так как `given_data` первой строкой представлял имена столбцов, то аргумент `header=0`."
   ]
  },
  {
   "cell_type": "code",
   "execution_count": 3,
   "id": "f23c1e48",
   "metadata": {
    "colab": {
     "base_uri": "https://localhost:8080/",
     "height": 424
    },
    "id": "f23c1e48",
    "outputId": "48148d49-06a9-4474-be29-003131f87bbc",
    "scrolled": true
   },
   "outputs": [
    {
     "data": {
      "text/html": [
       "<div>\n",
       "<style scoped>\n",
       "    .dataframe tbody tr th:only-of-type {\n",
       "        vertical-align: middle;\n",
       "    }\n",
       "\n",
       "    .dataframe tbody tr th {\n",
       "        vertical-align: top;\n",
       "    }\n",
       "\n",
       "    .dataframe thead th {\n",
       "        text-align: right;\n",
       "    }\n",
       "</style>\n",
       "<table border=\"1\" class=\"dataframe\">\n",
       "  <thead>\n",
       "    <tr style=\"text-align: right;\">\n",
       "      <th></th>\n",
       "      <th>type</th>\n",
       "      <th>fixed acidity</th>\n",
       "      <th>volatile acidity</th>\n",
       "      <th>citric acid</th>\n",
       "      <th>residual sugar</th>\n",
       "      <th>chlorides</th>\n",
       "      <th>free sulfur dioxide</th>\n",
       "      <th>total sulfur dioxide</th>\n",
       "      <th>density</th>\n",
       "      <th>pH</th>\n",
       "      <th>sulphates</th>\n",
       "      <th>alcohol</th>\n",
       "      <th>quality</th>\n",
       "    </tr>\n",
       "  </thead>\n",
       "  <tbody>\n",
       "    <tr>\n",
       "      <th>0</th>\n",
       "      <td>white</td>\n",
       "      <td>7.0</td>\n",
       "      <td>0.270</td>\n",
       "      <td>0.36</td>\n",
       "      <td>20.7</td>\n",
       "      <td>0.045</td>\n",
       "      <td>45.0</td>\n",
       "      <td>170.0</td>\n",
       "      <td>1.00100</td>\n",
       "      <td>3.00</td>\n",
       "      <td>0.45</td>\n",
       "      <td>8.8</td>\n",
       "      <td>6</td>\n",
       "    </tr>\n",
       "    <tr>\n",
       "      <th>1</th>\n",
       "      <td>white</td>\n",
       "      <td>6.3</td>\n",
       "      <td>0.300</td>\n",
       "      <td>0.34</td>\n",
       "      <td>1.6</td>\n",
       "      <td>0.049</td>\n",
       "      <td>14.0</td>\n",
       "      <td>132.0</td>\n",
       "      <td>0.99400</td>\n",
       "      <td>3.30</td>\n",
       "      <td>0.49</td>\n",
       "      <td>9.5</td>\n",
       "      <td>6</td>\n",
       "    </tr>\n",
       "    <tr>\n",
       "      <th>2</th>\n",
       "      <td>white</td>\n",
       "      <td>8.1</td>\n",
       "      <td>0.280</td>\n",
       "      <td>0.40</td>\n",
       "      <td>6.9</td>\n",
       "      <td>0.050</td>\n",
       "      <td>30.0</td>\n",
       "      <td>97.0</td>\n",
       "      <td>0.99510</td>\n",
       "      <td>3.26</td>\n",
       "      <td>0.44</td>\n",
       "      <td>10.1</td>\n",
       "      <td>6</td>\n",
       "    </tr>\n",
       "    <tr>\n",
       "      <th>3</th>\n",
       "      <td>white</td>\n",
       "      <td>7.2</td>\n",
       "      <td>0.230</td>\n",
       "      <td>0.32</td>\n",
       "      <td>8.5</td>\n",
       "      <td>0.058</td>\n",
       "      <td>47.0</td>\n",
       "      <td>186.0</td>\n",
       "      <td>0.99560</td>\n",
       "      <td>3.19</td>\n",
       "      <td>0.40</td>\n",
       "      <td>9.9</td>\n",
       "      <td>6</td>\n",
       "    </tr>\n",
       "    <tr>\n",
       "      <th>4</th>\n",
       "      <td>white</td>\n",
       "      <td>7.2</td>\n",
       "      <td>0.230</td>\n",
       "      <td>0.32</td>\n",
       "      <td>8.5</td>\n",
       "      <td>0.058</td>\n",
       "      <td>47.0</td>\n",
       "      <td>186.0</td>\n",
       "      <td>0.99560</td>\n",
       "      <td>3.19</td>\n",
       "      <td>0.40</td>\n",
       "      <td>9.9</td>\n",
       "      <td>6</td>\n",
       "    </tr>\n",
       "    <tr>\n",
       "      <th>...</th>\n",
       "      <td>...</td>\n",
       "      <td>...</td>\n",
       "      <td>...</td>\n",
       "      <td>...</td>\n",
       "      <td>...</td>\n",
       "      <td>...</td>\n",
       "      <td>...</td>\n",
       "      <td>...</td>\n",
       "      <td>...</td>\n",
       "      <td>...</td>\n",
       "      <td>...</td>\n",
       "      <td>...</td>\n",
       "      <td>...</td>\n",
       "    </tr>\n",
       "    <tr>\n",
       "      <th>6492</th>\n",
       "      <td>red</td>\n",
       "      <td>6.2</td>\n",
       "      <td>0.600</td>\n",
       "      <td>0.08</td>\n",
       "      <td>2.0</td>\n",
       "      <td>0.090</td>\n",
       "      <td>32.0</td>\n",
       "      <td>44.0</td>\n",
       "      <td>0.99490</td>\n",
       "      <td>3.45</td>\n",
       "      <td>0.58</td>\n",
       "      <td>10.5</td>\n",
       "      <td>5</td>\n",
       "    </tr>\n",
       "    <tr>\n",
       "      <th>6493</th>\n",
       "      <td>red</td>\n",
       "      <td>5.9</td>\n",
       "      <td>0.550</td>\n",
       "      <td>0.10</td>\n",
       "      <td>2.2</td>\n",
       "      <td>0.062</td>\n",
       "      <td>39.0</td>\n",
       "      <td>51.0</td>\n",
       "      <td>0.99512</td>\n",
       "      <td>3.52</td>\n",
       "      <td>NaN</td>\n",
       "      <td>11.2</td>\n",
       "      <td>6</td>\n",
       "    </tr>\n",
       "    <tr>\n",
       "      <th>6494</th>\n",
       "      <td>red</td>\n",
       "      <td>6.3</td>\n",
       "      <td>0.510</td>\n",
       "      <td>0.13</td>\n",
       "      <td>2.3</td>\n",
       "      <td>0.076</td>\n",
       "      <td>29.0</td>\n",
       "      <td>40.0</td>\n",
       "      <td>0.99574</td>\n",
       "      <td>3.42</td>\n",
       "      <td>0.75</td>\n",
       "      <td>11.0</td>\n",
       "      <td>6</td>\n",
       "    </tr>\n",
       "    <tr>\n",
       "      <th>6495</th>\n",
       "      <td>red</td>\n",
       "      <td>5.9</td>\n",
       "      <td>0.645</td>\n",
       "      <td>0.12</td>\n",
       "      <td>2.0</td>\n",
       "      <td>0.075</td>\n",
       "      <td>32.0</td>\n",
       "      <td>44.0</td>\n",
       "      <td>0.99547</td>\n",
       "      <td>3.57</td>\n",
       "      <td>0.71</td>\n",
       "      <td>10.2</td>\n",
       "      <td>5</td>\n",
       "    </tr>\n",
       "    <tr>\n",
       "      <th>6496</th>\n",
       "      <td>red</td>\n",
       "      <td>6.0</td>\n",
       "      <td>0.310</td>\n",
       "      <td>0.47</td>\n",
       "      <td>3.6</td>\n",
       "      <td>0.067</td>\n",
       "      <td>18.0</td>\n",
       "      <td>42.0</td>\n",
       "      <td>0.99549</td>\n",
       "      <td>3.39</td>\n",
       "      <td>0.66</td>\n",
       "      <td>11.0</td>\n",
       "      <td>6</td>\n",
       "    </tr>\n",
       "  </tbody>\n",
       "</table>\n",
       "<p>6497 rows × 13 columns</p>\n",
       "</div>"
      ],
      "text/plain": [
       "       type  fixed acidity  volatile acidity  citric acid  residual sugar  \\\n",
       "0     white            7.0             0.270         0.36            20.7   \n",
       "1     white            6.3             0.300         0.34             1.6   \n",
       "2     white            8.1             0.280         0.40             6.9   \n",
       "3     white            7.2             0.230         0.32             8.5   \n",
       "4     white            7.2             0.230         0.32             8.5   \n",
       "...     ...            ...               ...          ...             ...   \n",
       "6492    red            6.2             0.600         0.08             2.0   \n",
       "6493    red            5.9             0.550         0.10             2.2   \n",
       "6494    red            6.3             0.510         0.13             2.3   \n",
       "6495    red            5.9             0.645         0.12             2.0   \n",
       "6496    red            6.0             0.310         0.47             3.6   \n",
       "\n",
       "      chlorides  free sulfur dioxide  total sulfur dioxide  density    pH  \\\n",
       "0         0.045                 45.0                 170.0  1.00100  3.00   \n",
       "1         0.049                 14.0                 132.0  0.99400  3.30   \n",
       "2         0.050                 30.0                  97.0  0.99510  3.26   \n",
       "3         0.058                 47.0                 186.0  0.99560  3.19   \n",
       "4         0.058                 47.0                 186.0  0.99560  3.19   \n",
       "...         ...                  ...                   ...      ...   ...   \n",
       "6492      0.090                 32.0                  44.0  0.99490  3.45   \n",
       "6493      0.062                 39.0                  51.0  0.99512  3.52   \n",
       "6494      0.076                 29.0                  40.0  0.99574  3.42   \n",
       "6495      0.075                 32.0                  44.0  0.99547  3.57   \n",
       "6496      0.067                 18.0                  42.0  0.99549  3.39   \n",
       "\n",
       "      sulphates  alcohol  quality  \n",
       "0          0.45      8.8        6  \n",
       "1          0.49      9.5        6  \n",
       "2          0.44     10.1        6  \n",
       "3          0.40      9.9        6  \n",
       "4          0.40      9.9        6  \n",
       "...         ...      ...      ...  \n",
       "6492       0.58     10.5        5  \n",
       "6493        NaN     11.2        6  \n",
       "6494       0.75     11.0        6  \n",
       "6495       0.71     10.2        5  \n",
       "6496       0.66     11.0        6  \n",
       "\n",
       "[6497 rows x 13 columns]"
      ]
     },
     "execution_count": 3,
     "metadata": {},
     "output_type": "execute_result"
    }
   ],
   "source": [
    "given_data"
   ]
  },
  {
   "cell_type": "markdown",
   "id": "A1ieSNt47ufL",
   "metadata": {
    "id": "A1ieSNt47ufL"
   },
   "source": [
    "## Балансировка датасета\n",
    "\n",
    "Так как датасет имеет несбалансированные по количеству признаков относительно класса `quality`, сбалансируем его удалением слишком малых классов."
   ]
  },
  {
   "cell_type": "code",
   "execution_count": 4,
   "id": "pjY7vtSB6bZS",
   "metadata": {
    "colab": {
     "base_uri": "https://localhost:8080/",
     "height": 297
    },
    "id": "pjY7vtSB6bZS",
    "outputId": "d7289925-7b9d-4de5-d7ad-5e36f33cae35"
   },
   "outputs": [
    {
     "data": {
      "text/plain": [
       "<AxesSubplot:xlabel='quality', ylabel='count'>"
      ]
     },
     "execution_count": 4,
     "metadata": {},
     "output_type": "execute_result"
    },
    {
     "data": {
      "image/png": "[encoded data removed]",
      "text/plain": [
       "<Figure size 432x288 with 1 Axes>"
      ]
     },
     "metadata": {
      "needs_background": "light"
     },
     "output_type": "display_data"
    }
   ],
   "source": [
    "import seaborn as sns\n",
    "sns.countplot(x='quality', data=given_data)"
   ]
  },
  {
   "cell_type": "code",
   "execution_count": 5,
   "id": "ai_VBKWE-_Qm",
   "metadata": {
    "colab": {
     "base_uri": "https://localhost:8080/"
    },
    "id": "ai_VBKWE-_Qm",
    "outputId": "ecc0c393-a138-4b8b-a0ab-4e31826653fe"
   },
   "outputs": [
    {
     "data": {
      "text/plain": [
       "Index(['type', 'fixed acidity', 'volatile acidity', 'citric acid',\n",
       "       'residual sugar', 'chlorides', 'free sulfur dioxide',\n",
       "       'total sulfur dioxide', 'density', 'pH', 'sulphates', 'alcohol',\n",
       "       'quality'],\n",
       "      dtype='object')"
      ]
     },
     "execution_count": 5,
     "metadata": {},
     "output_type": "execute_result"
    }
   ],
   "source": [
    "given_data.columns"
   ]
  },
  {
   "cell_type": "code",
   "execution_count": 6,
   "id": "lEWMcOWv_CyU",
   "metadata": {
    "colab": {
     "base_uri": "https://localhost:8080/",
     "height": 35
    },
    "id": "lEWMcOWv_CyU",
    "outputId": "a5698fcc-b789-41fa-a960-a2878e5f5575"
   },
   "outputs": [
    {
     "data": {
      "text/plain": [
       "'quality'"
      ]
     },
     "execution_count": 6,
     "metadata": {},
     "output_type": "execute_result"
    }
   ],
   "source": [
    "quality = given_data.columns[len(given_data.columns)-1]\n",
    "quality"
   ]
  },
  {
   "cell_type": "code",
   "execution_count": 7,
   "id": "jA1j54cX7ykW",
   "metadata": {
    "id": "jA1j54cX7ykW"
   },
   "outputs": [],
   "source": [
    "given_data = given_data.drop(given_data[given_data[quality] == 3].index)\n",
    "given_data = given_data.drop(given_data[given_data[quality] == 4].index)\n",
    "given_data = given_data.drop(given_data[given_data[quality] == 7].index)\n",
    "given_data = given_data.drop(given_data[given_data[quality] == 8].index)\n",
    "given_data = given_data.drop(given_data[given_data[quality] == 9].index)"
   ]
  },
  {
   "cell_type": "code",
   "execution_count": 8,
   "id": "L00zZfojAXFG",
   "metadata": {
    "colab": {
     "base_uri": "https://localhost:8080/",
     "height": 297
    },
    "id": "L00zZfojAXFG",
    "outputId": "e95348b6-beed-44c9-f779-4e7a59921e37"
   },
   "outputs": [
    {
     "data": {
      "text/plain": [
       "<AxesSubplot:xlabel='quality', ylabel='count'>"
      ]
     },
     "execution_count": 8,
     "metadata": {},
     "output_type": "execute_result"
    },
    {
     "data": {
      "image/png": "[encoded data removed]",
      "text/plain": [
       "<Figure size 432x288 with 1 Axes>"
      ]
     },
     "metadata": {
      "needs_background": "light"
     },
     "output_type": "display_data"
    }
   ],
   "source": [
    "sns.countplot(x='quality', data=given_data)"
   ]
  },
  {
   "cell_type": "markdown",
   "id": "_mWquwDTISky",
   "metadata": {
    "id": "_mWquwDTISky"
   },
   "source": [
    "Видим, что теперь классов `quality` всего два, но обучение будет намного точнее."
   ]
  },
  {
   "cell_type": "code",
   "execution_count": 9,
   "id": "S95Tok3UIZpV",
   "metadata": {
    "colab": {
     "base_uri": "https://localhost:8080/",
     "height": 424
    },
    "id": "S95Tok3UIZpV",
    "outputId": "625643b5-0048-4068-e867-4b364d748d0a"
   },
   "outputs": [
    {
     "data": {
      "text/html": [
       "<div>\n",
       "<style scoped>\n",
       "    .dataframe tbody tr th:only-of-type {\n",
       "        vertical-align: middle;\n",
       "    }\n",
       "\n",
       "    .dataframe tbody tr th {\n",
       "        vertical-align: top;\n",
       "    }\n",
       "\n",
       "    .dataframe thead th {\n",
       "        text-align: right;\n",
       "    }\n",
       "</style>\n",
       "<table border=\"1\" class=\"dataframe\">\n",
       "  <thead>\n",
       "    <tr style=\"text-align: right;\">\n",
       "      <th></th>\n",
       "      <th>type</th>\n",
       "      <th>fixed acidity</th>\n",
       "      <th>volatile acidity</th>\n",
       "      <th>citric acid</th>\n",
       "      <th>residual sugar</th>\n",
       "      <th>chlorides</th>\n",
       "      <th>free sulfur dioxide</th>\n",
       "      <th>total sulfur dioxide</th>\n",
       "      <th>density</th>\n",
       "      <th>pH</th>\n",
       "      <th>sulphates</th>\n",
       "      <th>alcohol</th>\n",
       "      <th>quality</th>\n",
       "    </tr>\n",
       "  </thead>\n",
       "  <tbody>\n",
       "    <tr>\n",
       "      <th>0</th>\n",
       "      <td>white</td>\n",
       "      <td>7.0</td>\n",
       "      <td>0.270</td>\n",
       "      <td>0.36</td>\n",
       "      <td>20.7</td>\n",
       "      <td>0.045</td>\n",
       "      <td>45.0</td>\n",
       "      <td>170.0</td>\n",
       "      <td>1.00100</td>\n",
       "      <td>3.00</td>\n",
       "      <td>0.45</td>\n",
       "      <td>8.8</td>\n",
       "      <td>6</td>\n",
       "    </tr>\n",
       "    <tr>\n",
       "      <th>1</th>\n",
       "      <td>white</td>\n",
       "      <td>6.3</td>\n",
       "      <td>0.300</td>\n",
       "      <td>0.34</td>\n",
       "      <td>1.6</td>\n",
       "      <td>0.049</td>\n",
       "      <td>14.0</td>\n",
       "      <td>132.0</td>\n",
       "      <td>0.99400</td>\n",
       "      <td>3.30</td>\n",
       "      <td>0.49</td>\n",
       "      <td>9.5</td>\n",
       "      <td>6</td>\n",
       "    </tr>\n",
       "    <tr>\n",
       "      <th>2</th>\n",
       "      <td>white</td>\n",
       "      <td>8.1</td>\n",
       "      <td>0.280</td>\n",
       "      <td>0.40</td>\n",
       "      <td>6.9</td>\n",
       "      <td>0.050</td>\n",
       "      <td>30.0</td>\n",
       "      <td>97.0</td>\n",
       "      <td>0.99510</td>\n",
       "      <td>3.26</td>\n",
       "      <td>0.44</td>\n",
       "      <td>10.1</td>\n",
       "      <td>6</td>\n",
       "    </tr>\n",
       "    <tr>\n",
       "      <th>3</th>\n",
       "      <td>white</td>\n",
       "      <td>7.2</td>\n",
       "      <td>0.230</td>\n",
       "      <td>0.32</td>\n",
       "      <td>8.5</td>\n",
       "      <td>0.058</td>\n",
       "      <td>47.0</td>\n",
       "      <td>186.0</td>\n",
       "      <td>0.99560</td>\n",
       "      <td>3.19</td>\n",
       "      <td>0.40</td>\n",
       "      <td>9.9</td>\n",
       "      <td>6</td>\n",
       "    </tr>\n",
       "    <tr>\n",
       "      <th>4</th>\n",
       "      <td>white</td>\n",
       "      <td>7.2</td>\n",
       "      <td>0.230</td>\n",
       "      <td>0.32</td>\n",
       "      <td>8.5</td>\n",
       "      <td>0.058</td>\n",
       "      <td>47.0</td>\n",
       "      <td>186.0</td>\n",
       "      <td>0.99560</td>\n",
       "      <td>3.19</td>\n",
       "      <td>0.40</td>\n",
       "      <td>9.9</td>\n",
       "      <td>6</td>\n",
       "    </tr>\n",
       "    <tr>\n",
       "      <th>...</th>\n",
       "      <td>...</td>\n",
       "      <td>...</td>\n",
       "      <td>...</td>\n",
       "      <td>...</td>\n",
       "      <td>...</td>\n",
       "      <td>...</td>\n",
       "      <td>...</td>\n",
       "      <td>...</td>\n",
       "      <td>...</td>\n",
       "      <td>...</td>\n",
       "      <td>...</td>\n",
       "      <td>...</td>\n",
       "      <td>...</td>\n",
       "    </tr>\n",
       "    <tr>\n",
       "      <th>6492</th>\n",
       "      <td>red</td>\n",
       "      <td>6.2</td>\n",
       "      <td>0.600</td>\n",
       "      <td>0.08</td>\n",
       "      <td>2.0</td>\n",
       "      <td>0.090</td>\n",
       "      <td>32.0</td>\n",
       "      <td>44.0</td>\n",
       "      <td>0.99490</td>\n",
       "      <td>3.45</td>\n",
       "      <td>0.58</td>\n",
       "      <td>10.5</td>\n",
       "      <td>5</td>\n",
       "    </tr>\n",
       "    <tr>\n",
       "      <th>6493</th>\n",
       "      <td>red</td>\n",
       "      <td>5.9</td>\n",
       "      <td>0.550</td>\n",
       "      <td>0.10</td>\n",
       "      <td>2.2</td>\n",
       "      <td>0.062</td>\n",
       "      <td>39.0</td>\n",
       "      <td>51.0</td>\n",
       "      <td>0.99512</td>\n",
       "      <td>3.52</td>\n",
       "      <td>NaN</td>\n",
       "      <td>11.2</td>\n",
       "      <td>6</td>\n",
       "    </tr>\n",
       "    <tr>\n",
       "      <th>6494</th>\n",
       "      <td>red</td>\n",
       "      <td>6.3</td>\n",
       "      <td>0.510</td>\n",
       "      <td>0.13</td>\n",
       "      <td>2.3</td>\n",
       "      <td>0.076</td>\n",
       "      <td>29.0</td>\n",
       "      <td>40.0</td>\n",
       "      <td>0.99574</td>\n",
       "      <td>3.42</td>\n",
       "      <td>0.75</td>\n",
       "      <td>11.0</td>\n",
       "      <td>6</td>\n",
       "    </tr>\n",
       "    <tr>\n",
       "      <th>6495</th>\n",
       "      <td>red</td>\n",
       "      <td>5.9</td>\n",
       "      <td>0.645</td>\n",
       "      <td>0.12</td>\n",
       "      <td>2.0</td>\n",
       "      <td>0.075</td>\n",
       "      <td>32.0</td>\n",
       "      <td>44.0</td>\n",
       "      <td>0.99547</td>\n",
       "      <td>3.57</td>\n",
       "      <td>0.71</td>\n",
       "      <td>10.2</td>\n",
       "      <td>5</td>\n",
       "    </tr>\n",
       "    <tr>\n",
       "      <th>6496</th>\n",
       "      <td>red</td>\n",
       "      <td>6.0</td>\n",
       "      <td>0.310</td>\n",
       "      <td>0.47</td>\n",
       "      <td>3.6</td>\n",
       "      <td>0.067</td>\n",
       "      <td>18.0</td>\n",
       "      <td>42.0</td>\n",
       "      <td>0.99549</td>\n",
       "      <td>3.39</td>\n",
       "      <td>0.66</td>\n",
       "      <td>11.0</td>\n",
       "      <td>6</td>\n",
       "    </tr>\n",
       "  </tbody>\n",
       "</table>\n",
       "<p>4974 rows × 13 columns</p>\n",
       "</div>"
      ],
      "text/plain": [
       "       type  fixed acidity  volatile acidity  citric acid  residual sugar  \\\n",
       "0     white            7.0             0.270         0.36            20.7   \n",
       "1     white            6.3             0.300         0.34             1.6   \n",
       "2     white            8.1             0.280         0.40             6.9   \n",
       "3     white            7.2             0.230         0.32             8.5   \n",
       "4     white            7.2             0.230         0.32             8.5   \n",
       "...     ...            ...               ...          ...             ...   \n",
       "6492    red            6.2             0.600         0.08             2.0   \n",
       "6493    red            5.9             0.550         0.10             2.2   \n",
       "6494    red            6.3             0.510         0.13             2.3   \n",
       "6495    red            5.9             0.645         0.12             2.0   \n",
       "6496    red            6.0             0.310         0.47             3.6   \n",
       "\n",
       "      chlorides  free sulfur dioxide  total sulfur dioxide  density    pH  \\\n",
       "0         0.045                 45.0                 170.0  1.00100  3.00   \n",
       "1         0.049                 14.0                 132.0  0.99400  3.30   \n",
       "2         0.050                 30.0                  97.0  0.99510  3.26   \n",
       "3         0.058                 47.0                 186.0  0.99560  3.19   \n",
       "4         0.058                 47.0                 186.0  0.99560  3.19   \n",
       "...         ...                  ...                   ...      ...   ...   \n",
       "6492      0.090                 32.0                  44.0  0.99490  3.45   \n",
       "6493      0.062                 39.0                  51.0  0.99512  3.52   \n",
       "6494      0.076                 29.0                  40.0  0.99574  3.42   \n",
       "6495      0.075                 32.0                  44.0  0.99547  3.57   \n",
       "6496      0.067                 18.0                  42.0  0.99549  3.39   \n",
       "\n",
       "      sulphates  alcohol  quality  \n",
       "0          0.45      8.8        6  \n",
       "1          0.49      9.5        6  \n",
       "2          0.44     10.1        6  \n",
       "3          0.40      9.9        6  \n",
       "4          0.40      9.9        6  \n",
       "...         ...      ...      ...  \n",
       "6492       0.58     10.5        5  \n",
       "6493        NaN     11.2        6  \n",
       "6494       0.75     11.0        6  \n",
       "6495       0.71     10.2        5  \n",
       "6496       0.66     11.0        6  \n",
       "\n",
       "[4974 rows x 13 columns]"
      ]
     },
     "execution_count": 9,
     "metadata": {},
     "output_type": "execute_result"
    }
   ],
   "source": [
    "given_data"
   ]
  },
  {
   "cell_type": "markdown",
   "id": "9740162c",
   "metadata": {
    "id": "9740162c"
   },
   "source": [
    "# Основные характеристики данных"
   ]
  },
  {
   "cell_type": "markdown",
   "id": "0af80257",
   "metadata": {
    "id": "0af80257"
   },
   "source": [
    "Основные числое характеристики:"
   ]
  },
  {
   "cell_type": "code",
   "execution_count": 10,
   "id": "7c425fe8",
   "metadata": {
    "colab": {
     "base_uri": "https://localhost:8080/"
    },
    "id": "7c425fe8",
    "outputId": "1d08e435-d258-4456-b44b-616afb94edac"
   },
   "outputs": [
    {
     "data": {
      "text/html": [
       "<div>\n",
       "<style scoped>\n",
       "    .dataframe tbody tr th:only-of-type {\n",
       "        vertical-align: middle;\n",
       "    }\n",
       "\n",
       "    .dataframe tbody tr th {\n",
       "        vertical-align: top;\n",
       "    }\n",
       "\n",
       "    .dataframe thead th {\n",
       "        text-align: right;\n",
       "    }\n",
       "</style>\n",
       "<table border=\"1\" class=\"dataframe\">\n",
       "  <thead>\n",
       "    <tr style=\"text-align: right;\">\n",
       "      <th></th>\n",
       "      <th>fixed acidity</th>\n",
       "      <th>volatile acidity</th>\n",
       "      <th>citric acid</th>\n",
       "      <th>residual sugar</th>\n",
       "      <th>chlorides</th>\n",
       "      <th>free sulfur dioxide</th>\n",
       "      <th>total sulfur dioxide</th>\n",
       "      <th>density</th>\n",
       "      <th>pH</th>\n",
       "      <th>sulphates</th>\n",
       "      <th>alcohol</th>\n",
       "      <th>quality</th>\n",
       "    </tr>\n",
       "  </thead>\n",
       "  <tbody>\n",
       "    <tr>\n",
       "      <th>count</th>\n",
       "      <td>4965.000000</td>\n",
       "      <td>4968.000000</td>\n",
       "      <td>4971.000000</td>\n",
       "      <td>4973.000000</td>\n",
       "      <td>4973.000000</td>\n",
       "      <td>4974.000000</td>\n",
       "      <td>4974.000000</td>\n",
       "      <td>4974.000000</td>\n",
       "      <td>4967.000000</td>\n",
       "      <td>4971.000000</td>\n",
       "      <td>4974.000000</td>\n",
       "      <td>4974.000000</td>\n",
       "    </tr>\n",
       "    <tr>\n",
       "      <th>mean</th>\n",
       "      <td>7.243041</td>\n",
       "      <td>0.346423</td>\n",
       "      <td>0.316880</td>\n",
       "      <td>5.659924</td>\n",
       "      <td>0.058681</td>\n",
       "      <td>30.766285</td>\n",
       "      <td>117.744069</td>\n",
       "      <td>0.995113</td>\n",
       "      <td>3.215269</td>\n",
       "      <td>0.529865</td>\n",
       "      <td>10.265275</td>\n",
       "      <td>5.570165</td>\n",
       "    </tr>\n",
       "    <tr>\n",
       "      <th>std</th>\n",
       "      <td>1.280200</td>\n",
       "      <td>0.165673</td>\n",
       "      <td>0.150596</td>\n",
       "      <td>4.935363</td>\n",
       "      <td>0.036438</td>\n",
       "      <td>17.604133</td>\n",
       "      <td>57.861460</td>\n",
       "      <td>0.002867</td>\n",
       "      <td>0.159417</td>\n",
       "      <td>0.144597</td>\n",
       "      <td>1.070626</td>\n",
       "      <td>0.495102</td>\n",
       "    </tr>\n",
       "    <tr>\n",
       "      <th>min</th>\n",
       "      <td>3.800000</td>\n",
       "      <td>0.080000</td>\n",
       "      <td>0.000000</td>\n",
       "      <td>0.600000</td>\n",
       "      <td>0.009000</td>\n",
       "      <td>1.000000</td>\n",
       "      <td>6.000000</td>\n",
       "      <td>0.987220</td>\n",
       "      <td>2.720000</td>\n",
       "      <td>0.230000</td>\n",
       "      <td>8.000000</td>\n",
       "      <td>5.000000</td>\n",
       "    </tr>\n",
       "    <tr>\n",
       "      <th>25%</th>\n",
       "      <td>6.400000</td>\n",
       "      <td>0.230000</td>\n",
       "      <td>0.240000</td>\n",
       "      <td>1.800000</td>\n",
       "      <td>0.040000</td>\n",
       "      <td>17.000000</td>\n",
       "      <td>76.000000</td>\n",
       "      <td>0.992993</td>\n",
       "      <td>3.110000</td>\n",
       "      <td>0.440000</td>\n",
       "      <td>9.400000</td>\n",
       "      <td>5.000000</td>\n",
       "    </tr>\n",
       "    <tr>\n",
       "      <th>50%</th>\n",
       "      <td>7.000000</td>\n",
       "      <td>0.300000</td>\n",
       "      <td>0.310000</td>\n",
       "      <td>3.100000</td>\n",
       "      <td>0.049000</td>\n",
       "      <td>29.000000</td>\n",
       "      <td>121.000000</td>\n",
       "      <td>0.995400</td>\n",
       "      <td>3.200000</td>\n",
       "      <td>0.510000</td>\n",
       "      <td>10.000000</td>\n",
       "      <td>6.000000</td>\n",
       "    </tr>\n",
       "    <tr>\n",
       "      <th>75%</th>\n",
       "      <td>7.700000</td>\n",
       "      <td>0.420000</td>\n",
       "      <td>0.400000</td>\n",
       "      <td>8.500000</td>\n",
       "      <td>0.070000</td>\n",
       "      <td>42.000000</td>\n",
       "      <td>160.000000</td>\n",
       "      <td>0.997200</td>\n",
       "      <td>3.320000</td>\n",
       "      <td>0.600000</td>\n",
       "      <td>11.000000</td>\n",
       "      <td>6.000000</td>\n",
       "    </tr>\n",
       "    <tr>\n",
       "      <th>max</th>\n",
       "      <td>15.900000</td>\n",
       "      <td>1.330000</td>\n",
       "      <td>1.660000</td>\n",
       "      <td>65.800000</td>\n",
       "      <td>0.611000</td>\n",
       "      <td>131.000000</td>\n",
       "      <td>344.000000</td>\n",
       "      <td>1.038980</td>\n",
       "      <td>4.010000</td>\n",
       "      <td>1.980000</td>\n",
       "      <td>14.900000</td>\n",
       "      <td>6.000000</td>\n",
       "    </tr>\n",
       "  </tbody>\n",
       "</table>\n",
       "</div>"
      ],
      "text/plain": [
       "       fixed acidity  volatile acidity  citric acid  residual sugar  \\\n",
       "count    4965.000000       4968.000000  4971.000000     4973.000000   \n",
       "mean        7.243041          0.346423     0.316880        5.659924   \n",
       "std         1.280200          0.165673     0.150596        4.935363   \n",
       "min         3.800000          0.080000     0.000000        0.600000   \n",
       "25%         6.400000          0.230000     0.240000        1.800000   \n",
       "50%         7.000000          0.300000     0.310000        3.100000   \n",
       "75%         7.700000          0.420000     0.400000        8.500000   \n",
       "max        15.900000          1.330000     1.660000       65.800000   \n",
       "\n",
       "         chlorides  free sulfur dioxide  total sulfur dioxide      density  \\\n",
       "count  4973.000000          4974.000000           4974.000000  4974.000000   \n",
       "mean      0.058681            30.766285            117.744069     0.995113   \n",
       "std       0.036438            17.604133             57.861460     0.002867   \n",
       "min       0.009000             1.000000              6.000000     0.987220   \n",
       "25%       0.040000            17.000000             76.000000     0.992993   \n",
       "50%       0.049000            29.000000            121.000000     0.995400   \n",
       "75%       0.070000            42.000000            160.000000     0.997200   \n",
       "max       0.611000           131.000000            344.000000     1.038980   \n",
       "\n",
       "                pH    sulphates      alcohol      quality  \n",
       "count  4967.000000  4971.000000  4974.000000  4974.000000  \n",
       "mean      3.215269     0.529865    10.265275     5.570165  \n",
       "std       0.159417     0.144597     1.070626     0.495102  \n",
       "min       2.720000     0.230000     8.000000     5.000000  \n",
       "25%       3.110000     0.440000     9.400000     5.000000  \n",
       "50%       3.200000     0.510000    10.000000     6.000000  \n",
       "75%       3.320000     0.600000    11.000000     6.000000  \n",
       "max       4.010000     1.980000    14.900000     6.000000  "
      ]
     },
     "execution_count": 10,
     "metadata": {},
     "output_type": "execute_result"
    }
   ],
   "source": [
    "given_data.describe()"
   ]
  },
  {
   "cell_type": "markdown",
   "id": "4209e6c7",
   "metadata": {
    "id": "4209e6c7"
   },
   "source": [
    "Таблица корреляции:"
   ]
  },
  {
   "cell_type": "code",
   "execution_count": 11,
   "id": "9f76d2d7",
   "metadata": {
    "colab": {
     "base_uri": "https://localhost:8080/"
    },
    "id": "9f76d2d7",
    "outputId": "fcd17f3b-ae8d-4efd-9e2c-5d3df223a60d"
   },
   "outputs": [
    {
     "data": {
      "text/html": [
       "<div>\n",
       "<style scoped>\n",
       "    .dataframe tbody tr th:only-of-type {\n",
       "        vertical-align: middle;\n",
       "    }\n",
       "\n",
       "    .dataframe tbody tr th {\n",
       "        vertical-align: top;\n",
       "    }\n",
       "\n",
       "    .dataframe thead th {\n",
       "        text-align: right;\n",
       "    }\n",
       "</style>\n",
       "<table border=\"1\" class=\"dataframe\">\n",
       "  <thead>\n",
       "    <tr style=\"text-align: right;\">\n",
       "      <th></th>\n",
       "      <th>fixed acidity</th>\n",
       "      <th>volatile acidity</th>\n",
       "      <th>citric acid</th>\n",
       "      <th>residual sugar</th>\n",
       "      <th>chlorides</th>\n",
       "      <th>free sulfur dioxide</th>\n",
       "      <th>total sulfur dioxide</th>\n",
       "      <th>density</th>\n",
       "      <th>pH</th>\n",
       "      <th>sulphates</th>\n",
       "      <th>alcohol</th>\n",
       "      <th>quality</th>\n",
       "    </tr>\n",
       "  </thead>\n",
       "  <tbody>\n",
       "    <tr>\n",
       "      <th>fixed acidity</th>\n",
       "      <td>1.000000</td>\n",
       "      <td>0.245779</td>\n",
       "      <td>0.288985</td>\n",
       "      <td>-0.147009</td>\n",
       "      <td>0.277968</td>\n",
       "      <td>-0.292979</td>\n",
       "      <td>-0.335543</td>\n",
       "      <td>0.425819</td>\n",
       "      <td>-0.227387</td>\n",
       "      <td>0.303852</td>\n",
       "      <td>-0.040127</td>\n",
       "      <td>-0.058514</td>\n",
       "    </tr>\n",
       "    <tr>\n",
       "      <th>volatile acidity</th>\n",
       "      <td>0.245779</td>\n",
       "      <td>1.000000</td>\n",
       "      <td>-0.382587</td>\n",
       "      <td>-0.218822</td>\n",
       "      <td>0.385146</td>\n",
       "      <td>-0.368782</td>\n",
       "      <td>-0.439717</td>\n",
       "      <td>0.293125</td>\n",
       "      <td>0.274866</td>\n",
       "      <td>0.266959</td>\n",
       "      <td>-0.049147</td>\n",
       "      <td>-0.227241</td>\n",
       "    </tr>\n",
       "    <tr>\n",
       "      <th>citric acid</th>\n",
       "      <td>0.288985</td>\n",
       "      <td>-0.382587</td>\n",
       "      <td>1.000000</td>\n",
       "      <td>0.159680</td>\n",
       "      <td>0.026121</td>\n",
       "      <td>0.154748</td>\n",
       "      <td>0.229476</td>\n",
       "      <td>0.087842</td>\n",
       "      <td>-0.339325</td>\n",
       "      <td>0.029711</td>\n",
       "      <td>-0.020798</td>\n",
       "      <td>0.052817</td>\n",
       "    </tr>\n",
       "    <tr>\n",
       "      <th>residual sugar</th>\n",
       "      <td>-0.147009</td>\n",
       "      <td>-0.218822</td>\n",
       "      <td>0.159680</td>\n",
       "      <td>1.000000</td>\n",
       "      <td>-0.165767</td>\n",
       "      <td>0.453919</td>\n",
       "      <td>0.504631</td>\n",
       "      <td>0.559895</td>\n",
       "      <td>-0.248945</td>\n",
       "      <td>-0.184880</td>\n",
       "      <td>-0.356440</td>\n",
       "      <td>-0.025374</td>\n",
       "    </tr>\n",
       "    <tr>\n",
       "      <th>chlorides</th>\n",
       "      <td>0.277968</td>\n",
       "      <td>0.385146</td>\n",
       "      <td>0.026121</td>\n",
       "      <td>-0.165767</td>\n",
       "      <td>1.000000</td>\n",
       "      <td>-0.198275</td>\n",
       "      <td>-0.293608</td>\n",
       "      <td>0.308413</td>\n",
       "      <td>0.056817</td>\n",
       "      <td>0.405628</td>\n",
       "      <td>-0.211621</td>\n",
       "      <td>-0.142649</td>\n",
       "    </tr>\n",
       "    <tr>\n",
       "      <th>free sulfur dioxide</th>\n",
       "      <td>-0.292979</td>\n",
       "      <td>-0.368782</td>\n",
       "      <td>0.154748</td>\n",
       "      <td>0.453919</td>\n",
       "      <td>-0.198275</td>\n",
       "      <td>1.000000</td>\n",
       "      <td>0.733103</td>\n",
       "      <td>0.060922</td>\n",
       "      <td>-0.174936</td>\n",
       "      <td>-0.220145</td>\n",
       "      <td>-0.219735</td>\n",
       "      <td>0.026089</td>\n",
       "    </tr>\n",
       "    <tr>\n",
       "      <th>total sulfur dioxide</th>\n",
       "      <td>-0.335543</td>\n",
       "      <td>-0.439717</td>\n",
       "      <td>0.229476</td>\n",
       "      <td>0.504631</td>\n",
       "      <td>-0.293608</td>\n",
       "      <td>0.733103</td>\n",
       "      <td>1.000000</td>\n",
       "      <td>0.026404</td>\n",
       "      <td>-0.259041</td>\n",
       "      <td>-0.268465</td>\n",
       "      <td>-0.267935</td>\n",
       "      <td>-0.046448</td>\n",
       "    </tr>\n",
       "    <tr>\n",
       "      <th>density</th>\n",
       "      <td>0.425819</td>\n",
       "      <td>0.293125</td>\n",
       "      <td>0.087842</td>\n",
       "      <td>0.559895</td>\n",
       "      <td>0.308413</td>\n",
       "      <td>0.060922</td>\n",
       "      <td>0.026404</td>\n",
       "      <td>1.000000</td>\n",
       "      <td>0.052646</td>\n",
       "      <td>0.273445</td>\n",
       "      <td>-0.641054</td>\n",
       "      <td>-0.222920</td>\n",
       "    </tr>\n",
       "    <tr>\n",
       "      <th>pH</th>\n",
       "      <td>-0.227387</td>\n",
       "      <td>0.274866</td>\n",
       "      <td>-0.339325</td>\n",
       "      <td>-0.248945</td>\n",
       "      <td>0.056817</td>\n",
       "      <td>-0.174936</td>\n",
       "      <td>-0.259041</td>\n",
       "      <td>0.052646</td>\n",
       "      <td>1.000000</td>\n",
       "      <td>0.188407</td>\n",
       "      <td>0.109301</td>\n",
       "      <td>0.017576</td>\n",
       "    </tr>\n",
       "    <tr>\n",
       "      <th>sulphates</th>\n",
       "      <td>0.303852</td>\n",
       "      <td>0.266959</td>\n",
       "      <td>0.029711</td>\n",
       "      <td>-0.184880</td>\n",
       "      <td>0.405628</td>\n",
       "      <td>-0.220145</td>\n",
       "      <td>-0.268465</td>\n",
       "      <td>0.273445</td>\n",
       "      <td>0.188407</td>\n",
       "      <td>1.000000</td>\n",
       "      <td>-0.015696</td>\n",
       "      <td>0.020719</td>\n",
       "    </tr>\n",
       "    <tr>\n",
       "      <th>alcohol</th>\n",
       "      <td>-0.040127</td>\n",
       "      <td>-0.049147</td>\n",
       "      <td>-0.020798</td>\n",
       "      <td>-0.356440</td>\n",
       "      <td>-0.211621</td>\n",
       "      <td>-0.219735</td>\n",
       "      <td>-0.267935</td>\n",
       "      <td>-0.641054</td>\n",
       "      <td>0.109301</td>\n",
       "      <td>-0.015696</td>\n",
       "      <td>1.000000</td>\n",
       "      <td>0.346725</td>\n",
       "    </tr>\n",
       "    <tr>\n",
       "      <th>quality</th>\n",
       "      <td>-0.058514</td>\n",
       "      <td>-0.227241</td>\n",
       "      <td>0.052817</td>\n",
       "      <td>-0.025374</td>\n",
       "      <td>-0.142649</td>\n",
       "      <td>0.026089</td>\n",
       "      <td>-0.046448</td>\n",
       "      <td>-0.222920</td>\n",
       "      <td>0.017576</td>\n",
       "      <td>0.020719</td>\n",
       "      <td>0.346725</td>\n",
       "      <td>1.000000</td>\n",
       "    </tr>\n",
       "  </tbody>\n",
       "</table>\n",
       "</div>"
      ],
      "text/plain": [
       "                      fixed acidity  volatile acidity  citric acid  \\\n",
       "fixed acidity              1.000000          0.245779     0.288985   \n",
       "volatile acidity           0.245779          1.000000    -0.382587   \n",
       "citric acid                0.288985         -0.382587     1.000000   \n",
       "residual sugar            -0.147009         -0.218822     0.159680   \n",
       "chlorides                  0.277968          0.385146     0.026121   \n",
       "free sulfur dioxide       -0.292979         -0.368782     0.154748   \n",
       "total sulfur dioxide      -0.335543         -0.439717     0.229476   \n",
       "density                    0.425819          0.293125     0.087842   \n",
       "pH                        -0.227387          0.274866    -0.339325   \n",
       "sulphates                  0.303852          0.266959     0.029711   \n",
       "alcohol                   -0.040127         -0.049147    -0.020798   \n",
       "quality                   -0.058514         -0.227241     0.052817   \n",
       "\n",
       "                      residual sugar  chlorides  free sulfur dioxide  \\\n",
       "fixed acidity              -0.147009   0.277968            -0.292979   \n",
       "volatile acidity           -0.218822   0.385146            -0.368782   \n",
       "citric acid                 0.159680   0.026121             0.154748   \n",
       "residual sugar              1.000000  -0.165767             0.453919   \n",
       "chlorides                  -0.165767   1.000000            -0.198275   \n",
       "free sulfur dioxide         0.453919  -0.198275             1.000000   \n",
       "total sulfur dioxide        0.504631  -0.293608             0.733103   \n",
       "density                     0.559895   0.308413             0.060922   \n",
       "pH                         -0.248945   0.056817            -0.174936   \n",
       "sulphates                  -0.184880   0.405628            -0.220145   \n",
       "alcohol                    -0.356440  -0.211621            -0.219735   \n",
       "quality                    -0.025374  -0.142649             0.026089   \n",
       "\n",
       "                      total sulfur dioxide   density        pH  sulphates  \\\n",
       "fixed acidity                    -0.335543  0.425819 -0.227387   0.303852   \n",
       "volatile acidity                 -0.439717  0.293125  0.274866   0.266959   \n",
       "citric acid                       0.229476  0.087842 -0.339325   0.029711   \n",
       "residual sugar                    0.504631  0.559895 -0.248945  -0.184880   \n",
       "chlorides                        -0.293608  0.308413  0.056817   0.405628   \n",
       "free sulfur dioxide               0.733103  0.060922 -0.174936  -0.220145   \n",
       "total sulfur dioxide              1.000000  0.026404 -0.259041  -0.268465   \n",
       "density                           0.026404  1.000000  0.052646   0.273445   \n",
       "pH                               -0.259041  0.052646  1.000000   0.188407   \n",
       "sulphates                        -0.268465  0.273445  0.188407   1.000000   \n",
       "alcohol                          -0.267935 -0.641054  0.109301  -0.015696   \n",
       "quality                          -0.046448 -0.222920  0.017576   0.020719   \n",
       "\n",
       "                       alcohol   quality  \n",
       "fixed acidity        -0.040127 -0.058514  \n",
       "volatile acidity     -0.049147 -0.227241  \n",
       "citric acid          -0.020798  0.052817  \n",
       "residual sugar       -0.356440 -0.025374  \n",
       "chlorides            -0.211621 -0.142649  \n",
       "free sulfur dioxide  -0.219735  0.026089  \n",
       "total sulfur dioxide -0.267935 -0.046448  \n",
       "density              -0.641054 -0.222920  \n",
       "pH                    0.109301  0.017576  \n",
       "sulphates            -0.015696  0.020719  \n",
       "alcohol               1.000000  0.346725  \n",
       "quality               0.346725  1.000000  "
      ]
     },
     "execution_count": 11,
     "metadata": {},
     "output_type": "execute_result"
    }
   ],
   "source": [
    "given_data.corr()"
   ]
  },
  {
   "cell_type": "markdown",
   "id": "c576e81c",
   "metadata": {
    "id": "c576e81c"
   },
   "source": [
    "с помощью `seaborn` библиотеки отобразим нагляднее корреляцию данных.\n",
    "\n",
    "воспользуемся маской `np_triu()`, чтобы исключить повторяющиеся ячейки."
   ]
  },
  {
   "cell_type": "code",
   "execution_count": 70,
   "id": "dabb3a6c",
   "metadata": {
    "colab": {
     "base_uri": "https://localhost:8080/"
    },
    "id": "dabb3a6c",
    "outputId": "e460bf1c-5ef3-4934-8f0f-d25d1be90ea2"
   },
   "outputs": [
    {
     "data": {
      "image/png": "[encoded data removed]",
      "text/plain": [
       "<Figure size 432x288 with 2 Axes>"
      ]
     },
     "metadata": {
      "needs_background": "light"
     },
     "output_type": "display_data"
    }
   ],
   "source": [
    "import seaborn as sb\n",
    "mask = np.triu(given_data.corr())\n",
    "sb.heatmap(given_data.corr(), mask=mask, cmap='coolwarm', vmin=-1, vmax=1)\n",
    "pass"
   ]
  },
  {
   "cell_type": "code",
   "execution_count": 13,
   "id": "bbcf8d4e",
   "metadata": {
    "colab": {
     "base_uri": "https://localhost:8080/"
    },
    "id": "bbcf8d4e",
    "outputId": "70e5b064-9ab9-49b1-9a83-56d054986162"
   },
   "outputs": [
    {
     "data": {
      "image/png": "[encoded data removed]",
      "text/plain": [
       "<Figure size 864x864 with 144 Axes>"
      ]
     },
     "metadata": {
      "needs_background": "light"
     },
     "output_type": "display_data"
    }
   ],
   "source": [
    "from pandas.plotting import scatter_matrix\n",
    "scatter_matrix(given_data, alpha = .01, figsize = (12, 12))\n",
    "pass"
   ]
  },
  {
   "cell_type": "markdown",
   "id": "5fc00bec",
   "metadata": {
    "id": "5fc00bec"
   },
   "source": [
    "# Есть пустые значения?"
   ]
  },
  {
   "cell_type": "markdown",
   "id": "6c5b781d",
   "metadata": {
    "id": "6c5b781d"
   },
   "source": [
    "Вопрос: есть ли пустые значения?"
   ]
  },
  {
   "cell_type": "code",
   "execution_count": 14,
   "id": "11fbdbe8",
   "metadata": {
    "colab": {
     "base_uri": "https://localhost:8080/"
    },
    "id": "11fbdbe8",
    "outputId": "d3194705-8ecb-4fa5-c9f3-c9839c3a8676",
    "scrolled": false
   },
   "outputs": [
    {
     "data": {
      "text/html": [
       "<div>\n",
       "<style scoped>\n",
       "    .dataframe tbody tr th:only-of-type {\n",
       "        vertical-align: middle;\n",
       "    }\n",
       "\n",
       "    .dataframe tbody tr th {\n",
       "        vertical-align: top;\n",
       "    }\n",
       "\n",
       "    .dataframe thead th {\n",
       "        text-align: right;\n",
       "    }\n",
       "</style>\n",
       "<table border=\"1\" class=\"dataframe\">\n",
       "  <thead>\n",
       "    <tr style=\"text-align: right;\">\n",
       "      <th></th>\n",
       "      <th>type</th>\n",
       "      <th>fixed acidity</th>\n",
       "      <th>volatile acidity</th>\n",
       "      <th>citric acid</th>\n",
       "      <th>residual sugar</th>\n",
       "      <th>chlorides</th>\n",
       "      <th>free sulfur dioxide</th>\n",
       "      <th>total sulfur dioxide</th>\n",
       "      <th>density</th>\n",
       "      <th>pH</th>\n",
       "      <th>sulphates</th>\n",
       "      <th>alcohol</th>\n",
       "      <th>quality</th>\n",
       "    </tr>\n",
       "  </thead>\n",
       "  <tbody>\n",
       "    <tr>\n",
       "      <th>0</th>\n",
       "      <td>white</td>\n",
       "      <td>7.0</td>\n",
       "      <td>0.270</td>\n",
       "      <td>0.36</td>\n",
       "      <td>20.7</td>\n",
       "      <td>0.045</td>\n",
       "      <td>45.0</td>\n",
       "      <td>170.0</td>\n",
       "      <td>1.00100</td>\n",
       "      <td>3.00</td>\n",
       "      <td>0.45</td>\n",
       "      <td>8.8</td>\n",
       "      <td>6</td>\n",
       "    </tr>\n",
       "    <tr>\n",
       "      <th>1</th>\n",
       "      <td>white</td>\n",
       "      <td>6.3</td>\n",
       "      <td>0.300</td>\n",
       "      <td>0.34</td>\n",
       "      <td>1.6</td>\n",
       "      <td>0.049</td>\n",
       "      <td>14.0</td>\n",
       "      <td>132.0</td>\n",
       "      <td>0.99400</td>\n",
       "      <td>3.30</td>\n",
       "      <td>0.49</td>\n",
       "      <td>9.5</td>\n",
       "      <td>6</td>\n",
       "    </tr>\n",
       "    <tr>\n",
       "      <th>2</th>\n",
       "      <td>white</td>\n",
       "      <td>8.1</td>\n",
       "      <td>0.280</td>\n",
       "      <td>0.40</td>\n",
       "      <td>6.9</td>\n",
       "      <td>0.050</td>\n",
       "      <td>30.0</td>\n",
       "      <td>97.0</td>\n",
       "      <td>0.99510</td>\n",
       "      <td>3.26</td>\n",
       "      <td>0.44</td>\n",
       "      <td>10.1</td>\n",
       "      <td>6</td>\n",
       "    </tr>\n",
       "    <tr>\n",
       "      <th>3</th>\n",
       "      <td>white</td>\n",
       "      <td>7.2</td>\n",
       "      <td>0.230</td>\n",
       "      <td>0.32</td>\n",
       "      <td>8.5</td>\n",
       "      <td>0.058</td>\n",
       "      <td>47.0</td>\n",
       "      <td>186.0</td>\n",
       "      <td>0.99560</td>\n",
       "      <td>3.19</td>\n",
       "      <td>0.40</td>\n",
       "      <td>9.9</td>\n",
       "      <td>6</td>\n",
       "    </tr>\n",
       "    <tr>\n",
       "      <th>4</th>\n",
       "      <td>white</td>\n",
       "      <td>7.2</td>\n",
       "      <td>0.230</td>\n",
       "      <td>0.32</td>\n",
       "      <td>8.5</td>\n",
       "      <td>0.058</td>\n",
       "      <td>47.0</td>\n",
       "      <td>186.0</td>\n",
       "      <td>0.99560</td>\n",
       "      <td>3.19</td>\n",
       "      <td>0.40</td>\n",
       "      <td>9.9</td>\n",
       "      <td>6</td>\n",
       "    </tr>\n",
       "    <tr>\n",
       "      <th>...</th>\n",
       "      <td>...</td>\n",
       "      <td>...</td>\n",
       "      <td>...</td>\n",
       "      <td>...</td>\n",
       "      <td>...</td>\n",
       "      <td>...</td>\n",
       "      <td>...</td>\n",
       "      <td>...</td>\n",
       "      <td>...</td>\n",
       "      <td>...</td>\n",
       "      <td>...</td>\n",
       "      <td>...</td>\n",
       "      <td>...</td>\n",
       "    </tr>\n",
       "    <tr>\n",
       "      <th>6491</th>\n",
       "      <td>red</td>\n",
       "      <td>6.8</td>\n",
       "      <td>0.620</td>\n",
       "      <td>0.08</td>\n",
       "      <td>1.9</td>\n",
       "      <td>0.068</td>\n",
       "      <td>28.0</td>\n",
       "      <td>38.0</td>\n",
       "      <td>0.99651</td>\n",
       "      <td>3.42</td>\n",
       "      <td>0.82</td>\n",
       "      <td>9.5</td>\n",
       "      <td>6</td>\n",
       "    </tr>\n",
       "    <tr>\n",
       "      <th>6492</th>\n",
       "      <td>red</td>\n",
       "      <td>6.2</td>\n",
       "      <td>0.600</td>\n",
       "      <td>0.08</td>\n",
       "      <td>2.0</td>\n",
       "      <td>0.090</td>\n",
       "      <td>32.0</td>\n",
       "      <td>44.0</td>\n",
       "      <td>0.99490</td>\n",
       "      <td>3.45</td>\n",
       "      <td>0.58</td>\n",
       "      <td>10.5</td>\n",
       "      <td>5</td>\n",
       "    </tr>\n",
       "    <tr>\n",
       "      <th>6494</th>\n",
       "      <td>red</td>\n",
       "      <td>6.3</td>\n",
       "      <td>0.510</td>\n",
       "      <td>0.13</td>\n",
       "      <td>2.3</td>\n",
       "      <td>0.076</td>\n",
       "      <td>29.0</td>\n",
       "      <td>40.0</td>\n",
       "      <td>0.99574</td>\n",
       "      <td>3.42</td>\n",
       "      <td>0.75</td>\n",
       "      <td>11.0</td>\n",
       "      <td>6</td>\n",
       "    </tr>\n",
       "    <tr>\n",
       "      <th>6495</th>\n",
       "      <td>red</td>\n",
       "      <td>5.9</td>\n",
       "      <td>0.645</td>\n",
       "      <td>0.12</td>\n",
       "      <td>2.0</td>\n",
       "      <td>0.075</td>\n",
       "      <td>32.0</td>\n",
       "      <td>44.0</td>\n",
       "      <td>0.99547</td>\n",
       "      <td>3.57</td>\n",
       "      <td>0.71</td>\n",
       "      <td>10.2</td>\n",
       "      <td>5</td>\n",
       "    </tr>\n",
       "    <tr>\n",
       "      <th>6496</th>\n",
       "      <td>red</td>\n",
       "      <td>6.0</td>\n",
       "      <td>0.310</td>\n",
       "      <td>0.47</td>\n",
       "      <td>3.6</td>\n",
       "      <td>0.067</td>\n",
       "      <td>18.0</td>\n",
       "      <td>42.0</td>\n",
       "      <td>0.99549</td>\n",
       "      <td>3.39</td>\n",
       "      <td>0.66</td>\n",
       "      <td>11.0</td>\n",
       "      <td>6</td>\n",
       "    </tr>\n",
       "  </tbody>\n",
       "</table>\n",
       "<p>4948 rows × 13 columns</p>\n",
       "</div>"
      ],
      "text/plain": [
       "       type  fixed acidity  volatile acidity  citric acid  residual sugar  \\\n",
       "0     white            7.0             0.270         0.36            20.7   \n",
       "1     white            6.3             0.300         0.34             1.6   \n",
       "2     white            8.1             0.280         0.40             6.9   \n",
       "3     white            7.2             0.230         0.32             8.5   \n",
       "4     white            7.2             0.230         0.32             8.5   \n",
       "...     ...            ...               ...          ...             ...   \n",
       "6491    red            6.8             0.620         0.08             1.9   \n",
       "6492    red            6.2             0.600         0.08             2.0   \n",
       "6494    red            6.3             0.510         0.13             2.3   \n",
       "6495    red            5.9             0.645         0.12             2.0   \n",
       "6496    red            6.0             0.310         0.47             3.6   \n",
       "\n",
       "      chlorides  free sulfur dioxide  total sulfur dioxide  density    pH  \\\n",
       "0         0.045                 45.0                 170.0  1.00100  3.00   \n",
       "1         0.049                 14.0                 132.0  0.99400  3.30   \n",
       "2         0.050                 30.0                  97.0  0.99510  3.26   \n",
       "3         0.058                 47.0                 186.0  0.99560  3.19   \n",
       "4         0.058                 47.0                 186.0  0.99560  3.19   \n",
       "...         ...                  ...                   ...      ...   ...   \n",
       "6491      0.068                 28.0                  38.0  0.99651  3.42   \n",
       "6492      0.090                 32.0                  44.0  0.99490  3.45   \n",
       "6494      0.076                 29.0                  40.0  0.99574  3.42   \n",
       "6495      0.075                 32.0                  44.0  0.99547  3.57   \n",
       "6496      0.067                 18.0                  42.0  0.99549  3.39   \n",
       "\n",
       "      sulphates  alcohol  quality  \n",
       "0          0.45      8.8        6  \n",
       "1          0.49      9.5        6  \n",
       "2          0.44     10.1        6  \n",
       "3          0.40      9.9        6  \n",
       "4          0.40      9.9        6  \n",
       "...         ...      ...      ...  \n",
       "6491       0.82      9.5        6  \n",
       "6492       0.58     10.5        5  \n",
       "6494       0.75     11.0        6  \n",
       "6495       0.71     10.2        5  \n",
       "6496       0.66     11.0        6  \n",
       "\n",
       "[4948 rows x 13 columns]"
      ]
     },
     "execution_count": 14,
     "metadata": {},
     "output_type": "execute_result"
    }
   ],
   "source": [
    "given_data.dropna()"
   ]
  },
  {
   "cell_type": "code",
   "execution_count": 15,
   "id": "03e0fdde",
   "metadata": {
    "colab": {
     "base_uri": "https://localhost:8080/"
    },
    "id": "03e0fdde",
    "outputId": "4cc6a2de-4af4-4a06-b52b-3bf253252a58"
   },
   "outputs": [
    {
     "name": "stdout",
     "output_type": "stream",
     "text": [
      "(4974, 13)\n",
      "(4948, 13)\n"
     ]
    }
   ],
   "source": [
    "print(given_data.shape)\n",
    "print(given_data.dropna(axis = 0).shape)"
   ]
  },
  {
   "cell_type": "markdown",
   "id": "64b2696a",
   "metadata": {
    "id": "64b2696a"
   },
   "source": [
    "Видим, что ~30 строк было выкинуто. Значит, пустые значения есть. Обработаем пустые значения."
   ]
  },
  {
   "cell_type": "markdown",
   "id": "c90bd680",
   "metadata": {
    "id": "c90bd680"
   },
   "source": [
    "# Обработка пустых значений"
   ]
  },
  {
   "cell_type": "markdown",
   "id": "a5f9bbe3",
   "metadata": {
    "id": "a5f9bbe3"
   },
   "source": [
    "Найдем столбы для строковых данных `categorical_columns`, и численных `num_columns`"
   ]
  },
  {
   "cell_type": "code",
   "execution_count": 16,
   "id": "5293426d",
   "metadata": {
    "id": "5293426d"
   },
   "outputs": [],
   "source": [
    "categorical_columns = [column for column in given_data.columns if given_data[column].dtype.name == 'object']\n",
    "num_columns = [column for column in given_data.columns if given_data[column].dtype.name != 'object' and column != 'quality']"
   ]
  },
  {
   "cell_type": "markdown",
   "id": "1d0c2db0",
   "metadata": {
    "id": "1d0c2db0"
   },
   "source": [
    "Теперь заполним пустые значения медианными (средними) значениями по каждому столбцу"
   ]
  },
  {
   "cell_type": "code",
   "execution_count": 17,
   "id": "390e1ef3",
   "metadata": {
    "id": "390e1ef3"
   },
   "outputs": [],
   "source": [
    "median = given_data.median(axis = 0, numeric_only=True)"
   ]
  },
  {
   "cell_type": "code",
   "execution_count": 18,
   "id": "127d3f3c",
   "metadata": {
    "id": "127d3f3c"
   },
   "outputs": [],
   "source": [
    "given_data = given_data.fillna(median, axis=0)"
   ]
  },
  {
   "cell_type": "code",
   "execution_count": 19,
   "id": "6d0b5901",
   "metadata": {
    "colab": {
     "base_uri": "https://localhost:8080/"
    },
    "id": "6d0b5901",
    "outputId": "978f220c-2eed-4ab9-bfc3-984ae5450010"
   },
   "outputs": [
    {
     "data": {
      "text/plain": [
       "fixed acidity           4974\n",
       "volatile acidity        4974\n",
       "citric acid             4974\n",
       "residual sugar          4974\n",
       "chlorides               4974\n",
       "free sulfur dioxide     4974\n",
       "total sulfur dioxide    4974\n",
       "density                 4974\n",
       "pH                      4974\n",
       "sulphates               4974\n",
       "alcohol                 4974\n",
       "dtype: int64"
      ]
     },
     "execution_count": 19,
     "metadata": {},
     "output_type": "execute_result"
    }
   ],
   "source": [
    "given_data[num_columns].count(axis = 0)"
   ]
  },
  {
   "cell_type": "code",
   "execution_count": 20,
   "id": "c60abb77",
   "metadata": {
    "colab": {
     "base_uri": "https://localhost:8080/"
    },
    "id": "c60abb77",
    "outputId": "8a0f56e6-c406-4159-8c27-81661c7f68ae"
   },
   "outputs": [
    {
     "data": {
      "text/plain": [
       "type    4974\n",
       "dtype: int64"
      ]
     },
     "execution_count": 20,
     "metadata": {},
     "output_type": "execute_result"
    }
   ],
   "source": [
    "given_data[categorical_columns].count(axis = 0)"
   ]
  },
  {
   "cell_type": "markdown",
   "id": "5e226004",
   "metadata": {
    "id": "5e226004"
   },
   "source": [
    "Теперь можно выделить выборки `X` - все данные кроме ключевого столбца, и `Y` - один ключевой столбец"
   ]
  },
  {
   "cell_type": "code",
   "execution_count": 21,
   "id": "d2bfc9a7",
   "metadata": {
    "id": "d2bfc9a7"
   },
   "outputs": [],
   "source": [
    "given_data.dropna(axis=0)\n",
    "Y = given_data['quality']\n",
    "X = given_data.drop('quality', axis=1)"
   ]
  },
  {
   "cell_type": "code",
   "execution_count": 22,
   "id": "989d8f70",
   "metadata": {
    "colab": {
     "base_uri": "https://localhost:8080/"
    },
    "id": "989d8f70",
    "outputId": "b249857d-516f-410f-a31c-fc551b3f7888"
   },
   "outputs": [
    {
     "data": {
      "text/html": [
       "<div>\n",
       "<style scoped>\n",
       "    .dataframe tbody tr th:only-of-type {\n",
       "        vertical-align: middle;\n",
       "    }\n",
       "\n",
       "    .dataframe tbody tr th {\n",
       "        vertical-align: top;\n",
       "    }\n",
       "\n",
       "    .dataframe thead th {\n",
       "        text-align: right;\n",
       "    }\n",
       "</style>\n",
       "<table border=\"1\" class=\"dataframe\">\n",
       "  <thead>\n",
       "    <tr style=\"text-align: right;\">\n",
       "      <th></th>\n",
       "      <th>type</th>\n",
       "      <th>fixed acidity</th>\n",
       "      <th>volatile acidity</th>\n",
       "      <th>citric acid</th>\n",
       "      <th>residual sugar</th>\n",
       "      <th>chlorides</th>\n",
       "      <th>free sulfur dioxide</th>\n",
       "      <th>total sulfur dioxide</th>\n",
       "      <th>density</th>\n",
       "      <th>pH</th>\n",
       "      <th>sulphates</th>\n",
       "      <th>alcohol</th>\n",
       "    </tr>\n",
       "  </thead>\n",
       "  <tbody>\n",
       "    <tr>\n",
       "      <th>0</th>\n",
       "      <td>white</td>\n",
       "      <td>7.0</td>\n",
       "      <td>0.270</td>\n",
       "      <td>0.36</td>\n",
       "      <td>20.7</td>\n",
       "      <td>0.045</td>\n",
       "      <td>45.0</td>\n",
       "      <td>170.0</td>\n",
       "      <td>1.00100</td>\n",
       "      <td>3.00</td>\n",
       "      <td>0.45</td>\n",
       "      <td>8.8</td>\n",
       "    </tr>\n",
       "    <tr>\n",
       "      <th>1</th>\n",
       "      <td>white</td>\n",
       "      <td>6.3</td>\n",
       "      <td>0.300</td>\n",
       "      <td>0.34</td>\n",
       "      <td>1.6</td>\n",
       "      <td>0.049</td>\n",
       "      <td>14.0</td>\n",
       "      <td>132.0</td>\n",
       "      <td>0.99400</td>\n",
       "      <td>3.30</td>\n",
       "      <td>0.49</td>\n",
       "      <td>9.5</td>\n",
       "    </tr>\n",
       "    <tr>\n",
       "      <th>2</th>\n",
       "      <td>white</td>\n",
       "      <td>8.1</td>\n",
       "      <td>0.280</td>\n",
       "      <td>0.40</td>\n",
       "      <td>6.9</td>\n",
       "      <td>0.050</td>\n",
       "      <td>30.0</td>\n",
       "      <td>97.0</td>\n",
       "      <td>0.99510</td>\n",
       "      <td>3.26</td>\n",
       "      <td>0.44</td>\n",
       "      <td>10.1</td>\n",
       "    </tr>\n",
       "    <tr>\n",
       "      <th>3</th>\n",
       "      <td>white</td>\n",
       "      <td>7.2</td>\n",
       "      <td>0.230</td>\n",
       "      <td>0.32</td>\n",
       "      <td>8.5</td>\n",
       "      <td>0.058</td>\n",
       "      <td>47.0</td>\n",
       "      <td>186.0</td>\n",
       "      <td>0.99560</td>\n",
       "      <td>3.19</td>\n",
       "      <td>0.40</td>\n",
       "      <td>9.9</td>\n",
       "    </tr>\n",
       "    <tr>\n",
       "      <th>4</th>\n",
       "      <td>white</td>\n",
       "      <td>7.2</td>\n",
       "      <td>0.230</td>\n",
       "      <td>0.32</td>\n",
       "      <td>8.5</td>\n",
       "      <td>0.058</td>\n",
       "      <td>47.0</td>\n",
       "      <td>186.0</td>\n",
       "      <td>0.99560</td>\n",
       "      <td>3.19</td>\n",
       "      <td>0.40</td>\n",
       "      <td>9.9</td>\n",
       "    </tr>\n",
       "    <tr>\n",
       "      <th>...</th>\n",
       "      <td>...</td>\n",
       "      <td>...</td>\n",
       "      <td>...</td>\n",
       "      <td>...</td>\n",
       "      <td>...</td>\n",
       "      <td>...</td>\n",
       "      <td>...</td>\n",
       "      <td>...</td>\n",
       "      <td>...</td>\n",
       "      <td>...</td>\n",
       "      <td>...</td>\n",
       "      <td>...</td>\n",
       "    </tr>\n",
       "    <tr>\n",
       "      <th>6492</th>\n",
       "      <td>red</td>\n",
       "      <td>6.2</td>\n",
       "      <td>0.600</td>\n",
       "      <td>0.08</td>\n",
       "      <td>2.0</td>\n",
       "      <td>0.090</td>\n",
       "      <td>32.0</td>\n",
       "      <td>44.0</td>\n",
       "      <td>0.99490</td>\n",
       "      <td>3.45</td>\n",
       "      <td>0.58</td>\n",
       "      <td>10.5</td>\n",
       "    </tr>\n",
       "    <tr>\n",
       "      <th>6493</th>\n",
       "      <td>red</td>\n",
       "      <td>5.9</td>\n",
       "      <td>0.550</td>\n",
       "      <td>0.10</td>\n",
       "      <td>2.2</td>\n",
       "      <td>0.062</td>\n",
       "      <td>39.0</td>\n",
       "      <td>51.0</td>\n",
       "      <td>0.99512</td>\n",
       "      <td>3.52</td>\n",
       "      <td>0.51</td>\n",
       "      <td>11.2</td>\n",
       "    </tr>\n",
       "    <tr>\n",
       "      <th>6494</th>\n",
       "      <td>red</td>\n",
       "      <td>6.3</td>\n",
       "      <td>0.510</td>\n",
       "      <td>0.13</td>\n",
       "      <td>2.3</td>\n",
       "      <td>0.076</td>\n",
       "      <td>29.0</td>\n",
       "      <td>40.0</td>\n",
       "      <td>0.99574</td>\n",
       "      <td>3.42</td>\n",
       "      <td>0.75</td>\n",
       "      <td>11.0</td>\n",
       "    </tr>\n",
       "    <tr>\n",
       "      <th>6495</th>\n",
       "      <td>red</td>\n",
       "      <td>5.9</td>\n",
       "      <td>0.645</td>\n",
       "      <td>0.12</td>\n",
       "      <td>2.0</td>\n",
       "      <td>0.075</td>\n",
       "      <td>32.0</td>\n",
       "      <td>44.0</td>\n",
       "      <td>0.99547</td>\n",
       "      <td>3.57</td>\n",
       "      <td>0.71</td>\n",
       "      <td>10.2</td>\n",
       "    </tr>\n",
       "    <tr>\n",
       "      <th>6496</th>\n",
       "      <td>red</td>\n",
       "      <td>6.0</td>\n",
       "      <td>0.310</td>\n",
       "      <td>0.47</td>\n",
       "      <td>3.6</td>\n",
       "      <td>0.067</td>\n",
       "      <td>18.0</td>\n",
       "      <td>42.0</td>\n",
       "      <td>0.99549</td>\n",
       "      <td>3.39</td>\n",
       "      <td>0.66</td>\n",
       "      <td>11.0</td>\n",
       "    </tr>\n",
       "  </tbody>\n",
       "</table>\n",
       "<p>4974 rows × 12 columns</p>\n",
       "</div>"
      ],
      "text/plain": [
       "       type  fixed acidity  volatile acidity  citric acid  residual sugar  \\\n",
       "0     white            7.0             0.270         0.36            20.7   \n",
       "1     white            6.3             0.300         0.34             1.6   \n",
       "2     white            8.1             0.280         0.40             6.9   \n",
       "3     white            7.2             0.230         0.32             8.5   \n",
       "4     white            7.2             0.230         0.32             8.5   \n",
       "...     ...            ...               ...          ...             ...   \n",
       "6492    red            6.2             0.600         0.08             2.0   \n",
       "6493    red            5.9             0.550         0.10             2.2   \n",
       "6494    red            6.3             0.510         0.13             2.3   \n",
       "6495    red            5.9             0.645         0.12             2.0   \n",
       "6496    red            6.0             0.310         0.47             3.6   \n",
       "\n",
       "      chlorides  free sulfur dioxide  total sulfur dioxide  density    pH  \\\n",
       "0         0.045                 45.0                 170.0  1.00100  3.00   \n",
       "1         0.049                 14.0                 132.0  0.99400  3.30   \n",
       "2         0.050                 30.0                  97.0  0.99510  3.26   \n",
       "3         0.058                 47.0                 186.0  0.99560  3.19   \n",
       "4         0.058                 47.0                 186.0  0.99560  3.19   \n",
       "...         ...                  ...                   ...      ...   ...   \n",
       "6492      0.090                 32.0                  44.0  0.99490  3.45   \n",
       "6493      0.062                 39.0                  51.0  0.99512  3.52   \n",
       "6494      0.076                 29.0                  40.0  0.99574  3.42   \n",
       "6495      0.075                 32.0                  44.0  0.99547  3.57   \n",
       "6496      0.067                 18.0                  42.0  0.99549  3.39   \n",
       "\n",
       "      sulphates  alcohol  \n",
       "0          0.45      8.8  \n",
       "1          0.49      9.5  \n",
       "2          0.44     10.1  \n",
       "3          0.40      9.9  \n",
       "4          0.40      9.9  \n",
       "...         ...      ...  \n",
       "6492       0.58     10.5  \n",
       "6493       0.51     11.2  \n",
       "6494       0.75     11.0  \n",
       "6495       0.71     10.2  \n",
       "6496       0.66     11.0  \n",
       "\n",
       "[4974 rows x 12 columns]"
      ]
     },
     "execution_count": 22,
     "metadata": {},
     "output_type": "execute_result"
    }
   ],
   "source": [
    "X"
   ]
  },
  {
   "cell_type": "code",
   "execution_count": 23,
   "id": "f4e08f71",
   "metadata": {
    "colab": {
     "base_uri": "https://localhost:8080/"
    },
    "id": "f4e08f71",
    "outputId": "02f31a6c-2e0a-431b-d92a-5b6163668d2a"
   },
   "outputs": [
    {
     "data": {
      "text/plain": [
       "0       6\n",
       "1       6\n",
       "2       6\n",
       "3       6\n",
       "4       6\n",
       "       ..\n",
       "6492    5\n",
       "6493    6\n",
       "6494    6\n",
       "6495    5\n",
       "6496    6\n",
       "Name: quality, Length: 4974, dtype: int64"
      ]
     },
     "execution_count": 23,
     "metadata": {},
     "output_type": "execute_result"
    }
   ],
   "source": [
    "Y"
   ]
  },
  {
   "cell_type": "markdown",
   "id": "c17fa1e2",
   "metadata": {
    "id": "c17fa1e2"
   },
   "source": [
    "## Количество классов:"
   ]
  },
  {
   "cell_type": "code",
   "execution_count": 24,
   "id": "8280eed7",
   "metadata": {
    "colab": {
     "base_uri": "https://localhost:8080/"
    },
    "id": "8280eed7",
    "outputId": "dd8eeab4-fe83-43c1-a512-bfdbef4923a3"
   },
   "outputs": [
    {
     "name": "stdout",
     "output_type": "stream",
     "text": [
      "[5 6]\n",
      "2\n"
     ]
    }
   ],
   "source": [
    "print(np.unique(Y))\n",
    "print(len(np.unique(Y)))"
   ]
  },
  {
   "cell_type": "markdown",
   "id": "02c4aad9",
   "metadata": {
    "id": "02c4aad9"
   },
   "source": [
    "# Векторизация"
   ]
  },
  {
   "cell_type": "code",
   "execution_count": 25,
   "id": "ec68ade5",
   "metadata": {
    "colab": {
     "base_uri": "https://localhost:8080/"
    },
    "id": "ec68ade5",
    "outputId": "5fbbe9ae-f5cf-43b0-e207-8821aee60b02"
   },
   "outputs": [
    {
     "data": {
      "text/html": [
       "<div>\n",
       "<style scoped>\n",
       "    .dataframe tbody tr th:only-of-type {\n",
       "        vertical-align: middle;\n",
       "    }\n",
       "\n",
       "    .dataframe tbody tr th {\n",
       "        vertical-align: top;\n",
       "    }\n",
       "\n",
       "    .dataframe thead th {\n",
       "        text-align: right;\n",
       "    }\n",
       "</style>\n",
       "<table border=\"1\" class=\"dataframe\">\n",
       "  <thead>\n",
       "    <tr style=\"text-align: right;\">\n",
       "      <th></th>\n",
       "      <th>type</th>\n",
       "    </tr>\n",
       "  </thead>\n",
       "  <tbody>\n",
       "    <tr>\n",
       "      <th>count</th>\n",
       "      <td>4974</td>\n",
       "    </tr>\n",
       "    <tr>\n",
       "      <th>unique</th>\n",
       "      <td>2</td>\n",
       "    </tr>\n",
       "    <tr>\n",
       "      <th>top</th>\n",
       "      <td>white</td>\n",
       "    </tr>\n",
       "    <tr>\n",
       "      <th>freq</th>\n",
       "      <td>3655</td>\n",
       "    </tr>\n",
       "  </tbody>\n",
       "</table>\n",
       "</div>"
      ],
      "text/plain": [
       "         type\n",
       "count    4974\n",
       "unique      2\n",
       "top     white\n",
       "freq     3655"
      ]
     },
     "execution_count": 25,
     "metadata": {},
     "output_type": "execute_result"
    }
   ],
   "source": [
    "data_describe = X.describe(include = [object])\n",
    "for column in categorical_columns:\n",
    "    X[column] = X[column].fillna(data_describe[column]['top'])\n",
    "data_describe"
   ]
  },
  {
   "cell_type": "code",
   "execution_count": 26,
   "id": "70c2535c",
   "metadata": {
    "colab": {
     "base_uri": "https://localhost:8080/"
    },
    "id": "70c2535c",
    "outputId": "8090b3d8-b97b-4f08-9e55-ed508fd24028"
   },
   "outputs": [
    {
     "name": "stdout",
     "output_type": "stream",
     "text": [
      "['type'] []\n"
     ]
    }
   ],
   "source": [
    "binary_columns  = [column for column in categorical_columns if data_describe[column]['unique'] == 2]\n",
    "non_binary_columns = [column for column in categorical_columns if data_describe[column]['unique'] > 2]\n",
    "print(binary_columns, non_binary_columns)"
   ]
  },
  {
   "cell_type": "code",
   "execution_count": 27,
   "id": "4dc73b51",
   "metadata": {
    "colab": {
     "base_uri": "https://localhost:8080/"
    },
    "id": "4dc73b51",
    "outputId": "4cf9edd2-4045-4b61-ebaa-3b0e2ac50035"
   },
   "outputs": [
    {
     "data": {
      "text/plain": [
       "array(['white', 'red'], dtype=object)"
      ]
     },
     "execution_count": 27,
     "metadata": {},
     "output_type": "execute_result"
    }
   ],
   "source": [
    "X['type'].unique()"
   ]
  },
  {
   "cell_type": "code",
   "execution_count": 28,
   "id": "518f203a",
   "metadata": {
    "colab": {
     "base_uri": "https://localhost:8080/"
    },
    "id": "518f203a",
    "outputId": "52179899-fa0f-4827-85d9-cf6177bce75d"
   },
   "outputs": [
    {
     "data": {
      "text/plain": [
       "count    4974.000000\n",
       "mean        0.265179\n",
       "std         0.441473\n",
       "min         0.000000\n",
       "25%         0.000000\n",
       "50%         0.000000\n",
       "75%         1.000000\n",
       "max         1.000000\n",
       "Name: type, dtype: float64"
      ]
     },
     "execution_count": 28,
     "metadata": {},
     "output_type": "execute_result"
    }
   ],
   "source": [
    "X.at[X['type'] == 'white', 'type'] = 0\n",
    "X.at[X['type'] == 'red', 'type'] = 1\n",
    "X['type'].astype('float64').describe()"
   ]
  },
  {
   "cell_type": "code",
   "execution_count": 29,
   "id": "59ce6498",
   "metadata": {
    "colab": {
     "base_uri": "https://localhost:8080/"
    },
    "id": "59ce6498",
    "outputId": "07025a35-5047-41e3-f6f2-1b631038fb9c"
   },
   "outputs": [
    {
     "data": {
      "text/plain": [
       "0       0\n",
       "1       0\n",
       "2       0\n",
       "3       0\n",
       "4       0\n",
       "       ..\n",
       "6492    1\n",
       "6493    1\n",
       "6494    1\n",
       "6495    1\n",
       "6496    1\n",
       "Name: type, Length: 4974, dtype: object"
      ]
     },
     "execution_count": 29,
     "metadata": {},
     "output_type": "execute_result"
    }
   ],
   "source": [
    "X['type']"
   ]
  },
  {
   "cell_type": "markdown",
   "id": "6933d893",
   "metadata": {
    "id": "6933d893"
   },
   "source": [
    "# Нормализация"
   ]
  },
  {
   "cell_type": "markdown",
   "id": "d975f67e",
   "metadata": {
    "id": "d975f67e"
   },
   "source": [
    "В целом, если смотреть, данные весьма разнородные, если достаточно низние значения, есть высокие, а больше всего и вовсе средних. В целях увеличиния точности, проведем нормализацию всех числовых ячеек."
   ]
  },
  {
   "cell_type": "code",
   "execution_count": 30,
   "id": "69fb6a90",
   "metadata": {
    "colab": {
     "base_uri": "https://localhost:8080/"
    },
    "id": "69fb6a90",
    "outputId": "3c1941fa-83d7-4988-ebe5-1c513a74524f"
   },
   "outputs": [
    {
     "data": {
      "text/html": [
       "<div>\n",
       "<style scoped>\n",
       "    .dataframe tbody tr th:only-of-type {\n",
       "        vertical-align: middle;\n",
       "    }\n",
       "\n",
       "    .dataframe tbody tr th {\n",
       "        vertical-align: top;\n",
       "    }\n",
       "\n",
       "    .dataframe thead th {\n",
       "        text-align: right;\n",
       "    }\n",
       "</style>\n",
       "<table border=\"1\" class=\"dataframe\">\n",
       "  <thead>\n",
       "    <tr style=\"text-align: right;\">\n",
       "      <th></th>\n",
       "      <th>fixed acidity</th>\n",
       "      <th>volatile acidity</th>\n",
       "      <th>citric acid</th>\n",
       "      <th>residual sugar</th>\n",
       "      <th>chlorides</th>\n",
       "      <th>free sulfur dioxide</th>\n",
       "      <th>total sulfur dioxide</th>\n",
       "      <th>density</th>\n",
       "      <th>pH</th>\n",
       "      <th>sulphates</th>\n",
       "      <th>alcohol</th>\n",
       "    </tr>\n",
       "  </thead>\n",
       "  <tbody>\n",
       "    <tr>\n",
       "      <th>count</th>\n",
       "      <td>4974.000000</td>\n",
       "      <td>4974.000000</td>\n",
       "      <td>4974.000000</td>\n",
       "      <td>4974.000000</td>\n",
       "      <td>4974.000000</td>\n",
       "      <td>4974.000000</td>\n",
       "      <td>4974.000000</td>\n",
       "      <td>4974.000000</td>\n",
       "      <td>4974.000000</td>\n",
       "      <td>4974.000000</td>\n",
       "      <td>4974.000000</td>\n",
       "    </tr>\n",
       "    <tr>\n",
       "      <th>mean</th>\n",
       "      <td>7.242602</td>\n",
       "      <td>0.346367</td>\n",
       "      <td>0.316876</td>\n",
       "      <td>5.659409</td>\n",
       "      <td>0.058679</td>\n",
       "      <td>30.766285</td>\n",
       "      <td>117.744069</td>\n",
       "      <td>0.995113</td>\n",
       "      <td>3.215247</td>\n",
       "      <td>0.529853</td>\n",
       "      <td>10.265275</td>\n",
       "    </tr>\n",
       "    <tr>\n",
       "      <th>std</th>\n",
       "      <td>1.279083</td>\n",
       "      <td>0.165580</td>\n",
       "      <td>0.150550</td>\n",
       "      <td>4.935000</td>\n",
       "      <td>0.036434</td>\n",
       "      <td>17.604133</td>\n",
       "      <td>57.861460</td>\n",
       "      <td>0.002867</td>\n",
       "      <td>0.159306</td>\n",
       "      <td>0.144554</td>\n",
       "      <td>1.070626</td>\n",
       "    </tr>\n",
       "    <tr>\n",
       "      <th>min</th>\n",
       "      <td>3.800000</td>\n",
       "      <td>0.080000</td>\n",
       "      <td>0.000000</td>\n",
       "      <td>0.600000</td>\n",
       "      <td>0.009000</td>\n",
       "      <td>1.000000</td>\n",
       "      <td>6.000000</td>\n",
       "      <td>0.987220</td>\n",
       "      <td>2.720000</td>\n",
       "      <td>0.230000</td>\n",
       "      <td>8.000000</td>\n",
       "    </tr>\n",
       "    <tr>\n",
       "      <th>25%</th>\n",
       "      <td>6.400000</td>\n",
       "      <td>0.230000</td>\n",
       "      <td>0.240000</td>\n",
       "      <td>1.800000</td>\n",
       "      <td>0.040000</td>\n",
       "      <td>17.000000</td>\n",
       "      <td>76.000000</td>\n",
       "      <td>0.992993</td>\n",
       "      <td>3.110000</td>\n",
       "      <td>0.440000</td>\n",
       "      <td>9.400000</td>\n",
       "    </tr>\n",
       "    <tr>\n",
       "      <th>50%</th>\n",
       "      <td>7.000000</td>\n",
       "      <td>0.300000</td>\n",
       "      <td>0.310000</td>\n",
       "      <td>3.100000</td>\n",
       "      <td>0.049000</td>\n",
       "      <td>29.000000</td>\n",
       "      <td>121.000000</td>\n",
       "      <td>0.995400</td>\n",
       "      <td>3.200000</td>\n",
       "      <td>0.510000</td>\n",
       "      <td>10.000000</td>\n",
       "    </tr>\n",
       "    <tr>\n",
       "      <th>75%</th>\n",
       "      <td>7.700000</td>\n",
       "      <td>0.420000</td>\n",
       "      <td>0.400000</td>\n",
       "      <td>8.500000</td>\n",
       "      <td>0.070000</td>\n",
       "      <td>42.000000</td>\n",
       "      <td>160.000000</td>\n",
       "      <td>0.997200</td>\n",
       "      <td>3.310000</td>\n",
       "      <td>0.600000</td>\n",
       "      <td>11.000000</td>\n",
       "    </tr>\n",
       "    <tr>\n",
       "      <th>max</th>\n",
       "      <td>15.900000</td>\n",
       "      <td>1.330000</td>\n",
       "      <td>1.660000</td>\n",
       "      <td>65.800000</td>\n",
       "      <td>0.611000</td>\n",
       "      <td>131.000000</td>\n",
       "      <td>344.000000</td>\n",
       "      <td>1.038980</td>\n",
       "      <td>4.010000</td>\n",
       "      <td>1.980000</td>\n",
       "      <td>14.900000</td>\n",
       "    </tr>\n",
       "  </tbody>\n",
       "</table>\n",
       "</div>"
      ],
      "text/plain": [
       "       fixed acidity  volatile acidity  citric acid  residual sugar  \\\n",
       "count    4974.000000       4974.000000  4974.000000     4974.000000   \n",
       "mean        7.242602          0.346367     0.316876        5.659409   \n",
       "std         1.279083          0.165580     0.150550        4.935000   \n",
       "min         3.800000          0.080000     0.000000        0.600000   \n",
       "25%         6.400000          0.230000     0.240000        1.800000   \n",
       "50%         7.000000          0.300000     0.310000        3.100000   \n",
       "75%         7.700000          0.420000     0.400000        8.500000   \n",
       "max        15.900000          1.330000     1.660000       65.800000   \n",
       "\n",
       "         chlorides  free sulfur dioxide  total sulfur dioxide      density  \\\n",
       "count  4974.000000          4974.000000           4974.000000  4974.000000   \n",
       "mean      0.058679            30.766285            117.744069     0.995113   \n",
       "std       0.036434            17.604133             57.861460     0.002867   \n",
       "min       0.009000             1.000000              6.000000     0.987220   \n",
       "25%       0.040000            17.000000             76.000000     0.992993   \n",
       "50%       0.049000            29.000000            121.000000     0.995400   \n",
       "75%       0.070000            42.000000            160.000000     0.997200   \n",
       "max       0.611000           131.000000            344.000000     1.038980   \n",
       "\n",
       "                pH    sulphates      alcohol  \n",
       "count  4974.000000  4974.000000  4974.000000  \n",
       "mean      3.215247     0.529853    10.265275  \n",
       "std       0.159306     0.144554     1.070626  \n",
       "min       2.720000     0.230000     8.000000  \n",
       "25%       3.110000     0.440000     9.400000  \n",
       "50%       3.200000     0.510000    10.000000  \n",
       "75%       3.310000     0.600000    11.000000  \n",
       "max       4.010000     1.980000    14.900000  "
      ]
     },
     "execution_count": 30,
     "metadata": {},
     "output_type": "execute_result"
    }
   ],
   "source": [
    "num_data = X[num_columns].astype('float64')\n",
    "num_data.describe()"
   ]
  },
  {
   "cell_type": "code",
   "execution_count": 31,
   "id": "076e7056",
   "metadata": {
    "id": "076e7056"
   },
   "outputs": [],
   "source": [
    "num_data = (num_data - num_data.mean(axis = 0)) / num_data.std(axis = 0)"
   ]
  },
  {
   "cell_type": "code",
   "execution_count": 32,
   "id": "98a2108c",
   "metadata": {
    "colab": {
     "base_uri": "https://localhost:8080/"
    },
    "id": "98a2108c",
    "outputId": "7a794a20-ee77-4294-cc48-1305a6e5015c"
   },
   "outputs": [
    {
     "data": {
      "text/html": [
       "<div>\n",
       "<style scoped>\n",
       "    .dataframe tbody tr th:only-of-type {\n",
       "        vertical-align: middle;\n",
       "    }\n",
       "\n",
       "    .dataframe tbody tr th {\n",
       "        vertical-align: top;\n",
       "    }\n",
       "\n",
       "    .dataframe thead th {\n",
       "        text-align: right;\n",
       "    }\n",
       "</style>\n",
       "<table border=\"1\" class=\"dataframe\">\n",
       "  <thead>\n",
       "    <tr style=\"text-align: right;\">\n",
       "      <th></th>\n",
       "      <th>fixed acidity</th>\n",
       "      <th>volatile acidity</th>\n",
       "      <th>citric acid</th>\n",
       "      <th>residual sugar</th>\n",
       "      <th>chlorides</th>\n",
       "      <th>free sulfur dioxide</th>\n",
       "      <th>total sulfur dioxide</th>\n",
       "      <th>density</th>\n",
       "      <th>pH</th>\n",
       "      <th>sulphates</th>\n",
       "      <th>alcohol</th>\n",
       "    </tr>\n",
       "  </thead>\n",
       "  <tbody>\n",
       "    <tr>\n",
       "      <th>count</th>\n",
       "      <td>4.974000e+03</td>\n",
       "      <td>4.974000e+03</td>\n",
       "      <td>4.974000e+03</td>\n",
       "      <td>4974.000000</td>\n",
       "      <td>4.974000e+03</td>\n",
       "      <td>4.974000e+03</td>\n",
       "      <td>4.974000e+03</td>\n",
       "      <td>4.974000e+03</td>\n",
       "      <td>4.974000e+03</td>\n",
       "      <td>4.974000e+03</td>\n",
       "      <td>4.974000e+03</td>\n",
       "    </tr>\n",
       "    <tr>\n",
       "      <th>mean</th>\n",
       "      <td>8.113958e-16</td>\n",
       "      <td>-1.371373e-16</td>\n",
       "      <td>-1.371373e-16</td>\n",
       "      <td>0.000000</td>\n",
       "      <td>1.371373e-16</td>\n",
       "      <td>6.856866e-17</td>\n",
       "      <td>9.142488e-17</td>\n",
       "      <td>-3.330151e-14</td>\n",
       "      <td>1.577079e-15</td>\n",
       "      <td>-2.742746e-16</td>\n",
       "      <td>-9.371050e-16</td>\n",
       "    </tr>\n",
       "    <tr>\n",
       "      <th>std</th>\n",
       "      <td>1.000000e+00</td>\n",
       "      <td>1.000000e+00</td>\n",
       "      <td>1.000000e+00</td>\n",
       "      <td>1.000000</td>\n",
       "      <td>1.000000e+00</td>\n",
       "      <td>1.000000e+00</td>\n",
       "      <td>1.000000e+00</td>\n",
       "      <td>1.000000e+00</td>\n",
       "      <td>1.000000e+00</td>\n",
       "      <td>1.000000e+00</td>\n",
       "      <td>1.000000e+00</td>\n",
       "    </tr>\n",
       "    <tr>\n",
       "      <th>min</th>\n",
       "      <td>-2.691461e+00</td>\n",
       "      <td>-1.608687e+00</td>\n",
       "      <td>-2.104785e+00</td>\n",
       "      <td>-1.025210</td>\n",
       "      <td>-1.363535e+00</td>\n",
       "      <td>-1.690869e+00</td>\n",
       "      <td>-1.931235e+00</td>\n",
       "      <td>-2.753565e+00</td>\n",
       "      <td>-3.108787e+00</td>\n",
       "      <td>-2.074327e+00</td>\n",
       "      <td>-2.115841e+00</td>\n",
       "    </tr>\n",
       "    <tr>\n",
       "      <th>25%</th>\n",
       "      <td>-6.587544e-01</td>\n",
       "      <td>-7.027829e-01</td>\n",
       "      <td>-5.106320e-01</td>\n",
       "      <td>-0.782048</td>\n",
       "      <td>-5.126865e-01</td>\n",
       "      <td>-7.819916e-01</td>\n",
       "      <td>-7.214486e-01</td>\n",
       "      <td>-7.397883e-01</td>\n",
       "      <td>-6.606626e-01</td>\n",
       "      <td>-6.215874e-01</td>\n",
       "      <td>-8.081956e-01</td>\n",
       "    </tr>\n",
       "    <tr>\n",
       "      <th>50%</th>\n",
       "      <td>-1.896683e-01</td>\n",
       "      <td>-2.800277e-01</td>\n",
       "      <td>-4.567084e-02</td>\n",
       "      <td>-0.518624</td>\n",
       "      <td>-2.656660e-01</td>\n",
       "      <td>-1.003335e-01</td>\n",
       "      <td>5.627115e-02</td>\n",
       "      <td>1.000849e-01</td>\n",
       "      <td>-9.571089e-02</td>\n",
       "      <td>-1.373409e-01</td>\n",
       "      <td>-2.477759e-01</td>\n",
       "    </tr>\n",
       "    <tr>\n",
       "      <th>75%</th>\n",
       "      <td>3.575988e-01</td>\n",
       "      <td>4.446956e-01</td>\n",
       "      <td>5.521364e-01</td>\n",
       "      <td>0.575601</td>\n",
       "      <td>3.107153e-01</td>\n",
       "      <td>6.381294e-01</td>\n",
       "      <td>7.302949e-01</td>\n",
       "      <td>7.280275e-01</td>\n",
       "      <td>5.947856e-01</td>\n",
       "      <td>4.852618e-01</td>\n",
       "      <td>6.862568e-01</td>\n",
       "    </tr>\n",
       "    <tr>\n",
       "      <th>max</th>\n",
       "      <td>6.768442e+00</td>\n",
       "      <td>5.940514e+00</td>\n",
       "      <td>8.921438e+00</td>\n",
       "      <td>12.186544</td>\n",
       "      <td>1.515939e+01</td>\n",
       "      <td>5.693760e+00</td>\n",
       "      <td>3.910305e+00</td>\n",
       "      <td>1.530327e+01</td>\n",
       "      <td>4.988854e+00</td>\n",
       "      <td>1.003184e+01</td>\n",
       "      <td>4.328984e+00</td>\n",
       "    </tr>\n",
       "  </tbody>\n",
       "</table>\n",
       "</div>"
      ],
      "text/plain": [
       "       fixed acidity  volatile acidity   citric acid  residual sugar  \\\n",
       "count   4.974000e+03      4.974000e+03  4.974000e+03     4974.000000   \n",
       "mean    8.113958e-16     -1.371373e-16 -1.371373e-16        0.000000   \n",
       "std     1.000000e+00      1.000000e+00  1.000000e+00        1.000000   \n",
       "min    -2.691461e+00     -1.608687e+00 -2.104785e+00       -1.025210   \n",
       "25%    -6.587544e-01     -7.027829e-01 -5.106320e-01       -0.782048   \n",
       "50%    -1.896683e-01     -2.800277e-01 -4.567084e-02       -0.518624   \n",
       "75%     3.575988e-01      4.446956e-01  5.521364e-01        0.575601   \n",
       "max     6.768442e+00      5.940514e+00  8.921438e+00       12.186544   \n",
       "\n",
       "          chlorides  free sulfur dioxide  total sulfur dioxide       density  \\\n",
       "count  4.974000e+03         4.974000e+03          4.974000e+03  4.974000e+03   \n",
       "mean   1.371373e-16         6.856866e-17          9.142488e-17 -3.330151e-14   \n",
       "std    1.000000e+00         1.000000e+00          1.000000e+00  1.000000e+00   \n",
       "min   -1.363535e+00        -1.690869e+00         -1.931235e+00 -2.753565e+00   \n",
       "25%   -5.126865e-01        -7.819916e-01         -7.214486e-01 -7.397883e-01   \n",
       "50%   -2.656660e-01        -1.003335e-01          5.627115e-02  1.000849e-01   \n",
       "75%    3.107153e-01         6.381294e-01          7.302949e-01  7.280275e-01   \n",
       "max    1.515939e+01         5.693760e+00          3.910305e+00  1.530327e+01   \n",
       "\n",
       "                 pH     sulphates       alcohol  \n",
       "count  4.974000e+03  4.974000e+03  4.974000e+03  \n",
       "mean   1.577079e-15 -2.742746e-16 -9.371050e-16  \n",
       "std    1.000000e+00  1.000000e+00  1.000000e+00  \n",
       "min   -3.108787e+00 -2.074327e+00 -2.115841e+00  \n",
       "25%   -6.606626e-01 -6.215874e-01 -8.081956e-01  \n",
       "50%   -9.571089e-02 -1.373409e-01 -2.477759e-01  \n",
       "75%    5.947856e-01  4.852618e-01  6.862568e-01  \n",
       "max    4.988854e+00  1.003184e+01  4.328984e+00  "
      ]
     },
     "execution_count": 32,
     "metadata": {},
     "output_type": "execute_result"
    }
   ],
   "source": [
    "num_data.describe()"
   ]
  },
  {
   "cell_type": "markdown",
   "id": "253435a1",
   "metadata": {
    "id": "253435a1"
   },
   "source": [
    "# Соединние `num_data` и `X[binary_columns]`"
   ]
  },
  {
   "cell_type": "code",
   "execution_count": 33,
   "id": "d8997d76",
   "metadata": {
    "colab": {
     "base_uri": "https://localhost:8080/"
    },
    "id": "d8997d76",
    "outputId": "7e840ab2-aa43-4c13-83c8-04e01b5894d3"
   },
   "outputs": [
    {
     "data": {
      "text/html": [
       "<div>\n",
       "<style scoped>\n",
       "    .dataframe tbody tr th:only-of-type {\n",
       "        vertical-align: middle;\n",
       "    }\n",
       "\n",
       "    .dataframe tbody tr th {\n",
       "        vertical-align: top;\n",
       "    }\n",
       "\n",
       "    .dataframe thead th {\n",
       "        text-align: right;\n",
       "    }\n",
       "</style>\n",
       "<table border=\"1\" class=\"dataframe\">\n",
       "  <thead>\n",
       "    <tr style=\"text-align: right;\">\n",
       "      <th></th>\n",
       "      <th>fixed acidity</th>\n",
       "      <th>volatile acidity</th>\n",
       "      <th>citric acid</th>\n",
       "      <th>residual sugar</th>\n",
       "      <th>chlorides</th>\n",
       "      <th>free sulfur dioxide</th>\n",
       "      <th>total sulfur dioxide</th>\n",
       "      <th>density</th>\n",
       "      <th>pH</th>\n",
       "      <th>sulphates</th>\n",
       "      <th>alcohol</th>\n",
       "    </tr>\n",
       "  </thead>\n",
       "  <tbody>\n",
       "    <tr>\n",
       "      <th>count</th>\n",
       "      <td>4.974000e+03</td>\n",
       "      <td>4.974000e+03</td>\n",
       "      <td>4.974000e+03</td>\n",
       "      <td>4974.000000</td>\n",
       "      <td>4.974000e+03</td>\n",
       "      <td>4.974000e+03</td>\n",
       "      <td>4.974000e+03</td>\n",
       "      <td>4.974000e+03</td>\n",
       "      <td>4.974000e+03</td>\n",
       "      <td>4.974000e+03</td>\n",
       "      <td>4.974000e+03</td>\n",
       "    </tr>\n",
       "    <tr>\n",
       "      <th>mean</th>\n",
       "      <td>8.113958e-16</td>\n",
       "      <td>-1.371373e-16</td>\n",
       "      <td>-1.371373e-16</td>\n",
       "      <td>0.000000</td>\n",
       "      <td>1.371373e-16</td>\n",
       "      <td>6.856866e-17</td>\n",
       "      <td>9.142488e-17</td>\n",
       "      <td>-3.330151e-14</td>\n",
       "      <td>1.577079e-15</td>\n",
       "      <td>-2.742746e-16</td>\n",
       "      <td>-9.371050e-16</td>\n",
       "    </tr>\n",
       "    <tr>\n",
       "      <th>std</th>\n",
       "      <td>1.000000e+00</td>\n",
       "      <td>1.000000e+00</td>\n",
       "      <td>1.000000e+00</td>\n",
       "      <td>1.000000</td>\n",
       "      <td>1.000000e+00</td>\n",
       "      <td>1.000000e+00</td>\n",
       "      <td>1.000000e+00</td>\n",
       "      <td>1.000000e+00</td>\n",
       "      <td>1.000000e+00</td>\n",
       "      <td>1.000000e+00</td>\n",
       "      <td>1.000000e+00</td>\n",
       "    </tr>\n",
       "    <tr>\n",
       "      <th>min</th>\n",
       "      <td>-2.691461e+00</td>\n",
       "      <td>-1.608687e+00</td>\n",
       "      <td>-2.104785e+00</td>\n",
       "      <td>-1.025210</td>\n",
       "      <td>-1.363535e+00</td>\n",
       "      <td>-1.690869e+00</td>\n",
       "      <td>-1.931235e+00</td>\n",
       "      <td>-2.753565e+00</td>\n",
       "      <td>-3.108787e+00</td>\n",
       "      <td>-2.074327e+00</td>\n",
       "      <td>-2.115841e+00</td>\n",
       "    </tr>\n",
       "    <tr>\n",
       "      <th>25%</th>\n",
       "      <td>-6.587544e-01</td>\n",
       "      <td>-7.027829e-01</td>\n",
       "      <td>-5.106320e-01</td>\n",
       "      <td>-0.782048</td>\n",
       "      <td>-5.126865e-01</td>\n",
       "      <td>-7.819916e-01</td>\n",
       "      <td>-7.214486e-01</td>\n",
       "      <td>-7.397883e-01</td>\n",
       "      <td>-6.606626e-01</td>\n",
       "      <td>-6.215874e-01</td>\n",
       "      <td>-8.081956e-01</td>\n",
       "    </tr>\n",
       "    <tr>\n",
       "      <th>50%</th>\n",
       "      <td>-1.896683e-01</td>\n",
       "      <td>-2.800277e-01</td>\n",
       "      <td>-4.567084e-02</td>\n",
       "      <td>-0.518624</td>\n",
       "      <td>-2.656660e-01</td>\n",
       "      <td>-1.003335e-01</td>\n",
       "      <td>5.627115e-02</td>\n",
       "      <td>1.000849e-01</td>\n",
       "      <td>-9.571089e-02</td>\n",
       "      <td>-1.373409e-01</td>\n",
       "      <td>-2.477759e-01</td>\n",
       "    </tr>\n",
       "    <tr>\n",
       "      <th>75%</th>\n",
       "      <td>3.575988e-01</td>\n",
       "      <td>4.446956e-01</td>\n",
       "      <td>5.521364e-01</td>\n",
       "      <td>0.575601</td>\n",
       "      <td>3.107153e-01</td>\n",
       "      <td>6.381294e-01</td>\n",
       "      <td>7.302949e-01</td>\n",
       "      <td>7.280275e-01</td>\n",
       "      <td>5.947856e-01</td>\n",
       "      <td>4.852618e-01</td>\n",
       "      <td>6.862568e-01</td>\n",
       "    </tr>\n",
       "    <tr>\n",
       "      <th>max</th>\n",
       "      <td>6.768442e+00</td>\n",
       "      <td>5.940514e+00</td>\n",
       "      <td>8.921438e+00</td>\n",
       "      <td>12.186544</td>\n",
       "      <td>1.515939e+01</td>\n",
       "      <td>5.693760e+00</td>\n",
       "      <td>3.910305e+00</td>\n",
       "      <td>1.530327e+01</td>\n",
       "      <td>4.988854e+00</td>\n",
       "      <td>1.003184e+01</td>\n",
       "      <td>4.328984e+00</td>\n",
       "    </tr>\n",
       "  </tbody>\n",
       "</table>\n",
       "</div>"
      ],
      "text/plain": [
       "       fixed acidity  volatile acidity   citric acid  residual sugar  \\\n",
       "count   4.974000e+03      4.974000e+03  4.974000e+03     4974.000000   \n",
       "mean    8.113958e-16     -1.371373e-16 -1.371373e-16        0.000000   \n",
       "std     1.000000e+00      1.000000e+00  1.000000e+00        1.000000   \n",
       "min    -2.691461e+00     -1.608687e+00 -2.104785e+00       -1.025210   \n",
       "25%    -6.587544e-01     -7.027829e-01 -5.106320e-01       -0.782048   \n",
       "50%    -1.896683e-01     -2.800277e-01 -4.567084e-02       -0.518624   \n",
       "75%     3.575988e-01      4.446956e-01  5.521364e-01        0.575601   \n",
       "max     6.768442e+00      5.940514e+00  8.921438e+00       12.186544   \n",
       "\n",
       "          chlorides  free sulfur dioxide  total sulfur dioxide       density  \\\n",
       "count  4.974000e+03         4.974000e+03          4.974000e+03  4.974000e+03   \n",
       "mean   1.371373e-16         6.856866e-17          9.142488e-17 -3.330151e-14   \n",
       "std    1.000000e+00         1.000000e+00          1.000000e+00  1.000000e+00   \n",
       "min   -1.363535e+00        -1.690869e+00         -1.931235e+00 -2.753565e+00   \n",
       "25%   -5.126865e-01        -7.819916e-01         -7.214486e-01 -7.397883e-01   \n",
       "50%   -2.656660e-01        -1.003335e-01          5.627115e-02  1.000849e-01   \n",
       "75%    3.107153e-01         6.381294e-01          7.302949e-01  7.280275e-01   \n",
       "max    1.515939e+01         5.693760e+00          3.910305e+00  1.530327e+01   \n",
       "\n",
       "                 pH     sulphates       alcohol  \n",
       "count  4.974000e+03  4.974000e+03  4.974000e+03  \n",
       "mean   1.577079e-15 -2.742746e-16 -9.371050e-16  \n",
       "std    1.000000e+00  1.000000e+00  1.000000e+00  \n",
       "min   -3.108787e+00 -2.074327e+00 -2.115841e+00  \n",
       "25%   -6.606626e-01 -6.215874e-01 -8.081956e-01  \n",
       "50%   -9.571089e-02 -1.373409e-01 -2.477759e-01  \n",
       "75%    5.947856e-01  4.852618e-01  6.862568e-01  \n",
       "max    4.988854e+00  1.003184e+01  4.328984e+00  "
      ]
     },
     "execution_count": 33,
     "metadata": {},
     "output_type": "execute_result"
    }
   ],
   "source": [
    "X = pd.concat((num_data, X[binary_columns]), axis = 1)\n",
    "X.describe()"
   ]
  },
  {
   "cell_type": "code",
   "execution_count": 34,
   "id": "c6ae799b",
   "metadata": {
    "colab": {
     "base_uri": "https://localhost:8080/"
    },
    "id": "c6ae799b",
    "outputId": "bf316afd-ca5b-469b-efed-c41397866fd4"
   },
   "outputs": [
    {
     "data": {
      "text/html": [
       "<div>\n",
       "<style scoped>\n",
       "    .dataframe tbody tr th:only-of-type {\n",
       "        vertical-align: middle;\n",
       "    }\n",
       "\n",
       "    .dataframe tbody tr th {\n",
       "        vertical-align: top;\n",
       "    }\n",
       "\n",
       "    .dataframe thead th {\n",
       "        text-align: right;\n",
       "    }\n",
       "</style>\n",
       "<table border=\"1\" class=\"dataframe\">\n",
       "  <thead>\n",
       "    <tr style=\"text-align: right;\">\n",
       "      <th></th>\n",
       "      <th>fixed acidity</th>\n",
       "      <th>volatile acidity</th>\n",
       "      <th>citric acid</th>\n",
       "      <th>residual sugar</th>\n",
       "      <th>chlorides</th>\n",
       "      <th>free sulfur dioxide</th>\n",
       "      <th>total sulfur dioxide</th>\n",
       "      <th>density</th>\n",
       "      <th>pH</th>\n",
       "      <th>sulphates</th>\n",
       "      <th>alcohol</th>\n",
       "      <th>type</th>\n",
       "    </tr>\n",
       "  </thead>\n",
       "  <tbody>\n",
       "    <tr>\n",
       "      <th>0</th>\n",
       "      <td>-0.189668</td>\n",
       "      <td>-0.461209</td>\n",
       "      <td>0.286444</td>\n",
       "      <td>3.047739</td>\n",
       "      <td>-0.375453</td>\n",
       "      <td>0.808544</td>\n",
       "      <td>0.903122</td>\n",
       "      <td>2.053684</td>\n",
       "      <td>-1.351159</td>\n",
       "      <td>-0.552409</td>\n",
       "      <td>-1.368615</td>\n",
       "      <td>0</td>\n",
       "    </tr>\n",
       "    <tr>\n",
       "      <th>1</th>\n",
       "      <td>-0.736935</td>\n",
       "      <td>-0.280028</td>\n",
       "      <td>0.153598</td>\n",
       "      <td>-0.822575</td>\n",
       "      <td>-0.265666</td>\n",
       "      <td>-0.952406</td>\n",
       "      <td>0.246380</td>\n",
       "      <td>-0.388315</td>\n",
       "      <td>0.532013</td>\n",
       "      <td>-0.275697</td>\n",
       "      <td>-0.714792</td>\n",
       "      <td>0</td>\n",
       "    </tr>\n",
       "    <tr>\n",
       "      <th>2</th>\n",
       "      <td>0.670323</td>\n",
       "      <td>-0.400815</td>\n",
       "      <td>0.552136</td>\n",
       "      <td>0.251386</td>\n",
       "      <td>-0.238219</td>\n",
       "      <td>-0.043529</td>\n",
       "      <td>-0.358513</td>\n",
       "      <td>-0.004572</td>\n",
       "      <td>0.280924</td>\n",
       "      <td>-0.621587</td>\n",
       "      <td>-0.154373</td>\n",
       "      <td>0</td>\n",
       "    </tr>\n",
       "    <tr>\n",
       "      <th>3</th>\n",
       "      <td>-0.033306</td>\n",
       "      <td>-0.702783</td>\n",
       "      <td>0.020752</td>\n",
       "      <td>0.575601</td>\n",
       "      <td>-0.018645</td>\n",
       "      <td>0.922154</td>\n",
       "      <td>1.179644</td>\n",
       "      <td>0.169856</td>\n",
       "      <td>-0.158483</td>\n",
       "      <td>-0.898300</td>\n",
       "      <td>-0.341179</td>\n",
       "      <td>0</td>\n",
       "    </tr>\n",
       "    <tr>\n",
       "      <th>4</th>\n",
       "      <td>-0.033306</td>\n",
       "      <td>-0.702783</td>\n",
       "      <td>0.020752</td>\n",
       "      <td>0.575601</td>\n",
       "      <td>-0.018645</td>\n",
       "      <td>0.922154</td>\n",
       "      <td>1.179644</td>\n",
       "      <td>0.169856</td>\n",
       "      <td>-0.158483</td>\n",
       "      <td>-0.898300</td>\n",
       "      <td>-0.341179</td>\n",
       "      <td>0</td>\n",
       "    </tr>\n",
       "    <tr>\n",
       "      <th>...</th>\n",
       "      <td>...</td>\n",
       "      <td>...</td>\n",
       "      <td>...</td>\n",
       "      <td>...</td>\n",
       "      <td>...</td>\n",
       "      <td>...</td>\n",
       "      <td>...</td>\n",
       "      <td>...</td>\n",
       "      <td>...</td>\n",
       "      <td>...</td>\n",
       "      <td>...</td>\n",
       "      <td>...</td>\n",
       "    </tr>\n",
       "    <tr>\n",
       "      <th>6492</th>\n",
       "      <td>-0.815116</td>\n",
       "      <td>1.531781</td>\n",
       "      <td>-1.573400</td>\n",
       "      <td>-0.741522</td>\n",
       "      <td>0.859650</td>\n",
       "      <td>0.070081</td>\n",
       "      <td>-1.274494</td>\n",
       "      <td>-0.074344</td>\n",
       "      <td>1.473599</td>\n",
       "      <td>0.346906</td>\n",
       "      <td>0.219240</td>\n",
       "      <td>1</td>\n",
       "    </tr>\n",
       "    <tr>\n",
       "      <th>6493</th>\n",
       "      <td>-1.049659</td>\n",
       "      <td>1.229812</td>\n",
       "      <td>-1.440554</td>\n",
       "      <td>-0.700995</td>\n",
       "      <td>0.091141</td>\n",
       "      <td>0.467715</td>\n",
       "      <td>-1.153515</td>\n",
       "      <td>0.002405</td>\n",
       "      <td>1.913006</td>\n",
       "      <td>-0.137341</td>\n",
       "      <td>0.873063</td>\n",
       "      <td>1</td>\n",
       "    </tr>\n",
       "    <tr>\n",
       "      <th>6494</th>\n",
       "      <td>-0.736935</td>\n",
       "      <td>0.988238</td>\n",
       "      <td>-1.241285</td>\n",
       "      <td>-0.680731</td>\n",
       "      <td>0.475396</td>\n",
       "      <td>-0.100334</td>\n",
       "      <td>-1.343624</td>\n",
       "      <td>0.218696</td>\n",
       "      <td>1.285282</td>\n",
       "      <td>1.522933</td>\n",
       "      <td>0.686257</td>\n",
       "      <td>1</td>\n",
       "    </tr>\n",
       "    <tr>\n",
       "      <th>6495</th>\n",
       "      <td>-1.049659</td>\n",
       "      <td>1.803552</td>\n",
       "      <td>-1.307708</td>\n",
       "      <td>-0.741522</td>\n",
       "      <td>0.447949</td>\n",
       "      <td>0.070081</td>\n",
       "      <td>-1.274494</td>\n",
       "      <td>0.124505</td>\n",
       "      <td>2.226868</td>\n",
       "      <td>1.246221</td>\n",
       "      <td>-0.060969</td>\n",
       "      <td>1</td>\n",
       "    </tr>\n",
       "    <tr>\n",
       "      <th>6496</th>\n",
       "      <td>-0.971478</td>\n",
       "      <td>-0.219634</td>\n",
       "      <td>1.017098</td>\n",
       "      <td>-0.417307</td>\n",
       "      <td>0.228375</td>\n",
       "      <td>-0.725187</td>\n",
       "      <td>-1.309059</td>\n",
       "      <td>0.131482</td>\n",
       "      <td>1.096965</td>\n",
       "      <td>0.900330</td>\n",
       "      <td>0.686257</td>\n",
       "      <td>1</td>\n",
       "    </tr>\n",
       "  </tbody>\n",
       "</table>\n",
       "<p>4974 rows × 12 columns</p>\n",
       "</div>"
      ],
      "text/plain": [
       "      fixed acidity  volatile acidity  citric acid  residual sugar  chlorides  \\\n",
       "0         -0.189668         -0.461209     0.286444        3.047739  -0.375453   \n",
       "1         -0.736935         -0.280028     0.153598       -0.822575  -0.265666   \n",
       "2          0.670323         -0.400815     0.552136        0.251386  -0.238219   \n",
       "3         -0.033306         -0.702783     0.020752        0.575601  -0.018645   \n",
       "4         -0.033306         -0.702783     0.020752        0.575601  -0.018645   \n",
       "...             ...               ...          ...             ...        ...   \n",
       "6492      -0.815116          1.531781    -1.573400       -0.741522   0.859650   \n",
       "6493      -1.049659          1.229812    -1.440554       -0.700995   0.091141   \n",
       "6494      -0.736935          0.988238    -1.241285       -0.680731   0.475396   \n",
       "6495      -1.049659          1.803552    -1.307708       -0.741522   0.447949   \n",
       "6496      -0.971478         -0.219634     1.017098       -0.417307   0.228375   \n",
       "\n",
       "      free sulfur dioxide  total sulfur dioxide   density        pH  \\\n",
       "0                0.808544              0.903122  2.053684 -1.351159   \n",
       "1               -0.952406              0.246380 -0.388315  0.532013   \n",
       "2               -0.043529             -0.358513 -0.004572  0.280924   \n",
       "3                0.922154              1.179644  0.169856 -0.158483   \n",
       "4                0.922154              1.179644  0.169856 -0.158483   \n",
       "...                   ...                   ...       ...       ...   \n",
       "6492             0.070081             -1.274494 -0.074344  1.473599   \n",
       "6493             0.467715             -1.153515  0.002405  1.913006   \n",
       "6494            -0.100334             -1.343624  0.218696  1.285282   \n",
       "6495             0.070081             -1.274494  0.124505  2.226868   \n",
       "6496            -0.725187             -1.309059  0.131482  1.096965   \n",
       "\n",
       "      sulphates   alcohol type  \n",
       "0     -0.552409 -1.368615    0  \n",
       "1     -0.275697 -0.714792    0  \n",
       "2     -0.621587 -0.154373    0  \n",
       "3     -0.898300 -0.341179    0  \n",
       "4     -0.898300 -0.341179    0  \n",
       "...         ...       ...  ...  \n",
       "6492   0.346906  0.219240    1  \n",
       "6493  -0.137341  0.873063    1  \n",
       "6494   1.522933  0.686257    1  \n",
       "6495   1.246221 -0.060969    1  \n",
       "6496   0.900330  0.686257    1  \n",
       "\n",
       "[4974 rows x 12 columns]"
      ]
     },
     "execution_count": 34,
     "metadata": {},
     "output_type": "execute_result"
    }
   ],
   "source": [
    "X"
   ]
  },
  {
   "cell_type": "code",
   "execution_count": 35,
   "id": "8d80ca06",
   "metadata": {
    "colab": {
     "base_uri": "https://localhost:8080/"
    },
    "id": "8d80ca06",
    "outputId": "013e9ce5-b0a9-484e-f82b-e230954506c4"
   },
   "outputs": [
    {
     "name": "stdout",
     "output_type": "stream",
     "text": [
      "(4974, 12)\n"
     ]
    }
   ],
   "source": [
    "print(X.shape)"
   ]
  },
  {
   "cell_type": "code",
   "execution_count": 36,
   "id": "67f9dd4c",
   "metadata": {
    "colab": {
     "base_uri": "https://localhost:8080/"
    },
    "id": "67f9dd4c",
    "outputId": "4f9fab3a-4438-489f-d3dd-246f8c25fc52"
   },
   "outputs": [
    {
     "data": {
      "text/plain": [
       "Index(['fixed acidity', 'volatile acidity', 'citric acid', 'residual sugar',\n",
       "       'chlorides', 'free sulfur dioxide', 'total sulfur dioxide', 'density',\n",
       "       'pH', 'sulphates', 'alcohol', 'type'],\n",
       "      dtype='object')"
      ]
     },
     "execution_count": 36,
     "metadata": {},
     "output_type": "execute_result"
    }
   ],
   "source": [
    "features = X.columns\n",
    "features"
   ]
  },
  {
   "cell_type": "code",
   "execution_count": 37,
   "id": "217a76b3",
   "metadata": {
    "colab": {
     "base_uri": "https://localhost:8080/"
    },
    "id": "217a76b3",
    "outputId": "8eaec2a7-19d9-4fd6-fc63-1066343fc8f0"
   },
   "outputs": [
    {
     "data": {
      "text/plain": [
       "pandas.core.indexes.base.Index"
      ]
     },
     "execution_count": 37,
     "metadata": {},
     "output_type": "execute_result"
    }
   ],
   "source": [
    "type(features)"
   ]
  },
  {
   "cell_type": "code",
   "execution_count": 38,
   "id": "9e59063a",
   "metadata": {
    "id": "9e59063a"
   },
   "outputs": [],
   "source": [
    "X = X.to_numpy()"
   ]
  },
  {
   "cell_type": "code",
   "execution_count": 39,
   "id": "cc26a474",
   "metadata": {
    "id": "cc26a474"
   },
   "outputs": [],
   "source": [
    "Y = Y.to_numpy(dtype='int32')"
   ]
  },
  {
   "cell_type": "code",
   "execution_count": 40,
   "id": "4c3bb226",
   "metadata": {
    "colab": {
     "base_uri": "https://localhost:8080/"
    },
    "id": "4c3bb226",
    "outputId": "590962ff-538c-4539-85a7-1e3a4405d501"
   },
   "outputs": [
    {
     "name": "stdout",
     "output_type": "stream",
     "text": [
      "(4974, 12)\n",
      "(4974,)\n"
     ]
    }
   ],
   "source": [
    "print(X.shape)\n",
    "print(Y.shape)\n",
    "N, d = X.shape"
   ]
  },
  {
   "cell_type": "code",
   "execution_count": 41,
   "id": "1397803c",
   "metadata": {
    "colab": {
     "base_uri": "https://localhost:8080/"
    },
    "id": "1397803c",
    "outputId": "2eba3e5a-0c19-42e5-c17a-36c315df6fc3"
   },
   "outputs": [
    {
     "data": {
      "text/plain": [
       "numpy.ndarray"
      ]
     },
     "execution_count": 41,
     "metadata": {},
     "output_type": "execute_result"
    }
   ],
   "source": [
    "type(X)"
   ]
  },
  {
   "cell_type": "code",
   "execution_count": 42,
   "id": "41e10fbc",
   "metadata": {
    "colab": {
     "base_uri": "https://localhost:8080/"
    },
    "id": "41e10fbc",
    "outputId": "911afb57-6cc9-4296-a8d9-61316bd31885"
   },
   "outputs": [
    {
     "data": {
      "text/plain": [
       "numpy.ndarray"
      ]
     },
     "execution_count": 42,
     "metadata": {},
     "output_type": "execute_result"
    }
   ],
   "source": [
    "type(Y)"
   ]
  },
  {
   "cell_type": "code",
   "execution_count": 43,
   "id": "30293e7d",
   "metadata": {
    "colab": {
     "base_uri": "https://localhost:8080/"
    },
    "id": "30293e7d",
    "outputId": "8961f743-6b53-447c-aa5c-3d2f884b1317"
   },
   "outputs": [
    {
     "data": {
      "text/plain": [
       "array([5, 6])"
      ]
     },
     "execution_count": 43,
     "metadata": {},
     "output_type": "execute_result"
    }
   ],
   "source": [
    "np.unique(Y)"
   ]
  },
  {
   "cell_type": "markdown",
   "id": "OdvKAHBZ4rZn",
   "metadata": {
    "id": "OdvKAHBZ4rZn"
   },
   "source": [
    "# Обучение полносвязаной неглубокой нейронной сети без подбора параметров"
   ]
  },
  {
   "cell_type": "code",
   "execution_count": 44,
   "id": "pz708_Fze9VO",
   "metadata": {
    "id": "pz708_Fze9VO"
   },
   "outputs": [],
   "source": [
    "hidden_layers_1 = (70,)\n",
    "hidden_layers_2 = (45, 25)\n",
    "test_part = 0.15"
   ]
  },
  {
   "cell_type": "markdown",
   "id": "Lu1tw06TgLgL",
   "metadata": {
    "id": "Lu1tw06TgLgL"
   },
   "source": [
    "## Функция обучения"
   ]
  },
  {
   "cell_type": "code",
   "execution_count": 45,
   "id": "6LOYCHmlNbgi",
   "metadata": {
    "id": "6LOYCHmlNbgi"
   },
   "outputs": [],
   "source": [
    "from sklearn.neural_network import MLPClassifier\n",
    "from sklearn.model_selection import train_test_split\n",
    "\n",
    "def learn_neural(hidden_layers):\n",
    "  X_train, X_test, y_train, y_test = train_test_split(X, Y, test_size = test_part, random_state = 42)\n",
    "  N_train, _ = X_train.shape \n",
    "  N_test,  _ = X_test.shape \n",
    "  model = MLPClassifier(hidden_layer_sizes = hidden_layers, solver = 'adam', \n",
    "                          activation = 'logistic', max_iter=2000,\n",
    "                          random_state = 42, verbose=1, tol=1e-3)\n",
    "  model.fit(X_train, y_train)\n",
    "  return X_train, X_test, y_train, y_test, model"
   ]
  },
  {
   "cell_type": "markdown",
   "id": "kcjrX-kKWN1w",
   "metadata": {
    "id": "kcjrX-kKWN1w"
   },
   "source": [
    "## 1 слой"
   ]
  },
  {
   "cell_type": "code",
   "execution_count": 46,
   "id": "qyCZXXbt4qbO",
   "metadata": {
    "colab": {
     "base_uri": "https://localhost:8080/"
    },
    "id": "qyCZXXbt4qbO",
    "outputId": "af36d694-b030-4738-cb79-2ea9adeb2add"
   },
   "outputs": [
    {
     "name": "stdout",
     "output_type": "stream",
     "text": [
      "Iteration 1, loss = 0.69775664\n",
      "Iteration 2, loss = 0.66353331\n",
      "Iteration 3, loss = 0.65145856\n",
      "Iteration 4, loss = 0.64052413\n",
      "Iteration 5, loss = 0.63126042\n",
      "Iteration 6, loss = 0.62360372\n",
      "Iteration 7, loss = 0.61640969\n",
      "Iteration 8, loss = 0.61029940\n",
      "Iteration 9, loss = 0.60506851\n",
      "Iteration 10, loss = 0.60074074\n",
      "Iteration 11, loss = 0.59728120\n",
      "Iteration 12, loss = 0.59295792\n",
      "Iteration 13, loss = 0.59043685\n",
      "Iteration 14, loss = 0.58867408\n",
      "Iteration 15, loss = 0.58628860\n",
      "Iteration 16, loss = 0.58460380\n",
      "Iteration 17, loss = 0.58332743\n",
      "Iteration 18, loss = 0.58255109\n",
      "Iteration 19, loss = 0.58185527\n",
      "Iteration 20, loss = 0.58106550\n",
      "Iteration 21, loss = 0.58124891\n",
      "Iteration 22, loss = 0.58127939\n",
      "Iteration 23, loss = 0.58044322\n",
      "Iteration 24, loss = 0.57975047\n",
      "Iteration 25, loss = 0.57940008\n",
      "Iteration 26, loss = 0.57925147\n",
      "Iteration 27, loss = 0.57910227\n",
      "Iteration 28, loss = 0.57939072\n",
      "Training loss did not improve more than tol=0.001000 for 10 consecutive epochs. Stopping.\n"
     ]
    }
   ],
   "source": [
    "X_train, X_test, y_train, y_test, model = learn_neural(hidden_layers_1)\n",
    "y_test_predict = model.predict(X_test)\n",
    "y_train_predict = model.predict(X_train)\n",
    "err_test  = np.mean(y_test != y_test_predict)\n",
    "err_train  = np.mean(y_train != y_train_predict)"
   ]
  },
  {
   "cell_type": "code",
   "execution_count": 47,
   "id": "JqdYdexF5Pyp",
   "metadata": {
    "colab": {
     "base_uri": "https://localhost:8080/"
    },
    "id": "JqdYdexF5Pyp",
    "outputId": "e120a02e-7a8c-4829-852e-2b62f1618a65"
   },
   "outputs": [
    {
     "data": {
      "text/plain": [
       "(0.29451137884872824, 0.30021291696238467)"
      ]
     },
     "execution_count": 47,
     "metadata": {},
     "output_type": "execute_result"
    }
   ],
   "source": [
    "err_test, err_train"
   ]
  },
  {
   "cell_type": "markdown",
   "id": "Tcq60Zx-5Tna",
   "metadata": {
    "id": "Tcq60Zx-5Tna"
   },
   "source": [
    "## 2 слоя"
   ]
  },
  {
   "cell_type": "code",
   "execution_count": 48,
   "id": "y9cmABml5VWm",
   "metadata": {
    "colab": {
     "base_uri": "https://localhost:8080/"
    },
    "id": "y9cmABml5VWm",
    "outputId": "de4d070f-30ce-4c5a-ad1d-5663b61d8c9c"
   },
   "outputs": [
    {
     "name": "stdout",
     "output_type": "stream",
     "text": [
      "Iteration 1, loss = 0.68762021\n",
      "Iteration 2, loss = 0.67812434\n",
      "Iteration 3, loss = 0.67275734\n",
      "Iteration 4, loss = 0.66772276\n",
      "Iteration 5, loss = 0.66111414\n",
      "Iteration 6, loss = 0.65356056\n",
      "Iteration 7, loss = 0.64441764\n",
      "Iteration 8, loss = 0.63474492\n",
      "Iteration 9, loss = 0.62483688\n",
      "Iteration 10, loss = 0.61582906\n",
      "Iteration 11, loss = 0.60904119\n",
      "Iteration 12, loss = 0.60222007\n",
      "Iteration 13, loss = 0.59729191\n",
      "Iteration 14, loss = 0.59349137\n",
      "Iteration 15, loss = 0.59026135\n",
      "Iteration 16, loss = 0.58826656\n",
      "Iteration 17, loss = 0.58658707\n",
      "Iteration 18, loss = 0.58508683\n",
      "Iteration 19, loss = 0.58348457\n",
      "Iteration 20, loss = 0.58263518\n",
      "Iteration 21, loss = 0.58206244\n",
      "Iteration 22, loss = 0.58134956\n",
      "Iteration 23, loss = 0.58169318\n",
      "Iteration 24, loss = 0.58100234\n",
      "Iteration 25, loss = 0.58035579\n",
      "Iteration 26, loss = 0.58002156\n",
      "Iteration 27, loss = 0.58032438\n",
      "Iteration 28, loss = 0.58070164\n",
      "Iteration 29, loss = 0.58047902\n",
      "Iteration 30, loss = 0.58053000\n",
      "Training loss did not improve more than tol=0.001000 for 10 consecutive epochs. Stopping.\n"
     ]
    }
   ],
   "source": [
    "X_train, X_test, y_train, y_test, model = learn_neural(hidden_layers_2)\n",
    "y_test_predict = model.predict(X_test)\n",
    "y_train_predict = model.predict(X_train)\n",
    "err_test = np.mean(y_test != y_test_predict)\n",
    "err_train = np.mean(y_train != y_train_predict)"
   ]
  },
  {
   "cell_type": "code",
   "execution_count": 49,
   "id": "BFNyVjtiPkjP",
   "metadata": {
    "colab": {
     "base_uri": "https://localhost:8080/"
    },
    "id": "BFNyVjtiPkjP",
    "outputId": "1dcd91cb-5128-447a-be96-a4b6f4e66a2d"
   },
   "outputs": [
    {
     "data": {
      "text/plain": [
       "(0.2958500669344043, 0.3030518097941803)"
      ]
     },
     "execution_count": 49,
     "metadata": {},
     "output_type": "execute_result"
    }
   ],
   "source": [
    "err_test, err_train"
   ]
  },
  {
   "cell_type": "markdown",
   "id": "uMDcIO4Giq4P",
   "metadata": {
    "id": "uMDcIO4Giq4P"
   },
   "source": [
    "## Выводы\n",
    "\n",
    "Два слоя оказались более ошибочными нежели один, или практически такими же. Поэтому в дальнейшем будем работать и подбирать параметры только в рамках одного слоя, так как это проще и точнее."
   ]
  },
  {
   "cell_type": "markdown",
   "id": "OzXdngxTVDgB",
   "metadata": {
    "id": "OzXdngxTVDgB"
   },
   "source": [
    "# Подбор `alpha`"
   ]
  },
  {
   "cell_type": "markdown",
   "id": "YzzhSRO8fzCU",
   "metadata": {
    "id": "YzzhSRO8fzCU"
   },
   "source": [
    "## Функция обучения"
   ]
  },
  {
   "cell_type": "code",
   "execution_count": 50,
   "id": "OOiTxOQsfs1Z",
   "metadata": {
    "id": "OOiTxOQsfs1Z"
   },
   "outputs": [],
   "source": [
    "alpha = np.logspace(-7, 3, 21)"
   ]
  },
  {
   "cell_type": "code",
   "execution_count": 51,
   "id": "GgT77ytPXIaz",
   "metadata": {
    "id": "GgT77ytPXIaz"
   },
   "outputs": [],
   "source": [
    "from sklearn.metrics import accuracy_score\n",
    "import tqdm\n",
    "def learn_neural_alpha(alpha, hidden_layer):\n",
    "  test_error_list = []\n",
    "  train_error_list = []\n",
    "  train_accuracy = []\n",
    "  test_accuracy = []\n",
    "  model = MLPClassifier(alpha=alpha[0], hidden_layer_sizes= hidden_layer, solver = 'adam', activation = 'logistic', max_iter=2000, random_state = 42, tol=1e-3)\n",
    "  for a in tqdm.tqdm_notebook(alpha):\n",
    "    model = MLPClassifier(alpha=a, hidden_layer_sizes = hidden_layer, solver = 'adam', activation = 'logistic', max_iter=2000, random_state = 42, tol=1e-3)\n",
    "    model.fit(X_train, y_train)\n",
    "    y_train_pred = model.predict(X_train)\n",
    "    y_test_pred = model.predict(X_test)\n",
    "    train_error_list.append(np.mean(y_train != y_train_pred))\n",
    "    test_error_list.append(np.mean(y_test != y_test_pred))\n",
    "    train_accuracy.append(accuracy_score(y_train, y_train_pred))\n",
    "    test_accuracy.append(accuracy_score(y_test, y_test_pred))\n",
    "  return train_error_list, test_error_list, train_accuracy, test_accuracy, model"
   ]
  },
  {
   "cell_type": "markdown",
   "id": "ic8Fh4dWVRzz",
   "metadata": {
    "id": "ic8Fh4dWVRzz"
   },
   "source": [
    "## 1 слой"
   ]
  },
  {
   "cell_type": "code",
   "execution_count": 52,
   "id": "txc8mxKY5nRu",
   "metadata": {
    "colab": {
     "base_uri": "https://localhost:8080/",
     "height": 404,
     "referenced_widgets": [
      "fd088cb1be0e4e22bd3dad400f2c4ac1",
      "3a96961e4ebd406da0ee9b7414cb6f77",
      "7cdd6d1bb6d046c4a38d12d24cefb843",
      "36708b8d5d714148b9a1367560aa9ec9",
      "80728e3ec19b48bab566ba8aaf583e1f",
      "ae6f60bd91a14d3b883512acc99fba22",
      "2e25a1c8542342f09ccc70c20773db15",
      "78494be189404a36961a656ca9d4bbae",
      "93d50efe72c84826999fbc5a7942542b",
      "ec36259c6f5d40bdadf16dc89419fbc4",
      "fc65c4ab75494ef78a4ace25c3e5ce42"
     ]
    },
    "id": "txc8mxKY5nRu",
    "outputId": "8021fd4e-e682-4eae-c70e-a18a8581fbbb"
   },
   "outputs": [
    {
     "name": "stderr",
     "output_type": "stream",
     "text": [
      "C:\\Users\\user\\AppData\\Local\\Temp\\ipykernel_9664\\1426954766.py:9: TqdmDeprecationWarning: This function will be removed in tqdm==5.0.0\n",
      "Please use `tqdm.notebook.tqdm` instead of `tqdm.tqdm_notebook`\n",
      "  for a in tqdm.tqdm_notebook(alpha):\n"
     ]
    },
    {
     "data": {
      "application/vnd.jupyter.widget-view+json": {
       "model_id": "a9f945743c304fb78d6afa77fb832aec",
       "version_major": 2,
       "version_minor": 0
      },
      "text/plain": [
       "  0%|          | 0/21 [00:00<?, ?it/s]"
      ]
     },
     "metadata": {},
     "output_type": "display_data"
    },
    {
     "data": {
      "text/plain": [
       "<matplotlib.legend.Legend at 0x2842a0579d0>"
      ]
     },
     "execution_count": 52,
     "metadata": {},
     "output_type": "execute_result"
    },
    {
     "data": {
      "image/png": "[encoded data removed]",
      "text/plain": [
       "<Figure size 432x288 with 1 Axes>"
      ]
     },
     "metadata": {
      "needs_background": "light"
     },
     "output_type": "display_data"
    }
   ],
   "source": [
    "train_error_list, test_error_list, train_accuracy_list, test_accuracy_list, model = learn_neural_alpha(alpha, hidden_layers_1)\n",
    "plt.semilogx(alpha, train_error_list, 'b-o', label = 'Train')\n",
    "plt.semilogx(alpha, test_error_list, 'g-o', label = 'Test')\n",
    "plt.xlim([np.min(alpha), np.max(alpha)])\n",
    "plt.title('Error | Alpha parameter')\n",
    "plt.xlabel('Alpha')\n",
    "plt.ylabel('Error')\n",
    "plt.legend()"
   ]
  },
  {
   "cell_type": "code",
   "execution_count": 53,
   "id": "u02SZ_Co5rv-",
   "metadata": {
    "colab": {
     "base_uri": "https://localhost:8080/",
     "height": 317
    },
    "id": "u02SZ_Co5rv-",
    "outputId": "0239505d-00fc-4fd3-fc49-4c03b04409b9"
   },
   "outputs": [
    {
     "data": {
      "text/plain": [
       "<matplotlib.legend.Legend at 0x2842b155f30>"
      ]
     },
     "execution_count": 53,
     "metadata": {},
     "output_type": "execute_result"
    },
    {
     "data": {
      "image/png": "[encoded data removed]",
      "text/plain": [
       "<Figure size 432x288 with 1 Axes>"
      ]
     },
     "metadata": {
      "needs_background": "light"
     },
     "output_type": "display_data"
    }
   ],
   "source": [
    "plt.semilogx(alpha, train_accuracy_list, 'r-o', label = 'Train')\n",
    "plt.semilogx(alpha, test_accuracy_list, 'g-o', label = 'Test')\n",
    "plt.xlim([np.min(alpha), np.max(alpha)])\n",
    "plt.title('Accuracy | Alpha parameter')\n",
    "plt.xlabel('Alpha')\n",
    "plt.ylabel('Accuracy')\n",
    "plt.legend()"
   ]
  },
  {
   "cell_type": "code",
   "execution_count": 54,
   "id": "92EUrlzZ5tQV",
   "metadata": {
    "colab": {
     "base_uri": "https://localhost:8080/"
    },
    "id": "92EUrlzZ5tQV",
    "outputId": "234e41f6-29e0-418a-b772-7fbe57860ac0"
   },
   "outputs": [
    {
     "data": {
      "text/plain": [
       "(0.2990300449491365, 0.2990300449491365)"
      ]
     },
     "execution_count": 54,
     "metadata": {},
     "output_type": "execute_result"
    }
   ],
   "source": [
    "np.min(train_error_list), np.min(train_error_list)"
   ]
  },
  {
   "cell_type": "code",
   "execution_count": 55,
   "id": "zbrDMDuc5vkL",
   "metadata": {
    "id": "zbrDMDuc5vkL"
   },
   "outputs": [],
   "source": [
    "alpha_optimal = alpha[np.min(train_error_list) == np.min(train_error_list)][0][0]"
   ]
  },
  {
   "cell_type": "markdown",
   "id": "6gNIsvWrZurM",
   "metadata": {
    "id": "6gNIsvWrZurM"
   },
   "source": [
    "# Подбор количества нейронов"
   ]
  },
  {
   "cell_type": "code",
   "execution_count": 56,
   "id": "rdHU5EuaesZT",
   "metadata": {
    "id": "rdHU5EuaesZT"
   },
   "outputs": [],
   "source": [
    "neurons_count_list = np.array([i for i in range(2, 100+1)])"
   ]
  },
  {
   "cell_type": "code",
   "execution_count": 57,
   "id": "_5BAFqyvfbDA",
   "metadata": {
    "id": "_5BAFqyvfbDA"
   },
   "outputs": [],
   "source": [
    "def learn_neural_neurons(neurons_count_list, alpha):\n",
    "  train_accuracy_list = []\n",
    "  test_accuracy_list = []\n",
    "  test_error_list = []\n",
    "  train_error_list = []\n",
    "  model = MLPClassifier(alpha=alpha, hidden_layer_sizes = (neurons_count_list[0],),\n",
    "                              solver = 'adam',  activation = 'logistic',\n",
    "                              max_iter=2000, random_state = 42,\n",
    "                              tol=1e-3)\n",
    "  for n in tqdm.tqdm_notebook(neurons_count_list):\n",
    "    model = MLPClassifier(alpha=alpha, hidden_layer_sizes = (n,),\n",
    "                              solver = 'adam',  activation = 'logistic',\n",
    "                              max_iter=2000, random_state = 42,\n",
    "                              tol=1e-3)\n",
    "    model.fit(X_train, y_train)\n",
    "    y_train_pred = model.predict(X_train)\n",
    "    y_test_pred = model.predict(X_test)\n",
    "    train_error_list.append(np.mean(y_train != y_train_pred))\n",
    "    test_error_list.append(np.mean(y_test != y_test_pred))\n",
    "    train_accuracy_list.append(accuracy_score(y_train, y_train_pred))\n",
    "    test_accuracy_list.append(accuracy_score(y_test, y_test_pred))\n",
    "  return train_error_list, test_error_list, train_accuracy_list, test_accuracy_list , model"
   ]
  },
  {
   "cell_type": "markdown",
   "id": "zcS9skJmZy0G",
   "metadata": {
    "id": "zcS9skJmZy0G"
   },
   "source": [
    "## 1 слой"
   ]
  },
  {
   "cell_type": "code",
   "execution_count": 58,
   "id": "OcAKqHbraULD",
   "metadata": {
    "colab": {
     "base_uri": "https://localhost:8080/",
     "referenced_widgets": [
      "2aff3224b721493eb6a251bf8ccba5a3",
      "fd0f4eeaf5ad44e7a6dc3e62b55a906b",
      "0a196b94047f485e90452af3a888ba8e",
      "0ac098a9ca994cd19114d44ece10b991",
      "12db1e4e80dd455390545c1588b5558c",
      "da532676d6c54645ba20564c6ecef3d4",
      "f41180367de5477f9da116923dc21987",
      "a388413a70a8477d9b991b22cb5f69a2",
      "ff5a0ad014ff4de3b3f795157d05cca1",
      "a25a099fe1804c0494768551dde27074",
      "374ba33a96544ca8942e168d06954c6b"
     ]
    },
    "id": "OcAKqHbraULD",
    "outputId": "07bbd226-2425-437c-a04c-f66fc542cb45"
   },
   "outputs": [
    {
     "name": "stderr",
     "output_type": "stream",
     "text": [
      "C:\\Users\\user\\AppData\\Local\\Temp\\ipykernel_9664\\3793210219.py:10: TqdmDeprecationWarning: This function will be removed in tqdm==5.0.0\n",
      "Please use `tqdm.notebook.tqdm` instead of `tqdm.tqdm_notebook`\n",
      "  for n in tqdm.tqdm_notebook(neurons_count_list):\n"
     ]
    },
    {
     "data": {
      "application/vnd.jupyter.widget-view+json": {
       "model_id": "c359c906564648c094a3672fb0766ecf",
       "version_major": 2,
       "version_minor": 0
      },
      "text/plain": [
       "  0%|          | 0/99 [00:00<?, ?it/s]"
      ]
     },
     "metadata": {},
     "output_type": "display_data"
    }
   ],
   "source": [
    "train_error_list, test_error_list, train_accuracy_list, test_accuracy_list , model = learn_neural_neurons(neurons_count_list, alpha_optimal)"
   ]
  },
  {
   "cell_type": "code",
   "execution_count": 59,
   "id": "jmA0DPBV6IWV",
   "metadata": {
    "colab": {
     "base_uri": "https://localhost:8080/"
    },
    "id": "jmA0DPBV6IWV",
    "outputId": "a03c5ac2-555a-47bc-f483-9e1b0b3ca504"
   },
   "outputs": [
    {
     "data": {
      "text/plain": [
       "<matplotlib.legend.Legend at 0x2842b2bdcf0>"
      ]
     },
     "execution_count": 59,
     "metadata": {},
     "output_type": "execute_result"
    },
    {
     "data": {
      "image/png": "[encoded data removed]",
      "text/plain": [
       "<Figure size 432x288 with 1 Axes>"
      ]
     },
     "metadata": {
      "needs_background": "light"
     },
     "output_type": "display_data"
    }
   ],
   "source": [
    "plt.semilogx(neurons_count_list, train_error_list, 'b-o', label = 'Train')\n",
    "plt.semilogx(neurons_count_list, test_error_list, 'g-o', label = 'Test')\n",
    "plt.xlim([np.min(neurons_count_list), np.max(neurons_count_list)])\n",
    "plt.title('Errors | Neurons Count')\n",
    "plt.xlabel('Neurons count')\n",
    "plt.ylabel('Error')\n",
    "plt.legend()"
   ]
  },
  {
   "cell_type": "code",
   "execution_count": 60,
   "id": "GhFZQSmZ6LCw",
   "metadata": {
    "colab": {
     "base_uri": "https://localhost:8080/"
    },
    "id": "GhFZQSmZ6LCw",
    "outputId": "16be8ce4-3b10-4119-f2b3-3160c2afcb66"
   },
   "outputs": [
    {
     "data": {
      "text/plain": [
       "<matplotlib.legend.Legend at 0x2842b37aa10>"
      ]
     },
     "execution_count": 60,
     "metadata": {},
     "output_type": "execute_result"
    },
    {
     "data": {
      "image/png": "[encoded data removed]",
      "text/plain": [
       "<Figure size 432x288 with 1 Axes>"
      ]
     },
     "metadata": {
      "needs_background": "light"
     },
     "output_type": "display_data"
    }
   ],
   "source": [
    "plt.semilogx(neurons_count_list, train_accuracy_list, 'r-o', label = 'Train')\n",
    "plt.semilogx(neurons_count_list, test_accuracy_list, 'g-o', label = 'Test')\n",
    "plt.xlim([np.min(neurons_count_list), np.max(neurons_count_list)])\n",
    "plt.title('Accuracy | Neurons count')\n",
    "plt.xlabel('Neurons count')\n",
    "plt.ylabel('Accuracy')\n",
    "plt.legend()"
   ]
  },
  {
   "cell_type": "code",
   "execution_count": 61,
   "id": "Zg09H4eOConK",
   "metadata": {
    "id": "Zg09H4eOConK"
   },
   "outputs": [],
   "source": [
    "max_accuracy = max(test_accuracy_list)\n",
    "max_id = 0\n",
    "for i in range(len(test_accuracy_list)):\n",
    "  if test_accuracy_list[i] == max_accuracy:\n",
    "    max_id = i\n",
    "optimal_count_neurons = neurons_count_list[max_id]"
   ]
  },
  {
   "cell_type": "markdown",
   "id": "_Hzh1gRcBgwo",
   "metadata": {
    "id": "_Hzh1gRcBgwo"
   },
   "source": [
    "# Результаты и итоговое обучение на основе оптимальных параметров"
   ]
  },
  {
   "cell_type": "code",
   "execution_count": 62,
   "id": "Ihay12yBBlcB",
   "metadata": {
    "colab": {
     "base_uri": "https://localhost:8080/"
    },
    "id": "Ihay12yBBlcB",
    "outputId": "f1b02b7d-adaf-46ed-887f-30d669d375f3"
   },
   "outputs": [
    {
     "data": {
      "text/plain": [
       "MLPClassifier(activation='logistic', alpha=1e-07, hidden_layer_sizes=(18,),\n",
       "              max_iter=2000, random_state=42, tol=0.001)"
      ]
     },
     "execution_count": 62,
     "metadata": {},
     "output_type": "execute_result"
    }
   ],
   "source": [
    "from sklearn.neural_network import MLPClassifier\n",
    "\n",
    "model = MLPClassifier(hidden_layer_sizes = (optimal_count_neurons,),\n",
    "                          alpha=alpha_optimal, solver = 'adam', \n",
    "                          activation = 'logistic', max_iter=2000,\n",
    "                          random_state = 42, tol=1e-3)\n",
    "model.fit(X_train, y_train)"
   ]
  },
  {
   "cell_type": "code",
   "execution_count": 63,
   "id": "8AT7XxHNBp5T",
   "metadata": {
    "colab": {
     "base_uri": "https://localhost:8080/"
    },
    "id": "8AT7XxHNBp5T",
    "outputId": "ff3b5747-5f93-4930-89e1-2c35d846e27d"
   },
   "outputs": [
    {
     "data": {
      "text/plain": [
       "0.28647925033467203"
      ]
     },
     "execution_count": 63,
     "metadata": {},
     "output_type": "execute_result"
    }
   ],
   "source": [
    "y_test_predict = model.predict(X_test)\n",
    "err_test  = np.mean(y_test  != y_test_predict)\n",
    "err_test"
   ]
  },
  {
   "cell_type": "code",
   "execution_count": 64,
   "id": "OM5rBt1IBq6m",
   "metadata": {
    "colab": {
     "base_uri": "https://localhost:8080/"
    },
    "id": "OM5rBt1IBq6m",
    "outputId": "88f3c614-319d-4f2f-c273-a4829c340ba6"
   },
   "outputs": [
    {
     "data": {
      "text/plain": [
       "0.3016323633782825"
      ]
     },
     "execution_count": 64,
     "metadata": {},
     "output_type": "execute_result"
    }
   ],
   "source": [
    "y_train_predict = model.predict(X_train)\n",
    "err_train  = np.mean(y_train  != y_train_predict)\n",
    "err_train"
   ]
  },
  {
   "cell_type": "markdown",
   "id": "YBD5-xJABtYX",
   "metadata": {
    "id": "YBD5-xJABtYX"
   },
   "source": [
    "# Интерпретация результатов"
   ]
  },
  {
   "cell_type": "code",
   "execution_count": 65,
   "id": "iljeOezbBvxl",
   "metadata": {
    "colab": {
     "base_uri": "https://localhost:8080/"
    },
    "id": "iljeOezbBvxl",
    "outputId": "3d517e2e-aae4-43e0-f4e5-bc910bd9a79d"
   },
   "outputs": [
    {
     "name": "stdout",
     "output_type": "stream",
     "text": [
      "[[218  82]\n",
      " [132 315]]\n"
     ]
    }
   ],
   "source": [
    "from sklearn.metrics import confusion_matrix\n",
    "print(confusion_matrix(y_test_predict, y_test))"
   ]
  },
  {
   "cell_type": "code",
   "execution_count": 66,
   "id": "bxYDuGcPBy7T",
   "metadata": {
    "colab": {
     "base_uri": "https://localhost:8080/",
     "height": 279
    },
    "id": "bxYDuGcPBy7T",
    "outputId": "4dbeb1f3-f860-4734-c09f-9719e8388f6a"
   },
   "outputs": [
    {
     "data": {
      "image/png": "[encoded data removed]",
      "text/plain": [
       "<Figure size 432x288 with 2 Axes>"
      ]
     },
     "metadata": {
      "needs_background": "light"
     },
     "output_type": "display_data"
    }
   ],
   "source": [
    "M = confusion_matrix(y_test_predict, y_test)\n",
    "M = np.sqrt(M)\n",
    "plt.imshow(M, interpolation = 'nearest')\n",
    "plt.set_cmap('binary')\n",
    "plt.xticks(range(2))\n",
    "plt.yticks(range(2))\n",
    "plt.xlabel(\"True label\")\n",
    "plt.ylabel(\"Predicted label\")\n",
    "plt.colorbar()\n",
    "pass"
   ]
  },
  {
   "cell_type": "code",
   "execution_count": 67,
   "id": "APFO6WbrB0W2",
   "metadata": {
    "colab": {
     "base_uri": "https://localhost:8080/"
    },
    "id": "APFO6WbrB0W2",
    "outputId": "7387efd7-890d-4d56-bb15-a32f98380e5d"
   },
   "outputs": [
    {
     "name": "stdout",
     "output_type": "stream",
     "text": [
      "              precision    recall  f1-score   support\n",
      "\n",
      "           5       0.66      0.58      0.62      1788\n",
      "           6       0.72      0.78      0.75      2439\n",
      "\n",
      "    accuracy                           0.70      4227\n",
      "   macro avg       0.69      0.68      0.69      4227\n",
      "weighted avg       0.70      0.70      0.70      4227\n",
      "\n"
     ]
    }
   ],
   "source": [
    "from sklearn.metrics import classification_report\n",
    "print(classification_report(y_train, y_train_predict))"
   ]
  },
  {
   "cell_type": "markdown",
   "id": "1LnWl8n1l9nK",
   "metadata": {
    "id": "1LnWl8n1l9nK"
   },
   "source": [
    "# Общие вывод (переобучение, недобучение, итоги)\n",
    "\n",
    "**Переобучение** не наблюдается, так как ошибка на тестовых данных не сильно отличается от тренировочных. Более того, они очень схожи, что говорит о хорошей обученности сети.\n",
    "\n",
    "**Недообучение** есть и выражается малым количеством данных и признаков. Меняя параметр доли тестовой выборки можно достигнуть уменьшения ошибки, но для общности картины оставили ее долю равной 0.15. Это говорит о том, что при увеличении количества данных точность будет увеличиваться, что говорит о **недообученности** выборки данных в данной работе.\n",
    "\n",
    "В ходе работы был уменьшен и сбалансирован датасет относительно класса Quality, что уменьшило ошибку с 50% до 30% (в ходе работы это не показано, но было выявленно путем тестирования). Из-за малых размеров ошибка у нейронных сетей существенна, так как нейронные сети лучше подходят для больших массивов данных. Однако в ходе работы получилось подобрать оптимальное количество слоев (1 или 2), параметр альфа и количество нейронов на слоях. \n",
    "\n",
    "**По итогу работы, изначальная ошибка равная примерно 30% уменьшилась до 28%.**\n",
    "\n",
    "В ходе работы была обучена полносвязная нейронная сеть и были подобраны параметры."
   ]
  },
  {
   "cell_type": "markdown",
   "id": "829c2f47",
   "metadata": {
    "id": "829c2f47"
   },
   "source": [
    "# Спасибо за внимание!"
   ]
  }
 ],
 "metadata": {
  "colab": {
   "collapsed_sections": [
    "cac8af97",
    "9740162c",
    "5fc00bec",
    "c90bd680",
    "c17fa1e2",
    "02c4aad9",
    "6933d893",
    "253435a1",
    "Lu1tw06TgLgL",
    "YzzhSRO8fzCU",
    "6gNIsvWrZurM",
    "829c2f47"
   ],
   "name": "Tkachev Alexey. Lab2. 381806-2.ipynb",
   "provenance": []
  },
  "interpreter": {
   "hash": "247ab06e135bb35fa78c5eff31b2a9a0050dcb5fb773c2631d2a29ac689eeccb"
  },
  "kernelspec": {
   "display_name": "Python 3 (ipykernel)",
   "language": "python",
   "name": "python3"
  },
  "language_info": {
   "codemirror_mode": {
    "name": "ipython",
    "version": 3
   },
   "file_extension": ".py",
   "mimetype": "text/x-python",
   "name": "python",
   "nbconvert_exporter": "python",
   "pygments_lexer": "ipython3",
   "version": "3.10.1"
  },
  "widgets": {
   "application/vnd.jupyter.widget-state+json": {
    "0a196b94047f485e90452af3a888ba8e": {
     "model_module": "@jupyter-widgets/controls",
     "model_module_version": "1.5.0",
     "model_name": "HTMLModel",
     "state": {
      "_dom_classes": [],
      "_model_module": "@jupyter-widgets/controls",
      "_model_module_version": "1.5.0",
      "_model_name": "HTMLModel",
      "_view_count": null,
      "_view_module": "@jupyter-widgets/controls",
      "_view_module_version": "1.5.0",
      "_view_name": "HTMLView",
      "description": "",
      "description_tooltip": null,
      "layout": "IPY_MODEL_f41180367de5477f9da116923dc21987",
      "placeholder": "​",
      "style": "IPY_MODEL_da532676d6c54645ba20564c6ecef3d4",
      "value": "100%"
     }
    },
    "0ac098a9ca994cd19114d44ece10b991": {
     "model_module": "@jupyter-widgets/controls",
     "model_module_version": "1.5.0",
     "model_name": "FloatProgressModel",
     "state": {
      "_dom_classes": [],
      "_model_module": "@jupyter-widgets/controls",
      "_model_module_version": "1.5.0",
      "_model_name": "FloatProgressModel",
      "_view_count": null,
      "_view_module": "@jupyter-widgets/controls",
      "_view_module_version": "1.5.0",
      "_view_name": "ProgressView",
      "bar_style": "success",
      "description": "",
      "description_tooltip": null,
      "layout": "IPY_MODEL_ff5a0ad014ff4de3b3f795157d05cca1",
      "max": 99,
      "min": 0,
      "orientation": "horizontal",
      "style": "IPY_MODEL_a388413a70a8477d9b991b22cb5f69a2",
      "value": 99
     }
    },
    "12db1e4e80dd455390545c1588b5558c": {
     "model_module": "@jupyter-widgets/controls",
     "model_module_version": "1.5.0",
     "model_name": "HTMLModel",
     "state": {
      "_dom_classes": [],
      "_model_module": "@jupyter-widgets/controls",
      "_model_module_version": "1.5.0",
      "_model_name": "HTMLModel",
      "_view_count": null,
      "_view_module": "@jupyter-widgets/controls",
      "_view_module_version": "1.5.0",
      "_view_name": "HTMLView",
      "description": "",
      "description_tooltip": null,
      "layout": "IPY_MODEL_374ba33a96544ca8942e168d06954c6b",
      "placeholder": "​",
      "style": "IPY_MODEL_a25a099fe1804c0494768551dde27074",
      "value": " 99/99 [01:20&lt;00:00,  1.06s/it]"
     }
    },
    "2aff3224b721493eb6a251bf8ccba5a3": {
     "model_module": "@jupyter-widgets/controls",
     "model_module_version": "1.5.0",
     "model_name": "HBoxModel",
     "state": {
      "_dom_classes": [],
      "_model_module": "@jupyter-widgets/controls",
      "_model_module_version": "1.5.0",
      "_model_name": "HBoxModel",
      "_view_count": null,
      "_view_module": "@jupyter-widgets/controls",
      "_view_module_version": "1.5.0",
      "_view_name": "HBoxView",
      "box_style": "",
      "children": [
       "IPY_MODEL_0a196b94047f485e90452af3a888ba8e",
       "IPY_MODEL_0ac098a9ca994cd19114d44ece10b991",
       "IPY_MODEL_12db1e4e80dd455390545c1588b5558c"
      ],
      "layout": "IPY_MODEL_fd0f4eeaf5ad44e7a6dc3e62b55a906b"
     }
    },
    "2e25a1c8542342f09ccc70c20773db15": {
     "model_module": "@jupyter-widgets/base",
     "model_module_version": "1.2.0",
     "model_name": "LayoutModel",
     "state": {
      "_model_module": "@jupyter-widgets/base",
      "_model_module_version": "1.2.0",
      "_model_name": "LayoutModel",
      "_view_count": null,
      "_view_module": "@jupyter-widgets/base",
      "_view_module_version": "1.2.0",
      "_view_name": "LayoutView",
      "align_content": null,
      "align_items": null,
      "align_self": null,
      "border": null,
      "bottom": null,
      "display": null,
      "flex": null,
      "flex_flow": null,
      "grid_area": null,
      "grid_auto_columns": null,
      "grid_auto_flow": null,
      "grid_auto_rows": null,
      "grid_column": null,
      "grid_gap": null,
      "grid_row": null,
      "grid_template_areas": null,
      "grid_template_columns": null,
      "grid_template_rows": null,
      "height": null,
      "justify_content": null,
      "justify_items": null,
      "left": null,
      "margin": null,
      "max_height": null,
      "max_width": null,
      "min_height": null,
      "min_width": null,
      "object_fit": null,
      "object_position": null,
      "order": null,
      "overflow": null,
      "overflow_x": null,
      "overflow_y": null,
      "padding": null,
      "right": null,
      "top": null,
      "visibility": null,
      "width": null
     }
    },
    "36708b8d5d714148b9a1367560aa9ec9": {
     "model_module": "@jupyter-widgets/controls",
     "model_module_version": "1.5.0",
     "model_name": "FloatProgressModel",
     "state": {
      "_dom_classes": [],
      "_model_module": "@jupyter-widgets/controls",
      "_model_module_version": "1.5.0",
      "_model_name": "FloatProgressModel",
      "_view_count": null,
      "_view_module": "@jupyter-widgets/controls",
      "_view_module_version": "1.5.0",
      "_view_name": "ProgressView",
      "bar_style": "success",
      "description": "",
      "description_tooltip": null,
      "layout": "IPY_MODEL_93d50efe72c84826999fbc5a7942542b",
      "max": 21,
      "min": 0,
      "orientation": "horizontal",
      "style": "IPY_MODEL_78494be189404a36961a656ca9d4bbae",
      "value": 21
     }
    },
    "374ba33a96544ca8942e168d06954c6b": {
     "model_module": "@jupyter-widgets/base",
     "model_module_version": "1.2.0",
     "model_name": "LayoutModel",
     "state": {
      "_model_module": "@jupyter-widgets/base",
      "_model_module_version": "1.2.0",
      "_model_name": "LayoutModel",
      "_view_count": null,
      "_view_module": "@jupyter-widgets/base",
      "_view_module_version": "1.2.0",
      "_view_name": "LayoutView",
      "align_content": null,
      "align_items": null,
      "align_self": null,
      "border": null,
      "bottom": null,
      "display": null,
      "flex": null,
      "flex_flow": null,
      "grid_area": null,
      "grid_auto_columns": null,
      "grid_auto_flow": null,
      "grid_auto_rows": null,
      "grid_column": null,
      "grid_gap": null,
      "grid_row": null,
      "grid_template_areas": null,
      "grid_template_columns": null,
      "grid_template_rows": null,
      "height": null,
      "justify_content": null,
      "justify_items": null,
      "left": null,
      "margin": null,
      "max_height": null,
      "max_width": null,
      "min_height": null,
      "min_width": null,
      "object_fit": null,
      "object_position": null,
      "order": null,
      "overflow": null,
      "overflow_x": null,
      "overflow_y": null,
      "padding": null,
      "right": null,
      "top": null,
      "visibility": null,
      "width": null
     }
    },
    "3a96961e4ebd406da0ee9b7414cb6f77": {
     "model_module": "@jupyter-widgets/base",
     "model_module_version": "1.2.0",
     "model_name": "LayoutModel",
     "state": {
      "_model_module": "@jupyter-widgets/base",
      "_model_module_version": "1.2.0",
      "_model_name": "LayoutModel",
      "_view_count": null,
      "_view_module": "@jupyter-widgets/base",
      "_view_module_version": "1.2.0",
      "_view_name": "LayoutView",
      "align_content": null,
      "align_items": null,
      "align_self": null,
      "border": null,
      "bottom": null,
      "display": null,
      "flex": null,
      "flex_flow": null,
      "grid_area": null,
      "grid_auto_columns": null,
      "grid_auto_flow": null,
      "grid_auto_rows": null,
      "grid_column": null,
      "grid_gap": null,
      "grid_row": null,
      "grid_template_areas": null,
      "grid_template_columns": null,
      "grid_template_rows": null,
      "height": null,
      "justify_content": null,
      "justify_items": null,
      "left": null,
      "margin": null,
      "max_height": null,
      "max_width": null,
      "min_height": null,
      "min_width": null,
      "object_fit": null,
      "object_position": null,
      "order": null,
      "overflow": null,
      "overflow_x": null,
      "overflow_y": null,
      "padding": null,
      "right": null,
      "top": null,
      "visibility": null,
      "width": null
     }
    },
    "78494be189404a36961a656ca9d4bbae": {
     "model_module": "@jupyter-widgets/controls",
     "model_module_version": "1.5.0",
     "model_name": "ProgressStyleModel",
     "state": {
      "_model_module": "@jupyter-widgets/controls",
      "_model_module_version": "1.5.0",
      "_model_name": "ProgressStyleModel",
      "_view_count": null,
      "_view_module": "@jupyter-widgets/base",
      "_view_module_version": "1.2.0",
      "_view_name": "StyleView",
      "bar_color": null,
      "description_width": ""
     }
    },
    "7cdd6d1bb6d046c4a38d12d24cefb843": {
     "model_module": "@jupyter-widgets/controls",
     "model_module_version": "1.5.0",
     "model_name": "HTMLModel",
     "state": {
      "_dom_classes": [],
      "_model_module": "@jupyter-widgets/controls",
      "_model_module_version": "1.5.0",
      "_model_name": "HTMLModel",
      "_view_count": null,
      "_view_module": "@jupyter-widgets/controls",
      "_view_module_version": "1.5.0",
      "_view_name": "HTMLView",
      "description": "",
      "description_tooltip": null,
      "layout": "IPY_MODEL_2e25a1c8542342f09ccc70c20773db15",
      "placeholder": "​",
      "style": "IPY_MODEL_ae6f60bd91a14d3b883512acc99fba22",
      "value": "100%"
     }
    },
    "80728e3ec19b48bab566ba8aaf583e1f": {
     "model_module": "@jupyter-widgets/controls",
     "model_module_version": "1.5.0",
     "model_name": "HTMLModel",
     "state": {
      "_dom_classes": [],
      "_model_module": "@jupyter-widgets/controls",
      "_model_module_version": "1.5.0",
      "_model_name": "HTMLModel",
      "_view_count": null,
      "_view_module": "@jupyter-widgets/controls",
      "_view_module_version": "1.5.0",
      "_view_name": "HTMLView",
      "description": "",
      "description_tooltip": null,
      "layout": "IPY_MODEL_fc65c4ab75494ef78a4ace25c3e5ce42",
      "placeholder": "​",
      "style": "IPY_MODEL_ec36259c6f5d40bdadf16dc89419fbc4",
      "value": " 21/21 [00:21&lt;00:00,  1.02s/it]"
     }
    },
    "93d50efe72c84826999fbc5a7942542b": {
     "model_module": "@jupyter-widgets/base",
     "model_module_version": "1.2.0",
     "model_name": "LayoutModel",
     "state": {
      "_model_module": "@jupyter-widgets/base",
      "_model_module_version": "1.2.0",
      "_model_name": "LayoutModel",
      "_view_count": null,
      "_view_module": "@jupyter-widgets/base",
      "_view_module_version": "1.2.0",
      "_view_name": "LayoutView",
      "align_content": null,
      "align_items": null,
      "align_self": null,
      "border": null,
      "bottom": null,
      "display": null,
      "flex": null,
      "flex_flow": null,
      "grid_area": null,
      "grid_auto_columns": null,
      "grid_auto_flow": null,
      "grid_auto_rows": null,
      "grid_column": null,
      "grid_gap": null,
      "grid_row": null,
      "grid_template_areas": null,
      "grid_template_columns": null,
      "grid_template_rows": null,
      "height": null,
      "justify_content": null,
      "justify_items": null,
      "left": null,
      "margin": null,
      "max_height": null,
      "max_width": null,
      "min_height": null,
      "min_width": null,
      "object_fit": null,
      "object_position": null,
      "order": null,
      "overflow": null,
      "overflow_x": null,
      "overflow_y": null,
      "padding": null,
      "right": null,
      "top": null,
      "visibility": null,
      "width": null
     }
    },
    "a25a099fe1804c0494768551dde27074": {
     "model_module": "@jupyter-widgets/controls",
     "model_module_version": "1.5.0",
     "model_name": "DescriptionStyleModel",
     "state": {
      "_model_module": "@jupyter-widgets/controls",
      "_model_module_version": "1.5.0",
      "_model_name": "DescriptionStyleModel",
      "_view_count": null,
      "_view_module": "@jupyter-widgets/base",
      "_view_module_version": "1.2.0",
      "_view_name": "StyleView",
      "description_width": ""
     }
    },
    "a388413a70a8477d9b991b22cb5f69a2": {
     "model_module": "@jupyter-widgets/controls",
     "model_module_version": "1.5.0",
     "model_name": "ProgressStyleModel",
     "state": {
      "_model_module": "@jupyter-widgets/controls",
      "_model_module_version": "1.5.0",
      "_model_name": "ProgressStyleModel",
      "_view_count": null,
      "_view_module": "@jupyter-widgets/base",
      "_view_module_version": "1.2.0",
      "_view_name": "StyleView",
      "bar_color": null,
      "description_width": ""
     }
    },
    "ae6f60bd91a14d3b883512acc99fba22": {
     "model_module": "@jupyter-widgets/controls",
     "model_module_version": "1.5.0",
     "model_name": "DescriptionStyleModel",
     "state": {
      "_model_module": "@jupyter-widgets/controls",
      "_model_module_version": "1.5.0",
      "_model_name": "DescriptionStyleModel",
      "_view_count": null,
      "_view_module": "@jupyter-widgets/base",
      "_view_module_version": "1.2.0",
      "_view_name": "StyleView",
      "description_width": ""
     }
    },
    "da532676d6c54645ba20564c6ecef3d4": {
     "model_module": "@jupyter-widgets/controls",
     "model_module_version": "1.5.0",
     "model_name": "DescriptionStyleModel",
     "state": {
      "_model_module": "@jupyter-widgets/controls",
      "_model_module_version": "1.5.0",
      "_model_name": "DescriptionStyleModel",
      "_view_count": null,
      "_view_module": "@jupyter-widgets/base",
      "_view_module_version": "1.2.0",
      "_view_name": "StyleView",
      "description_width": ""
     }
    },
    "ec36259c6f5d40bdadf16dc89419fbc4": {
     "model_module": "@jupyter-widgets/controls",
     "model_module_version": "1.5.0",
     "model_name": "DescriptionStyleModel",
     "state": {
      "_model_module": "@jupyter-widgets/controls",
      "_model_module_version": "1.5.0",
      "_model_name": "DescriptionStyleModel",
      "_view_count": null,
      "_view_module": "@jupyter-widgets/base",
      "_view_module_version": "1.2.0",
      "_view_name": "StyleView",
      "description_width": ""
     }
    },
    "f41180367de5477f9da116923dc21987": {
     "model_module": "@jupyter-widgets/base",
     "model_module_version": "1.2.0",
     "model_name": "LayoutModel",
     "state": {
      "_model_module": "@jupyter-widgets/base",
      "_model_module_version": "1.2.0",
      "_model_name": "LayoutModel",
      "_view_count": null,
      "_view_module": "@jupyter-widgets/base",
      "_view_module_version": "1.2.0",
      "_view_name": "LayoutView",
      "align_content": null,
      "align_items": null,
      "align_self": null,
      "border": null,
      "bottom": null,
      "display": null,
      "flex": null,
      "flex_flow": null,
      "grid_area": null,
      "grid_auto_columns": null,
      "grid_auto_flow": null,
      "grid_auto_rows": null,
      "grid_column": null,
      "grid_gap": null,
      "grid_row": null,
      "grid_template_areas": null,
      "grid_template_columns": null,
      "grid_template_rows": null,
      "height": null,
      "justify_content": null,
      "justify_items": null,
      "left": null,
      "margin": null,
      "max_height": null,
      "max_width": null,
      "min_height": null,
      "min_width": null,
      "object_fit": null,
      "object_position": null,
      "order": null,
      "overflow": null,
      "overflow_x": null,
      "overflow_y": null,
      "padding": null,
      "right": null,
      "top": null,
      "visibility": null,
      "width": null
     }
    },
    "fc65c4ab75494ef78a4ace25c3e5ce42": {
     "model_module": "@jupyter-widgets/base",
     "model_module_version": "1.2.0",
     "model_name": "LayoutModel",
     "state": {
      "_model_module": "@jupyter-widgets/base",
      "_model_module_version": "1.2.0",
      "_model_name": "LayoutModel",
      "_view_count": null,
      "_view_module": "@jupyter-widgets/base",
      "_view_module_version": "1.2.0",
      "_view_name": "LayoutView",
      "align_content": null,
      "align_items": null,
      "align_self": null,
      "border": null,
      "bottom": null,
      "display": null,
      "flex": null,
      "flex_flow": null,
      "grid_area": null,
      "grid_auto_columns": null,
      "grid_auto_flow": null,
      "grid_auto_rows": null,
      "grid_column": null,
      "grid_gap": null,
      "grid_row": null,
      "grid_template_areas": null,
      "grid_template_columns": null,
      "grid_template_rows": null,
      "height": null,
      "justify_content": null,
      "justify_items": null,
      "left": null,
      "margin": null,
      "max_height": null,
      "max_width": null,
      "min_height": null,
      "min_width": null,
      "object_fit": null,
      "object_position": null,
      "order": null,
      "overflow": null,
      "overflow_x": null,
      "overflow_y": null,
      "padding": null,
      "right": null,
      "top": null,
      "visibility": null,
      "width": null
     }
    },
    "fd088cb1be0e4e22bd3dad400f2c4ac1": {
     "model_module": "@jupyter-widgets/controls",
     "model_module_version": "1.5.0",
     "model_name": "HBoxModel",
     "state": {
      "_dom_classes": [],
      "_model_module": "@jupyter-widgets/controls",
      "_model_module_version": "1.5.0",
      "_model_name": "HBoxModel",
      "_view_count": null,
      "_view_module": "@jupyter-widgets/controls",
      "_view_module_version": "1.5.0",
      "_view_name": "HBoxView",
      "box_style": "",
      "children": [
       "IPY_MODEL_7cdd6d1bb6d046c4a38d12d24cefb843",
       "IPY_MODEL_36708b8d5d714148b9a1367560aa9ec9",
       "IPY_MODEL_80728e3ec19b48bab566ba8aaf583e1f"
      ],
      "layout": "IPY_MODEL_3a96961e4ebd406da0ee9b7414cb6f77"
     }
    },
    "fd0f4eeaf5ad44e7a6dc3e62b55a906b": {
     "model_module": "@jupyter-widgets/base",
     "model_module_version": "1.2.0",
     "model_name": "LayoutModel",
     "state": {
      "_model_module": "@jupyter-widgets/base",
      "_model_module_version": "1.2.0",
      "_model_name": "LayoutModel",
      "_view_count": null,
      "_view_module": "@jupyter-widgets/base",
      "_view_module_version": "1.2.0",
      "_view_name": "LayoutView",
      "align_content": null,
      "align_items": null,
      "align_self": null,
      "border": null,
      "bottom": null,
      "display": null,
      "flex": null,
      "flex_flow": null,
      "grid_area": null,
      "grid_auto_columns": null,
      "grid_auto_flow": null,
      "grid_auto_rows": null,
      "grid_column": null,
      "grid_gap": null,
      "grid_row": null,
      "grid_template_areas": null,
      "grid_template_columns": null,
      "grid_template_rows": null,
      "height": null,
      "justify_content": null,
      "justify_items": null,
      "left": null,
      "margin": null,
      "max_height": null,
      "max_width": null,
      "min_height": null,
      "min_width": null,
      "object_fit": null,
      "object_position": null,
      "order": null,
      "overflow": null,
      "overflow_x": null,
      "overflow_y": null,
      "padding": null,
      "right": null,
      "top": null,
      "visibility": null,
      "width": null
     }
    },
    "ff5a0ad014ff4de3b3f795157d05cca1": {
     "model_module": "@jupyter-widgets/base",
     "model_module_version": "1.2.0",
     "model_name": "LayoutModel",
     "state": {
      "_model_module": "@jupyter-widgets/base",
      "_model_module_version": "1.2.0",
      "_model_name": "LayoutModel",
      "_view_count": null,
      "_view_module": "@jupyter-widgets/base",
      "_view_module_version": "1.2.0",
      "_view_name": "LayoutView",
      "align_content": null,
      "align_items": null,
      "align_self": null,
      "border": null,
      "bottom": null,
      "display": null,
      "flex": null,
      "flex_flow": null,
      "grid_area": null,
      "grid_auto_columns": null,
      "grid_auto_flow": null,
      "grid_auto_rows": null,
      "grid_column": null,
      "grid_gap": null,
      "grid_row": null,
      "grid_template_areas": null,
      "grid_template_columns": null,
      "grid_template_rows": null,
      "height": null,
      "justify_content": null,
      "justify_items": null,
      "left": null,
      "margin": null,
      "max_height": null,
      "max_width": null,
      "min_height": null,
      "min_width": null,
      "object_fit": null,
      "object_position": null,
      "order": null,
      "overflow": null,
      "overflow_x": null,
      "overflow_y": null,
      "padding": null,
      "right": null,
      "top": null,
      "visibility": null,
      "width": null
     }
    }
   }
  }
 },
 "nbformat": 4,
 "nbformat_minor": 5
}
