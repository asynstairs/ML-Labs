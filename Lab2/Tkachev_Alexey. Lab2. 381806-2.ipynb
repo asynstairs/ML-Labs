{
  "cells": [
    {
      "cell_type": "markdown",
      "id": "02f3c8b0",
      "metadata": {
        "id": "02f3c8b0"
      },
      "source": [
        "# Лабораторная работа 2. Машинное обучение.\n",
        "\n",
        "- Ткачев Алексей Игоревич\n",
        "- Группа 381806-2\n",
        "- ФИИТ\n",
        "- 4 курс"
      ]
    },
    {
      "cell_type": "markdown",
      "id": "75e01a39",
      "metadata": {
        "id": "75e01a39"
      },
      "source": [
        "# Название датасета\n",
        "\n",
        "Wine Quality Dataset."
      ]
    },
    {
      "cell_type": "markdown",
      "id": "d4e5bfab",
      "metadata": {
        "id": "d4e5bfab"
      },
      "source": [
        "# Описание задачи\n",
        "- Обучить полносвязную неглубокую нейронную сеть распознавать качество вина.\n",
        "- Постоить графики зависимости ошибки на обучеющей выборке и на тестовой от параметра альфа и количества нейронов.\n",
        "- Сделать выводы."
      ]
    },
    {
      "cell_type": "markdown",
      "source": [
        "# Все выводы (переобучение, недообучение, итоги) в конце данной работы"
      ],
      "metadata": {
        "id": "5IWnsDRypGG3"
      },
      "id": "5IWnsDRypGG3"
    },
    {
      "cell_type": "markdown",
      "id": "cac8af97",
      "metadata": {
        "id": "cac8af97"
      },
      "source": [
        "# Загрузка нужных библиотек"
      ]
    },
    {
      "cell_type": "code",
      "execution_count": 921,
      "id": "1a2e8e8b",
      "metadata": {
        "id": "1a2e8e8b"
      },
      "outputs": [],
      "source": [
        "import numpy as np\n",
        "import matplotlib.pyplot as plt\n",
        "import pandas as pd\n",
        "\n",
        "from time import time\n",
        "%matplotlib inline"
      ]
    },
    {
      "cell_type": "markdown",
      "id": "a02dd7b4",
      "metadata": {
        "id": "a02dd7b4"
      },
      "source": [
        "# Загрузка датасета\n",
        "`given_data` - весь \"сырой\" датасет."
      ]
    },
    {
      "cell_type": "code",
      "execution_count": 922,
      "id": "11cfb5cd",
      "metadata": {
        "id": "11cfb5cd"
      },
      "outputs": [],
      "source": [
        "given_data = pd.read_csv('dataset.csv', sep=',', header=0,  engine='python')"
      ]
    },
    {
      "cell_type": "markdown",
      "id": "6272a40e",
      "metadata": {
        "id": "6272a40e"
      },
      "source": [
        "Так как `given_data` первой строкой представлял имена столбцов, то аргумент `header=0`."
      ]
    },
    {
      "cell_type": "code",
      "execution_count": 923,
      "id": "f23c1e48",
      "metadata": {
        "scrolled": true,
        "colab": {
          "base_uri": "https://localhost:8080/",
          "height": 0
        },
        "id": "f23c1e48",
        "outputId": "143bf3fc-164c-4c0f-dfe8-4c22611c406f"
      },
      "outputs": [
        {
          "output_type": "execute_result",
          "data": {
            "text/html": [
              "\n",
              "  <div id=\"df-608691ae-d544-44c3-9a08-3cf2f190098a\">\n",
              "    <div class=\"colab-df-container\">\n",
              "      <div>\n",
              "<style scoped>\n",
              "    .dataframe tbody tr th:only-of-type {\n",
              "        vertical-align: middle;\n",
              "    }\n",
              "\n",
              "    .dataframe tbody tr th {\n",
              "        vertical-align: top;\n",
              "    }\n",
              "\n",
              "    .dataframe thead th {\n",
              "        text-align: right;\n",
              "    }\n",
              "</style>\n",
              "<table border=\"1\" class=\"dataframe\">\n",
              "  <thead>\n",
              "    <tr style=\"text-align: right;\">\n",
              "      <th></th>\n",
              "      <th>type</th>\n",
              "      <th>fixed acidity</th>\n",
              "      <th>volatile acidity</th>\n",
              "      <th>citric acid</th>\n",
              "      <th>residual sugar</th>\n",
              "      <th>chlorides</th>\n",
              "      <th>free sulfur dioxide</th>\n",
              "      <th>total sulfur dioxide</th>\n",
              "      <th>density</th>\n",
              "      <th>pH</th>\n",
              "      <th>sulphates</th>\n",
              "      <th>alcohol</th>\n",
              "      <th>quality</th>\n",
              "    </tr>\n",
              "  </thead>\n",
              "  <tbody>\n",
              "    <tr>\n",
              "      <th>0</th>\n",
              "      <td>white</td>\n",
              "      <td>7.0</td>\n",
              "      <td>0.270</td>\n",
              "      <td>0.36</td>\n",
              "      <td>20.7</td>\n",
              "      <td>0.045</td>\n",
              "      <td>45.0</td>\n",
              "      <td>170.0</td>\n",
              "      <td>1.00100</td>\n",
              "      <td>3.00</td>\n",
              "      <td>0.45</td>\n",
              "      <td>8.8</td>\n",
              "      <td>6</td>\n",
              "    </tr>\n",
              "    <tr>\n",
              "      <th>1</th>\n",
              "      <td>white</td>\n",
              "      <td>6.3</td>\n",
              "      <td>0.300</td>\n",
              "      <td>0.34</td>\n",
              "      <td>1.6</td>\n",
              "      <td>0.049</td>\n",
              "      <td>14.0</td>\n",
              "      <td>132.0</td>\n",
              "      <td>0.99400</td>\n",
              "      <td>3.30</td>\n",
              "      <td>0.49</td>\n",
              "      <td>9.5</td>\n",
              "      <td>6</td>\n",
              "    </tr>\n",
              "    <tr>\n",
              "      <th>2</th>\n",
              "      <td>white</td>\n",
              "      <td>8.1</td>\n",
              "      <td>0.280</td>\n",
              "      <td>0.40</td>\n",
              "      <td>6.9</td>\n",
              "      <td>0.050</td>\n",
              "      <td>30.0</td>\n",
              "      <td>97.0</td>\n",
              "      <td>0.99510</td>\n",
              "      <td>3.26</td>\n",
              "      <td>0.44</td>\n",
              "      <td>10.1</td>\n",
              "      <td>6</td>\n",
              "    </tr>\n",
              "    <tr>\n",
              "      <th>3</th>\n",
              "      <td>white</td>\n",
              "      <td>7.2</td>\n",
              "      <td>0.230</td>\n",
              "      <td>0.32</td>\n",
              "      <td>8.5</td>\n",
              "      <td>0.058</td>\n",
              "      <td>47.0</td>\n",
              "      <td>186.0</td>\n",
              "      <td>0.99560</td>\n",
              "      <td>3.19</td>\n",
              "      <td>0.40</td>\n",
              "      <td>9.9</td>\n",
              "      <td>6</td>\n",
              "    </tr>\n",
              "    <tr>\n",
              "      <th>4</th>\n",
              "      <td>white</td>\n",
              "      <td>7.2</td>\n",
              "      <td>0.230</td>\n",
              "      <td>0.32</td>\n",
              "      <td>8.5</td>\n",
              "      <td>0.058</td>\n",
              "      <td>47.0</td>\n",
              "      <td>186.0</td>\n",
              "      <td>0.99560</td>\n",
              "      <td>3.19</td>\n",
              "      <td>0.40</td>\n",
              "      <td>9.9</td>\n",
              "      <td>6</td>\n",
              "    </tr>\n",
              "    <tr>\n",
              "      <th>...</th>\n",
              "      <td>...</td>\n",
              "      <td>...</td>\n",
              "      <td>...</td>\n",
              "      <td>...</td>\n",
              "      <td>...</td>\n",
              "      <td>...</td>\n",
              "      <td>...</td>\n",
              "      <td>...</td>\n",
              "      <td>...</td>\n",
              "      <td>...</td>\n",
              "      <td>...</td>\n",
              "      <td>...</td>\n",
              "      <td>...</td>\n",
              "    </tr>\n",
              "    <tr>\n",
              "      <th>6492</th>\n",
              "      <td>red</td>\n",
              "      <td>6.2</td>\n",
              "      <td>0.600</td>\n",
              "      <td>0.08</td>\n",
              "      <td>2.0</td>\n",
              "      <td>0.090</td>\n",
              "      <td>32.0</td>\n",
              "      <td>44.0</td>\n",
              "      <td>0.99490</td>\n",
              "      <td>3.45</td>\n",
              "      <td>0.58</td>\n",
              "      <td>10.5</td>\n",
              "      <td>5</td>\n",
              "    </tr>\n",
              "    <tr>\n",
              "      <th>6493</th>\n",
              "      <td>red</td>\n",
              "      <td>5.9</td>\n",
              "      <td>0.550</td>\n",
              "      <td>0.10</td>\n",
              "      <td>2.2</td>\n",
              "      <td>0.062</td>\n",
              "      <td>39.0</td>\n",
              "      <td>51.0</td>\n",
              "      <td>0.99512</td>\n",
              "      <td>3.52</td>\n",
              "      <td>NaN</td>\n",
              "      <td>11.2</td>\n",
              "      <td>6</td>\n",
              "    </tr>\n",
              "    <tr>\n",
              "      <th>6494</th>\n",
              "      <td>red</td>\n",
              "      <td>6.3</td>\n",
              "      <td>0.510</td>\n",
              "      <td>0.13</td>\n",
              "      <td>2.3</td>\n",
              "      <td>0.076</td>\n",
              "      <td>29.0</td>\n",
              "      <td>40.0</td>\n",
              "      <td>0.99574</td>\n",
              "      <td>3.42</td>\n",
              "      <td>0.75</td>\n",
              "      <td>11.0</td>\n",
              "      <td>6</td>\n",
              "    </tr>\n",
              "    <tr>\n",
              "      <th>6495</th>\n",
              "      <td>red</td>\n",
              "      <td>5.9</td>\n",
              "      <td>0.645</td>\n",
              "      <td>0.12</td>\n",
              "      <td>2.0</td>\n",
              "      <td>0.075</td>\n",
              "      <td>32.0</td>\n",
              "      <td>44.0</td>\n",
              "      <td>0.99547</td>\n",
              "      <td>3.57</td>\n",
              "      <td>0.71</td>\n",
              "      <td>10.2</td>\n",
              "      <td>5</td>\n",
              "    </tr>\n",
              "    <tr>\n",
              "      <th>6496</th>\n",
              "      <td>red</td>\n",
              "      <td>6.0</td>\n",
              "      <td>0.310</td>\n",
              "      <td>0.47</td>\n",
              "      <td>3.6</td>\n",
              "      <td>0.067</td>\n",
              "      <td>18.0</td>\n",
              "      <td>42.0</td>\n",
              "      <td>0.99549</td>\n",
              "      <td>3.39</td>\n",
              "      <td>0.66</td>\n",
              "      <td>11.0</td>\n",
              "      <td>6</td>\n",
              "    </tr>\n",
              "  </tbody>\n",
              "</table>\n",
              "<p>6497 rows × 13 columns</p>\n",
              "</div>\n",
              "      <button class=\"colab-df-convert\" onclick=\"convertToInteractive('df-608691ae-d544-44c3-9a08-3cf2f190098a')\"\n",
              "              title=\"Convert this dataframe to an interactive table.\"\n",
              "              style=\"display:none;\">\n",
              "        \n",
              "  <svg xmlns=\"http://www.w3.org/2000/svg\" height=\"24px\"viewBox=\"0 0 24 24\"\n",
              "       width=\"24px\">\n",
              "    <path d=\"M0 0h24v24H0V0z\" fill=\"none\"/>\n",
              "    <path d=\"M18.56 5.44l.94 2.06.94-2.06 2.06-.94-2.06-.94-.94-2.06-.94 2.06-2.06.94zm-11 1L8.5 8.5l.94-2.06 2.06-.94-2.06-.94L8.5 2.5l-.94 2.06-2.06.94zm10 10l.94 2.06.94-2.06 2.06-.94-2.06-.94-.94-2.06-.94 2.06-2.06.94z\"/><path d=\"M17.41 7.96l-1.37-1.37c-.4-.4-.92-.59-1.43-.59-.52 0-1.04.2-1.43.59L10.3 9.45l-7.72 7.72c-.78.78-.78 2.05 0 2.83L4 21.41c.39.39.9.59 1.41.59.51 0 1.02-.2 1.41-.59l7.78-7.78 2.81-2.81c.8-.78.8-2.07 0-2.86zM5.41 20L4 18.59l7.72-7.72 1.47 1.35L5.41 20z\"/>\n",
              "  </svg>\n",
              "      </button>\n",
              "      \n",
              "  <style>\n",
              "    .colab-df-container {\n",
              "      display:flex;\n",
              "      flex-wrap:wrap;\n",
              "      gap: 12px;\n",
              "    }\n",
              "\n",
              "    .colab-df-convert {\n",
              "      background-color: #E8F0FE;\n",
              "      border: none;\n",
              "      border-radius: 50%;\n",
              "      cursor: pointer;\n",
              "      display: none;\n",
              "      fill: #1967D2;\n",
              "      height: 32px;\n",
              "      padding: 0 0 0 0;\n",
              "      width: 32px;\n",
              "    }\n",
              "\n",
              "    .colab-df-convert:hover {\n",
              "      background-color: #E2EBFA;\n",
              "      box-shadow: 0px 1px 2px rgba(60, 64, 67, 0.3), 0px 1px 3px 1px rgba(60, 64, 67, 0.15);\n",
              "      fill: #174EA6;\n",
              "    }\n",
              "\n",
              "    [theme=dark] .colab-df-convert {\n",
              "      background-color: #3B4455;\n",
              "      fill: #D2E3FC;\n",
              "    }\n",
              "\n",
              "    [theme=dark] .colab-df-convert:hover {\n",
              "      background-color: #434B5C;\n",
              "      box-shadow: 0px 1px 3px 1px rgba(0, 0, 0, 0.15);\n",
              "      filter: drop-shadow(0px 1px 2px rgba(0, 0, 0, 0.3));\n",
              "      fill: #FFFFFF;\n",
              "    }\n",
              "  </style>\n",
              "\n",
              "      <script>\n",
              "        const buttonEl =\n",
              "          document.querySelector('#df-608691ae-d544-44c3-9a08-3cf2f190098a button.colab-df-convert');\n",
              "        buttonEl.style.display =\n",
              "          google.colab.kernel.accessAllowed ? 'block' : 'none';\n",
              "\n",
              "        async function convertToInteractive(key) {\n",
              "          const element = document.querySelector('#df-608691ae-d544-44c3-9a08-3cf2f190098a');\n",
              "          const dataTable =\n",
              "            await google.colab.kernel.invokeFunction('convertToInteractive',\n",
              "                                                     [key], {});\n",
              "          if (!dataTable) return;\n",
              "\n",
              "          const docLinkHtml = 'Like what you see? Visit the ' +\n",
              "            '<a target=\"_blank\" href=https://colab.research.google.com/notebooks/data_table.ipynb>data table notebook</a>'\n",
              "            + ' to learn more about interactive tables.';\n",
              "          element.innerHTML = '';\n",
              "          dataTable['output_type'] = 'display_data';\n",
              "          await google.colab.output.renderOutput(dataTable, element);\n",
              "          const docLink = document.createElement('div');\n",
              "          docLink.innerHTML = docLinkHtml;\n",
              "          element.appendChild(docLink);\n",
              "        }\n",
              "      </script>\n",
              "    </div>\n",
              "  </div>\n",
              "  "
            ],
            "text/plain": [
              "       type  fixed acidity  volatile acidity  ...  sulphates  alcohol  quality\n",
              "0     white            7.0             0.270  ...       0.45      8.8        6\n",
              "1     white            6.3             0.300  ...       0.49      9.5        6\n",
              "2     white            8.1             0.280  ...       0.44     10.1        6\n",
              "3     white            7.2             0.230  ...       0.40      9.9        6\n",
              "4     white            7.2             0.230  ...       0.40      9.9        6\n",
              "...     ...            ...               ...  ...        ...      ...      ...\n",
              "6492    red            6.2             0.600  ...       0.58     10.5        5\n",
              "6493    red            5.9             0.550  ...        NaN     11.2        6\n",
              "6494    red            6.3             0.510  ...       0.75     11.0        6\n",
              "6495    red            5.9             0.645  ...       0.71     10.2        5\n",
              "6496    red            6.0             0.310  ...       0.66     11.0        6\n",
              "\n",
              "[6497 rows x 13 columns]"
            ]
          },
          "metadata": {},
          "execution_count": 923
        }
      ],
      "source": [
        "given_data"
      ]
    },
    {
      "cell_type": "markdown",
      "source": [
        "## Балансировка датасета\n",
        "\n",
        "Так как датасет имеет несбалансированные по количеству признаков относительно класса `quality`, сбалансируем его удалением слишком малых классов."
      ],
      "metadata": {
        "id": "A1ieSNt47ufL"
      },
      "id": "A1ieSNt47ufL"
    },
    {
      "cell_type": "code",
      "source": [
        "import seaborn as sns\n",
        "sns.countplot(x='quality', data=given_data)"
      ],
      "metadata": {
        "colab": {
          "base_uri": "https://localhost:8080/",
          "height": 0
        },
        "id": "pjY7vtSB6bZS",
        "outputId": "29bd294d-ac86-4927-ec92-153fc0ce6abf"
      },
      "execution_count": 924,
      "outputs": [
        {
          "output_type": "execute_result",
          "data": {
            "text/plain": [
              "<matplotlib.axes._subplots.AxesSubplot at 0x7f8d728993d0>"
            ]
          },
          "metadata": {},
          "execution_count": 924
        },
        {
          "output_type": "display_data",
          "data": {
            "image/png": "[encoded data removed]",
            "text/plain": [
              "<Figure size 432x288 with 1 Axes>"
            ]
          },
          "metadata": {
            "needs_background": "light"
          }
        }
      ],
      "id": "pjY7vtSB6bZS"
    },
    {
      "cell_type": "code",
      "source": [
        "given_data.columns"
      ],
      "metadata": {
        "colab": {
          "base_uri": "https://localhost:8080/"
        },
        "id": "ai_VBKWE-_Qm",
        "outputId": "448b3f53-f1f1-4bab-a269-6f6eb002e2bf"
      },
      "id": "ai_VBKWE-_Qm",
      "execution_count": 925,
      "outputs": [
        {
          "output_type": "execute_result",
          "data": {
            "text/plain": [
              "Index(['type', 'fixed acidity', 'volatile acidity', 'citric acid',\n",
              "       'residual sugar', 'chlorides', 'free sulfur dioxide',\n",
              "       'total sulfur dioxide', 'density', 'pH', 'sulphates', 'alcohol',\n",
              "       'quality'],\n",
              "      dtype='object')"
            ]
          },
          "metadata": {},
          "execution_count": 925
        }
      ]
    },
    {
      "cell_type": "code",
      "source": [
        "quality = given_data.columns[len(given_data.columns)-1]\n",
        "quality"
      ],
      "metadata": {
        "colab": {
          "base_uri": "https://localhost:8080/",
          "height": 0
        },
        "id": "lEWMcOWv_CyU",
        "outputId": "7b863d29-adfa-42c8-cf09-f1dc510d776b"
      },
      "id": "lEWMcOWv_CyU",
      "execution_count": 926,
      "outputs": [
        {
          "output_type": "execute_result",
          "data": {
            "application/vnd.google.colaboratory.intrinsic+json": {
              "type": "string"
            },
            "text/plain": [
              "'quality'"
            ]
          },
          "metadata": {},
          "execution_count": 926
        }
      ]
    },
    {
      "cell_type": "code",
      "source": [
        "given_data = given_data.drop(given_data[given_data[quality] == 3].index)\n",
        "given_data = given_data.drop(given_data[given_data[quality] == 4].index)\n",
        "given_data = given_data.drop(given_data[given_data[quality] == 7].index)\n",
        "given_data = given_data.drop(given_data[given_data[quality] == 8].index)\n",
        "given_data = given_data.drop(given_data[given_data[quality] == 9].index)"
      ],
      "metadata": {
        "id": "jA1j54cX7ykW"
      },
      "id": "jA1j54cX7ykW",
      "execution_count": 927,
      "outputs": []
    },
    {
      "cell_type": "code",
      "source": [
        "sns.countplot(x='quality', data=given_data)"
      ],
      "metadata": {
        "colab": {
          "base_uri": "https://localhost:8080/",
          "height": 0
        },
        "id": "L00zZfojAXFG",
        "outputId": "71a7826b-66ae-443e-9ad9-57fb1287ab4d"
      },
      "id": "L00zZfojAXFG",
      "execution_count": 928,
      "outputs": [
        {
          "output_type": "execute_result",
          "data": {
            "text/plain": [
              "<matplotlib.axes._subplots.AxesSubplot at 0x7f8d727fae10>"
            ]
          },
          "metadata": {},
          "execution_count": 928
        },
        {
          "output_type": "display_data",
          "data": {
            "image/png": "[encoded data removed]",
            "text/plain": [
              "<Figure size 432x288 with 1 Axes>"
            ]
          },
          "metadata": {
            "needs_background": "light"
          }
        }
      ]
    },
    {
      "cell_type": "markdown",
      "source": [
        "Видим, что теперь классов `quality` всего два, но обучение будет намного точнее."
      ],
      "metadata": {
        "id": "_mWquwDTISky"
      },
      "id": "_mWquwDTISky"
    },
    {
      "cell_type": "code",
      "source": [
        "given_data"
      ],
      "metadata": {
        "colab": {
          "base_uri": "https://localhost:8080/",
          "height": 0
        },
        "id": "S95Tok3UIZpV",
        "outputId": "65b92ee2-5b1b-4f0a-979c-3330243e71b1"
      },
      "id": "S95Tok3UIZpV",
      "execution_count": 929,
      "outputs": [
        {
          "output_type": "execute_result",
          "data": {
            "text/html": [
              "\n",
              "  <div id=\"df-aca11d41-5f68-46ea-8d32-5e4bc16e024c\">\n",
              "    <div class=\"colab-df-container\">\n",
              "      <div>\n",
              "<style scoped>\n",
              "    .dataframe tbody tr th:only-of-type {\n",
              "        vertical-align: middle;\n",
              "    }\n",
              "\n",
              "    .dataframe tbody tr th {\n",
              "        vertical-align: top;\n",
              "    }\n",
              "\n",
              "    .dataframe thead th {\n",
              "        text-align: right;\n",
              "    }\n",
              "</style>\n",
              "<table border=\"1\" class=\"dataframe\">\n",
              "  <thead>\n",
              "    <tr style=\"text-align: right;\">\n",
              "      <th></th>\n",
              "      <th>type</th>\n",
              "      <th>fixed acidity</th>\n",
              "      <th>volatile acidity</th>\n",
              "      <th>citric acid</th>\n",
              "      <th>residual sugar</th>\n",
              "      <th>chlorides</th>\n",
              "      <th>free sulfur dioxide</th>\n",
              "      <th>total sulfur dioxide</th>\n",
              "      <th>density</th>\n",
              "      <th>pH</th>\n",
              "      <th>sulphates</th>\n",
              "      <th>alcohol</th>\n",
              "      <th>quality</th>\n",
              "    </tr>\n",
              "  </thead>\n",
              "  <tbody>\n",
              "    <tr>\n",
              "      <th>0</th>\n",
              "      <td>white</td>\n",
              "      <td>7.0</td>\n",
              "      <td>0.270</td>\n",
              "      <td>0.36</td>\n",
              "      <td>20.7</td>\n",
              "      <td>0.045</td>\n",
              "      <td>45.0</td>\n",
              "      <td>170.0</td>\n",
              "      <td>1.00100</td>\n",
              "      <td>3.00</td>\n",
              "      <td>0.45</td>\n",
              "      <td>8.8</td>\n",
              "      <td>6</td>\n",
              "    </tr>\n",
              "    <tr>\n",
              "      <th>1</th>\n",
              "      <td>white</td>\n",
              "      <td>6.3</td>\n",
              "      <td>0.300</td>\n",
              "      <td>0.34</td>\n",
              "      <td>1.6</td>\n",
              "      <td>0.049</td>\n",
              "      <td>14.0</td>\n",
              "      <td>132.0</td>\n",
              "      <td>0.99400</td>\n",
              "      <td>3.30</td>\n",
              "      <td>0.49</td>\n",
              "      <td>9.5</td>\n",
              "      <td>6</td>\n",
              "    </tr>\n",
              "    <tr>\n",
              "      <th>2</th>\n",
              "      <td>white</td>\n",
              "      <td>8.1</td>\n",
              "      <td>0.280</td>\n",
              "      <td>0.40</td>\n",
              "      <td>6.9</td>\n",
              "      <td>0.050</td>\n",
              "      <td>30.0</td>\n",
              "      <td>97.0</td>\n",
              "      <td>0.99510</td>\n",
              "      <td>3.26</td>\n",
              "      <td>0.44</td>\n",
              "      <td>10.1</td>\n",
              "      <td>6</td>\n",
              "    </tr>\n",
              "    <tr>\n",
              "      <th>3</th>\n",
              "      <td>white</td>\n",
              "      <td>7.2</td>\n",
              "      <td>0.230</td>\n",
              "      <td>0.32</td>\n",
              "      <td>8.5</td>\n",
              "      <td>0.058</td>\n",
              "      <td>47.0</td>\n",
              "      <td>186.0</td>\n",
              "      <td>0.99560</td>\n",
              "      <td>3.19</td>\n",
              "      <td>0.40</td>\n",
              "      <td>9.9</td>\n",
              "      <td>6</td>\n",
              "    </tr>\n",
              "    <tr>\n",
              "      <th>4</th>\n",
              "      <td>white</td>\n",
              "      <td>7.2</td>\n",
              "      <td>0.230</td>\n",
              "      <td>0.32</td>\n",
              "      <td>8.5</td>\n",
              "      <td>0.058</td>\n",
              "      <td>47.0</td>\n",
              "      <td>186.0</td>\n",
              "      <td>0.99560</td>\n",
              "      <td>3.19</td>\n",
              "      <td>0.40</td>\n",
              "      <td>9.9</td>\n",
              "      <td>6</td>\n",
              "    </tr>\n",
              "    <tr>\n",
              "      <th>...</th>\n",
              "      <td>...</td>\n",
              "      <td>...</td>\n",
              "      <td>...</td>\n",
              "      <td>...</td>\n",
              "      <td>...</td>\n",
              "      <td>...</td>\n",
              "      <td>...</td>\n",
              "      <td>...</td>\n",
              "      <td>...</td>\n",
              "      <td>...</td>\n",
              "      <td>...</td>\n",
              "      <td>...</td>\n",
              "      <td>...</td>\n",
              "    </tr>\n",
              "    <tr>\n",
              "      <th>6492</th>\n",
              "      <td>red</td>\n",
              "      <td>6.2</td>\n",
              "      <td>0.600</td>\n",
              "      <td>0.08</td>\n",
              "      <td>2.0</td>\n",
              "      <td>0.090</td>\n",
              "      <td>32.0</td>\n",
              "      <td>44.0</td>\n",
              "      <td>0.99490</td>\n",
              "      <td>3.45</td>\n",
              "      <td>0.58</td>\n",
              "      <td>10.5</td>\n",
              "      <td>5</td>\n",
              "    </tr>\n",
              "    <tr>\n",
              "      <th>6493</th>\n",
              "      <td>red</td>\n",
              "      <td>5.9</td>\n",
              "      <td>0.550</td>\n",
              "      <td>0.10</td>\n",
              "      <td>2.2</td>\n",
              "      <td>0.062</td>\n",
              "      <td>39.0</td>\n",
              "      <td>51.0</td>\n",
              "      <td>0.99512</td>\n",
              "      <td>3.52</td>\n",
              "      <td>NaN</td>\n",
              "      <td>11.2</td>\n",
              "      <td>6</td>\n",
              "    </tr>\n",
              "    <tr>\n",
              "      <th>6494</th>\n",
              "      <td>red</td>\n",
              "      <td>6.3</td>\n",
              "      <td>0.510</td>\n",
              "      <td>0.13</td>\n",
              "      <td>2.3</td>\n",
              "      <td>0.076</td>\n",
              "      <td>29.0</td>\n",
              "      <td>40.0</td>\n",
              "      <td>0.99574</td>\n",
              "      <td>3.42</td>\n",
              "      <td>0.75</td>\n",
              "      <td>11.0</td>\n",
              "      <td>6</td>\n",
              "    </tr>\n",
              "    <tr>\n",
              "      <th>6495</th>\n",
              "      <td>red</td>\n",
              "      <td>5.9</td>\n",
              "      <td>0.645</td>\n",
              "      <td>0.12</td>\n",
              "      <td>2.0</td>\n",
              "      <td>0.075</td>\n",
              "      <td>32.0</td>\n",
              "      <td>44.0</td>\n",
              "      <td>0.99547</td>\n",
              "      <td>3.57</td>\n",
              "      <td>0.71</td>\n",
              "      <td>10.2</td>\n",
              "      <td>5</td>\n",
              "    </tr>\n",
              "    <tr>\n",
              "      <th>6496</th>\n",
              "      <td>red</td>\n",
              "      <td>6.0</td>\n",
              "      <td>0.310</td>\n",
              "      <td>0.47</td>\n",
              "      <td>3.6</td>\n",
              "      <td>0.067</td>\n",
              "      <td>18.0</td>\n",
              "      <td>42.0</td>\n",
              "      <td>0.99549</td>\n",
              "      <td>3.39</td>\n",
              "      <td>0.66</td>\n",
              "      <td>11.0</td>\n",
              "      <td>6</td>\n",
              "    </tr>\n",
              "  </tbody>\n",
              "</table>\n",
              "<p>4974 rows × 13 columns</p>\n",
              "</div>\n",
              "      <button class=\"colab-df-convert\" onclick=\"convertToInteractive('df-aca11d41-5f68-46ea-8d32-5e4bc16e024c')\"\n",
              "              title=\"Convert this dataframe to an interactive table.\"\n",
              "              style=\"display:none;\">\n",
              "        \n",
              "  <svg xmlns=\"http://www.w3.org/2000/svg\" height=\"24px\"viewBox=\"0 0 24 24\"\n",
              "       width=\"24px\">\n",
              "    <path d=\"M0 0h24v24H0V0z\" fill=\"none\"/>\n",
              "    <path d=\"M18.56 5.44l.94 2.06.94-2.06 2.06-.94-2.06-.94-.94-2.06-.94 2.06-2.06.94zm-11 1L8.5 8.5l.94-2.06 2.06-.94-2.06-.94L8.5 2.5l-.94 2.06-2.06.94zm10 10l.94 2.06.94-2.06 2.06-.94-2.06-.94-.94-2.06-.94 2.06-2.06.94z\"/><path d=\"M17.41 7.96l-1.37-1.37c-.4-.4-.92-.59-1.43-.59-.52 0-1.04.2-1.43.59L10.3 9.45l-7.72 7.72c-.78.78-.78 2.05 0 2.83L4 21.41c.39.39.9.59 1.41.59.51 0 1.02-.2 1.41-.59l7.78-7.78 2.81-2.81c.8-.78.8-2.07 0-2.86zM5.41 20L4 18.59l7.72-7.72 1.47 1.35L5.41 20z\"/>\n",
              "  </svg>\n",
              "      </button>\n",
              "      \n",
              "  <style>\n",
              "    .colab-df-container {\n",
              "      display:flex;\n",
              "      flex-wrap:wrap;\n",
              "      gap: 12px;\n",
              "    }\n",
              "\n",
              "    .colab-df-convert {\n",
              "      background-color: #E8F0FE;\n",
              "      border: none;\n",
              "      border-radius: 50%;\n",
              "      cursor: pointer;\n",
              "      display: none;\n",
              "      fill: #1967D2;\n",
              "      height: 32px;\n",
              "      padding: 0 0 0 0;\n",
              "      width: 32px;\n",
              "    }\n",
              "\n",
              "    .colab-df-convert:hover {\n",
              "      background-color: #E2EBFA;\n",
              "      box-shadow: 0px 1px 2px rgba(60, 64, 67, 0.3), 0px 1px 3px 1px rgba(60, 64, 67, 0.15);\n",
              "      fill: #174EA6;\n",
              "    }\n",
              "\n",
              "    [theme=dark] .colab-df-convert {\n",
              "      background-color: #3B4455;\n",
              "      fill: #D2E3FC;\n",
              "    }\n",
              "\n",
              "    [theme=dark] .colab-df-convert:hover {\n",
              "      background-color: #434B5C;\n",
              "      box-shadow: 0px 1px 3px 1px rgba(0, 0, 0, 0.15);\n",
              "      filter: drop-shadow(0px 1px 2px rgba(0, 0, 0, 0.3));\n",
              "      fill: #FFFFFF;\n",
              "    }\n",
              "  </style>\n",
              "\n",
              "      <script>\n",
              "        const buttonEl =\n",
              "          document.querySelector('#df-aca11d41-5f68-46ea-8d32-5e4bc16e024c button.colab-df-convert');\n",
              "        buttonEl.style.display =\n",
              "          google.colab.kernel.accessAllowed ? 'block' : 'none';\n",
              "\n",
              "        async function convertToInteractive(key) {\n",
              "          const element = document.querySelector('#df-aca11d41-5f68-46ea-8d32-5e4bc16e024c');\n",
              "          const dataTable =\n",
              "            await google.colab.kernel.invokeFunction('convertToInteractive',\n",
              "                                                     [key], {});\n",
              "          if (!dataTable) return;\n",
              "\n",
              "          const docLinkHtml = 'Like what you see? Visit the ' +\n",
              "            '<a target=\"_blank\" href=https://colab.research.google.com/notebooks/data_table.ipynb>data table notebook</a>'\n",
              "            + ' to learn more about interactive tables.';\n",
              "          element.innerHTML = '';\n",
              "          dataTable['output_type'] = 'display_data';\n",
              "          await google.colab.output.renderOutput(dataTable, element);\n",
              "          const docLink = document.createElement('div');\n",
              "          docLink.innerHTML = docLinkHtml;\n",
              "          element.appendChild(docLink);\n",
              "        }\n",
              "      </script>\n",
              "    </div>\n",
              "  </div>\n",
              "  "
            ],
            "text/plain": [
              "       type  fixed acidity  volatile acidity  ...  sulphates  alcohol  quality\n",
              "0     white            7.0             0.270  ...       0.45      8.8        6\n",
              "1     white            6.3             0.300  ...       0.49      9.5        6\n",
              "2     white            8.1             0.280  ...       0.44     10.1        6\n",
              "3     white            7.2             0.230  ...       0.40      9.9        6\n",
              "4     white            7.2             0.230  ...       0.40      9.9        6\n",
              "...     ...            ...               ...  ...        ...      ...      ...\n",
              "6492    red            6.2             0.600  ...       0.58     10.5        5\n",
              "6493    red            5.9             0.550  ...        NaN     11.2        6\n",
              "6494    red            6.3             0.510  ...       0.75     11.0        6\n",
              "6495    red            5.9             0.645  ...       0.71     10.2        5\n",
              "6496    red            6.0             0.310  ...       0.66     11.0        6\n",
              "\n",
              "[4974 rows x 13 columns]"
            ]
          },
          "metadata": {},
          "execution_count": 929
        }
      ]
    },
    {
      "cell_type": "markdown",
      "id": "9740162c",
      "metadata": {
        "id": "9740162c"
      },
      "source": [
        "# Основные характеристики данных"
      ]
    },
    {
      "cell_type": "markdown",
      "id": "0af80257",
      "metadata": {
        "id": "0af80257"
      },
      "source": [
        "Основные числое характеристики:"
      ]
    },
    {
      "cell_type": "code",
      "execution_count": 930,
      "id": "7c425fe8",
      "metadata": {
        "colab": {
          "base_uri": "https://localhost:8080/",
          "height": 0
        },
        "id": "7c425fe8",
        "outputId": "ac52a6dd-33bf-435b-837d-c8c13deed32e"
      },
      "outputs": [
        {
          "output_type": "execute_result",
          "data": {
            "text/html": [
              "\n",
              "  <div id=\"df-0e5240fe-f3bd-446d-ba75-c04b5f42d838\">\n",
              "    <div class=\"colab-df-container\">\n",
              "      <div>\n",
              "<style scoped>\n",
              "    .dataframe tbody tr th:only-of-type {\n",
              "        vertical-align: middle;\n",
              "    }\n",
              "\n",
              "    .dataframe tbody tr th {\n",
              "        vertical-align: top;\n",
              "    }\n",
              "\n",
              "    .dataframe thead th {\n",
              "        text-align: right;\n",
              "    }\n",
              "</style>\n",
              "<table border=\"1\" class=\"dataframe\">\n",
              "  <thead>\n",
              "    <tr style=\"text-align: right;\">\n",
              "      <th></th>\n",
              "      <th>fixed acidity</th>\n",
              "      <th>volatile acidity</th>\n",
              "      <th>citric acid</th>\n",
              "      <th>residual sugar</th>\n",
              "      <th>chlorides</th>\n",
              "      <th>free sulfur dioxide</th>\n",
              "      <th>total sulfur dioxide</th>\n",
              "      <th>density</th>\n",
              "      <th>pH</th>\n",
              "      <th>sulphates</th>\n",
              "      <th>alcohol</th>\n",
              "      <th>quality</th>\n",
              "    </tr>\n",
              "  </thead>\n",
              "  <tbody>\n",
              "    <tr>\n",
              "      <th>count</th>\n",
              "      <td>4965.000000</td>\n",
              "      <td>4968.000000</td>\n",
              "      <td>4971.000000</td>\n",
              "      <td>4973.000000</td>\n",
              "      <td>4973.000000</td>\n",
              "      <td>4974.000000</td>\n",
              "      <td>4974.000000</td>\n",
              "      <td>4974.000000</td>\n",
              "      <td>4967.000000</td>\n",
              "      <td>4971.000000</td>\n",
              "      <td>4974.000000</td>\n",
              "      <td>4974.000000</td>\n",
              "    </tr>\n",
              "    <tr>\n",
              "      <th>mean</th>\n",
              "      <td>7.243041</td>\n",
              "      <td>0.346423</td>\n",
              "      <td>0.316880</td>\n",
              "      <td>5.659924</td>\n",
              "      <td>0.058681</td>\n",
              "      <td>30.766285</td>\n",
              "      <td>117.744069</td>\n",
              "      <td>0.995113</td>\n",
              "      <td>3.215269</td>\n",
              "      <td>0.529865</td>\n",
              "      <td>10.265275</td>\n",
              "      <td>5.570165</td>\n",
              "    </tr>\n",
              "    <tr>\n",
              "      <th>std</th>\n",
              "      <td>1.280200</td>\n",
              "      <td>0.165673</td>\n",
              "      <td>0.150596</td>\n",
              "      <td>4.935363</td>\n",
              "      <td>0.036438</td>\n",
              "      <td>17.604133</td>\n",
              "      <td>57.861460</td>\n",
              "      <td>0.002867</td>\n",
              "      <td>0.159417</td>\n",
              "      <td>0.144597</td>\n",
              "      <td>1.070626</td>\n",
              "      <td>0.495102</td>\n",
              "    </tr>\n",
              "    <tr>\n",
              "      <th>min</th>\n",
              "      <td>3.800000</td>\n",
              "      <td>0.080000</td>\n",
              "      <td>0.000000</td>\n",
              "      <td>0.600000</td>\n",
              "      <td>0.009000</td>\n",
              "      <td>1.000000</td>\n",
              "      <td>6.000000</td>\n",
              "      <td>0.987220</td>\n",
              "      <td>2.720000</td>\n",
              "      <td>0.230000</td>\n",
              "      <td>8.000000</td>\n",
              "      <td>5.000000</td>\n",
              "    </tr>\n",
              "    <tr>\n",
              "      <th>25%</th>\n",
              "      <td>6.400000</td>\n",
              "      <td>0.230000</td>\n",
              "      <td>0.240000</td>\n",
              "      <td>1.800000</td>\n",
              "      <td>0.040000</td>\n",
              "      <td>17.000000</td>\n",
              "      <td>76.000000</td>\n",
              "      <td>0.992992</td>\n",
              "      <td>3.110000</td>\n",
              "      <td>0.440000</td>\n",
              "      <td>9.400000</td>\n",
              "      <td>5.000000</td>\n",
              "    </tr>\n",
              "    <tr>\n",
              "      <th>50%</th>\n",
              "      <td>7.000000</td>\n",
              "      <td>0.300000</td>\n",
              "      <td>0.310000</td>\n",
              "      <td>3.100000</td>\n",
              "      <td>0.049000</td>\n",
              "      <td>29.000000</td>\n",
              "      <td>121.000000</td>\n",
              "      <td>0.995400</td>\n",
              "      <td>3.200000</td>\n",
              "      <td>0.510000</td>\n",
              "      <td>10.000000</td>\n",
              "      <td>6.000000</td>\n",
              "    </tr>\n",
              "    <tr>\n",
              "      <th>75%</th>\n",
              "      <td>7.700000</td>\n",
              "      <td>0.420000</td>\n",
              "      <td>0.400000</td>\n",
              "      <td>8.500000</td>\n",
              "      <td>0.070000</td>\n",
              "      <td>42.000000</td>\n",
              "      <td>160.000000</td>\n",
              "      <td>0.997200</td>\n",
              "      <td>3.320000</td>\n",
              "      <td>0.600000</td>\n",
              "      <td>11.000000</td>\n",
              "      <td>6.000000</td>\n",
              "    </tr>\n",
              "    <tr>\n",
              "      <th>max</th>\n",
              "      <td>15.900000</td>\n",
              "      <td>1.330000</td>\n",
              "      <td>1.660000</td>\n",
              "      <td>65.800000</td>\n",
              "      <td>0.611000</td>\n",
              "      <td>131.000000</td>\n",
              "      <td>344.000000</td>\n",
              "      <td>1.038980</td>\n",
              "      <td>4.010000</td>\n",
              "      <td>1.980000</td>\n",
              "      <td>14.900000</td>\n",
              "      <td>6.000000</td>\n",
              "    </tr>\n",
              "  </tbody>\n",
              "</table>\n",
              "</div>\n",
              "      <button class=\"colab-df-convert\" onclick=\"convertToInteractive('df-0e5240fe-f3bd-446d-ba75-c04b5f42d838')\"\n",
              "              title=\"Convert this dataframe to an interactive table.\"\n",
              "              style=\"display:none;\">\n",
              "        \n",
              "  <svg xmlns=\"http://www.w3.org/2000/svg\" height=\"24px\"viewBox=\"0 0 24 24\"\n",
              "       width=\"24px\">\n",
              "    <path d=\"M0 0h24v24H0V0z\" fill=\"none\"/>\n",
              "    <path d=\"M18.56 5.44l.94 2.06.94-2.06 2.06-.94-2.06-.94-.94-2.06-.94 2.06-2.06.94zm-11 1L8.5 8.5l.94-2.06 2.06-.94-2.06-.94L8.5 2.5l-.94 2.06-2.06.94zm10 10l.94 2.06.94-2.06 2.06-.94-2.06-.94-.94-2.06-.94 2.06-2.06.94z\"/><path d=\"M17.41 7.96l-1.37-1.37c-.4-.4-.92-.59-1.43-.59-.52 0-1.04.2-1.43.59L10.3 9.45l-7.72 7.72c-.78.78-.78 2.05 0 2.83L4 21.41c.39.39.9.59 1.41.59.51 0 1.02-.2 1.41-.59l7.78-7.78 2.81-2.81c.8-.78.8-2.07 0-2.86zM5.41 20L4 18.59l7.72-7.72 1.47 1.35L5.41 20z\"/>\n",
              "  </svg>\n",
              "      </button>\n",
              "      \n",
              "  <style>\n",
              "    .colab-df-container {\n",
              "      display:flex;\n",
              "      flex-wrap:wrap;\n",
              "      gap: 12px;\n",
              "    }\n",
              "\n",
              "    .colab-df-convert {\n",
              "      background-color: #E8F0FE;\n",
              "      border: none;\n",
              "      border-radius: 50%;\n",
              "      cursor: pointer;\n",
              "      display: none;\n",
              "      fill: #1967D2;\n",
              "      height: 32px;\n",
              "      padding: 0 0 0 0;\n",
              "      width: 32px;\n",
              "    }\n",
              "\n",
              "    .colab-df-convert:hover {\n",
              "      background-color: #E2EBFA;\n",
              "      box-shadow: 0px 1px 2px rgba(60, 64, 67, 0.3), 0px 1px 3px 1px rgba(60, 64, 67, 0.15);\n",
              "      fill: #174EA6;\n",
              "    }\n",
              "\n",
              "    [theme=dark] .colab-df-convert {\n",
              "      background-color: #3B4455;\n",
              "      fill: #D2E3FC;\n",
              "    }\n",
              "\n",
              "    [theme=dark] .colab-df-convert:hover {\n",
              "      background-color: #434B5C;\n",
              "      box-shadow: 0px 1px 3px 1px rgba(0, 0, 0, 0.15);\n",
              "      filter: drop-shadow(0px 1px 2px rgba(0, 0, 0, 0.3));\n",
              "      fill: #FFFFFF;\n",
              "    }\n",
              "  </style>\n",
              "\n",
              "      <script>\n",
              "        const buttonEl =\n",
              "          document.querySelector('#df-0e5240fe-f3bd-446d-ba75-c04b5f42d838 button.colab-df-convert');\n",
              "        buttonEl.style.display =\n",
              "          google.colab.kernel.accessAllowed ? 'block' : 'none';\n",
              "\n",
              "        async function convertToInteractive(key) {\n",
              "          const element = document.querySelector('#df-0e5240fe-f3bd-446d-ba75-c04b5f42d838');\n",
              "          const dataTable =\n",
              "            await google.colab.kernel.invokeFunction('convertToInteractive',\n",
              "                                                     [key], {});\n",
              "          if (!dataTable) return;\n",
              "\n",
              "          const docLinkHtml = 'Like what you see? Visit the ' +\n",
              "            '<a target=\"_blank\" href=https://colab.research.google.com/notebooks/data_table.ipynb>data table notebook</a>'\n",
              "            + ' to learn more about interactive tables.';\n",
              "          element.innerHTML = '';\n",
              "          dataTable['output_type'] = 'display_data';\n",
              "          await google.colab.output.renderOutput(dataTable, element);\n",
              "          const docLink = document.createElement('div');\n",
              "          docLink.innerHTML = docLinkHtml;\n",
              "          element.appendChild(docLink);\n",
              "        }\n",
              "      </script>\n",
              "    </div>\n",
              "  </div>\n",
              "  "
            ],
            "text/plain": [
              "       fixed acidity  volatile acidity  ...      alcohol      quality\n",
              "count    4965.000000       4968.000000  ...  4974.000000  4974.000000\n",
              "mean        7.243041          0.346423  ...    10.265275     5.570165\n",
              "std         1.280200          0.165673  ...     1.070626     0.495102\n",
              "min         3.800000          0.080000  ...     8.000000     5.000000\n",
              "25%         6.400000          0.230000  ...     9.400000     5.000000\n",
              "50%         7.000000          0.300000  ...    10.000000     6.000000\n",
              "75%         7.700000          0.420000  ...    11.000000     6.000000\n",
              "max        15.900000          1.330000  ...    14.900000     6.000000\n",
              "\n",
              "[8 rows x 12 columns]"
            ]
          },
          "metadata": {},
          "execution_count": 930
        }
      ],
      "source": [
        "given_data.describe()"
      ]
    },
    {
      "cell_type": "markdown",
      "id": "4209e6c7",
      "metadata": {
        "id": "4209e6c7"
      },
      "source": [
        "Таблица корреляции:"
      ]
    },
    {
      "cell_type": "code",
      "execution_count": 931,
      "id": "9f76d2d7",
      "metadata": {
        "colab": {
          "base_uri": "https://localhost:8080/",
          "height": 0
        },
        "id": "9f76d2d7",
        "outputId": "40224490-1416-4549-acfe-216094938959"
      },
      "outputs": [
        {
          "output_type": "execute_result",
          "data": {
            "text/html": [
              "\n",
              "  <div id=\"df-ec860ee6-ac78-4218-a34b-e0c93bcc495e\">\n",
              "    <div class=\"colab-df-container\">\n",
              "      <div>\n",
              "<style scoped>\n",
              "    .dataframe tbody tr th:only-of-type {\n",
              "        vertical-align: middle;\n",
              "    }\n",
              "\n",
              "    .dataframe tbody tr th {\n",
              "        vertical-align: top;\n",
              "    }\n",
              "\n",
              "    .dataframe thead th {\n",
              "        text-align: right;\n",
              "    }\n",
              "</style>\n",
              "<table border=\"1\" class=\"dataframe\">\n",
              "  <thead>\n",
              "    <tr style=\"text-align: right;\">\n",
              "      <th></th>\n",
              "      <th>fixed acidity</th>\n",
              "      <th>volatile acidity</th>\n",
              "      <th>citric acid</th>\n",
              "      <th>residual sugar</th>\n",
              "      <th>chlorides</th>\n",
              "      <th>free sulfur dioxide</th>\n",
              "      <th>total sulfur dioxide</th>\n",
              "      <th>density</th>\n",
              "      <th>pH</th>\n",
              "      <th>sulphates</th>\n",
              "      <th>alcohol</th>\n",
              "      <th>quality</th>\n",
              "    </tr>\n",
              "  </thead>\n",
              "  <tbody>\n",
              "    <tr>\n",
              "      <th>fixed acidity</th>\n",
              "      <td>1.000000</td>\n",
              "      <td>0.245779</td>\n",
              "      <td>0.288985</td>\n",
              "      <td>-0.147009</td>\n",
              "      <td>0.277968</td>\n",
              "      <td>-0.292979</td>\n",
              "      <td>-0.335543</td>\n",
              "      <td>0.425819</td>\n",
              "      <td>-0.227387</td>\n",
              "      <td>0.303852</td>\n",
              "      <td>-0.040127</td>\n",
              "      <td>-0.058514</td>\n",
              "    </tr>\n",
              "    <tr>\n",
              "      <th>volatile acidity</th>\n",
              "      <td>0.245779</td>\n",
              "      <td>1.000000</td>\n",
              "      <td>-0.382587</td>\n",
              "      <td>-0.218822</td>\n",
              "      <td>0.385146</td>\n",
              "      <td>-0.368782</td>\n",
              "      <td>-0.439717</td>\n",
              "      <td>0.293125</td>\n",
              "      <td>0.274866</td>\n",
              "      <td>0.266959</td>\n",
              "      <td>-0.049147</td>\n",
              "      <td>-0.227241</td>\n",
              "    </tr>\n",
              "    <tr>\n",
              "      <th>citric acid</th>\n",
              "      <td>0.288985</td>\n",
              "      <td>-0.382587</td>\n",
              "      <td>1.000000</td>\n",
              "      <td>0.159680</td>\n",
              "      <td>0.026121</td>\n",
              "      <td>0.154748</td>\n",
              "      <td>0.229476</td>\n",
              "      <td>0.087842</td>\n",
              "      <td>-0.339325</td>\n",
              "      <td>0.029711</td>\n",
              "      <td>-0.020798</td>\n",
              "      <td>0.052817</td>\n",
              "    </tr>\n",
              "    <tr>\n",
              "      <th>residual sugar</th>\n",
              "      <td>-0.147009</td>\n",
              "      <td>-0.218822</td>\n",
              "      <td>0.159680</td>\n",
              "      <td>1.000000</td>\n",
              "      <td>-0.165767</td>\n",
              "      <td>0.453919</td>\n",
              "      <td>0.504631</td>\n",
              "      <td>0.559895</td>\n",
              "      <td>-0.248945</td>\n",
              "      <td>-0.184880</td>\n",
              "      <td>-0.356440</td>\n",
              "      <td>-0.025374</td>\n",
              "    </tr>\n",
              "    <tr>\n",
              "      <th>chlorides</th>\n",
              "      <td>0.277968</td>\n",
              "      <td>0.385146</td>\n",
              "      <td>0.026121</td>\n",
              "      <td>-0.165767</td>\n",
              "      <td>1.000000</td>\n",
              "      <td>-0.198275</td>\n",
              "      <td>-0.293608</td>\n",
              "      <td>0.308413</td>\n",
              "      <td>0.056817</td>\n",
              "      <td>0.405628</td>\n",
              "      <td>-0.211621</td>\n",
              "      <td>-0.142649</td>\n",
              "    </tr>\n",
              "    <tr>\n",
              "      <th>free sulfur dioxide</th>\n",
              "      <td>-0.292979</td>\n",
              "      <td>-0.368782</td>\n",
              "      <td>0.154748</td>\n",
              "      <td>0.453919</td>\n",
              "      <td>-0.198275</td>\n",
              "      <td>1.000000</td>\n",
              "      <td>0.733103</td>\n",
              "      <td>0.060922</td>\n",
              "      <td>-0.174936</td>\n",
              "      <td>-0.220145</td>\n",
              "      <td>-0.219735</td>\n",
              "      <td>0.026089</td>\n",
              "    </tr>\n",
              "    <tr>\n",
              "      <th>total sulfur dioxide</th>\n",
              "      <td>-0.335543</td>\n",
              "      <td>-0.439717</td>\n",
              "      <td>0.229476</td>\n",
              "      <td>0.504631</td>\n",
              "      <td>-0.293608</td>\n",
              "      <td>0.733103</td>\n",
              "      <td>1.000000</td>\n",
              "      <td>0.026404</td>\n",
              "      <td>-0.259041</td>\n",
              "      <td>-0.268465</td>\n",
              "      <td>-0.267935</td>\n",
              "      <td>-0.046448</td>\n",
              "    </tr>\n",
              "    <tr>\n",
              "      <th>density</th>\n",
              "      <td>0.425819</td>\n",
              "      <td>0.293125</td>\n",
              "      <td>0.087842</td>\n",
              "      <td>0.559895</td>\n",
              "      <td>0.308413</td>\n",
              "      <td>0.060922</td>\n",
              "      <td>0.026404</td>\n",
              "      <td>1.000000</td>\n",
              "      <td>0.052646</td>\n",
              "      <td>0.273445</td>\n",
              "      <td>-0.641054</td>\n",
              "      <td>-0.222920</td>\n",
              "    </tr>\n",
              "    <tr>\n",
              "      <th>pH</th>\n",
              "      <td>-0.227387</td>\n",
              "      <td>0.274866</td>\n",
              "      <td>-0.339325</td>\n",
              "      <td>-0.248945</td>\n",
              "      <td>0.056817</td>\n",
              "      <td>-0.174936</td>\n",
              "      <td>-0.259041</td>\n",
              "      <td>0.052646</td>\n",
              "      <td>1.000000</td>\n",
              "      <td>0.188407</td>\n",
              "      <td>0.109301</td>\n",
              "      <td>0.017576</td>\n",
              "    </tr>\n",
              "    <tr>\n",
              "      <th>sulphates</th>\n",
              "      <td>0.303852</td>\n",
              "      <td>0.266959</td>\n",
              "      <td>0.029711</td>\n",
              "      <td>-0.184880</td>\n",
              "      <td>0.405628</td>\n",
              "      <td>-0.220145</td>\n",
              "      <td>-0.268465</td>\n",
              "      <td>0.273445</td>\n",
              "      <td>0.188407</td>\n",
              "      <td>1.000000</td>\n",
              "      <td>-0.015696</td>\n",
              "      <td>0.020719</td>\n",
              "    </tr>\n",
              "    <tr>\n",
              "      <th>alcohol</th>\n",
              "      <td>-0.040127</td>\n",
              "      <td>-0.049147</td>\n",
              "      <td>-0.020798</td>\n",
              "      <td>-0.356440</td>\n",
              "      <td>-0.211621</td>\n",
              "      <td>-0.219735</td>\n",
              "      <td>-0.267935</td>\n",
              "      <td>-0.641054</td>\n",
              "      <td>0.109301</td>\n",
              "      <td>-0.015696</td>\n",
              "      <td>1.000000</td>\n",
              "      <td>0.346725</td>\n",
              "    </tr>\n",
              "    <tr>\n",
              "      <th>quality</th>\n",
              "      <td>-0.058514</td>\n",
              "      <td>-0.227241</td>\n",
              "      <td>0.052817</td>\n",
              "      <td>-0.025374</td>\n",
              "      <td>-0.142649</td>\n",
              "      <td>0.026089</td>\n",
              "      <td>-0.046448</td>\n",
              "      <td>-0.222920</td>\n",
              "      <td>0.017576</td>\n",
              "      <td>0.020719</td>\n",
              "      <td>0.346725</td>\n",
              "      <td>1.000000</td>\n",
              "    </tr>\n",
              "  </tbody>\n",
              "</table>\n",
              "</div>\n",
              "      <button class=\"colab-df-convert\" onclick=\"convertToInteractive('df-ec860ee6-ac78-4218-a34b-e0c93bcc495e')\"\n",
              "              title=\"Convert this dataframe to an interactive table.\"\n",
              "              style=\"display:none;\">\n",
              "        \n",
              "  <svg xmlns=\"http://www.w3.org/2000/svg\" height=\"24px\"viewBox=\"0 0 24 24\"\n",
              "       width=\"24px\">\n",
              "    <path d=\"M0 0h24v24H0V0z\" fill=\"none\"/>\n",
              "    <path d=\"M18.56 5.44l.94 2.06.94-2.06 2.06-.94-2.06-.94-.94-2.06-.94 2.06-2.06.94zm-11 1L8.5 8.5l.94-2.06 2.06-.94-2.06-.94L8.5 2.5l-.94 2.06-2.06.94zm10 10l.94 2.06.94-2.06 2.06-.94-2.06-.94-.94-2.06-.94 2.06-2.06.94z\"/><path d=\"M17.41 7.96l-1.37-1.37c-.4-.4-.92-.59-1.43-.59-.52 0-1.04.2-1.43.59L10.3 9.45l-7.72 7.72c-.78.78-.78 2.05 0 2.83L4 21.41c.39.39.9.59 1.41.59.51 0 1.02-.2 1.41-.59l7.78-7.78 2.81-2.81c.8-.78.8-2.07 0-2.86zM5.41 20L4 18.59l7.72-7.72 1.47 1.35L5.41 20z\"/>\n",
              "  </svg>\n",
              "      </button>\n",
              "      \n",
              "  <style>\n",
              "    .colab-df-container {\n",
              "      display:flex;\n",
              "      flex-wrap:wrap;\n",
              "      gap: 12px;\n",
              "    }\n",
              "\n",
              "    .colab-df-convert {\n",
              "      background-color: #E8F0FE;\n",
              "      border: none;\n",
              "      border-radius: 50%;\n",
              "      cursor: pointer;\n",
              "      display: none;\n",
              "      fill: #1967D2;\n",
              "      height: 32px;\n",
              "      padding: 0 0 0 0;\n",
              "      width: 32px;\n",
              "    }\n",
              "\n",
              "    .colab-df-convert:hover {\n",
              "      background-color: #E2EBFA;\n",
              "      box-shadow: 0px 1px 2px rgba(60, 64, 67, 0.3), 0px 1px 3px 1px rgba(60, 64, 67, 0.15);\n",
              "      fill: #174EA6;\n",
              "    }\n",
              "\n",
              "    [theme=dark] .colab-df-convert {\n",
              "      background-color: #3B4455;\n",
              "      fill: #D2E3FC;\n",
              "    }\n",
              "\n",
              "    [theme=dark] .colab-df-convert:hover {\n",
              "      background-color: #434B5C;\n",
              "      box-shadow: 0px 1px 3px 1px rgba(0, 0, 0, 0.15);\n",
              "      filter: drop-shadow(0px 1px 2px rgba(0, 0, 0, 0.3));\n",
              "      fill: #FFFFFF;\n",
              "    }\n",
              "  </style>\n",
              "\n",
              "      <script>\n",
              "        const buttonEl =\n",
              "          document.querySelector('#df-ec860ee6-ac78-4218-a34b-e0c93bcc495e button.colab-df-convert');\n",
              "        buttonEl.style.display =\n",
              "          google.colab.kernel.accessAllowed ? 'block' : 'none';\n",
              "\n",
              "        async function convertToInteractive(key) {\n",
              "          const element = document.querySelector('#df-ec860ee6-ac78-4218-a34b-e0c93bcc495e');\n",
              "          const dataTable =\n",
              "            await google.colab.kernel.invokeFunction('convertToInteractive',\n",
              "                                                     [key], {});\n",
              "          if (!dataTable) return;\n",
              "\n",
              "          const docLinkHtml = 'Like what you see? Visit the ' +\n",
              "            '<a target=\"_blank\" href=https://colab.research.google.com/notebooks/data_table.ipynb>data table notebook</a>'\n",
              "            + ' to learn more about interactive tables.';\n",
              "          element.innerHTML = '';\n",
              "          dataTable['output_type'] = 'display_data';\n",
              "          await google.colab.output.renderOutput(dataTable, element);\n",
              "          const docLink = document.createElement('div');\n",
              "          docLink.innerHTML = docLinkHtml;\n",
              "          element.appendChild(docLink);\n",
              "        }\n",
              "      </script>\n",
              "    </div>\n",
              "  </div>\n",
              "  "
            ],
            "text/plain": [
              "                      fixed acidity  volatile acidity  ...   alcohol   quality\n",
              "fixed acidity              1.000000          0.245779  ... -0.040127 -0.058514\n",
              "volatile acidity           0.245779          1.000000  ... -0.049147 -0.227241\n",
              "citric acid                0.288985         -0.382587  ... -0.020798  0.052817\n",
              "residual sugar            -0.147009         -0.218822  ... -0.356440 -0.025374\n",
              "chlorides                  0.277968          0.385146  ... -0.211621 -0.142649\n",
              "free sulfur dioxide       -0.292979         -0.368782  ... -0.219735  0.026089\n",
              "total sulfur dioxide      -0.335543         -0.439717  ... -0.267935 -0.046448\n",
              "density                    0.425819          0.293125  ... -0.641054 -0.222920\n",
              "pH                        -0.227387          0.274866  ...  0.109301  0.017576\n",
              "sulphates                  0.303852          0.266959  ... -0.015696  0.020719\n",
              "alcohol                   -0.040127         -0.049147  ...  1.000000  0.346725\n",
              "quality                   -0.058514         -0.227241  ...  0.346725  1.000000\n",
              "\n",
              "[12 rows x 12 columns]"
            ]
          },
          "metadata": {},
          "execution_count": 931
        }
      ],
      "source": [
        "given_data.corr()"
      ]
    },
    {
      "cell_type": "markdown",
      "id": "c576e81c",
      "metadata": {
        "id": "c576e81c"
      },
      "source": [
        "с помощью `seaborn` библиотеки отобразим нагляднее корреляцию данных.\n",
        "\n",
        "воспользуемся маской `np_triu()`, чтобы исключить повторяющиеся ячейки."
      ]
    },
    {
      "cell_type": "code",
      "execution_count": 932,
      "id": "dabb3a6c",
      "metadata": {
        "colab": {
          "base_uri": "https://localhost:8080/",
          "height": 0
        },
        "id": "dabb3a6c",
        "outputId": "6f97d912-1b9b-4540-b222-89b5f90c842b"
      },
      "outputs": [
        {
          "output_type": "display_data",
          "data": {
            "image/png": "[encoded data removed]",
            "text/plain": [
              "<Figure size 432x288 with 2 Axes>"
            ]
          },
          "metadata": {
            "needs_background": "light"
          }
        }
      ],
      "source": [
        "import seaborn as sb\n",
        "mask = np.triu(given_data.corr())\n",
        "sb.heatmap(given_data.corr(), mask=mask, cmap='coolwarm')\n",
        "pass"
      ]
    },
    {
      "cell_type": "code",
      "execution_count": 933,
      "id": "bbcf8d4e",
      "metadata": {
        "colab": {
          "base_uri": "https://localhost:8080/",
          "height": 0
        },
        "id": "bbcf8d4e",
        "outputId": "6cb70f54-ea02-47d6-9703-45948d9aa034"
      },
      "outputs": [
        {
          "output_type": "display_data",
          "data": {
            "image/png": "[encoded data removed]",
            "text/plain": [
              "<Figure size 864x864 with 144 Axes>"
            ]
          },
          "metadata": {
            "needs_background": "light"
          }
        }
      ],
      "source": [
        "from pandas.plotting import scatter_matrix\n",
        "scatter_matrix(given_data, alpha = .01, figsize = (12, 12))\n",
        "pass"
      ]
    },
    {
      "cell_type": "markdown",
      "id": "5fc00bec",
      "metadata": {
        "id": "5fc00bec"
      },
      "source": [
        "# Есть пустые значения?"
      ]
    },
    {
      "cell_type": "markdown",
      "id": "6c5b781d",
      "metadata": {
        "id": "6c5b781d"
      },
      "source": [
        "Вопрос: есть ли пустые значения?"
      ]
    },
    {
      "cell_type": "code",
      "execution_count": 934,
      "id": "11fbdbe8",
      "metadata": {
        "colab": {
          "base_uri": "https://localhost:8080/",
          "height": 0
        },
        "id": "11fbdbe8",
        "outputId": "19cebf6a-142e-40c3-b285-e8121e7f8784"
      },
      "outputs": [
        {
          "output_type": "execute_result",
          "data": {
            "text/html": [
              "\n",
              "  <div id=\"df-08060a39-5627-46a3-b2b2-d65d3608374a\">\n",
              "    <div class=\"colab-df-container\">\n",
              "      <div>\n",
              "<style scoped>\n",
              "    .dataframe tbody tr th:only-of-type {\n",
              "        vertical-align: middle;\n",
              "    }\n",
              "\n",
              "    .dataframe tbody tr th {\n",
              "        vertical-align: top;\n",
              "    }\n",
              "\n",
              "    .dataframe thead th {\n",
              "        text-align: right;\n",
              "    }\n",
              "</style>\n",
              "<table border=\"1\" class=\"dataframe\">\n",
              "  <thead>\n",
              "    <tr style=\"text-align: right;\">\n",
              "      <th></th>\n",
              "      <th>type</th>\n",
              "      <th>fixed acidity</th>\n",
              "      <th>volatile acidity</th>\n",
              "      <th>citric acid</th>\n",
              "      <th>residual sugar</th>\n",
              "      <th>chlorides</th>\n",
              "      <th>free sulfur dioxide</th>\n",
              "      <th>total sulfur dioxide</th>\n",
              "      <th>density</th>\n",
              "      <th>pH</th>\n",
              "      <th>sulphates</th>\n",
              "      <th>alcohol</th>\n",
              "      <th>quality</th>\n",
              "    </tr>\n",
              "  </thead>\n",
              "  <tbody>\n",
              "    <tr>\n",
              "      <th>0</th>\n",
              "      <td>white</td>\n",
              "      <td>7.0</td>\n",
              "      <td>0.270</td>\n",
              "      <td>0.36</td>\n",
              "      <td>20.7</td>\n",
              "      <td>0.045</td>\n",
              "      <td>45.0</td>\n",
              "      <td>170.0</td>\n",
              "      <td>1.00100</td>\n",
              "      <td>3.00</td>\n",
              "      <td>0.45</td>\n",
              "      <td>8.8</td>\n",
              "      <td>6</td>\n",
              "    </tr>\n",
              "    <tr>\n",
              "      <th>1</th>\n",
              "      <td>white</td>\n",
              "      <td>6.3</td>\n",
              "      <td>0.300</td>\n",
              "      <td>0.34</td>\n",
              "      <td>1.6</td>\n",
              "      <td>0.049</td>\n",
              "      <td>14.0</td>\n",
              "      <td>132.0</td>\n",
              "      <td>0.99400</td>\n",
              "      <td>3.30</td>\n",
              "      <td>0.49</td>\n",
              "      <td>9.5</td>\n",
              "      <td>6</td>\n",
              "    </tr>\n",
              "    <tr>\n",
              "      <th>2</th>\n",
              "      <td>white</td>\n",
              "      <td>8.1</td>\n",
              "      <td>0.280</td>\n",
              "      <td>0.40</td>\n",
              "      <td>6.9</td>\n",
              "      <td>0.050</td>\n",
              "      <td>30.0</td>\n",
              "      <td>97.0</td>\n",
              "      <td>0.99510</td>\n",
              "      <td>3.26</td>\n",
              "      <td>0.44</td>\n",
              "      <td>10.1</td>\n",
              "      <td>6</td>\n",
              "    </tr>\n",
              "    <tr>\n",
              "      <th>3</th>\n",
              "      <td>white</td>\n",
              "      <td>7.2</td>\n",
              "      <td>0.230</td>\n",
              "      <td>0.32</td>\n",
              "      <td>8.5</td>\n",
              "      <td>0.058</td>\n",
              "      <td>47.0</td>\n",
              "      <td>186.0</td>\n",
              "      <td>0.99560</td>\n",
              "      <td>3.19</td>\n",
              "      <td>0.40</td>\n",
              "      <td>9.9</td>\n",
              "      <td>6</td>\n",
              "    </tr>\n",
              "    <tr>\n",
              "      <th>4</th>\n",
              "      <td>white</td>\n",
              "      <td>7.2</td>\n",
              "      <td>0.230</td>\n",
              "      <td>0.32</td>\n",
              "      <td>8.5</td>\n",
              "      <td>0.058</td>\n",
              "      <td>47.0</td>\n",
              "      <td>186.0</td>\n",
              "      <td>0.99560</td>\n",
              "      <td>3.19</td>\n",
              "      <td>0.40</td>\n",
              "      <td>9.9</td>\n",
              "      <td>6</td>\n",
              "    </tr>\n",
              "    <tr>\n",
              "      <th>...</th>\n",
              "      <td>...</td>\n",
              "      <td>...</td>\n",
              "      <td>...</td>\n",
              "      <td>...</td>\n",
              "      <td>...</td>\n",
              "      <td>...</td>\n",
              "      <td>...</td>\n",
              "      <td>...</td>\n",
              "      <td>...</td>\n",
              "      <td>...</td>\n",
              "      <td>...</td>\n",
              "      <td>...</td>\n",
              "      <td>...</td>\n",
              "    </tr>\n",
              "    <tr>\n",
              "      <th>6491</th>\n",
              "      <td>red</td>\n",
              "      <td>6.8</td>\n",
              "      <td>0.620</td>\n",
              "      <td>0.08</td>\n",
              "      <td>1.9</td>\n",
              "      <td>0.068</td>\n",
              "      <td>28.0</td>\n",
              "      <td>38.0</td>\n",
              "      <td>0.99651</td>\n",
              "      <td>3.42</td>\n",
              "      <td>0.82</td>\n",
              "      <td>9.5</td>\n",
              "      <td>6</td>\n",
              "    </tr>\n",
              "    <tr>\n",
              "      <th>6492</th>\n",
              "      <td>red</td>\n",
              "      <td>6.2</td>\n",
              "      <td>0.600</td>\n",
              "      <td>0.08</td>\n",
              "      <td>2.0</td>\n",
              "      <td>0.090</td>\n",
              "      <td>32.0</td>\n",
              "      <td>44.0</td>\n",
              "      <td>0.99490</td>\n",
              "      <td>3.45</td>\n",
              "      <td>0.58</td>\n",
              "      <td>10.5</td>\n",
              "      <td>5</td>\n",
              "    </tr>\n",
              "    <tr>\n",
              "      <th>6494</th>\n",
              "      <td>red</td>\n",
              "      <td>6.3</td>\n",
              "      <td>0.510</td>\n",
              "      <td>0.13</td>\n",
              "      <td>2.3</td>\n",
              "      <td>0.076</td>\n",
              "      <td>29.0</td>\n",
              "      <td>40.0</td>\n",
              "      <td>0.99574</td>\n",
              "      <td>3.42</td>\n",
              "      <td>0.75</td>\n",
              "      <td>11.0</td>\n",
              "      <td>6</td>\n",
              "    </tr>\n",
              "    <tr>\n",
              "      <th>6495</th>\n",
              "      <td>red</td>\n",
              "      <td>5.9</td>\n",
              "      <td>0.645</td>\n",
              "      <td>0.12</td>\n",
              "      <td>2.0</td>\n",
              "      <td>0.075</td>\n",
              "      <td>32.0</td>\n",
              "      <td>44.0</td>\n",
              "      <td>0.99547</td>\n",
              "      <td>3.57</td>\n",
              "      <td>0.71</td>\n",
              "      <td>10.2</td>\n",
              "      <td>5</td>\n",
              "    </tr>\n",
              "    <tr>\n",
              "      <th>6496</th>\n",
              "      <td>red</td>\n",
              "      <td>6.0</td>\n",
              "      <td>0.310</td>\n",
              "      <td>0.47</td>\n",
              "      <td>3.6</td>\n",
              "      <td>0.067</td>\n",
              "      <td>18.0</td>\n",
              "      <td>42.0</td>\n",
              "      <td>0.99549</td>\n",
              "      <td>3.39</td>\n",
              "      <td>0.66</td>\n",
              "      <td>11.0</td>\n",
              "      <td>6</td>\n",
              "    </tr>\n",
              "  </tbody>\n",
              "</table>\n",
              "<p>4948 rows × 13 columns</p>\n",
              "</div>\n",
              "      <button class=\"colab-df-convert\" onclick=\"convertToInteractive('df-08060a39-5627-46a3-b2b2-d65d3608374a')\"\n",
              "              title=\"Convert this dataframe to an interactive table.\"\n",
              "              style=\"display:none;\">\n",
              "        \n",
              "  <svg xmlns=\"http://www.w3.org/2000/svg\" height=\"24px\"viewBox=\"0 0 24 24\"\n",
              "       width=\"24px\">\n",
              "    <path d=\"M0 0h24v24H0V0z\" fill=\"none\"/>\n",
              "    <path d=\"M18.56 5.44l.94 2.06.94-2.06 2.06-.94-2.06-.94-.94-2.06-.94 2.06-2.06.94zm-11 1L8.5 8.5l.94-2.06 2.06-.94-2.06-.94L8.5 2.5l-.94 2.06-2.06.94zm10 10l.94 2.06.94-2.06 2.06-.94-2.06-.94-.94-2.06-.94 2.06-2.06.94z\"/><path d=\"M17.41 7.96l-1.37-1.37c-.4-.4-.92-.59-1.43-.59-.52 0-1.04.2-1.43.59L10.3 9.45l-7.72 7.72c-.78.78-.78 2.05 0 2.83L4 21.41c.39.39.9.59 1.41.59.51 0 1.02-.2 1.41-.59l7.78-7.78 2.81-2.81c.8-.78.8-2.07 0-2.86zM5.41 20L4 18.59l7.72-7.72 1.47 1.35L5.41 20z\"/>\n",
              "  </svg>\n",
              "      </button>\n",
              "      \n",
              "  <style>\n",
              "    .colab-df-container {\n",
              "      display:flex;\n",
              "      flex-wrap:wrap;\n",
              "      gap: 12px;\n",
              "    }\n",
              "\n",
              "    .colab-df-convert {\n",
              "      background-color: #E8F0FE;\n",
              "      border: none;\n",
              "      border-radius: 50%;\n",
              "      cursor: pointer;\n",
              "      display: none;\n",
              "      fill: #1967D2;\n",
              "      height: 32px;\n",
              "      padding: 0 0 0 0;\n",
              "      width: 32px;\n",
              "    }\n",
              "\n",
              "    .colab-df-convert:hover {\n",
              "      background-color: #E2EBFA;\n",
              "      box-shadow: 0px 1px 2px rgba(60, 64, 67, 0.3), 0px 1px 3px 1px rgba(60, 64, 67, 0.15);\n",
              "      fill: #174EA6;\n",
              "    }\n",
              "\n",
              "    [theme=dark] .colab-df-convert {\n",
              "      background-color: #3B4455;\n",
              "      fill: #D2E3FC;\n",
              "    }\n",
              "\n",
              "    [theme=dark] .colab-df-convert:hover {\n",
              "      background-color: #434B5C;\n",
              "      box-shadow: 0px 1px 3px 1px rgba(0, 0, 0, 0.15);\n",
              "      filter: drop-shadow(0px 1px 2px rgba(0, 0, 0, 0.3));\n",
              "      fill: #FFFFFF;\n",
              "    }\n",
              "  </style>\n",
              "\n",
              "      <script>\n",
              "        const buttonEl =\n",
              "          document.querySelector('#df-08060a39-5627-46a3-b2b2-d65d3608374a button.colab-df-convert');\n",
              "        buttonEl.style.display =\n",
              "          google.colab.kernel.accessAllowed ? 'block' : 'none';\n",
              "\n",
              "        async function convertToInteractive(key) {\n",
              "          const element = document.querySelector('#df-08060a39-5627-46a3-b2b2-d65d3608374a');\n",
              "          const dataTable =\n",
              "            await google.colab.kernel.invokeFunction('convertToInteractive',\n",
              "                                                     [key], {});\n",
              "          if (!dataTable) return;\n",
              "\n",
              "          const docLinkHtml = 'Like what you see? Visit the ' +\n",
              "            '<a target=\"_blank\" href=https://colab.research.google.com/notebooks/data_table.ipynb>data table notebook</a>'\n",
              "            + ' to learn more about interactive tables.';\n",
              "          element.innerHTML = '';\n",
              "          dataTable['output_type'] = 'display_data';\n",
              "          await google.colab.output.renderOutput(dataTable, element);\n",
              "          const docLink = document.createElement('div');\n",
              "          docLink.innerHTML = docLinkHtml;\n",
              "          element.appendChild(docLink);\n",
              "        }\n",
              "      </script>\n",
              "    </div>\n",
              "  </div>\n",
              "  "
            ],
            "text/plain": [
              "       type  fixed acidity  volatile acidity  ...  sulphates  alcohol  quality\n",
              "0     white            7.0             0.270  ...       0.45      8.8        6\n",
              "1     white            6.3             0.300  ...       0.49      9.5        6\n",
              "2     white            8.1             0.280  ...       0.44     10.1        6\n",
              "3     white            7.2             0.230  ...       0.40      9.9        6\n",
              "4     white            7.2             0.230  ...       0.40      9.9        6\n",
              "...     ...            ...               ...  ...        ...      ...      ...\n",
              "6491    red            6.8             0.620  ...       0.82      9.5        6\n",
              "6492    red            6.2             0.600  ...       0.58     10.5        5\n",
              "6494    red            6.3             0.510  ...       0.75     11.0        6\n",
              "6495    red            5.9             0.645  ...       0.71     10.2        5\n",
              "6496    red            6.0             0.310  ...       0.66     11.0        6\n",
              "\n",
              "[4948 rows x 13 columns]"
            ]
          },
          "metadata": {},
          "execution_count": 934
        }
      ],
      "source": [
        "given_data.dropna()"
      ]
    },
    {
      "cell_type": "code",
      "execution_count": 935,
      "id": "03e0fdde",
      "metadata": {
        "colab": {
          "base_uri": "https://localhost:8080/"
        },
        "id": "03e0fdde",
        "outputId": "fb10bf32-3865-4ad3-cb3c-40ce6efa4d77"
      },
      "outputs": [
        {
          "output_type": "stream",
          "name": "stdout",
          "text": [
            "(4974, 13)\n",
            "(4948, 13)\n"
          ]
        }
      ],
      "source": [
        "print(given_data.shape)\n",
        "print(given_data.dropna(axis = 0).shape)"
      ]
    },
    {
      "cell_type": "markdown",
      "id": "64b2696a",
      "metadata": {
        "id": "64b2696a"
      },
      "source": [
        "Видим, что ~30 строк было выкинуто. Значит, пустые значения есть. Обработаем пустые значения."
      ]
    },
    {
      "cell_type": "markdown",
      "id": "c90bd680",
      "metadata": {
        "id": "c90bd680"
      },
      "source": [
        "# Обработка пустых значений"
      ]
    },
    {
      "cell_type": "markdown",
      "id": "a5f9bbe3",
      "metadata": {
        "id": "a5f9bbe3"
      },
      "source": [
        "Найдем столбы для строковых данных `categorical_columns`, и численных `num_columns`"
      ]
    },
    {
      "cell_type": "code",
      "execution_count": 936,
      "id": "5293426d",
      "metadata": {
        "id": "5293426d"
      },
      "outputs": [],
      "source": [
        "categorical_columns = [column for column in given_data.columns if given_data[column].dtype.name == 'object']\n",
        "num_columns = [column for column in given_data.columns if given_data[column].dtype.name != 'object' and column != 'quality']"
      ]
    },
    {
      "cell_type": "markdown",
      "id": "1d0c2db0",
      "metadata": {
        "id": "1d0c2db0"
      },
      "source": [
        "Теперь заполним пустые значения медианными (средними) значениями по каждому столбцу"
      ]
    },
    {
      "cell_type": "code",
      "execution_count": 937,
      "id": "390e1ef3",
      "metadata": {
        "id": "390e1ef3"
      },
      "outputs": [],
      "source": [
        "median = given_data.median(axis = 0, numeric_only=True)"
      ]
    },
    {
      "cell_type": "code",
      "execution_count": 938,
      "id": "127d3f3c",
      "metadata": {
        "id": "127d3f3c"
      },
      "outputs": [],
      "source": [
        "given_data = given_data.fillna(median, axis=0)"
      ]
    },
    {
      "cell_type": "code",
      "execution_count": 939,
      "id": "6d0b5901",
      "metadata": {
        "colab": {
          "base_uri": "https://localhost:8080/"
        },
        "id": "6d0b5901",
        "outputId": "483c4c17-8044-49b5-867b-57b0861df01a"
      },
      "outputs": [
        {
          "output_type": "execute_result",
          "data": {
            "text/plain": [
              "fixed acidity           4974\n",
              "volatile acidity        4974\n",
              "citric acid             4974\n",
              "residual sugar          4974\n",
              "chlorides               4974\n",
              "free sulfur dioxide     4974\n",
              "total sulfur dioxide    4974\n",
              "density                 4974\n",
              "pH                      4974\n",
              "sulphates               4974\n",
              "alcohol                 4974\n",
              "dtype: int64"
            ]
          },
          "metadata": {},
          "execution_count": 939
        }
      ],
      "source": [
        "given_data[num_columns].count(axis = 0)"
      ]
    },
    {
      "cell_type": "code",
      "execution_count": 940,
      "id": "c60abb77",
      "metadata": {
        "colab": {
          "base_uri": "https://localhost:8080/"
        },
        "id": "c60abb77",
        "outputId": "711fb653-bab1-4a26-b3df-9fb2f239a4d4"
      },
      "outputs": [
        {
          "output_type": "execute_result",
          "data": {
            "text/plain": [
              "type    4974\n",
              "dtype: int64"
            ]
          },
          "metadata": {},
          "execution_count": 940
        }
      ],
      "source": [
        "given_data[categorical_columns].count(axis = 0)"
      ]
    },
    {
      "cell_type": "markdown",
      "id": "5e226004",
      "metadata": {
        "id": "5e226004"
      },
      "source": [
        "Теперь можно выделить выборки `X` - все данные кроме ключевого столбца, и `Y` - один ключевой столбец"
      ]
    },
    {
      "cell_type": "code",
      "execution_count": 941,
      "id": "d2bfc9a7",
      "metadata": {
        "id": "d2bfc9a7"
      },
      "outputs": [],
      "source": [
        "given_data.dropna(axis=0)\n",
        "Y = given_data['quality']\n",
        "X = given_data.drop('quality', axis=1)"
      ]
    },
    {
      "cell_type": "code",
      "execution_count": 942,
      "id": "989d8f70",
      "metadata": {
        "colab": {
          "base_uri": "https://localhost:8080/",
          "height": 0
        },
        "id": "989d8f70",
        "outputId": "4025eecb-9e7a-48d2-a4fd-100f336f0f5f"
      },
      "outputs": [
        {
          "output_type": "execute_result",
          "data": {
            "text/html": [
              "\n",
              "  <div id=\"df-833b98c8-2b39-4176-9a60-f36c238dd868\">\n",
              "    <div class=\"colab-df-container\">\n",
              "      <div>\n",
              "<style scoped>\n",
              "    .dataframe tbody tr th:only-of-type {\n",
              "        vertical-align: middle;\n",
              "    }\n",
              "\n",
              "    .dataframe tbody tr th {\n",
              "        vertical-align: top;\n",
              "    }\n",
              "\n",
              "    .dataframe thead th {\n",
              "        text-align: right;\n",
              "    }\n",
              "</style>\n",
              "<table border=\"1\" class=\"dataframe\">\n",
              "  <thead>\n",
              "    <tr style=\"text-align: right;\">\n",
              "      <th></th>\n",
              "      <th>type</th>\n",
              "      <th>fixed acidity</th>\n",
              "      <th>volatile acidity</th>\n",
              "      <th>citric acid</th>\n",
              "      <th>residual sugar</th>\n",
              "      <th>chlorides</th>\n",
              "      <th>free sulfur dioxide</th>\n",
              "      <th>total sulfur dioxide</th>\n",
              "      <th>density</th>\n",
              "      <th>pH</th>\n",
              "      <th>sulphates</th>\n",
              "      <th>alcohol</th>\n",
              "    </tr>\n",
              "  </thead>\n",
              "  <tbody>\n",
              "    <tr>\n",
              "      <th>0</th>\n",
              "      <td>white</td>\n",
              "      <td>7.0</td>\n",
              "      <td>0.270</td>\n",
              "      <td>0.36</td>\n",
              "      <td>20.7</td>\n",
              "      <td>0.045</td>\n",
              "      <td>45.0</td>\n",
              "      <td>170.0</td>\n",
              "      <td>1.00100</td>\n",
              "      <td>3.00</td>\n",
              "      <td>0.45</td>\n",
              "      <td>8.8</td>\n",
              "    </tr>\n",
              "    <tr>\n",
              "      <th>1</th>\n",
              "      <td>white</td>\n",
              "      <td>6.3</td>\n",
              "      <td>0.300</td>\n",
              "      <td>0.34</td>\n",
              "      <td>1.6</td>\n",
              "      <td>0.049</td>\n",
              "      <td>14.0</td>\n",
              "      <td>132.0</td>\n",
              "      <td>0.99400</td>\n",
              "      <td>3.30</td>\n",
              "      <td>0.49</td>\n",
              "      <td>9.5</td>\n",
              "    </tr>\n",
              "    <tr>\n",
              "      <th>2</th>\n",
              "      <td>white</td>\n",
              "      <td>8.1</td>\n",
              "      <td>0.280</td>\n",
              "      <td>0.40</td>\n",
              "      <td>6.9</td>\n",
              "      <td>0.050</td>\n",
              "      <td>30.0</td>\n",
              "      <td>97.0</td>\n",
              "      <td>0.99510</td>\n",
              "      <td>3.26</td>\n",
              "      <td>0.44</td>\n",
              "      <td>10.1</td>\n",
              "    </tr>\n",
              "    <tr>\n",
              "      <th>3</th>\n",
              "      <td>white</td>\n",
              "      <td>7.2</td>\n",
              "      <td>0.230</td>\n",
              "      <td>0.32</td>\n",
              "      <td>8.5</td>\n",
              "      <td>0.058</td>\n",
              "      <td>47.0</td>\n",
              "      <td>186.0</td>\n",
              "      <td>0.99560</td>\n",
              "      <td>3.19</td>\n",
              "      <td>0.40</td>\n",
              "      <td>9.9</td>\n",
              "    </tr>\n",
              "    <tr>\n",
              "      <th>4</th>\n",
              "      <td>white</td>\n",
              "      <td>7.2</td>\n",
              "      <td>0.230</td>\n",
              "      <td>0.32</td>\n",
              "      <td>8.5</td>\n",
              "      <td>0.058</td>\n",
              "      <td>47.0</td>\n",
              "      <td>186.0</td>\n",
              "      <td>0.99560</td>\n",
              "      <td>3.19</td>\n",
              "      <td>0.40</td>\n",
              "      <td>9.9</td>\n",
              "    </tr>\n",
              "    <tr>\n",
              "      <th>...</th>\n",
              "      <td>...</td>\n",
              "      <td>...</td>\n",
              "      <td>...</td>\n",
              "      <td>...</td>\n",
              "      <td>...</td>\n",
              "      <td>...</td>\n",
              "      <td>...</td>\n",
              "      <td>...</td>\n",
              "      <td>...</td>\n",
              "      <td>...</td>\n",
              "      <td>...</td>\n",
              "      <td>...</td>\n",
              "    </tr>\n",
              "    <tr>\n",
              "      <th>6492</th>\n",
              "      <td>red</td>\n",
              "      <td>6.2</td>\n",
              "      <td>0.600</td>\n",
              "      <td>0.08</td>\n",
              "      <td>2.0</td>\n",
              "      <td>0.090</td>\n",
              "      <td>32.0</td>\n",
              "      <td>44.0</td>\n",
              "      <td>0.99490</td>\n",
              "      <td>3.45</td>\n",
              "      <td>0.58</td>\n",
              "      <td>10.5</td>\n",
              "    </tr>\n",
              "    <tr>\n",
              "      <th>6493</th>\n",
              "      <td>red</td>\n",
              "      <td>5.9</td>\n",
              "      <td>0.550</td>\n",
              "      <td>0.10</td>\n",
              "      <td>2.2</td>\n",
              "      <td>0.062</td>\n",
              "      <td>39.0</td>\n",
              "      <td>51.0</td>\n",
              "      <td>0.99512</td>\n",
              "      <td>3.52</td>\n",
              "      <td>0.51</td>\n",
              "      <td>11.2</td>\n",
              "    </tr>\n",
              "    <tr>\n",
              "      <th>6494</th>\n",
              "      <td>red</td>\n",
              "      <td>6.3</td>\n",
              "      <td>0.510</td>\n",
              "      <td>0.13</td>\n",
              "      <td>2.3</td>\n",
              "      <td>0.076</td>\n",
              "      <td>29.0</td>\n",
              "      <td>40.0</td>\n",
              "      <td>0.99574</td>\n",
              "      <td>3.42</td>\n",
              "      <td>0.75</td>\n",
              "      <td>11.0</td>\n",
              "    </tr>\n",
              "    <tr>\n",
              "      <th>6495</th>\n",
              "      <td>red</td>\n",
              "      <td>5.9</td>\n",
              "      <td>0.645</td>\n",
              "      <td>0.12</td>\n",
              "      <td>2.0</td>\n",
              "      <td>0.075</td>\n",
              "      <td>32.0</td>\n",
              "      <td>44.0</td>\n",
              "      <td>0.99547</td>\n",
              "      <td>3.57</td>\n",
              "      <td>0.71</td>\n",
              "      <td>10.2</td>\n",
              "    </tr>\n",
              "    <tr>\n",
              "      <th>6496</th>\n",
              "      <td>red</td>\n",
              "      <td>6.0</td>\n",
              "      <td>0.310</td>\n",
              "      <td>0.47</td>\n",
              "      <td>3.6</td>\n",
              "      <td>0.067</td>\n",
              "      <td>18.0</td>\n",
              "      <td>42.0</td>\n",
              "      <td>0.99549</td>\n",
              "      <td>3.39</td>\n",
              "      <td>0.66</td>\n",
              "      <td>11.0</td>\n",
              "    </tr>\n",
              "  </tbody>\n",
              "</table>\n",
              "<p>4974 rows × 12 columns</p>\n",
              "</div>\n",
              "      <button class=\"colab-df-convert\" onclick=\"convertToInteractive('df-833b98c8-2b39-4176-9a60-f36c238dd868')\"\n",
              "              title=\"Convert this dataframe to an interactive table.\"\n",
              "              style=\"display:none;\">\n",
              "        \n",
              "  <svg xmlns=\"http://www.w3.org/2000/svg\" height=\"24px\"viewBox=\"0 0 24 24\"\n",
              "       width=\"24px\">\n",
              "    <path d=\"M0 0h24v24H0V0z\" fill=\"none\"/>\n",
              "    <path d=\"M18.56 5.44l.94 2.06.94-2.06 2.06-.94-2.06-.94-.94-2.06-.94 2.06-2.06.94zm-11 1L8.5 8.5l.94-2.06 2.06-.94-2.06-.94L8.5 2.5l-.94 2.06-2.06.94zm10 10l.94 2.06.94-2.06 2.06-.94-2.06-.94-.94-2.06-.94 2.06-2.06.94z\"/><path d=\"M17.41 7.96l-1.37-1.37c-.4-.4-.92-.59-1.43-.59-.52 0-1.04.2-1.43.59L10.3 9.45l-7.72 7.72c-.78.78-.78 2.05 0 2.83L4 21.41c.39.39.9.59 1.41.59.51 0 1.02-.2 1.41-.59l7.78-7.78 2.81-2.81c.8-.78.8-2.07 0-2.86zM5.41 20L4 18.59l7.72-7.72 1.47 1.35L5.41 20z\"/>\n",
              "  </svg>\n",
              "      </button>\n",
              "      \n",
              "  <style>\n",
              "    .colab-df-container {\n",
              "      display:flex;\n",
              "      flex-wrap:wrap;\n",
              "      gap: 12px;\n",
              "    }\n",
              "\n",
              "    .colab-df-convert {\n",
              "      background-color: #E8F0FE;\n",
              "      border: none;\n",
              "      border-radius: 50%;\n",
              "      cursor: pointer;\n",
              "      display: none;\n",
              "      fill: #1967D2;\n",
              "      height: 32px;\n",
              "      padding: 0 0 0 0;\n",
              "      width: 32px;\n",
              "    }\n",
              "\n",
              "    .colab-df-convert:hover {\n",
              "      background-color: #E2EBFA;\n",
              "      box-shadow: 0px 1px 2px rgba(60, 64, 67, 0.3), 0px 1px 3px 1px rgba(60, 64, 67, 0.15);\n",
              "      fill: #174EA6;\n",
              "    }\n",
              "\n",
              "    [theme=dark] .colab-df-convert {\n",
              "      background-color: #3B4455;\n",
              "      fill: #D2E3FC;\n",
              "    }\n",
              "\n",
              "    [theme=dark] .colab-df-convert:hover {\n",
              "      background-color: #434B5C;\n",
              "      box-shadow: 0px 1px 3px 1px rgba(0, 0, 0, 0.15);\n",
              "      filter: drop-shadow(0px 1px 2px rgba(0, 0, 0, 0.3));\n",
              "      fill: #FFFFFF;\n",
              "    }\n",
              "  </style>\n",
              "\n",
              "      <script>\n",
              "        const buttonEl =\n",
              "          document.querySelector('#df-833b98c8-2b39-4176-9a60-f36c238dd868 button.colab-df-convert');\n",
              "        buttonEl.style.display =\n",
              "          google.colab.kernel.accessAllowed ? 'block' : 'none';\n",
              "\n",
              "        async function convertToInteractive(key) {\n",
              "          const element = document.querySelector('#df-833b98c8-2b39-4176-9a60-f36c238dd868');\n",
              "          const dataTable =\n",
              "            await google.colab.kernel.invokeFunction('convertToInteractive',\n",
              "                                                     [key], {});\n",
              "          if (!dataTable) return;\n",
              "\n",
              "          const docLinkHtml = 'Like what you see? Visit the ' +\n",
              "            '<a target=\"_blank\" href=https://colab.research.google.com/notebooks/data_table.ipynb>data table notebook</a>'\n",
              "            + ' to learn more about interactive tables.';\n",
              "          element.innerHTML = '';\n",
              "          dataTable['output_type'] = 'display_data';\n",
              "          await google.colab.output.renderOutput(dataTable, element);\n",
              "          const docLink = document.createElement('div');\n",
              "          docLink.innerHTML = docLinkHtml;\n",
              "          element.appendChild(docLink);\n",
              "        }\n",
              "      </script>\n",
              "    </div>\n",
              "  </div>\n",
              "  "
            ],
            "text/plain": [
              "       type  fixed acidity  volatile acidity  ...    pH  sulphates  alcohol\n",
              "0     white            7.0             0.270  ...  3.00       0.45      8.8\n",
              "1     white            6.3             0.300  ...  3.30       0.49      9.5\n",
              "2     white            8.1             0.280  ...  3.26       0.44     10.1\n",
              "3     white            7.2             0.230  ...  3.19       0.40      9.9\n",
              "4     white            7.2             0.230  ...  3.19       0.40      9.9\n",
              "...     ...            ...               ...  ...   ...        ...      ...\n",
              "6492    red            6.2             0.600  ...  3.45       0.58     10.5\n",
              "6493    red            5.9             0.550  ...  3.52       0.51     11.2\n",
              "6494    red            6.3             0.510  ...  3.42       0.75     11.0\n",
              "6495    red            5.9             0.645  ...  3.57       0.71     10.2\n",
              "6496    red            6.0             0.310  ...  3.39       0.66     11.0\n",
              "\n",
              "[4974 rows x 12 columns]"
            ]
          },
          "metadata": {},
          "execution_count": 942
        }
      ],
      "source": [
        "X"
      ]
    },
    {
      "cell_type": "code",
      "execution_count": 943,
      "id": "f4e08f71",
      "metadata": {
        "colab": {
          "base_uri": "https://localhost:8080/"
        },
        "id": "f4e08f71",
        "outputId": "2c99c437-1459-4c39-8604-d1573d90a33b"
      },
      "outputs": [
        {
          "output_type": "execute_result",
          "data": {
            "text/plain": [
              "0       6\n",
              "1       6\n",
              "2       6\n",
              "3       6\n",
              "4       6\n",
              "       ..\n",
              "6492    5\n",
              "6493    6\n",
              "6494    6\n",
              "6495    5\n",
              "6496    6\n",
              "Name: quality, Length: 4974, dtype: int64"
            ]
          },
          "metadata": {},
          "execution_count": 943
        }
      ],
      "source": [
        "Y"
      ]
    },
    {
      "cell_type": "markdown",
      "id": "c17fa1e2",
      "metadata": {
        "id": "c17fa1e2"
      },
      "source": [
        "## Количество классов:"
      ]
    },
    {
      "cell_type": "code",
      "execution_count": 944,
      "id": "8280eed7",
      "metadata": {
        "colab": {
          "base_uri": "https://localhost:8080/"
        },
        "id": "8280eed7",
        "outputId": "57bb4352-48f8-464c-c714-171d197bd358"
      },
      "outputs": [
        {
          "output_type": "stream",
          "name": "stdout",
          "text": [
            "[5 6]\n",
            "2\n"
          ]
        }
      ],
      "source": [
        "print(np.unique(Y))\n",
        "print(len(np.unique(Y)))"
      ]
    },
    {
      "cell_type": "markdown",
      "id": "02c4aad9",
      "metadata": {
        "id": "02c4aad9"
      },
      "source": [
        "# Векторизация"
      ]
    },
    {
      "cell_type": "code",
      "execution_count": 945,
      "id": "ec68ade5",
      "metadata": {
        "colab": {
          "base_uri": "https://localhost:8080/",
          "height": 0
        },
        "id": "ec68ade5",
        "outputId": "89984540-cd72-4b88-d77c-de3d90b7132b"
      },
      "outputs": [
        {
          "output_type": "execute_result",
          "data": {
            "text/html": [
              "\n",
              "  <div id=\"df-e93e42b8-d26a-4c7e-8b70-1fd2bcdfd6ab\">\n",
              "    <div class=\"colab-df-container\">\n",
              "      <div>\n",
              "<style scoped>\n",
              "    .dataframe tbody tr th:only-of-type {\n",
              "        vertical-align: middle;\n",
              "    }\n",
              "\n",
              "    .dataframe tbody tr th {\n",
              "        vertical-align: top;\n",
              "    }\n",
              "\n",
              "    .dataframe thead th {\n",
              "        text-align: right;\n",
              "    }\n",
              "</style>\n",
              "<table border=\"1\" class=\"dataframe\">\n",
              "  <thead>\n",
              "    <tr style=\"text-align: right;\">\n",
              "      <th></th>\n",
              "      <th>type</th>\n",
              "    </tr>\n",
              "  </thead>\n",
              "  <tbody>\n",
              "    <tr>\n",
              "      <th>count</th>\n",
              "      <td>4974</td>\n",
              "    </tr>\n",
              "    <tr>\n",
              "      <th>unique</th>\n",
              "      <td>2</td>\n",
              "    </tr>\n",
              "    <tr>\n",
              "      <th>top</th>\n",
              "      <td>white</td>\n",
              "    </tr>\n",
              "    <tr>\n",
              "      <th>freq</th>\n",
              "      <td>3655</td>\n",
              "    </tr>\n",
              "  </tbody>\n",
              "</table>\n",
              "</div>\n",
              "      <button class=\"colab-df-convert\" onclick=\"convertToInteractive('df-e93e42b8-d26a-4c7e-8b70-1fd2bcdfd6ab')\"\n",
              "              title=\"Convert this dataframe to an interactive table.\"\n",
              "              style=\"display:none;\">\n",
              "        \n",
              "  <svg xmlns=\"http://www.w3.org/2000/svg\" height=\"24px\"viewBox=\"0 0 24 24\"\n",
              "       width=\"24px\">\n",
              "    <path d=\"M0 0h24v24H0V0z\" fill=\"none\"/>\n",
              "    <path d=\"M18.56 5.44l.94 2.06.94-2.06 2.06-.94-2.06-.94-.94-2.06-.94 2.06-2.06.94zm-11 1L8.5 8.5l.94-2.06 2.06-.94-2.06-.94L8.5 2.5l-.94 2.06-2.06.94zm10 10l.94 2.06.94-2.06 2.06-.94-2.06-.94-.94-2.06-.94 2.06-2.06.94z\"/><path d=\"M17.41 7.96l-1.37-1.37c-.4-.4-.92-.59-1.43-.59-.52 0-1.04.2-1.43.59L10.3 9.45l-7.72 7.72c-.78.78-.78 2.05 0 2.83L4 21.41c.39.39.9.59 1.41.59.51 0 1.02-.2 1.41-.59l7.78-7.78 2.81-2.81c.8-.78.8-2.07 0-2.86zM5.41 20L4 18.59l7.72-7.72 1.47 1.35L5.41 20z\"/>\n",
              "  </svg>\n",
              "      </button>\n",
              "      \n",
              "  <style>\n",
              "    .colab-df-container {\n",
              "      display:flex;\n",
              "      flex-wrap:wrap;\n",
              "      gap: 12px;\n",
              "    }\n",
              "\n",
              "    .colab-df-convert {\n",
              "      background-color: #E8F0FE;\n",
              "      border: none;\n",
              "      border-radius: 50%;\n",
              "      cursor: pointer;\n",
              "      display: none;\n",
              "      fill: #1967D2;\n",
              "      height: 32px;\n",
              "      padding: 0 0 0 0;\n",
              "      width: 32px;\n",
              "    }\n",
              "\n",
              "    .colab-df-convert:hover {\n",
              "      background-color: #E2EBFA;\n",
              "      box-shadow: 0px 1px 2px rgba(60, 64, 67, 0.3), 0px 1px 3px 1px rgba(60, 64, 67, 0.15);\n",
              "      fill: #174EA6;\n",
              "    }\n",
              "\n",
              "    [theme=dark] .colab-df-convert {\n",
              "      background-color: #3B4455;\n",
              "      fill: #D2E3FC;\n",
              "    }\n",
              "\n",
              "    [theme=dark] .colab-df-convert:hover {\n",
              "      background-color: #434B5C;\n",
              "      box-shadow: 0px 1px 3px 1px rgba(0, 0, 0, 0.15);\n",
              "      filter: drop-shadow(0px 1px 2px rgba(0, 0, 0, 0.3));\n",
              "      fill: #FFFFFF;\n",
              "    }\n",
              "  </style>\n",
              "\n",
              "      <script>\n",
              "        const buttonEl =\n",
              "          document.querySelector('#df-e93e42b8-d26a-4c7e-8b70-1fd2bcdfd6ab button.colab-df-convert');\n",
              "        buttonEl.style.display =\n",
              "          google.colab.kernel.accessAllowed ? 'block' : 'none';\n",
              "\n",
              "        async function convertToInteractive(key) {\n",
              "          const element = document.querySelector('#df-e93e42b8-d26a-4c7e-8b70-1fd2bcdfd6ab');\n",
              "          const dataTable =\n",
              "            await google.colab.kernel.invokeFunction('convertToInteractive',\n",
              "                                                     [key], {});\n",
              "          if (!dataTable) return;\n",
              "\n",
              "          const docLinkHtml = 'Like what you see? Visit the ' +\n",
              "            '<a target=\"_blank\" href=https://colab.research.google.com/notebooks/data_table.ipynb>data table notebook</a>'\n",
              "            + ' to learn more about interactive tables.';\n",
              "          element.innerHTML = '';\n",
              "          dataTable['output_type'] = 'display_data';\n",
              "          await google.colab.output.renderOutput(dataTable, element);\n",
              "          const docLink = document.createElement('div');\n",
              "          docLink.innerHTML = docLinkHtml;\n",
              "          element.appendChild(docLink);\n",
              "        }\n",
              "      </script>\n",
              "    </div>\n",
              "  </div>\n",
              "  "
            ],
            "text/plain": [
              "         type\n",
              "count    4974\n",
              "unique      2\n",
              "top     white\n",
              "freq     3655"
            ]
          },
          "metadata": {},
          "execution_count": 945
        }
      ],
      "source": [
        "data_describe = X.describe(include = [object])\n",
        "for column in categorical_columns:\n",
        "    X[column] = X[column].fillna(data_describe[column]['top'])\n",
        "data_describe"
      ]
    },
    {
      "cell_type": "code",
      "execution_count": 946,
      "id": "70c2535c",
      "metadata": {
        "colab": {
          "base_uri": "https://localhost:8080/"
        },
        "id": "70c2535c",
        "outputId": "7b91d98d-0b08-4ec3-d53f-46280c8e1b54"
      },
      "outputs": [
        {
          "output_type": "stream",
          "name": "stdout",
          "text": [
            "['type'] []\n"
          ]
        }
      ],
      "source": [
        "binary_columns  = [column for column in categorical_columns if data_describe[column]['unique'] == 2]\n",
        "non_binary_columns = [column for column in categorical_columns if data_describe[column]['unique'] > 2]\n",
        "print(binary_columns, non_binary_columns)"
      ]
    },
    {
      "cell_type": "code",
      "execution_count": 947,
      "id": "4dc73b51",
      "metadata": {
        "colab": {
          "base_uri": "https://localhost:8080/"
        },
        "id": "4dc73b51",
        "outputId": "d1ab5b5f-75be-46a8-a1f4-070a2f8436e6"
      },
      "outputs": [
        {
          "output_type": "execute_result",
          "data": {
            "text/plain": [
              "array(['white', 'red'], dtype=object)"
            ]
          },
          "metadata": {},
          "execution_count": 947
        }
      ],
      "source": [
        "X['type'].unique()"
      ]
    },
    {
      "cell_type": "code",
      "execution_count": 948,
      "id": "518f203a",
      "metadata": {
        "colab": {
          "base_uri": "https://localhost:8080/"
        },
        "id": "518f203a",
        "outputId": "8be72148-378b-4821-de6f-6d5acd0de284"
      },
      "outputs": [
        {
          "output_type": "execute_result",
          "data": {
            "text/plain": [
              "count    4974.000000\n",
              "mean        0.265179\n",
              "std         0.441473\n",
              "min         0.000000\n",
              "25%         0.000000\n",
              "50%         0.000000\n",
              "75%         1.000000\n",
              "max         1.000000\n",
              "Name: type, dtype: float64"
            ]
          },
          "metadata": {},
          "execution_count": 948
        }
      ],
      "source": [
        "X.at[X['type'] == 'white', 'type'] = 0\n",
        "X.at[X['type'] == 'red', 'type'] = 1\n",
        "X['type'].astype('float64').describe()"
      ]
    },
    {
      "cell_type": "code",
      "execution_count": 949,
      "id": "59ce6498",
      "metadata": {
        "colab": {
          "base_uri": "https://localhost:8080/"
        },
        "id": "59ce6498",
        "outputId": "cf2b8bc5-a090-4c40-c041-a20a782c6df5"
      },
      "outputs": [
        {
          "output_type": "execute_result",
          "data": {
            "text/plain": [
              "0       0\n",
              "1       0\n",
              "2       0\n",
              "3       0\n",
              "4       0\n",
              "       ..\n",
              "6492    1\n",
              "6493    1\n",
              "6494    1\n",
              "6495    1\n",
              "6496    1\n",
              "Name: type, Length: 4974, dtype: object"
            ]
          },
          "metadata": {},
          "execution_count": 949
        }
      ],
      "source": [
        "X['type']"
      ]
    },
    {
      "cell_type": "markdown",
      "id": "6933d893",
      "metadata": {
        "id": "6933d893"
      },
      "source": [
        "# Нормализация"
      ]
    },
    {
      "cell_type": "markdown",
      "id": "d975f67e",
      "metadata": {
        "id": "d975f67e"
      },
      "source": [
        "В целом, если смотреть, данные весьма разнородные, если достаточно низние значения, есть высокие, а больше всего и вовсе средних. В целях увеличиния точности, проведем нормализацию всех числовых ячеек."
      ]
    },
    {
      "cell_type": "code",
      "execution_count": 950,
      "id": "69fb6a90",
      "metadata": {
        "colab": {
          "base_uri": "https://localhost:8080/",
          "height": 0
        },
        "id": "69fb6a90",
        "outputId": "bb7f2536-e4e6-4c06-a152-475761f4551e"
      },
      "outputs": [
        {
          "output_type": "execute_result",
          "data": {
            "text/html": [
              "\n",
              "  <div id=\"df-d75b0540-8dc0-4ebd-8505-4dd5dc01a1fe\">\n",
              "    <div class=\"colab-df-container\">\n",
              "      <div>\n",
              "<style scoped>\n",
              "    .dataframe tbody tr th:only-of-type {\n",
              "        vertical-align: middle;\n",
              "    }\n",
              "\n",
              "    .dataframe tbody tr th {\n",
              "        vertical-align: top;\n",
              "    }\n",
              "\n",
              "    .dataframe thead th {\n",
              "        text-align: right;\n",
              "    }\n",
              "</style>\n",
              "<table border=\"1\" class=\"dataframe\">\n",
              "  <thead>\n",
              "    <tr style=\"text-align: right;\">\n",
              "      <th></th>\n",
              "      <th>fixed acidity</th>\n",
              "      <th>volatile acidity</th>\n",
              "      <th>citric acid</th>\n",
              "      <th>residual sugar</th>\n",
              "      <th>chlorides</th>\n",
              "      <th>free sulfur dioxide</th>\n",
              "      <th>total sulfur dioxide</th>\n",
              "      <th>density</th>\n",
              "      <th>pH</th>\n",
              "      <th>sulphates</th>\n",
              "      <th>alcohol</th>\n",
              "    </tr>\n",
              "  </thead>\n",
              "  <tbody>\n",
              "    <tr>\n",
              "      <th>count</th>\n",
              "      <td>4974.000000</td>\n",
              "      <td>4974.000000</td>\n",
              "      <td>4974.000000</td>\n",
              "      <td>4974.000000</td>\n",
              "      <td>4974.000000</td>\n",
              "      <td>4974.000000</td>\n",
              "      <td>4974.000000</td>\n",
              "      <td>4974.000000</td>\n",
              "      <td>4974.000000</td>\n",
              "      <td>4974.000000</td>\n",
              "      <td>4974.000000</td>\n",
              "    </tr>\n",
              "    <tr>\n",
              "      <th>mean</th>\n",
              "      <td>7.242602</td>\n",
              "      <td>0.346367</td>\n",
              "      <td>0.316876</td>\n",
              "      <td>5.659409</td>\n",
              "      <td>0.058679</td>\n",
              "      <td>30.766285</td>\n",
              "      <td>117.744069</td>\n",
              "      <td>0.995113</td>\n",
              "      <td>3.215247</td>\n",
              "      <td>0.529853</td>\n",
              "      <td>10.265275</td>\n",
              "    </tr>\n",
              "    <tr>\n",
              "      <th>std</th>\n",
              "      <td>1.279083</td>\n",
              "      <td>0.165580</td>\n",
              "      <td>0.150550</td>\n",
              "      <td>4.935000</td>\n",
              "      <td>0.036434</td>\n",
              "      <td>17.604133</td>\n",
              "      <td>57.861460</td>\n",
              "      <td>0.002867</td>\n",
              "      <td>0.159306</td>\n",
              "      <td>0.144554</td>\n",
              "      <td>1.070626</td>\n",
              "    </tr>\n",
              "    <tr>\n",
              "      <th>min</th>\n",
              "      <td>3.800000</td>\n",
              "      <td>0.080000</td>\n",
              "      <td>0.000000</td>\n",
              "      <td>0.600000</td>\n",
              "      <td>0.009000</td>\n",
              "      <td>1.000000</td>\n",
              "      <td>6.000000</td>\n",
              "      <td>0.987220</td>\n",
              "      <td>2.720000</td>\n",
              "      <td>0.230000</td>\n",
              "      <td>8.000000</td>\n",
              "    </tr>\n",
              "    <tr>\n",
              "      <th>25%</th>\n",
              "      <td>6.400000</td>\n",
              "      <td>0.230000</td>\n",
              "      <td>0.240000</td>\n",
              "      <td>1.800000</td>\n",
              "      <td>0.040000</td>\n",
              "      <td>17.000000</td>\n",
              "      <td>76.000000</td>\n",
              "      <td>0.992992</td>\n",
              "      <td>3.110000</td>\n",
              "      <td>0.440000</td>\n",
              "      <td>9.400000</td>\n",
              "    </tr>\n",
              "    <tr>\n",
              "      <th>50%</th>\n",
              "      <td>7.000000</td>\n",
              "      <td>0.300000</td>\n",
              "      <td>0.310000</td>\n",
              "      <td>3.100000</td>\n",
              "      <td>0.049000</td>\n",
              "      <td>29.000000</td>\n",
              "      <td>121.000000</td>\n",
              "      <td>0.995400</td>\n",
              "      <td>3.200000</td>\n",
              "      <td>0.510000</td>\n",
              "      <td>10.000000</td>\n",
              "    </tr>\n",
              "    <tr>\n",
              "      <th>75%</th>\n",
              "      <td>7.700000</td>\n",
              "      <td>0.420000</td>\n",
              "      <td>0.400000</td>\n",
              "      <td>8.500000</td>\n",
              "      <td>0.070000</td>\n",
              "      <td>42.000000</td>\n",
              "      <td>160.000000</td>\n",
              "      <td>0.997200</td>\n",
              "      <td>3.310000</td>\n",
              "      <td>0.600000</td>\n",
              "      <td>11.000000</td>\n",
              "    </tr>\n",
              "    <tr>\n",
              "      <th>max</th>\n",
              "      <td>15.900000</td>\n",
              "      <td>1.330000</td>\n",
              "      <td>1.660000</td>\n",
              "      <td>65.800000</td>\n",
              "      <td>0.611000</td>\n",
              "      <td>131.000000</td>\n",
              "      <td>344.000000</td>\n",
              "      <td>1.038980</td>\n",
              "      <td>4.010000</td>\n",
              "      <td>1.980000</td>\n",
              "      <td>14.900000</td>\n",
              "    </tr>\n",
              "  </tbody>\n",
              "</table>\n",
              "</div>\n",
              "      <button class=\"colab-df-convert\" onclick=\"convertToInteractive('df-d75b0540-8dc0-4ebd-8505-4dd5dc01a1fe')\"\n",
              "              title=\"Convert this dataframe to an interactive table.\"\n",
              "              style=\"display:none;\">\n",
              "        \n",
              "  <svg xmlns=\"http://www.w3.org/2000/svg\" height=\"24px\"viewBox=\"0 0 24 24\"\n",
              "       width=\"24px\">\n",
              "    <path d=\"M0 0h24v24H0V0z\" fill=\"none\"/>\n",
              "    <path d=\"M18.56 5.44l.94 2.06.94-2.06 2.06-.94-2.06-.94-.94-2.06-.94 2.06-2.06.94zm-11 1L8.5 8.5l.94-2.06 2.06-.94-2.06-.94L8.5 2.5l-.94 2.06-2.06.94zm10 10l.94 2.06.94-2.06 2.06-.94-2.06-.94-.94-2.06-.94 2.06-2.06.94z\"/><path d=\"M17.41 7.96l-1.37-1.37c-.4-.4-.92-.59-1.43-.59-.52 0-1.04.2-1.43.59L10.3 9.45l-7.72 7.72c-.78.78-.78 2.05 0 2.83L4 21.41c.39.39.9.59 1.41.59.51 0 1.02-.2 1.41-.59l7.78-7.78 2.81-2.81c.8-.78.8-2.07 0-2.86zM5.41 20L4 18.59l7.72-7.72 1.47 1.35L5.41 20z\"/>\n",
              "  </svg>\n",
              "      </button>\n",
              "      \n",
              "  <style>\n",
              "    .colab-df-container {\n",
              "      display:flex;\n",
              "      flex-wrap:wrap;\n",
              "      gap: 12px;\n",
              "    }\n",
              "\n",
              "    .colab-df-convert {\n",
              "      background-color: #E8F0FE;\n",
              "      border: none;\n",
              "      border-radius: 50%;\n",
              "      cursor: pointer;\n",
              "      display: none;\n",
              "      fill: #1967D2;\n",
              "      height: 32px;\n",
              "      padding: 0 0 0 0;\n",
              "      width: 32px;\n",
              "    }\n",
              "\n",
              "    .colab-df-convert:hover {\n",
              "      background-color: #E2EBFA;\n",
              "      box-shadow: 0px 1px 2px rgba(60, 64, 67, 0.3), 0px 1px 3px 1px rgba(60, 64, 67, 0.15);\n",
              "      fill: #174EA6;\n",
              "    }\n",
              "\n",
              "    [theme=dark] .colab-df-convert {\n",
              "      background-color: #3B4455;\n",
              "      fill: #D2E3FC;\n",
              "    }\n",
              "\n",
              "    [theme=dark] .colab-df-convert:hover {\n",
              "      background-color: #434B5C;\n",
              "      box-shadow: 0px 1px 3px 1px rgba(0, 0, 0, 0.15);\n",
              "      filter: drop-shadow(0px 1px 2px rgba(0, 0, 0, 0.3));\n",
              "      fill: #FFFFFF;\n",
              "    }\n",
              "  </style>\n",
              "\n",
              "      <script>\n",
              "        const buttonEl =\n",
              "          document.querySelector('#df-d75b0540-8dc0-4ebd-8505-4dd5dc01a1fe button.colab-df-convert');\n",
              "        buttonEl.style.display =\n",
              "          google.colab.kernel.accessAllowed ? 'block' : 'none';\n",
              "\n",
              "        async function convertToInteractive(key) {\n",
              "          const element = document.querySelector('#df-d75b0540-8dc0-4ebd-8505-4dd5dc01a1fe');\n",
              "          const dataTable =\n",
              "            await google.colab.kernel.invokeFunction('convertToInteractive',\n",
              "                                                     [key], {});\n",
              "          if (!dataTable) return;\n",
              "\n",
              "          const docLinkHtml = 'Like what you see? Visit the ' +\n",
              "            '<a target=\"_blank\" href=https://colab.research.google.com/notebooks/data_table.ipynb>data table notebook</a>'\n",
              "            + ' to learn more about interactive tables.';\n",
              "          element.innerHTML = '';\n",
              "          dataTable['output_type'] = 'display_data';\n",
              "          await google.colab.output.renderOutput(dataTable, element);\n",
              "          const docLink = document.createElement('div');\n",
              "          docLink.innerHTML = docLinkHtml;\n",
              "          element.appendChild(docLink);\n",
              "        }\n",
              "      </script>\n",
              "    </div>\n",
              "  </div>\n",
              "  "
            ],
            "text/plain": [
              "       fixed acidity  volatile acidity  ...    sulphates      alcohol\n",
              "count    4974.000000       4974.000000  ...  4974.000000  4974.000000\n",
              "mean        7.242602          0.346367  ...     0.529853    10.265275\n",
              "std         1.279083          0.165580  ...     0.144554     1.070626\n",
              "min         3.800000          0.080000  ...     0.230000     8.000000\n",
              "25%         6.400000          0.230000  ...     0.440000     9.400000\n",
              "50%         7.000000          0.300000  ...     0.510000    10.000000\n",
              "75%         7.700000          0.420000  ...     0.600000    11.000000\n",
              "max        15.900000          1.330000  ...     1.980000    14.900000\n",
              "\n",
              "[8 rows x 11 columns]"
            ]
          },
          "metadata": {},
          "execution_count": 950
        }
      ],
      "source": [
        "num_data = X[num_columns].astype('float64')\n",
        "num_data.describe()"
      ]
    },
    {
      "cell_type": "code",
      "execution_count": 951,
      "id": "076e7056",
      "metadata": {
        "id": "076e7056"
      },
      "outputs": [],
      "source": [
        "num_data = (num_data - num_data.mean(axis = 0)) / num_data.std(axis = 0)"
      ]
    },
    {
      "cell_type": "code",
      "execution_count": 952,
      "id": "98a2108c",
      "metadata": {
        "colab": {
          "base_uri": "https://localhost:8080/",
          "height": 0
        },
        "id": "98a2108c",
        "outputId": "6c0ff87c-9d62-4d44-c251-543018512b73"
      },
      "outputs": [
        {
          "output_type": "execute_result",
          "data": {
            "text/html": [
              "\n",
              "  <div id=\"df-a62285f9-7322-4856-a8c7-a3697e430083\">\n",
              "    <div class=\"colab-df-container\">\n",
              "      <div>\n",
              "<style scoped>\n",
              "    .dataframe tbody tr th:only-of-type {\n",
              "        vertical-align: middle;\n",
              "    }\n",
              "\n",
              "    .dataframe tbody tr th {\n",
              "        vertical-align: top;\n",
              "    }\n",
              "\n",
              "    .dataframe thead th {\n",
              "        text-align: right;\n",
              "    }\n",
              "</style>\n",
              "<table border=\"1\" class=\"dataframe\">\n",
              "  <thead>\n",
              "    <tr style=\"text-align: right;\">\n",
              "      <th></th>\n",
              "      <th>fixed acidity</th>\n",
              "      <th>volatile acidity</th>\n",
              "      <th>citric acid</th>\n",
              "      <th>residual sugar</th>\n",
              "      <th>chlorides</th>\n",
              "      <th>free sulfur dioxide</th>\n",
              "      <th>total sulfur dioxide</th>\n",
              "      <th>density</th>\n",
              "      <th>pH</th>\n",
              "      <th>sulphates</th>\n",
              "      <th>alcohol</th>\n",
              "    </tr>\n",
              "  </thead>\n",
              "  <tbody>\n",
              "    <tr>\n",
              "      <th>count</th>\n",
              "      <td>4.974000e+03</td>\n",
              "      <td>4.974000e+03</td>\n",
              "      <td>4.974000e+03</td>\n",
              "      <td>4.974000e+03</td>\n",
              "      <td>4.974000e+03</td>\n",
              "      <td>4.974000e+03</td>\n",
              "      <td>4.974000e+03</td>\n",
              "      <td>4.974000e+03</td>\n",
              "      <td>4.974000e+03</td>\n",
              "      <td>4.974000e+03</td>\n",
              "      <td>4.974000e+03</td>\n",
              "    </tr>\n",
              "    <tr>\n",
              "      <th>mean</th>\n",
              "      <td>1.644746e-14</td>\n",
              "      <td>-2.219743e-15</td>\n",
              "      <td>1.349664e-14</td>\n",
              "      <td>-1.648382e-15</td>\n",
              "      <td>-1.038304e-14</td>\n",
              "      <td>-6.247516e-17</td>\n",
              "      <td>-1.041610e-15</td>\n",
              "      <td>2.019527e-12</td>\n",
              "      <td>-7.573444e-15</td>\n",
              "      <td>8.152573e-16</td>\n",
              "      <td>-7.321356e-14</td>\n",
              "    </tr>\n",
              "    <tr>\n",
              "      <th>std</th>\n",
              "      <td>1.000000e+00</td>\n",
              "      <td>1.000000e+00</td>\n",
              "      <td>1.000000e+00</td>\n",
              "      <td>1.000000e+00</td>\n",
              "      <td>1.000000e+00</td>\n",
              "      <td>1.000000e+00</td>\n",
              "      <td>1.000000e+00</td>\n",
              "      <td>1.000000e+00</td>\n",
              "      <td>1.000000e+00</td>\n",
              "      <td>1.000000e+00</td>\n",
              "      <td>1.000000e+00</td>\n",
              "    </tr>\n",
              "    <tr>\n",
              "      <th>min</th>\n",
              "      <td>-2.691461e+00</td>\n",
              "      <td>-1.608687e+00</td>\n",
              "      <td>-2.104785e+00</td>\n",
              "      <td>-1.025210e+00</td>\n",
              "      <td>-1.363535e+00</td>\n",
              "      <td>-1.690869e+00</td>\n",
              "      <td>-1.931235e+00</td>\n",
              "      <td>-2.753565e+00</td>\n",
              "      <td>-3.108787e+00</td>\n",
              "      <td>-2.074327e+00</td>\n",
              "      <td>-2.115841e+00</td>\n",
              "    </tr>\n",
              "    <tr>\n",
              "      <th>25%</th>\n",
              "      <td>-6.587544e-01</td>\n",
              "      <td>-7.027829e-01</td>\n",
              "      <td>-5.106320e-01</td>\n",
              "      <td>-7.820485e-01</td>\n",
              "      <td>-5.126865e-01</td>\n",
              "      <td>-7.819916e-01</td>\n",
              "      <td>-7.214486e-01</td>\n",
              "      <td>-7.397883e-01</td>\n",
              "      <td>-6.606626e-01</td>\n",
              "      <td>-6.215874e-01</td>\n",
              "      <td>-8.081956e-01</td>\n",
              "    </tr>\n",
              "    <tr>\n",
              "      <th>50%</th>\n",
              "      <td>-1.896683e-01</td>\n",
              "      <td>-2.800277e-01</td>\n",
              "      <td>-4.567084e-02</td>\n",
              "      <td>-5.186239e-01</td>\n",
              "      <td>-2.656660e-01</td>\n",
              "      <td>-1.003335e-01</td>\n",
              "      <td>5.627115e-02</td>\n",
              "      <td>1.000849e-01</td>\n",
              "      <td>-9.571089e-02</td>\n",
              "      <td>-1.373409e-01</td>\n",
              "      <td>-2.477759e-01</td>\n",
              "    </tr>\n",
              "    <tr>\n",
              "      <th>75%</th>\n",
              "      <td>3.575988e-01</td>\n",
              "      <td>4.446956e-01</td>\n",
              "      <td>5.521364e-01</td>\n",
              "      <td>5.756011e-01</td>\n",
              "      <td>3.107153e-01</td>\n",
              "      <td>6.381294e-01</td>\n",
              "      <td>7.302949e-01</td>\n",
              "      <td>7.280275e-01</td>\n",
              "      <td>5.947856e-01</td>\n",
              "      <td>4.852618e-01</td>\n",
              "      <td>6.862568e-01</td>\n",
              "    </tr>\n",
              "    <tr>\n",
              "      <th>max</th>\n",
              "      <td>6.768442e+00</td>\n",
              "      <td>5.940514e+00</td>\n",
              "      <td>8.921438e+00</td>\n",
              "      <td>1.218654e+01</td>\n",
              "      <td>1.515939e+01</td>\n",
              "      <td>5.693760e+00</td>\n",
              "      <td>3.910305e+00</td>\n",
              "      <td>1.530327e+01</td>\n",
              "      <td>4.988854e+00</td>\n",
              "      <td>1.003184e+01</td>\n",
              "      <td>4.328984e+00</td>\n",
              "    </tr>\n",
              "  </tbody>\n",
              "</table>\n",
              "</div>\n",
              "      <button class=\"colab-df-convert\" onclick=\"convertToInteractive('df-a62285f9-7322-4856-a8c7-a3697e430083')\"\n",
              "              title=\"Convert this dataframe to an interactive table.\"\n",
              "              style=\"display:none;\">\n",
              "        \n",
              "  <svg xmlns=\"http://www.w3.org/2000/svg\" height=\"24px\"viewBox=\"0 0 24 24\"\n",
              "       width=\"24px\">\n",
              "    <path d=\"M0 0h24v24H0V0z\" fill=\"none\"/>\n",
              "    <path d=\"M18.56 5.44l.94 2.06.94-2.06 2.06-.94-2.06-.94-.94-2.06-.94 2.06-2.06.94zm-11 1L8.5 8.5l.94-2.06 2.06-.94-2.06-.94L8.5 2.5l-.94 2.06-2.06.94zm10 10l.94 2.06.94-2.06 2.06-.94-2.06-.94-.94-2.06-.94 2.06-2.06.94z\"/><path d=\"M17.41 7.96l-1.37-1.37c-.4-.4-.92-.59-1.43-.59-.52 0-1.04.2-1.43.59L10.3 9.45l-7.72 7.72c-.78.78-.78 2.05 0 2.83L4 21.41c.39.39.9.59 1.41.59.51 0 1.02-.2 1.41-.59l7.78-7.78 2.81-2.81c.8-.78.8-2.07 0-2.86zM5.41 20L4 18.59l7.72-7.72 1.47 1.35L5.41 20z\"/>\n",
              "  </svg>\n",
              "      </button>\n",
              "      \n",
              "  <style>\n",
              "    .colab-df-container {\n",
              "      display:flex;\n",
              "      flex-wrap:wrap;\n",
              "      gap: 12px;\n",
              "    }\n",
              "\n",
              "    .colab-df-convert {\n",
              "      background-color: #E8F0FE;\n",
              "      border: none;\n",
              "      border-radius: 50%;\n",
              "      cursor: pointer;\n",
              "      display: none;\n",
              "      fill: #1967D2;\n",
              "      height: 32px;\n",
              "      padding: 0 0 0 0;\n",
              "      width: 32px;\n",
              "    }\n",
              "\n",
              "    .colab-df-convert:hover {\n",
              "      background-color: #E2EBFA;\n",
              "      box-shadow: 0px 1px 2px rgba(60, 64, 67, 0.3), 0px 1px 3px 1px rgba(60, 64, 67, 0.15);\n",
              "      fill: #174EA6;\n",
              "    }\n",
              "\n",
              "    [theme=dark] .colab-df-convert {\n",
              "      background-color: #3B4455;\n",
              "      fill: #D2E3FC;\n",
              "    }\n",
              "\n",
              "    [theme=dark] .colab-df-convert:hover {\n",
              "      background-color: #434B5C;\n",
              "      box-shadow: 0px 1px 3px 1px rgba(0, 0, 0, 0.15);\n",
              "      filter: drop-shadow(0px 1px 2px rgba(0, 0, 0, 0.3));\n",
              "      fill: #FFFFFF;\n",
              "    }\n",
              "  </style>\n",
              "\n",
              "      <script>\n",
              "        const buttonEl =\n",
              "          document.querySelector('#df-a62285f9-7322-4856-a8c7-a3697e430083 button.colab-df-convert');\n",
              "        buttonEl.style.display =\n",
              "          google.colab.kernel.accessAllowed ? 'block' : 'none';\n",
              "\n",
              "        async function convertToInteractive(key) {\n",
              "          const element = document.querySelector('#df-a62285f9-7322-4856-a8c7-a3697e430083');\n",
              "          const dataTable =\n",
              "            await google.colab.kernel.invokeFunction('convertToInteractive',\n",
              "                                                     [key], {});\n",
              "          if (!dataTable) return;\n",
              "\n",
              "          const docLinkHtml = 'Like what you see? Visit the ' +\n",
              "            '<a target=\"_blank\" href=https://colab.research.google.com/notebooks/data_table.ipynb>data table notebook</a>'\n",
              "            + ' to learn more about interactive tables.';\n",
              "          element.innerHTML = '';\n",
              "          dataTable['output_type'] = 'display_data';\n",
              "          await google.colab.output.renderOutput(dataTable, element);\n",
              "          const docLink = document.createElement('div');\n",
              "          docLink.innerHTML = docLinkHtml;\n",
              "          element.appendChild(docLink);\n",
              "        }\n",
              "      </script>\n",
              "    </div>\n",
              "  </div>\n",
              "  "
            ],
            "text/plain": [
              "       fixed acidity  volatile acidity  ...     sulphates       alcohol\n",
              "count   4.974000e+03      4.974000e+03  ...  4.974000e+03  4.974000e+03\n",
              "mean    1.644746e-14     -2.219743e-15  ...  8.152573e-16 -7.321356e-14\n",
              "std     1.000000e+00      1.000000e+00  ...  1.000000e+00  1.000000e+00\n",
              "min    -2.691461e+00     -1.608687e+00  ... -2.074327e+00 -2.115841e+00\n",
              "25%    -6.587544e-01     -7.027829e-01  ... -6.215874e-01 -8.081956e-01\n",
              "50%    -1.896683e-01     -2.800277e-01  ... -1.373409e-01 -2.477759e-01\n",
              "75%     3.575988e-01      4.446956e-01  ...  4.852618e-01  6.862568e-01\n",
              "max     6.768442e+00      5.940514e+00  ...  1.003184e+01  4.328984e+00\n",
              "\n",
              "[8 rows x 11 columns]"
            ]
          },
          "metadata": {},
          "execution_count": 952
        }
      ],
      "source": [
        "num_data.describe()"
      ]
    },
    {
      "cell_type": "markdown",
      "id": "253435a1",
      "metadata": {
        "id": "253435a1"
      },
      "source": [
        "# Соединние `num_data` и `X[binary_columns]`"
      ]
    },
    {
      "cell_type": "code",
      "execution_count": 953,
      "id": "d8997d76",
      "metadata": {
        "colab": {
          "base_uri": "https://localhost:8080/",
          "height": 0
        },
        "id": "d8997d76",
        "outputId": "e7f0f2e1-836f-4242-9d46-4f8eac6462f7"
      },
      "outputs": [
        {
          "output_type": "execute_result",
          "data": {
            "text/html": [
              "\n",
              "  <div id=\"df-4a15135c-62bc-4d7d-8338-d468a33006d9\">\n",
              "    <div class=\"colab-df-container\">\n",
              "      <div>\n",
              "<style scoped>\n",
              "    .dataframe tbody tr th:only-of-type {\n",
              "        vertical-align: middle;\n",
              "    }\n",
              "\n",
              "    .dataframe tbody tr th {\n",
              "        vertical-align: top;\n",
              "    }\n",
              "\n",
              "    .dataframe thead th {\n",
              "        text-align: right;\n",
              "    }\n",
              "</style>\n",
              "<table border=\"1\" class=\"dataframe\">\n",
              "  <thead>\n",
              "    <tr style=\"text-align: right;\">\n",
              "      <th></th>\n",
              "      <th>fixed acidity</th>\n",
              "      <th>volatile acidity</th>\n",
              "      <th>citric acid</th>\n",
              "      <th>residual sugar</th>\n",
              "      <th>chlorides</th>\n",
              "      <th>free sulfur dioxide</th>\n",
              "      <th>total sulfur dioxide</th>\n",
              "      <th>density</th>\n",
              "      <th>pH</th>\n",
              "      <th>sulphates</th>\n",
              "      <th>alcohol</th>\n",
              "    </tr>\n",
              "  </thead>\n",
              "  <tbody>\n",
              "    <tr>\n",
              "      <th>count</th>\n",
              "      <td>4.974000e+03</td>\n",
              "      <td>4.974000e+03</td>\n",
              "      <td>4.974000e+03</td>\n",
              "      <td>4.974000e+03</td>\n",
              "      <td>4.974000e+03</td>\n",
              "      <td>4.974000e+03</td>\n",
              "      <td>4.974000e+03</td>\n",
              "      <td>4.974000e+03</td>\n",
              "      <td>4.974000e+03</td>\n",
              "      <td>4.974000e+03</td>\n",
              "      <td>4.974000e+03</td>\n",
              "    </tr>\n",
              "    <tr>\n",
              "      <th>mean</th>\n",
              "      <td>1.644746e-14</td>\n",
              "      <td>-2.219743e-15</td>\n",
              "      <td>1.349664e-14</td>\n",
              "      <td>-1.648382e-15</td>\n",
              "      <td>-1.038304e-14</td>\n",
              "      <td>-6.247516e-17</td>\n",
              "      <td>-1.041610e-15</td>\n",
              "      <td>2.019527e-12</td>\n",
              "      <td>-7.573444e-15</td>\n",
              "      <td>8.152573e-16</td>\n",
              "      <td>-7.321356e-14</td>\n",
              "    </tr>\n",
              "    <tr>\n",
              "      <th>std</th>\n",
              "      <td>1.000000e+00</td>\n",
              "      <td>1.000000e+00</td>\n",
              "      <td>1.000000e+00</td>\n",
              "      <td>1.000000e+00</td>\n",
              "      <td>1.000000e+00</td>\n",
              "      <td>1.000000e+00</td>\n",
              "      <td>1.000000e+00</td>\n",
              "      <td>1.000000e+00</td>\n",
              "      <td>1.000000e+00</td>\n",
              "      <td>1.000000e+00</td>\n",
              "      <td>1.000000e+00</td>\n",
              "    </tr>\n",
              "    <tr>\n",
              "      <th>min</th>\n",
              "      <td>-2.691461e+00</td>\n",
              "      <td>-1.608687e+00</td>\n",
              "      <td>-2.104785e+00</td>\n",
              "      <td>-1.025210e+00</td>\n",
              "      <td>-1.363535e+00</td>\n",
              "      <td>-1.690869e+00</td>\n",
              "      <td>-1.931235e+00</td>\n",
              "      <td>-2.753565e+00</td>\n",
              "      <td>-3.108787e+00</td>\n",
              "      <td>-2.074327e+00</td>\n",
              "      <td>-2.115841e+00</td>\n",
              "    </tr>\n",
              "    <tr>\n",
              "      <th>25%</th>\n",
              "      <td>-6.587544e-01</td>\n",
              "      <td>-7.027829e-01</td>\n",
              "      <td>-5.106320e-01</td>\n",
              "      <td>-7.820485e-01</td>\n",
              "      <td>-5.126865e-01</td>\n",
              "      <td>-7.819916e-01</td>\n",
              "      <td>-7.214486e-01</td>\n",
              "      <td>-7.397883e-01</td>\n",
              "      <td>-6.606626e-01</td>\n",
              "      <td>-6.215874e-01</td>\n",
              "      <td>-8.081956e-01</td>\n",
              "    </tr>\n",
              "    <tr>\n",
              "      <th>50%</th>\n",
              "      <td>-1.896683e-01</td>\n",
              "      <td>-2.800277e-01</td>\n",
              "      <td>-4.567084e-02</td>\n",
              "      <td>-5.186239e-01</td>\n",
              "      <td>-2.656660e-01</td>\n",
              "      <td>-1.003335e-01</td>\n",
              "      <td>5.627115e-02</td>\n",
              "      <td>1.000849e-01</td>\n",
              "      <td>-9.571089e-02</td>\n",
              "      <td>-1.373409e-01</td>\n",
              "      <td>-2.477759e-01</td>\n",
              "    </tr>\n",
              "    <tr>\n",
              "      <th>75%</th>\n",
              "      <td>3.575988e-01</td>\n",
              "      <td>4.446956e-01</td>\n",
              "      <td>5.521364e-01</td>\n",
              "      <td>5.756011e-01</td>\n",
              "      <td>3.107153e-01</td>\n",
              "      <td>6.381294e-01</td>\n",
              "      <td>7.302949e-01</td>\n",
              "      <td>7.280275e-01</td>\n",
              "      <td>5.947856e-01</td>\n",
              "      <td>4.852618e-01</td>\n",
              "      <td>6.862568e-01</td>\n",
              "    </tr>\n",
              "    <tr>\n",
              "      <th>max</th>\n",
              "      <td>6.768442e+00</td>\n",
              "      <td>5.940514e+00</td>\n",
              "      <td>8.921438e+00</td>\n",
              "      <td>1.218654e+01</td>\n",
              "      <td>1.515939e+01</td>\n",
              "      <td>5.693760e+00</td>\n",
              "      <td>3.910305e+00</td>\n",
              "      <td>1.530327e+01</td>\n",
              "      <td>4.988854e+00</td>\n",
              "      <td>1.003184e+01</td>\n",
              "      <td>4.328984e+00</td>\n",
              "    </tr>\n",
              "  </tbody>\n",
              "</table>\n",
              "</div>\n",
              "      <button class=\"colab-df-convert\" onclick=\"convertToInteractive('df-4a15135c-62bc-4d7d-8338-d468a33006d9')\"\n",
              "              title=\"Convert this dataframe to an interactive table.\"\n",
              "              style=\"display:none;\">\n",
              "        \n",
              "  <svg xmlns=\"http://www.w3.org/2000/svg\" height=\"24px\"viewBox=\"0 0 24 24\"\n",
              "       width=\"24px\">\n",
              "    <path d=\"M0 0h24v24H0V0z\" fill=\"none\"/>\n",
              "    <path d=\"M18.56 5.44l.94 2.06.94-2.06 2.06-.94-2.06-.94-.94-2.06-.94 2.06-2.06.94zm-11 1L8.5 8.5l.94-2.06 2.06-.94-2.06-.94L8.5 2.5l-.94 2.06-2.06.94zm10 10l.94 2.06.94-2.06 2.06-.94-2.06-.94-.94-2.06-.94 2.06-2.06.94z\"/><path d=\"M17.41 7.96l-1.37-1.37c-.4-.4-.92-.59-1.43-.59-.52 0-1.04.2-1.43.59L10.3 9.45l-7.72 7.72c-.78.78-.78 2.05 0 2.83L4 21.41c.39.39.9.59 1.41.59.51 0 1.02-.2 1.41-.59l7.78-7.78 2.81-2.81c.8-.78.8-2.07 0-2.86zM5.41 20L4 18.59l7.72-7.72 1.47 1.35L5.41 20z\"/>\n",
              "  </svg>\n",
              "      </button>\n",
              "      \n",
              "  <style>\n",
              "    .colab-df-container {\n",
              "      display:flex;\n",
              "      flex-wrap:wrap;\n",
              "      gap: 12px;\n",
              "    }\n",
              "\n",
              "    .colab-df-convert {\n",
              "      background-color: #E8F0FE;\n",
              "      border: none;\n",
              "      border-radius: 50%;\n",
              "      cursor: pointer;\n",
              "      display: none;\n",
              "      fill: #1967D2;\n",
              "      height: 32px;\n",
              "      padding: 0 0 0 0;\n",
              "      width: 32px;\n",
              "    }\n",
              "\n",
              "    .colab-df-convert:hover {\n",
              "      background-color: #E2EBFA;\n",
              "      box-shadow: 0px 1px 2px rgba(60, 64, 67, 0.3), 0px 1px 3px 1px rgba(60, 64, 67, 0.15);\n",
              "      fill: #174EA6;\n",
              "    }\n",
              "\n",
              "    [theme=dark] .colab-df-convert {\n",
              "      background-color: #3B4455;\n",
              "      fill: #D2E3FC;\n",
              "    }\n",
              "\n",
              "    [theme=dark] .colab-df-convert:hover {\n",
              "      background-color: #434B5C;\n",
              "      box-shadow: 0px 1px 3px 1px rgba(0, 0, 0, 0.15);\n",
              "      filter: drop-shadow(0px 1px 2px rgba(0, 0, 0, 0.3));\n",
              "      fill: #FFFFFF;\n",
              "    }\n",
              "  </style>\n",
              "\n",
              "      <script>\n",
              "        const buttonEl =\n",
              "          document.querySelector('#df-4a15135c-62bc-4d7d-8338-d468a33006d9 button.colab-df-convert');\n",
              "        buttonEl.style.display =\n",
              "          google.colab.kernel.accessAllowed ? 'block' : 'none';\n",
              "\n",
              "        async function convertToInteractive(key) {\n",
              "          const element = document.querySelector('#df-4a15135c-62bc-4d7d-8338-d468a33006d9');\n",
              "          const dataTable =\n",
              "            await google.colab.kernel.invokeFunction('convertToInteractive',\n",
              "                                                     [key], {});\n",
              "          if (!dataTable) return;\n",
              "\n",
              "          const docLinkHtml = 'Like what you see? Visit the ' +\n",
              "            '<a target=\"_blank\" href=https://colab.research.google.com/notebooks/data_table.ipynb>data table notebook</a>'\n",
              "            + ' to learn more about interactive tables.';\n",
              "          element.innerHTML = '';\n",
              "          dataTable['output_type'] = 'display_data';\n",
              "          await google.colab.output.renderOutput(dataTable, element);\n",
              "          const docLink = document.createElement('div');\n",
              "          docLink.innerHTML = docLinkHtml;\n",
              "          element.appendChild(docLink);\n",
              "        }\n",
              "      </script>\n",
              "    </div>\n",
              "  </div>\n",
              "  "
            ],
            "text/plain": [
              "       fixed acidity  volatile acidity  ...     sulphates       alcohol\n",
              "count   4.974000e+03      4.974000e+03  ...  4.974000e+03  4.974000e+03\n",
              "mean    1.644746e-14     -2.219743e-15  ...  8.152573e-16 -7.321356e-14\n",
              "std     1.000000e+00      1.000000e+00  ...  1.000000e+00  1.000000e+00\n",
              "min    -2.691461e+00     -1.608687e+00  ... -2.074327e+00 -2.115841e+00\n",
              "25%    -6.587544e-01     -7.027829e-01  ... -6.215874e-01 -8.081956e-01\n",
              "50%    -1.896683e-01     -2.800277e-01  ... -1.373409e-01 -2.477759e-01\n",
              "75%     3.575988e-01      4.446956e-01  ...  4.852618e-01  6.862568e-01\n",
              "max     6.768442e+00      5.940514e+00  ...  1.003184e+01  4.328984e+00\n",
              "\n",
              "[8 rows x 11 columns]"
            ]
          },
          "metadata": {},
          "execution_count": 953
        }
      ],
      "source": [
        "X = pd.concat((num_data, X[binary_columns]), axis = 1)\n",
        "X.describe()"
      ]
    },
    {
      "cell_type": "code",
      "execution_count": 954,
      "id": "c6ae799b",
      "metadata": {
        "colab": {
          "base_uri": "https://localhost:8080/",
          "height": 0
        },
        "id": "c6ae799b",
        "outputId": "90ef8ff7-a1a5-4582-aef3-c2cbb582d9d3"
      },
      "outputs": [
        {
          "output_type": "execute_result",
          "data": {
            "text/html": [
              "\n",
              "  <div id=\"df-40c0aab9-7ecf-4888-bd45-011253a73f20\">\n",
              "    <div class=\"colab-df-container\">\n",
              "      <div>\n",
              "<style scoped>\n",
              "    .dataframe tbody tr th:only-of-type {\n",
              "        vertical-align: middle;\n",
              "    }\n",
              "\n",
              "    .dataframe tbody tr th {\n",
              "        vertical-align: top;\n",
              "    }\n",
              "\n",
              "    .dataframe thead th {\n",
              "        text-align: right;\n",
              "    }\n",
              "</style>\n",
              "<table border=\"1\" class=\"dataframe\">\n",
              "  <thead>\n",
              "    <tr style=\"text-align: right;\">\n",
              "      <th></th>\n",
              "      <th>fixed acidity</th>\n",
              "      <th>volatile acidity</th>\n",
              "      <th>citric acid</th>\n",
              "      <th>residual sugar</th>\n",
              "      <th>chlorides</th>\n",
              "      <th>free sulfur dioxide</th>\n",
              "      <th>total sulfur dioxide</th>\n",
              "      <th>density</th>\n",
              "      <th>pH</th>\n",
              "      <th>sulphates</th>\n",
              "      <th>alcohol</th>\n",
              "      <th>type</th>\n",
              "    </tr>\n",
              "  </thead>\n",
              "  <tbody>\n",
              "    <tr>\n",
              "      <th>0</th>\n",
              "      <td>-0.189668</td>\n",
              "      <td>-0.461209</td>\n",
              "      <td>0.286444</td>\n",
              "      <td>3.047739</td>\n",
              "      <td>-0.375453</td>\n",
              "      <td>0.808544</td>\n",
              "      <td>0.903122</td>\n",
              "      <td>2.053684</td>\n",
              "      <td>-1.351159</td>\n",
              "      <td>-0.552409</td>\n",
              "      <td>-1.368615</td>\n",
              "      <td>0</td>\n",
              "    </tr>\n",
              "    <tr>\n",
              "      <th>1</th>\n",
              "      <td>-0.736935</td>\n",
              "      <td>-0.280028</td>\n",
              "      <td>0.153598</td>\n",
              "      <td>-0.822575</td>\n",
              "      <td>-0.265666</td>\n",
              "      <td>-0.952406</td>\n",
              "      <td>0.246380</td>\n",
              "      <td>-0.388315</td>\n",
              "      <td>0.532013</td>\n",
              "      <td>-0.275697</td>\n",
              "      <td>-0.714792</td>\n",
              "      <td>0</td>\n",
              "    </tr>\n",
              "    <tr>\n",
              "      <th>2</th>\n",
              "      <td>0.670323</td>\n",
              "      <td>-0.400815</td>\n",
              "      <td>0.552136</td>\n",
              "      <td>0.251386</td>\n",
              "      <td>-0.238219</td>\n",
              "      <td>-0.043529</td>\n",
              "      <td>-0.358513</td>\n",
              "      <td>-0.004572</td>\n",
              "      <td>0.280924</td>\n",
              "      <td>-0.621587</td>\n",
              "      <td>-0.154373</td>\n",
              "      <td>0</td>\n",
              "    </tr>\n",
              "    <tr>\n",
              "      <th>3</th>\n",
              "      <td>-0.033306</td>\n",
              "      <td>-0.702783</td>\n",
              "      <td>0.020752</td>\n",
              "      <td>0.575601</td>\n",
              "      <td>-0.018645</td>\n",
              "      <td>0.922154</td>\n",
              "      <td>1.179644</td>\n",
              "      <td>0.169856</td>\n",
              "      <td>-0.158483</td>\n",
              "      <td>-0.898300</td>\n",
              "      <td>-0.341179</td>\n",
              "      <td>0</td>\n",
              "    </tr>\n",
              "    <tr>\n",
              "      <th>4</th>\n",
              "      <td>-0.033306</td>\n",
              "      <td>-0.702783</td>\n",
              "      <td>0.020752</td>\n",
              "      <td>0.575601</td>\n",
              "      <td>-0.018645</td>\n",
              "      <td>0.922154</td>\n",
              "      <td>1.179644</td>\n",
              "      <td>0.169856</td>\n",
              "      <td>-0.158483</td>\n",
              "      <td>-0.898300</td>\n",
              "      <td>-0.341179</td>\n",
              "      <td>0</td>\n",
              "    </tr>\n",
              "    <tr>\n",
              "      <th>...</th>\n",
              "      <td>...</td>\n",
              "      <td>...</td>\n",
              "      <td>...</td>\n",
              "      <td>...</td>\n",
              "      <td>...</td>\n",
              "      <td>...</td>\n",
              "      <td>...</td>\n",
              "      <td>...</td>\n",
              "      <td>...</td>\n",
              "      <td>...</td>\n",
              "      <td>...</td>\n",
              "      <td>...</td>\n",
              "    </tr>\n",
              "    <tr>\n",
              "      <th>6492</th>\n",
              "      <td>-0.815116</td>\n",
              "      <td>1.531781</td>\n",
              "      <td>-1.573400</td>\n",
              "      <td>-0.741522</td>\n",
              "      <td>0.859650</td>\n",
              "      <td>0.070081</td>\n",
              "      <td>-1.274494</td>\n",
              "      <td>-0.074344</td>\n",
              "      <td>1.473599</td>\n",
              "      <td>0.346906</td>\n",
              "      <td>0.219240</td>\n",
              "      <td>1</td>\n",
              "    </tr>\n",
              "    <tr>\n",
              "      <th>6493</th>\n",
              "      <td>-1.049659</td>\n",
              "      <td>1.229812</td>\n",
              "      <td>-1.440554</td>\n",
              "      <td>-0.700995</td>\n",
              "      <td>0.091141</td>\n",
              "      <td>0.467715</td>\n",
              "      <td>-1.153515</td>\n",
              "      <td>0.002405</td>\n",
              "      <td>1.913006</td>\n",
              "      <td>-0.137341</td>\n",
              "      <td>0.873063</td>\n",
              "      <td>1</td>\n",
              "    </tr>\n",
              "    <tr>\n",
              "      <th>6494</th>\n",
              "      <td>-0.736935</td>\n",
              "      <td>0.988238</td>\n",
              "      <td>-1.241285</td>\n",
              "      <td>-0.680731</td>\n",
              "      <td>0.475396</td>\n",
              "      <td>-0.100334</td>\n",
              "      <td>-1.343624</td>\n",
              "      <td>0.218696</td>\n",
              "      <td>1.285282</td>\n",
              "      <td>1.522933</td>\n",
              "      <td>0.686257</td>\n",
              "      <td>1</td>\n",
              "    </tr>\n",
              "    <tr>\n",
              "      <th>6495</th>\n",
              "      <td>-1.049659</td>\n",
              "      <td>1.803552</td>\n",
              "      <td>-1.307708</td>\n",
              "      <td>-0.741522</td>\n",
              "      <td>0.447949</td>\n",
              "      <td>0.070081</td>\n",
              "      <td>-1.274494</td>\n",
              "      <td>0.124505</td>\n",
              "      <td>2.226868</td>\n",
              "      <td>1.246221</td>\n",
              "      <td>-0.060969</td>\n",
              "      <td>1</td>\n",
              "    </tr>\n",
              "    <tr>\n",
              "      <th>6496</th>\n",
              "      <td>-0.971478</td>\n",
              "      <td>-0.219634</td>\n",
              "      <td>1.017098</td>\n",
              "      <td>-0.417307</td>\n",
              "      <td>0.228375</td>\n",
              "      <td>-0.725187</td>\n",
              "      <td>-1.309059</td>\n",
              "      <td>0.131482</td>\n",
              "      <td>1.096965</td>\n",
              "      <td>0.900330</td>\n",
              "      <td>0.686257</td>\n",
              "      <td>1</td>\n",
              "    </tr>\n",
              "  </tbody>\n",
              "</table>\n",
              "<p>4974 rows × 12 columns</p>\n",
              "</div>\n",
              "      <button class=\"colab-df-convert\" onclick=\"convertToInteractive('df-40c0aab9-7ecf-4888-bd45-011253a73f20')\"\n",
              "              title=\"Convert this dataframe to an interactive table.\"\n",
              "              style=\"display:none;\">\n",
              "        \n",
              "  <svg xmlns=\"http://www.w3.org/2000/svg\" height=\"24px\"viewBox=\"0 0 24 24\"\n",
              "       width=\"24px\">\n",
              "    <path d=\"M0 0h24v24H0V0z\" fill=\"none\"/>\n",
              "    <path d=\"M18.56 5.44l.94 2.06.94-2.06 2.06-.94-2.06-.94-.94-2.06-.94 2.06-2.06.94zm-11 1L8.5 8.5l.94-2.06 2.06-.94-2.06-.94L8.5 2.5l-.94 2.06-2.06.94zm10 10l.94 2.06.94-2.06 2.06-.94-2.06-.94-.94-2.06-.94 2.06-2.06.94z\"/><path d=\"M17.41 7.96l-1.37-1.37c-.4-.4-.92-.59-1.43-.59-.52 0-1.04.2-1.43.59L10.3 9.45l-7.72 7.72c-.78.78-.78 2.05 0 2.83L4 21.41c.39.39.9.59 1.41.59.51 0 1.02-.2 1.41-.59l7.78-7.78 2.81-2.81c.8-.78.8-2.07 0-2.86zM5.41 20L4 18.59l7.72-7.72 1.47 1.35L5.41 20z\"/>\n",
              "  </svg>\n",
              "      </button>\n",
              "      \n",
              "  <style>\n",
              "    .colab-df-container {\n",
              "      display:flex;\n",
              "      flex-wrap:wrap;\n",
              "      gap: 12px;\n",
              "    }\n",
              "\n",
              "    .colab-df-convert {\n",
              "      background-color: #E8F0FE;\n",
              "      border: none;\n",
              "      border-radius: 50%;\n",
              "      cursor: pointer;\n",
              "      display: none;\n",
              "      fill: #1967D2;\n",
              "      height: 32px;\n",
              "      padding: 0 0 0 0;\n",
              "      width: 32px;\n",
              "    }\n",
              "\n",
              "    .colab-df-convert:hover {\n",
              "      background-color: #E2EBFA;\n",
              "      box-shadow: 0px 1px 2px rgba(60, 64, 67, 0.3), 0px 1px 3px 1px rgba(60, 64, 67, 0.15);\n",
              "      fill: #174EA6;\n",
              "    }\n",
              "\n",
              "    [theme=dark] .colab-df-convert {\n",
              "      background-color: #3B4455;\n",
              "      fill: #D2E3FC;\n",
              "    }\n",
              "\n",
              "    [theme=dark] .colab-df-convert:hover {\n",
              "      background-color: #434B5C;\n",
              "      box-shadow: 0px 1px 3px 1px rgba(0, 0, 0, 0.15);\n",
              "      filter: drop-shadow(0px 1px 2px rgba(0, 0, 0, 0.3));\n",
              "      fill: #FFFFFF;\n",
              "    }\n",
              "  </style>\n",
              "\n",
              "      <script>\n",
              "        const buttonEl =\n",
              "          document.querySelector('#df-40c0aab9-7ecf-4888-bd45-011253a73f20 button.colab-df-convert');\n",
              "        buttonEl.style.display =\n",
              "          google.colab.kernel.accessAllowed ? 'block' : 'none';\n",
              "\n",
              "        async function convertToInteractive(key) {\n",
              "          const element = document.querySelector('#df-40c0aab9-7ecf-4888-bd45-011253a73f20');\n",
              "          const dataTable =\n",
              "            await google.colab.kernel.invokeFunction('convertToInteractive',\n",
              "                                                     [key], {});\n",
              "          if (!dataTable) return;\n",
              "\n",
              "          const docLinkHtml = 'Like what you see? Visit the ' +\n",
              "            '<a target=\"_blank\" href=https://colab.research.google.com/notebooks/data_table.ipynb>data table notebook</a>'\n",
              "            + ' to learn more about interactive tables.';\n",
              "          element.innerHTML = '';\n",
              "          dataTable['output_type'] = 'display_data';\n",
              "          await google.colab.output.renderOutput(dataTable, element);\n",
              "          const docLink = document.createElement('div');\n",
              "          docLink.innerHTML = docLinkHtml;\n",
              "          element.appendChild(docLink);\n",
              "        }\n",
              "      </script>\n",
              "    </div>\n",
              "  </div>\n",
              "  "
            ],
            "text/plain": [
              "      fixed acidity  volatile acidity  citric acid  ...  sulphates   alcohol  type\n",
              "0         -0.189668         -0.461209     0.286444  ...  -0.552409 -1.368615     0\n",
              "1         -0.736935         -0.280028     0.153598  ...  -0.275697 -0.714792     0\n",
              "2          0.670323         -0.400815     0.552136  ...  -0.621587 -0.154373     0\n",
              "3         -0.033306         -0.702783     0.020752  ...  -0.898300 -0.341179     0\n",
              "4         -0.033306         -0.702783     0.020752  ...  -0.898300 -0.341179     0\n",
              "...             ...               ...          ...  ...        ...       ...   ...\n",
              "6492      -0.815116          1.531781    -1.573400  ...   0.346906  0.219240     1\n",
              "6493      -1.049659          1.229812    -1.440554  ...  -0.137341  0.873063     1\n",
              "6494      -0.736935          0.988238    -1.241285  ...   1.522933  0.686257     1\n",
              "6495      -1.049659          1.803552    -1.307708  ...   1.246221 -0.060969     1\n",
              "6496      -0.971478         -0.219634     1.017098  ...   0.900330  0.686257     1\n",
              "\n",
              "[4974 rows x 12 columns]"
            ]
          },
          "metadata": {},
          "execution_count": 954
        }
      ],
      "source": [
        "X"
      ]
    },
    {
      "cell_type": "code",
      "execution_count": 955,
      "id": "8d80ca06",
      "metadata": {
        "colab": {
          "base_uri": "https://localhost:8080/"
        },
        "id": "8d80ca06",
        "outputId": "bbf3f2dd-43aa-4557-814b-6d45f2d94183"
      },
      "outputs": [
        {
          "output_type": "stream",
          "name": "stdout",
          "text": [
            "(4974, 12)\n"
          ]
        }
      ],
      "source": [
        "print(X.shape)"
      ]
    },
    {
      "cell_type": "code",
      "execution_count": 956,
      "id": "67f9dd4c",
      "metadata": {
        "colab": {
          "base_uri": "https://localhost:8080/"
        },
        "id": "67f9dd4c",
        "outputId": "4523ca74-d0a6-4872-d787-89cf6b9af9c7"
      },
      "outputs": [
        {
          "output_type": "execute_result",
          "data": {
            "text/plain": [
              "Index(['fixed acidity', 'volatile acidity', 'citric acid', 'residual sugar',\n",
              "       'chlorides', 'free sulfur dioxide', 'total sulfur dioxide', 'density',\n",
              "       'pH', 'sulphates', 'alcohol', 'type'],\n",
              "      dtype='object')"
            ]
          },
          "metadata": {},
          "execution_count": 956
        }
      ],
      "source": [
        "features = X.columns\n",
        "features"
      ]
    },
    {
      "cell_type": "code",
      "execution_count": 957,
      "id": "217a76b3",
      "metadata": {
        "colab": {
          "base_uri": "https://localhost:8080/"
        },
        "id": "217a76b3",
        "outputId": "18c0dfd1-5de1-4b87-af10-e412f708f696"
      },
      "outputs": [
        {
          "output_type": "execute_result",
          "data": {
            "text/plain": [
              "pandas.core.indexes.base.Index"
            ]
          },
          "metadata": {},
          "execution_count": 957
        }
      ],
      "source": [
        "type(features)"
      ]
    },
    {
      "cell_type": "code",
      "execution_count": 958,
      "id": "9e59063a",
      "metadata": {
        "id": "9e59063a"
      },
      "outputs": [],
      "source": [
        "X = X.to_numpy()"
      ]
    },
    {
      "cell_type": "code",
      "execution_count": 959,
      "id": "cc26a474",
      "metadata": {
        "id": "cc26a474"
      },
      "outputs": [],
      "source": [
        "Y = Y.to_numpy(dtype='int32')"
      ]
    },
    {
      "cell_type": "code",
      "execution_count": 960,
      "id": "4c3bb226",
      "metadata": {
        "colab": {
          "base_uri": "https://localhost:8080/"
        },
        "id": "4c3bb226",
        "outputId": "3c6689a8-effb-43cc-d103-cb3e5ff0c187"
      },
      "outputs": [
        {
          "output_type": "stream",
          "name": "stdout",
          "text": [
            "(4974, 12)\n",
            "(4974,)\n"
          ]
        }
      ],
      "source": [
        "print(X.shape)\n",
        "print(Y.shape)\n",
        "N, d = X.shape"
      ]
    },
    {
      "cell_type": "code",
      "execution_count": 961,
      "id": "1397803c",
      "metadata": {
        "colab": {
          "base_uri": "https://localhost:8080/"
        },
        "id": "1397803c",
        "outputId": "e042f687-295b-4544-8b2f-5e7309db7b64"
      },
      "outputs": [
        {
          "output_type": "execute_result",
          "data": {
            "text/plain": [
              "numpy.ndarray"
            ]
          },
          "metadata": {},
          "execution_count": 961
        }
      ],
      "source": [
        "type(X)"
      ]
    },
    {
      "cell_type": "code",
      "execution_count": 962,
      "id": "41e10fbc",
      "metadata": {
        "colab": {
          "base_uri": "https://localhost:8080/"
        },
        "id": "41e10fbc",
        "outputId": "111a464b-8fba-4819-f1f5-651952c450a0"
      },
      "outputs": [
        {
          "output_type": "execute_result",
          "data": {
            "text/plain": [
              "numpy.ndarray"
            ]
          },
          "metadata": {},
          "execution_count": 962
        }
      ],
      "source": [
        "type(Y)"
      ]
    },
    {
      "cell_type": "code",
      "execution_count": 963,
      "id": "30293e7d",
      "metadata": {
        "colab": {
          "base_uri": "https://localhost:8080/"
        },
        "id": "30293e7d",
        "outputId": "b3837685-cb30-464d-e531-cbc49cd0935b"
      },
      "outputs": [
        {
          "output_type": "execute_result",
          "data": {
            "text/plain": [
              "array([5, 6], dtype=int32)"
            ]
          },
          "metadata": {},
          "execution_count": 963
        }
      ],
      "source": [
        "np.unique(Y)"
      ]
    },
    {
      "cell_type": "markdown",
      "source": [
        "# Обучение полносвязаной неглубокой нейронной сети без подбора параметров"
      ],
      "metadata": {
        "id": "OdvKAHBZ4rZn"
      },
      "id": "OdvKAHBZ4rZn"
    },
    {
      "cell_type": "code",
      "source": [
        "hidden_layers_1 = (70,)\n",
        "hidden_layers_2 = (55, 15)\n",
        "test_part = 0.25"
      ],
      "metadata": {
        "id": "pz708_Fze9VO"
      },
      "id": "pz708_Fze9VO",
      "execution_count": 964,
      "outputs": []
    },
    {
      "cell_type": "markdown",
      "source": [
        "## Функция обучения"
      ],
      "metadata": {
        "id": "Lu1tw06TgLgL"
      },
      "id": "Lu1tw06TgLgL"
    },
    {
      "cell_type": "code",
      "source": [
        "from sklearn.neural_network import MLPClassifier\n",
        "from sklearn.model_selection import train_test_split\n",
        "\n",
        "def learn_neural(hidden_layers):\n",
        "  X_train, X_test, y_train, y_test = train_test_split(X, Y, test_size = test_part, random_state = 42)\n",
        "  N_train, _ = X_train.shape \n",
        "  N_test,  _ = X_test.shape \n",
        "  model = MLPClassifier(hidden_layer_sizes = hidden_layers, solver = 'adam', \n",
        "                          activation = 'logistic', max_iter=2000,\n",
        "                          random_state = 42, verbose=1, tol=1e-3)\n",
        "  model.fit(X_train, y_train)\n",
        "  return X_train, X_test, y_train, y_test, model"
      ],
      "metadata": {
        "id": "6LOYCHmlNbgi"
      },
      "id": "6LOYCHmlNbgi",
      "execution_count": 965,
      "outputs": []
    },
    {
      "cell_type": "markdown",
      "source": [
        "## 1 слой"
      ],
      "metadata": {
        "id": "kcjrX-kKWN1w"
      },
      "id": "kcjrX-kKWN1w"
    },
    {
      "cell_type": "code",
      "source": [
        "X_train, X_test, y_train, y_test, model = learn_neural(hidden_layers_1)\n",
        "y_test_predict = model.predict(X_test)\n",
        "y_train_predict = model.predict(X_train)\n",
        "err_test  = np.mean(y_test != y_test_predict)\n",
        "err_train  = np.mean(y_train != y_train_predict)"
      ],
      "metadata": {
        "colab": {
          "base_uri": "https://localhost:8080/"
        },
        "id": "qyCZXXbt4qbO",
        "outputId": "5a701b44-bd49-483a-cf73-e3991df50141"
      },
      "id": "qyCZXXbt4qbO",
      "execution_count": 966,
      "outputs": [
        {
          "output_type": "stream",
          "name": "stdout",
          "text": [
            "Iteration 1, loss = 0.69933947\n",
            "Iteration 2, loss = 0.66625791\n",
            "Iteration 3, loss = 0.65533352\n",
            "Iteration 4, loss = 0.64536734\n",
            "Iteration 5, loss = 0.63670757\n",
            "Iteration 6, loss = 0.62910659\n",
            "Iteration 7, loss = 0.62217783\n",
            "Iteration 8, loss = 0.61618427\n",
            "Iteration 9, loss = 0.61038315\n",
            "Iteration 10, loss = 0.60597152\n",
            "Iteration 11, loss = 0.60141638\n",
            "Iteration 12, loss = 0.59811680\n",
            "Iteration 13, loss = 0.59486888\n",
            "Iteration 14, loss = 0.59235658\n",
            "Iteration 15, loss = 0.58987566\n",
            "Iteration 16, loss = 0.58812984\n",
            "Iteration 17, loss = 0.58625098\n",
            "Iteration 18, loss = 0.58488401\n",
            "Iteration 19, loss = 0.58413256\n",
            "Iteration 20, loss = 0.58294959\n",
            "Iteration 21, loss = 0.58215835\n",
            "Iteration 22, loss = 0.58165481\n",
            "Iteration 23, loss = 0.58184731\n",
            "Iteration 24, loss = 0.58075853\n",
            "Iteration 25, loss = 0.58072388\n",
            "Iteration 26, loss = 0.58023800\n",
            "Iteration 27, loss = 0.58018238\n",
            "Iteration 28, loss = 0.57995881\n",
            "Iteration 29, loss = 0.57987435\n",
            "Iteration 30, loss = 0.58021513\n",
            "Iteration 31, loss = 0.57985401\n",
            "Training loss did not improve more than tol=0.001000 for 10 consecutive epochs. Stopping.\n"
          ]
        }
      ]
    },
    {
      "cell_type": "code",
      "source": [
        "err_test, err_train"
      ],
      "metadata": {
        "colab": {
          "base_uri": "https://localhost:8080/"
        },
        "id": "JqdYdexF5Pyp",
        "outputId": "62847b34-f8ed-4612-f763-1d1065ef98ec"
      },
      "id": "JqdYdexF5Pyp",
      "execution_count": 967,
      "outputs": [
        {
          "output_type": "execute_result",
          "data": {
            "text/plain": [
              "(0.30144694533762056, 0.30080428954423594)"
            ]
          },
          "metadata": {},
          "execution_count": 967
        }
      ]
    },
    {
      "cell_type": "markdown",
      "source": [
        "## 2 слоя"
      ],
      "metadata": {
        "id": "Tcq60Zx-5Tna"
      },
      "id": "Tcq60Zx-5Tna"
    },
    {
      "cell_type": "code",
      "source": [
        "X_train, X_test, y_train, y_test, model = learn_neural(hidden_layers_2)\n",
        "y_test_predict = model.predict(X_test)\n",
        "y_train_predict = model.predict(X_train)\n",
        "err_test = np.mean(y_test != y_test_predict)\n",
        "err_train = np.mean(y_train != y_train_predict)"
      ],
      "metadata": {
        "colab": {
          "base_uri": "https://localhost:8080/"
        },
        "id": "y9cmABml5VWm",
        "outputId": "46c035b2-11c0-43f7-896b-90a4b1bfb50b"
      },
      "id": "y9cmABml5VWm",
      "execution_count": 968,
      "outputs": [
        {
          "output_type": "stream",
          "name": "stdout",
          "text": [
            "Iteration 1, loss = 0.67885777\n",
            "Iteration 2, loss = 0.67602744\n",
            "Iteration 3, loss = 0.67185456\n",
            "Iteration 4, loss = 0.66680810\n",
            "Iteration 5, loss = 0.66037462\n",
            "Iteration 6, loss = 0.65187709\n",
            "Iteration 7, loss = 0.64260737\n",
            "Iteration 8, loss = 0.63273646\n",
            "Iteration 9, loss = 0.62344862\n",
            "Iteration 10, loss = 0.61528818\n",
            "Iteration 11, loss = 0.60860763\n",
            "Iteration 12, loss = 0.60249745\n",
            "Iteration 13, loss = 0.59780557\n",
            "Iteration 14, loss = 0.59397414\n",
            "Iteration 15, loss = 0.59089546\n",
            "Iteration 16, loss = 0.58850966\n",
            "Iteration 17, loss = 0.58681452\n",
            "Iteration 18, loss = 0.58534693\n",
            "Iteration 19, loss = 0.58421813\n",
            "Iteration 20, loss = 0.58313509\n",
            "Iteration 21, loss = 0.58241444\n",
            "Iteration 22, loss = 0.58172055\n",
            "Iteration 23, loss = 0.58134792\n",
            "Iteration 24, loss = 0.58098816\n",
            "Iteration 25, loss = 0.58069961\n",
            "Iteration 26, loss = 0.58045055\n",
            "Iteration 27, loss = 0.58033976\n",
            "Iteration 28, loss = 0.58024714\n",
            "Iteration 29, loss = 0.58004354\n",
            "Iteration 30, loss = 0.57994880\n",
            "Iteration 31, loss = 0.58044772\n",
            "Training loss did not improve more than tol=0.001000 for 10 consecutive epochs. Stopping.\n"
          ]
        }
      ]
    },
    {
      "cell_type": "code",
      "source": [
        "err_test, err_train"
      ],
      "metadata": {
        "colab": {
          "base_uri": "https://localhost:8080/"
        },
        "id": "BFNyVjtiPkjP",
        "outputId": "01a00956-1b9b-491c-8262-810fbcc90f43"
      },
      "id": "BFNyVjtiPkjP",
      "execution_count": 969,
      "outputs": [
        {
          "output_type": "execute_result",
          "data": {
            "text/plain": [
              "(0.3046623794212219, 0.29865951742627345)"
            ]
          },
          "metadata": {},
          "execution_count": 969
        }
      ]
    },
    {
      "cell_type": "markdown",
      "source": [
        "## Выводы\n",
        "\n",
        "Два слоя оказались более ошибочными нежели один, или практически такими же. Поэтому в дальнейшем будем работать и подбирать параметры только в рамках одного слоя, так как это проще и точнее."
      ],
      "metadata": {
        "id": "uMDcIO4Giq4P"
      },
      "id": "uMDcIO4Giq4P"
    },
    {
      "cell_type": "markdown",
      "source": [
        "# Подбор `alpha`"
      ],
      "metadata": {
        "id": "OzXdngxTVDgB"
      },
      "id": "OzXdngxTVDgB"
    },
    {
      "cell_type": "markdown",
      "source": [
        "## Функция обучения"
      ],
      "metadata": {
        "id": "YzzhSRO8fzCU"
      },
      "id": "YzzhSRO8fzCU"
    },
    {
      "cell_type": "code",
      "source": [
        "alpha = np.logspace(-7, 3, 21)"
      ],
      "metadata": {
        "id": "OOiTxOQsfs1Z"
      },
      "id": "OOiTxOQsfs1Z",
      "execution_count": 970,
      "outputs": []
    },
    {
      "cell_type": "code",
      "source": [
        "from sklearn.metrics import accuracy_score\n",
        "import tqdm\n",
        "def learn_neural_alpha(alpha, hidden_layer):\n",
        "  test_error_list = []\n",
        "  train_error_list = []\n",
        "  train_accuracy = []\n",
        "  test_accuracy = []\n",
        "  model = MLPClassifier(alpha=alpha[0], hidden_layer_sizes= hidden_layer, solver = 'adam', activation = 'logistic', max_iter=2000, random_state = 42, tol=1e-3)\n",
        "  for a in tqdm.tqdm_notebook(alpha):\n",
        "    model = MLPClassifier(alpha=a, hidden_layer_sizes = hidden_layer, solver = 'adam', activation = 'logistic', max_iter=2000, random_state = 42, tol=1e-3)\n",
        "    model.fit(X_train, y_train)\n",
        "    y_train_pred = model.predict(X_train)\n",
        "    y_test_pred = model.predict(X_test)\n",
        "    train_error_list.append(np.mean(y_train != y_train_pred))\n",
        "    test_error_list.append(np.mean(y_test != y_test_pred))\n",
        "    train_accuracy.append(accuracy_score(y_train, y_train_pred))\n",
        "    test_accuracy.append(accuracy_score(y_test, y_test_pred))\n",
        "  return train_error_list, test_error_list, train_accuracy, test_accuracy, model"
      ],
      "metadata": {
        "id": "GgT77ytPXIaz"
      },
      "id": "GgT77ytPXIaz",
      "execution_count": 971,
      "outputs": []
    },
    {
      "cell_type": "markdown",
      "source": [
        "## 1 слой"
      ],
      "metadata": {
        "id": "ic8Fh4dWVRzz"
      },
      "id": "ic8Fh4dWVRzz"
    },
    {
      "cell_type": "code",
      "source": [
        "train_error_list, test_error_list, train_accuracy_list, test_accuracy_list, model = learn_neural_alpha(alpha, hidden_layers_1)\n",
        "plt.semilogx(alpha, train_error_list, 'b-o', label = 'Train')\n",
        "plt.semilogx(alpha, test_error_list, 'g-o', label = 'Test')\n",
        "plt.xlim([np.min(alpha), np.max(alpha)])\n",
        "plt.title('Error | Alpha parameter')\n",
        "plt.xlabel('Alpha')\n",
        "plt.ylabel('Error')\n",
        "plt.legend()"
      ],
      "metadata": {
        "colab": {
          "base_uri": "https://localhost:8080/",
          "height": 404,
          "referenced_widgets": [
            "22f11e8ed8c642ac9afcea3f7432abc6",
            "c785b2839a3d4dc2a6428d38b8c81fa8",
            "95252458c46f4a899a27c30a7be52126",
            "80fcdbbfd84f4c5fb8190815dcad89fd",
            "c9cf4c6330494f1ca7a26ab4f0a47aa4",
            "31e13494c6174caeb54bc4be358c7be0",
            "3af28005b0f54739934a6ca494bce656",
            "6292f9bf9f7d48eb8ed1776b4e03215d",
            "0fdeef3d7a7d4553905e3105f994f308",
            "bbe72fa7d47c492f93743e2d65d2f9e2",
            "6a496a57370f4bc0a97cb2c678d2e141"
          ]
        },
        "id": "txc8mxKY5nRu",
        "outputId": "f1c76da9-b867-4b16-e800-b85ba7ec2fa7"
      },
      "id": "txc8mxKY5nRu",
      "execution_count": 972,
      "outputs": [
        {
          "output_type": "stream",
          "name": "stderr",
          "text": [
            "/usr/local/lib/python3.7/dist-packages/ipykernel_launcher.py:9: TqdmDeprecationWarning: This function will be removed in tqdm==5.0.0\n",
            "Please use `tqdm.notebook.tqdm` instead of `tqdm.tqdm_notebook`\n",
            "  if __name__ == '__main__':\n"
          ]
        },
        {
          "output_type": "display_data",
          "data": {
            "application/vnd.jupyter.widget-view+json": {
              "model_id": "22f11e8ed8c642ac9afcea3f7432abc6",
              "version_minor": 0,
              "version_major": 2
            },
            "text/plain": [
              "  0%|          | 0/21 [00:00<?, ?it/s]"
            ]
          },
          "metadata": {}
        },
        {
          "output_type": "execute_result",
          "data": {
            "text/plain": [
              "<matplotlib.legend.Legend at 0x7f8d7df07fd0>"
            ]
          },
          "metadata": {},
          "execution_count": 972
        },
        {
          "output_type": "display_data",
          "data": {
            "image/png": "[encoded data removed]",
            "text/plain": [
              "<Figure size 432x288 with 1 Axes>"
            ]
          },
          "metadata": {
            "needs_background": "light"
          }
        }
      ]
    },
    {
      "cell_type": "code",
      "source": [
        "plt.semilogx(alpha, train_accuracy_list, 'r-o', label = 'Train')\n",
        "plt.semilogx(alpha, test_accuracy_list, 'g-o', label = 'Test')\n",
        "plt.xlim([np.min(alpha), np.max(alpha)])\n",
        "plt.title('Accuracy | Alpha parameter')\n",
        "plt.xlabel('Alpha')\n",
        "plt.ylabel('Accuracy')\n",
        "plt.legend()"
      ],
      "metadata": {
        "colab": {
          "base_uri": "https://localhost:8080/",
          "height": 317
        },
        "id": "u02SZ_Co5rv-",
        "outputId": "666d4578-74de-41a9-a8ac-22f26a4b72cf"
      },
      "id": "u02SZ_Co5rv-",
      "execution_count": 973,
      "outputs": [
        {
          "output_type": "execute_result",
          "data": {
            "text/plain": [
              "<matplotlib.legend.Legend at 0x7f8d73ddc610>"
            ]
          },
          "metadata": {},
          "execution_count": 973
        },
        {
          "output_type": "display_data",
          "data": {
            "image/png": "[encoded data removed]",
            "text/plain": [
              "<Figure size 432x288 with 1 Axes>"
            ]
          },
          "metadata": {
            "needs_background": "light"
          }
        }
      ]
    },
    {
      "cell_type": "code",
      "source": [
        "np.min(train_error_list), np.min(train_error_list)"
      ],
      "metadata": {
        "colab": {
          "base_uri": "https://localhost:8080/"
        },
        "id": "92EUrlzZ5tQV",
        "outputId": "09c47c4c-418f-4e7f-cdcd-ce2cd18fbc61"
      },
      "id": "92EUrlzZ5tQV",
      "execution_count": 974,
      "outputs": [
        {
          "output_type": "execute_result",
          "data": {
            "text/plain": [
              "(0.30053619302949064, 0.30053619302949064)"
            ]
          },
          "metadata": {},
          "execution_count": 974
        }
      ]
    },
    {
      "cell_type": "code",
      "source": [
        "alpha_optimal = alpha[np.min(train_error_list) == np.min(train_error_list)][0][0]"
      ],
      "metadata": {
        "id": "zbrDMDuc5vkL"
      },
      "id": "zbrDMDuc5vkL",
      "execution_count": 975,
      "outputs": []
    },
    {
      "cell_type": "markdown",
      "source": [
        "# Подбор количества нейронов"
      ],
      "metadata": {
        "id": "6gNIsvWrZurM"
      },
      "id": "6gNIsvWrZurM"
    },
    {
      "cell_type": "code",
      "source": [
        "neurons_count_list = np.array([i for i in range(2, 100+1)])"
      ],
      "metadata": {
        "id": "rdHU5EuaesZT"
      },
      "id": "rdHU5EuaesZT",
      "execution_count": 976,
      "outputs": []
    },
    {
      "cell_type": "code",
      "source": [
        "def learn_neural_neurons(neurons_count_list, alpha):\n",
        "  train_accuracy_list = []\n",
        "  test_accuracy_list = []\n",
        "  test_error_list = []\n",
        "  train_error_list = []\n",
        "  model = MLPClassifier(alpha=alpha, hidden_layer_sizes = (neurons_count_list[0],),\n",
        "                              solver = 'adam',  activation = 'logistic',\n",
        "                              max_iter=2000, random_state = 42,\n",
        "                              tol=1e-3)\n",
        "  for n in tqdm.tqdm_notebook(neurons_count_list):\n",
        "    model = MLPClassifier(alpha=alpha, hidden_layer_sizes = (n,),\n",
        "                              solver = 'adam',  activation = 'logistic',\n",
        "                              max_iter=2000, random_state = 42,\n",
        "                              tol=1e-3)\n",
        "    model.fit(X_train, y_train)\n",
        "    y_train_pred = model.predict(X_train)\n",
        "    y_test_pred = model.predict(X_test)\n",
        "    train_error_list.append(np.mean(y_train != y_train_pred))\n",
        "    test_error_list.append(np.mean(y_test != y_test_pred))\n",
        "    train_accuracy_list.append(accuracy_score(y_train, y_train_pred))\n",
        "    test_accuracy_list.append(accuracy_score(y_test, y_test_pred))\n",
        "  return train_error_list, test_error_list, train_accuracy_list, test_accuracy_list , model"
      ],
      "metadata": {
        "id": "_5BAFqyvfbDA"
      },
      "id": "_5BAFqyvfbDA",
      "execution_count": 977,
      "outputs": []
    },
    {
      "cell_type": "markdown",
      "source": [
        "## 1 слой"
      ],
      "metadata": {
        "id": "zcS9skJmZy0G"
      },
      "id": "zcS9skJmZy0G"
    },
    {
      "cell_type": "code",
      "source": [
        "train_error_list, test_error_list, train_accuracy_list, test_accuracy_list , model = learn_neural_neurons(neurons_count_list, alpha_optimal)"
      ],
      "metadata": {
        "colab": {
          "base_uri": "https://localhost:8080/",
          "height": 0,
          "referenced_widgets": [
            "9498d09389634eb0a2401c5e2e28453e",
            "9557bac4a7fe4effa36c84312bdec842",
            "ce5f404da89947409fa7fd6baf916a0f",
            "d0a3478053f84b1b8f56cc3e54920234",
            "25c5644110ae4dc99c7f61829489f37f",
            "8305b3d19f244659a60aecb57b3aeacc",
            "ac17590e10e340b1afbad56eef7dcbb7",
            "ca5f8dfe495c4e63b9f80764b8356fd5",
            "15ca4b866cb14856891e606aafaf6376",
            "14de3302ae054094bfd6a8ef53169b65",
            "b99c479054634efcac6e899f70d061eb"
          ]
        },
        "id": "OcAKqHbraULD",
        "outputId": "3f5176da-156f-49e8-c252-f67d13a504b7"
      },
      "id": "OcAKqHbraULD",
      "execution_count": 978,
      "outputs": [
        {
          "output_type": "stream",
          "name": "stderr",
          "text": [
            "/usr/local/lib/python3.7/dist-packages/ipykernel_launcher.py:10: TqdmDeprecationWarning: This function will be removed in tqdm==5.0.0\n",
            "Please use `tqdm.notebook.tqdm` instead of `tqdm.tqdm_notebook`\n",
            "  # Remove the CWD from sys.path while we load stuff.\n"
          ]
        },
        {
          "output_type": "display_data",
          "data": {
            "application/vnd.jupyter.widget-view+json": {
              "model_id": "9498d09389634eb0a2401c5e2e28453e",
              "version_minor": 0,
              "version_major": 2
            },
            "text/plain": [
              "  0%|          | 0/99 [00:00<?, ?it/s]"
            ]
          },
          "metadata": {}
        }
      ]
    },
    {
      "cell_type": "code",
      "source": [
        "plt.semilogx(neurons_count_list, train_error_list, 'b-o', label = 'Train')\n",
        "plt.semilogx(neurons_count_list, test_error_list, 'g-o', label = 'Test')\n",
        "plt.xlim([np.min(neurons_count_list), np.max(neurons_count_list)])\n",
        "plt.title('Errors | Neurons Count')\n",
        "plt.xlabel('Neurons count')\n",
        "plt.ylabel('Error')\n",
        "plt.legend()"
      ],
      "metadata": {
        "colab": {
          "base_uri": "https://localhost:8080/",
          "height": 0
        },
        "id": "jmA0DPBV6IWV",
        "outputId": "3b162c8e-9284-458e-f604-3272c1e2349f"
      },
      "id": "jmA0DPBV6IWV",
      "execution_count": 979,
      "outputs": [
        {
          "output_type": "execute_result",
          "data": {
            "text/plain": [
              "<matplotlib.legend.Legend at 0x7f8d75f3e850>"
            ]
          },
          "metadata": {},
          "execution_count": 979
        },
        {
          "output_type": "display_data",
          "data": {
            "image/png": "[encoded data removed]",
            "text/plain": [
              "<Figure size 432x288 with 1 Axes>"
            ]
          },
          "metadata": {
            "needs_background": "light"
          }
        }
      ]
    },
    {
      "cell_type": "code",
      "source": [
        "plt.semilogx(neurons_count_list, train_accuracy_list, 'r-o', label = 'Train')\n",
        "plt.semilogx(neurons_count_list, test_accuracy_list, 'g-o', label = 'Test')\n",
        "plt.xlim([np.min(neurons_count_list), np.max(neurons_count_list)])\n",
        "plt.title('Accuracy | Neurons count')\n",
        "plt.xlabel('Neurons count')\n",
        "plt.ylabel('Accuracy')\n",
        "plt.legend()"
      ],
      "metadata": {
        "colab": {
          "base_uri": "https://localhost:8080/",
          "height": 0
        },
        "id": "GhFZQSmZ6LCw",
        "outputId": "f50d6b2b-0ba9-434e-b6d1-9b8627eefc9a"
      },
      "id": "GhFZQSmZ6LCw",
      "execution_count": 980,
      "outputs": [
        {
          "output_type": "execute_result",
          "data": {
            "text/plain": [
              "<matplotlib.legend.Legend at 0x7f8d72e61890>"
            ]
          },
          "metadata": {},
          "execution_count": 980
        },
        {
          "output_type": "display_data",
          "data": {
            "image/png": "[encoded data removed]",
            "text/plain": [
              "<Figure size 432x288 with 1 Axes>"
            ]
          },
          "metadata": {
            "needs_background": "light"
          }
        }
      ]
    },
    {
      "cell_type": "code",
      "source": [
        "max_accuracy = max(test_accuracy_list)\n",
        "max_id = 0\n",
        "for i in range(len(test_accuracy_list)):\n",
        "  if test_accuracy_list[i] == max_accuracy:\n",
        "    max_id = i\n",
        "optimal_count_neurons = neurons_count_list[max_id]"
      ],
      "metadata": {
        "id": "Zg09H4eOConK"
      },
      "id": "Zg09H4eOConK",
      "execution_count": 981,
      "outputs": []
    },
    {
      "cell_type": "markdown",
      "source": [
        "# Результаты и итоговое обучение на основе оптимальных параметров"
      ],
      "metadata": {
        "id": "_Hzh1gRcBgwo"
      },
      "id": "_Hzh1gRcBgwo"
    },
    {
      "cell_type": "code",
      "source": [
        "from sklearn.neural_network import MLPClassifier\n",
        "\n",
        "model = MLPClassifier(hidden_layer_sizes = (optimal_count_neurons,),\n",
        "                          alpha=alpha_optimal, solver = 'adam', \n",
        "                          activation = 'logistic', max_iter=2000,\n",
        "                          random_state = 42, tol=1e-3)\n",
        "model.fit(X_train, y_train)"
      ],
      "metadata": {
        "colab": {
          "base_uri": "https://localhost:8080/"
        },
        "id": "Ihay12yBBlcB",
        "outputId": "9685de88-bdf4-40c0-c5e1-4dde42bd91f6"
      },
      "id": "Ihay12yBBlcB",
      "execution_count": 982,
      "outputs": [
        {
          "output_type": "execute_result",
          "data": {
            "text/plain": [
              "MLPClassifier(activation='logistic', alpha=1e-07, hidden_layer_sizes=(34,),\n",
              "              max_iter=2000, random_state=42, tol=0.001)"
            ]
          },
          "metadata": {},
          "execution_count": 982
        }
      ]
    },
    {
      "cell_type": "code",
      "source": [
        "y_test_predict = model.predict(X_test)\n",
        "err_test  = np.mean(y_test  != y_test_predict)\n",
        "err_test"
      ],
      "metadata": {
        "colab": {
          "base_uri": "https://localhost:8080/"
        },
        "id": "8AT7XxHNBp5T",
        "outputId": "371acacb-a496-4427-971f-e747012c2c9e"
      },
      "id": "8AT7XxHNBp5T",
      "execution_count": 983,
      "outputs": [
        {
          "output_type": "execute_result",
          "data": {
            "text/plain": [
              "0.295016077170418"
            ]
          },
          "metadata": {},
          "execution_count": 983
        }
      ]
    },
    {
      "cell_type": "code",
      "source": [
        "y_train_predict = mlp_model.predict(X_train)\n",
        "err_train  = np.mean(y_train  != y_train_predict)\n",
        "err_train"
      ],
      "metadata": {
        "colab": {
          "base_uri": "https://localhost:8080/"
        },
        "id": "OM5rBt1IBq6m",
        "outputId": "67936aa5-a2a8-4ebf-9ac3-16d9638355de"
      },
      "id": "OM5rBt1IBq6m",
      "execution_count": 984,
      "outputs": [
        {
          "output_type": "execute_result",
          "data": {
            "text/plain": [
              "0.29839142091152815"
            ]
          },
          "metadata": {},
          "execution_count": 984
        }
      ]
    },
    {
      "cell_type": "markdown",
      "source": [
        "# Интерпретация результатов"
      ],
      "metadata": {
        "id": "YBD5-xJABtYX"
      },
      "id": "YBD5-xJABtYX"
    },
    {
      "cell_type": "code",
      "source": [
        "from sklearn.metrics import confusion_matrix\n",
        "print(confusion_matrix(y_test_predict, y_test))"
      ],
      "metadata": {
        "colab": {
          "base_uri": "https://localhost:8080/"
        },
        "id": "iljeOezbBvxl",
        "outputId": "7a092ee2-a5db-4685-cb0c-b33ca184f345"
      },
      "id": "iljeOezbBvxl",
      "execution_count": 985,
      "outputs": [
        {
          "output_type": "stream",
          "name": "stdout",
          "text": [
            "[[345 152]\n",
            " [215 532]]\n"
          ]
        }
      ]
    },
    {
      "cell_type": "code",
      "source": [
        "M = confusion_matrix(y_test_predict, y_test)\n",
        "M = np.sqrt(M)\n",
        "plt.imshow(M, interpolation = 'nearest')\n",
        "plt.set_cmap('binary')\n",
        "plt.xticks(range(2))\n",
        "plt.yticks(range(2))\n",
        "plt.xlabel(\"True label\")\n",
        "plt.ylabel(\"Predicted label\")\n",
        "plt.colorbar()\n",
        "pass"
      ],
      "metadata": {
        "colab": {
          "base_uri": "https://localhost:8080/",
          "height": 279
        },
        "id": "bxYDuGcPBy7T",
        "outputId": "690ca847-b681-4ca4-b519-643689cab1ca"
      },
      "id": "bxYDuGcPBy7T",
      "execution_count": 986,
      "outputs": [
        {
          "output_type": "display_data",
          "data": {
            "image/png": "[encoded data removed]",
            "text/plain": [
              "<Figure size 432x288 with 2 Axes>"
            ]
          },
          "metadata": {
            "needs_background": "light"
          }
        }
      ]
    },
    {
      "cell_type": "code",
      "source": [
        "from sklearn.metrics import classification_report\n",
        "print(classification_report(y_train, y_train_predict))"
      ],
      "metadata": {
        "colab": {
          "base_uri": "https://localhost:8080/"
        },
        "id": "APFO6WbrB0W2",
        "outputId": "6c7c1d46-b33d-4b3b-e62d-1eb47c208a69"
      },
      "id": "APFO6WbrB0W2",
      "execution_count": 987,
      "outputs": [
        {
          "output_type": "stream",
          "name": "stdout",
          "text": [
            "              precision    recall  f1-score   support\n",
            "\n",
            "           5       0.66      0.60      0.63      1578\n",
            "           6       0.73      0.78      0.75      2152\n",
            "\n",
            "    accuracy                           0.70      3730\n",
            "   macro avg       0.69      0.69      0.69      3730\n",
            "weighted avg       0.70      0.70      0.70      3730\n",
            "\n"
          ]
        }
      ]
    },
    {
      "cell_type": "markdown",
      "source": [
        "# Общие вывод (переобучение, недобучение, итоги)\n",
        "\n",
        "**Переобучение** не наблюдается, так как ошибка на тестовых данных не сильно отличается от тренировочных. Более того, они очень схожи, что говорит о хорошей обученности сети.\n",
        "\n",
        "**Недообучение** есть и выражается малым количеством данных и признаков. Меняя параметр доли тестовой выборки можно достигнуть уменьшения ошибки, но для общности картины оставили ее долю равной 0.25. Это говорит о том, что при увеличении количества данных точность будет увеличиваться, что говорит о **недообученности** выборки данных в данной работе.\n",
        "\n",
        "В ходе работы был уменьшен и сбалансирован датасет относительно класса Quality, что уменьшило ошибку с 50% до 30% (в ходе работы это не показано, но было выявленно путем тестирования). Из-за малых размеров ошибка у нейронных сетей существенна, так как нейронные сети лучше подходят для больших массивов данных. Однако в ходе работы получилось подобрать оптимальное количество слоев (1 или 2), параметр альфа и количество нейронов на слоях. \n",
        "\n",
        "**По итогу работы, изначальная ошибка равная примерно 30% уменьшилась до 28%.**\n",
        "\n",
        "В ходе работы была обучена полносвязная нейронная сеть и были подобраны параметры."
      ],
      "metadata": {
        "id": "1LnWl8n1l9nK"
      },
      "id": "1LnWl8n1l9nK"
    },
    {
      "cell_type": "markdown",
      "id": "829c2f47",
      "metadata": {
        "id": "829c2f47"
      },
      "source": [
        "# Спасибо за внимание!"
      ]
    }
  ],
  "metadata": {
    "interpreter": {
      "hash": "247ab06e135bb35fa78c5eff31b2a9a0050dcb5fb773c2631d2a29ac689eeccb"
    },
    "kernelspec": {
      "display_name": "Python 3 (ipykernel)",
      "language": "python",
      "name": "python3"
    },
    "language_info": {
      "codemirror_mode": {
        "name": "ipython",
        "version": 3
      },
      "file_extension": ".py",
      "mimetype": "text/x-python",
      "name": "python",
      "nbconvert_exporter": "python",
      "pygments_lexer": "ipython3",
      "version": "3.9.7"
    },
    "colab": {
      "name": "Tkachev Alexey. Lab2. 381806-2.ipynb",
      "provenance": [],
      "collapsed_sections": [
        "cac8af97",
        "a02dd7b4",
        "9740162c",
        "5fc00bec",
        "c90bd680",
        "c17fa1e2",
        "02c4aad9",
        "6933d893",
        "253435a1",
        "Lu1tw06TgLgL",
        "YzzhSRO8fzCU",
        "6gNIsvWrZurM",
        "_Hzh1gRcBgwo",
        "829c2f47"
      ]
    },
    "widgets": {
      "application/vnd.jupyter.widget-state+json": {
        "22f11e8ed8c642ac9afcea3f7432abc6": {
          "model_module": "@jupyter-widgets/controls",
          "model_name": "HBoxModel",
          "model_module_version": "1.5.0",
          "state": {
            "_view_name": "HBoxView",
            "_dom_classes": [],
            "_model_name": "HBoxModel",
            "_view_module": "@jupyter-widgets/controls",
            "_model_module_version": "1.5.0",
            "_view_count": null,
            "_view_module_version": "1.5.0",
            "box_style": "",
            "layout": "IPY_MODEL_c785b2839a3d4dc2a6428d38b8c81fa8",
            "_model_module": "@jupyter-widgets/controls",
            "children": [
              "IPY_MODEL_95252458c46f4a899a27c30a7be52126",
              "IPY_MODEL_80fcdbbfd84f4c5fb8190815dcad89fd",
              "IPY_MODEL_c9cf4c6330494f1ca7a26ab4f0a47aa4"
            ]
          }
        },
        "c785b2839a3d4dc2a6428d38b8c81fa8": {
          "model_module": "@jupyter-widgets/base",
          "model_name": "LayoutModel",
          "model_module_version": "1.2.0",
          "state": {
            "_view_name": "LayoutView",
            "grid_template_rows": null,
            "right": null,
            "justify_content": null,
            "_view_module": "@jupyter-widgets/base",
            "overflow": null,
            "_model_module_version": "1.2.0",
            "_view_count": null,
            "flex_flow": null,
            "width": null,
            "min_width": null,
            "border": null,
            "align_items": null,
            "bottom": null,
            "_model_module": "@jupyter-widgets/base",
            "top": null,
            "grid_column": null,
            "overflow_y": null,
            "overflow_x": null,
            "grid_auto_flow": null,
            "grid_area": null,
            "grid_template_columns": null,
            "flex": null,
            "_model_name": "LayoutModel",
            "justify_items": null,
            "grid_row": null,
            "max_height": null,
            "align_content": null,
            "visibility": null,
            "align_self": null,
            "height": null,
            "min_height": null,
            "padding": null,
            "grid_auto_rows": null,
            "grid_gap": null,
            "max_width": null,
            "order": null,
            "_view_module_version": "1.2.0",
            "grid_template_areas": null,
            "object_position": null,
            "object_fit": null,
            "grid_auto_columns": null,
            "margin": null,
            "display": null,
            "left": null
          }
        },
        "95252458c46f4a899a27c30a7be52126": {
          "model_module": "@jupyter-widgets/controls",
          "model_name": "HTMLModel",
          "model_module_version": "1.5.0",
          "state": {
            "_view_name": "HTMLView",
            "style": "IPY_MODEL_31e13494c6174caeb54bc4be358c7be0",
            "_dom_classes": [],
            "description": "",
            "_model_name": "HTMLModel",
            "placeholder": "​",
            "_view_module": "@jupyter-widgets/controls",
            "_model_module_version": "1.5.0",
            "value": "100%",
            "_view_count": null,
            "_view_module_version": "1.5.0",
            "description_tooltip": null,
            "_model_module": "@jupyter-widgets/controls",
            "layout": "IPY_MODEL_3af28005b0f54739934a6ca494bce656"
          }
        },
        "80fcdbbfd84f4c5fb8190815dcad89fd": {
          "model_module": "@jupyter-widgets/controls",
          "model_name": "FloatProgressModel",
          "model_module_version": "1.5.0",
          "state": {
            "_view_name": "ProgressView",
            "style": "IPY_MODEL_6292f9bf9f7d48eb8ed1776b4e03215d",
            "_dom_classes": [],
            "description": "",
            "_model_name": "FloatProgressModel",
            "bar_style": "success",
            "max": 21,
            "_view_module": "@jupyter-widgets/controls",
            "_model_module_version": "1.5.0",
            "value": 21,
            "_view_count": null,
            "_view_module_version": "1.5.0",
            "orientation": "horizontal",
            "min": 0,
            "description_tooltip": null,
            "_model_module": "@jupyter-widgets/controls",
            "layout": "IPY_MODEL_0fdeef3d7a7d4553905e3105f994f308"
          }
        },
        "c9cf4c6330494f1ca7a26ab4f0a47aa4": {
          "model_module": "@jupyter-widgets/controls",
          "model_name": "HTMLModel",
          "model_module_version": "1.5.0",
          "state": {
            "_view_name": "HTMLView",
            "style": "IPY_MODEL_bbe72fa7d47c492f93743e2d65d2f9e2",
            "_dom_classes": [],
            "description": "",
            "_model_name": "HTMLModel",
            "placeholder": "​",
            "_view_module": "@jupyter-widgets/controls",
            "_model_module_version": "1.5.0",
            "value": " 21/21 [00:17&lt;00:00,  1.29it/s]",
            "_view_count": null,
            "_view_module_version": "1.5.0",
            "description_tooltip": null,
            "_model_module": "@jupyter-widgets/controls",
            "layout": "IPY_MODEL_6a496a57370f4bc0a97cb2c678d2e141"
          }
        },
        "31e13494c6174caeb54bc4be358c7be0": {
          "model_module": "@jupyter-widgets/controls",
          "model_name": "DescriptionStyleModel",
          "model_module_version": "1.5.0",
          "state": {
            "_view_name": "StyleView",
            "_model_name": "DescriptionStyleModel",
            "description_width": "",
            "_view_module": "@jupyter-widgets/base",
            "_model_module_version": "1.5.0",
            "_view_count": null,
            "_view_module_version": "1.2.0",
            "_model_module": "@jupyter-widgets/controls"
          }
        },
        "3af28005b0f54739934a6ca494bce656": {
          "model_module": "@jupyter-widgets/base",
          "model_name": "LayoutModel",
          "model_module_version": "1.2.0",
          "state": {
            "_view_name": "LayoutView",
            "grid_template_rows": null,
            "right": null,
            "justify_content": null,
            "_view_module": "@jupyter-widgets/base",
            "overflow": null,
            "_model_module_version": "1.2.0",
            "_view_count": null,
            "flex_flow": null,
            "width": null,
            "min_width": null,
            "border": null,
            "align_items": null,
            "bottom": null,
            "_model_module": "@jupyter-widgets/base",
            "top": null,
            "grid_column": null,
            "overflow_y": null,
            "overflow_x": null,
            "grid_auto_flow": null,
            "grid_area": null,
            "grid_template_columns": null,
            "flex": null,
            "_model_name": "LayoutModel",
            "justify_items": null,
            "grid_row": null,
            "max_height": null,
            "align_content": null,
            "visibility": null,
            "align_self": null,
            "height": null,
            "min_height": null,
            "padding": null,
            "grid_auto_rows": null,
            "grid_gap": null,
            "max_width": null,
            "order": null,
            "_view_module_version": "1.2.0",
            "grid_template_areas": null,
            "object_position": null,
            "object_fit": null,
            "grid_auto_columns": null,
            "margin": null,
            "display": null,
            "left": null
          }
        },
        "6292f9bf9f7d48eb8ed1776b4e03215d": {
          "model_module": "@jupyter-widgets/controls",
          "model_name": "ProgressStyleModel",
          "model_module_version": "1.5.0",
          "state": {
            "_view_name": "StyleView",
            "_model_name": "ProgressStyleModel",
            "description_width": "",
            "_view_module": "@jupyter-widgets/base",
            "_model_module_version": "1.5.0",
            "_view_count": null,
            "_view_module_version": "1.2.0",
            "bar_color": null,
            "_model_module": "@jupyter-widgets/controls"
          }
        },
        "0fdeef3d7a7d4553905e3105f994f308": {
          "model_module": "@jupyter-widgets/base",
          "model_name": "LayoutModel",
          "model_module_version": "1.2.0",
          "state": {
            "_view_name": "LayoutView",
            "grid_template_rows": null,
            "right": null,
            "justify_content": null,
            "_view_module": "@jupyter-widgets/base",
            "overflow": null,
            "_model_module_version": "1.2.0",
            "_view_count": null,
            "flex_flow": null,
            "width": null,
            "min_width": null,
            "border": null,
            "align_items": null,
            "bottom": null,
            "_model_module": "@jupyter-widgets/base",
            "top": null,
            "grid_column": null,
            "overflow_y": null,
            "overflow_x": null,
            "grid_auto_flow": null,
            "grid_area": null,
            "grid_template_columns": null,
            "flex": null,
            "_model_name": "LayoutModel",
            "justify_items": null,
            "grid_row": null,
            "max_height": null,
            "align_content": null,
            "visibility": null,
            "align_self": null,
            "height": null,
            "min_height": null,
            "padding": null,
            "grid_auto_rows": null,
            "grid_gap": null,
            "max_width": null,
            "order": null,
            "_view_module_version": "1.2.0",
            "grid_template_areas": null,
            "object_position": null,
            "object_fit": null,
            "grid_auto_columns": null,
            "margin": null,
            "display": null,
            "left": null
          }
        },
        "bbe72fa7d47c492f93743e2d65d2f9e2": {
          "model_module": "@jupyter-widgets/controls",
          "model_name": "DescriptionStyleModel",
          "model_module_version": "1.5.0",
          "state": {
            "_view_name": "StyleView",
            "_model_name": "DescriptionStyleModel",
            "description_width": "",
            "_view_module": "@jupyter-widgets/base",
            "_model_module_version": "1.5.0",
            "_view_count": null,
            "_view_module_version": "1.2.0",
            "_model_module": "@jupyter-widgets/controls"
          }
        },
        "6a496a57370f4bc0a97cb2c678d2e141": {
          "model_module": "@jupyter-widgets/base",
          "model_name": "LayoutModel",
          "model_module_version": "1.2.0",
          "state": {
            "_view_name": "LayoutView",
            "grid_template_rows": null,
            "right": null,
            "justify_content": null,
            "_view_module": "@jupyter-widgets/base",
            "overflow": null,
            "_model_module_version": "1.2.0",
            "_view_count": null,
            "flex_flow": null,
            "width": null,
            "min_width": null,
            "border": null,
            "align_items": null,
            "bottom": null,
            "_model_module": "@jupyter-widgets/base",
            "top": null,
            "grid_column": null,
            "overflow_y": null,
            "overflow_x": null,
            "grid_auto_flow": null,
            "grid_area": null,
            "grid_template_columns": null,
            "flex": null,
            "_model_name": "LayoutModel",
            "justify_items": null,
            "grid_row": null,
            "max_height": null,
            "align_content": null,
            "visibility": null,
            "align_self": null,
            "height": null,
            "min_height": null,
            "padding": null,
            "grid_auto_rows": null,
            "grid_gap": null,
            "max_width": null,
            "order": null,
            "_view_module_version": "1.2.0",
            "grid_template_areas": null,
            "object_position": null,
            "object_fit": null,
            "grid_auto_columns": null,
            "margin": null,
            "display": null,
            "left": null
          }
        },
        "9498d09389634eb0a2401c5e2e28453e": {
          "model_module": "@jupyter-widgets/controls",
          "model_name": "HBoxModel",
          "model_module_version": "1.5.0",
          "state": {
            "_view_name": "HBoxView",
            "_dom_classes": [],
            "_model_name": "HBoxModel",
            "_view_module": "@jupyter-widgets/controls",
            "_model_module_version": "1.5.0",
            "_view_count": null,
            "_view_module_version": "1.5.0",
            "box_style": "",
            "layout": "IPY_MODEL_9557bac4a7fe4effa36c84312bdec842",
            "_model_module": "@jupyter-widgets/controls",
            "children": [
              "IPY_MODEL_ce5f404da89947409fa7fd6baf916a0f",
              "IPY_MODEL_d0a3478053f84b1b8f56cc3e54920234",
              "IPY_MODEL_25c5644110ae4dc99c7f61829489f37f"
            ]
          }
        },
        "9557bac4a7fe4effa36c84312bdec842": {
          "model_module": "@jupyter-widgets/base",
          "model_name": "LayoutModel",
          "model_module_version": "1.2.0",
          "state": {
            "_view_name": "LayoutView",
            "grid_template_rows": null,
            "right": null,
            "justify_content": null,
            "_view_module": "@jupyter-widgets/base",
            "overflow": null,
            "_model_module_version": "1.2.0",
            "_view_count": null,
            "flex_flow": null,
            "width": null,
            "min_width": null,
            "border": null,
            "align_items": null,
            "bottom": null,
            "_model_module": "@jupyter-widgets/base",
            "top": null,
            "grid_column": null,
            "overflow_y": null,
            "overflow_x": null,
            "grid_auto_flow": null,
            "grid_area": null,
            "grid_template_columns": null,
            "flex": null,
            "_model_name": "LayoutModel",
            "justify_items": null,
            "grid_row": null,
            "max_height": null,
            "align_content": null,
            "visibility": null,
            "align_self": null,
            "height": null,
            "min_height": null,
            "padding": null,
            "grid_auto_rows": null,
            "grid_gap": null,
            "max_width": null,
            "order": null,
            "_view_module_version": "1.2.0",
            "grid_template_areas": null,
            "object_position": null,
            "object_fit": null,
            "grid_auto_columns": null,
            "margin": null,
            "display": null,
            "left": null
          }
        },
        "ce5f404da89947409fa7fd6baf916a0f": {
          "model_module": "@jupyter-widgets/controls",
          "model_name": "HTMLModel",
          "model_module_version": "1.5.0",
          "state": {
            "_view_name": "HTMLView",
            "style": "IPY_MODEL_8305b3d19f244659a60aecb57b3aeacc",
            "_dom_classes": [],
            "description": "",
            "_model_name": "HTMLModel",
            "placeholder": "​",
            "_view_module": "@jupyter-widgets/controls",
            "_model_module_version": "1.5.0",
            "value": "100%",
            "_view_count": null,
            "_view_module_version": "1.5.0",
            "description_tooltip": null,
            "_model_module": "@jupyter-widgets/controls",
            "layout": "IPY_MODEL_ac17590e10e340b1afbad56eef7dcbb7"
          }
        },
        "d0a3478053f84b1b8f56cc3e54920234": {
          "model_module": "@jupyter-widgets/controls",
          "model_name": "FloatProgressModel",
          "model_module_version": "1.5.0",
          "state": {
            "_view_name": "ProgressView",
            "style": "IPY_MODEL_ca5f8dfe495c4e63b9f80764b8356fd5",
            "_dom_classes": [],
            "description": "",
            "_model_name": "FloatProgressModel",
            "bar_style": "success",
            "max": 99,
            "_view_module": "@jupyter-widgets/controls",
            "_model_module_version": "1.5.0",
            "value": 99,
            "_view_count": null,
            "_view_module_version": "1.5.0",
            "orientation": "horizontal",
            "min": 0,
            "description_tooltip": null,
            "_model_module": "@jupyter-widgets/controls",
            "layout": "IPY_MODEL_15ca4b866cb14856891e606aafaf6376"
          }
        },
        "25c5644110ae4dc99c7f61829489f37f": {
          "model_module": "@jupyter-widgets/controls",
          "model_name": "HTMLModel",
          "model_module_version": "1.5.0",
          "state": {
            "_view_name": "HTMLView",
            "style": "IPY_MODEL_14de3302ae054094bfd6a8ef53169b65",
            "_dom_classes": [],
            "description": "",
            "_model_name": "HTMLModel",
            "placeholder": "​",
            "_view_module": "@jupyter-widgets/controls",
            "_model_module_version": "1.5.0",
            "value": " 99/99 [01:07&lt;00:00,  1.07it/s]",
            "_view_count": null,
            "_view_module_version": "1.5.0",
            "description_tooltip": null,
            "_model_module": "@jupyter-widgets/controls",
            "layout": "IPY_MODEL_b99c479054634efcac6e899f70d061eb"
          }
        },
        "8305b3d19f244659a60aecb57b3aeacc": {
          "model_module": "@jupyter-widgets/controls",
          "model_name": "DescriptionStyleModel",
          "model_module_version": "1.5.0",
          "state": {
            "_view_name": "StyleView",
            "_model_name": "DescriptionStyleModel",
            "description_width": "",
            "_view_module": "@jupyter-widgets/base",
            "_model_module_version": "1.5.0",
            "_view_count": null,
            "_view_module_version": "1.2.0",
            "_model_module": "@jupyter-widgets/controls"
          }
        },
        "ac17590e10e340b1afbad56eef7dcbb7": {
          "model_module": "@jupyter-widgets/base",
          "model_name": "LayoutModel",
          "model_module_version": "1.2.0",
          "state": {
            "_view_name": "LayoutView",
            "grid_template_rows": null,
            "right": null,
            "justify_content": null,
            "_view_module": "@jupyter-widgets/base",
            "overflow": null,
            "_model_module_version": "1.2.0",
            "_view_count": null,
            "flex_flow": null,
            "width": null,
            "min_width": null,
            "border": null,
            "align_items": null,
            "bottom": null,
            "_model_module": "@jupyter-widgets/base",
            "top": null,
            "grid_column": null,
            "overflow_y": null,
            "overflow_x": null,
            "grid_auto_flow": null,
            "grid_area": null,
            "grid_template_columns": null,
            "flex": null,
            "_model_name": "LayoutModel",
            "justify_items": null,
            "grid_row": null,
            "max_height": null,
            "align_content": null,
            "visibility": null,
            "align_self": null,
            "height": null,
            "min_height": null,
            "padding": null,
            "grid_auto_rows": null,
            "grid_gap": null,
            "max_width": null,
            "order": null,
            "_view_module_version": "1.2.0",
            "grid_template_areas": null,
            "object_position": null,
            "object_fit": null,
            "grid_auto_columns": null,
            "margin": null,
            "display": null,
            "left": null
          }
        },
        "ca5f8dfe495c4e63b9f80764b8356fd5": {
          "model_module": "@jupyter-widgets/controls",
          "model_name": "ProgressStyleModel",
          "model_module_version": "1.5.0",
          "state": {
            "_view_name": "StyleView",
            "_model_name": "ProgressStyleModel",
            "description_width": "",
            "_view_module": "@jupyter-widgets/base",
            "_model_module_version": "1.5.0",
            "_view_count": null,
            "_view_module_version": "1.2.0",
            "bar_color": null,
            "_model_module": "@jupyter-widgets/controls"
          }
        },
        "15ca4b866cb14856891e606aafaf6376": {
          "model_module": "@jupyter-widgets/base",
          "model_name": "LayoutModel",
          "model_module_version": "1.2.0",
          "state": {
            "_view_name": "LayoutView",
            "grid_template_rows": null,
            "right": null,
            "justify_content": null,
            "_view_module": "@jupyter-widgets/base",
            "overflow": null,
            "_model_module_version": "1.2.0",
            "_view_count": null,
            "flex_flow": null,
            "width": null,
            "min_width": null,
            "border": null,
            "align_items": null,
            "bottom": null,
            "_model_module": "@jupyter-widgets/base",
            "top": null,
            "grid_column": null,
            "overflow_y": null,
            "overflow_x": null,
            "grid_auto_flow": null,
            "grid_area": null,
            "grid_template_columns": null,
            "flex": null,
            "_model_name": "LayoutModel",
            "justify_items": null,
            "grid_row": null,
            "max_height": null,
            "align_content": null,
            "visibility": null,
            "align_self": null,
            "height": null,
            "min_height": null,
            "padding": null,
            "grid_auto_rows": null,
            "grid_gap": null,
            "max_width": null,
            "order": null,
            "_view_module_version": "1.2.0",
            "grid_template_areas": null,
            "object_position": null,
            "object_fit": null,
            "grid_auto_columns": null,
            "margin": null,
            "display": null,
            "left": null
          }
        },
        "14de3302ae054094bfd6a8ef53169b65": {
          "model_module": "@jupyter-widgets/controls",
          "model_name": "DescriptionStyleModel",
          "model_module_version": "1.5.0",
          "state": {
            "_view_name": "StyleView",
            "_model_name": "DescriptionStyleModel",
            "description_width": "",
            "_view_module": "@jupyter-widgets/base",
            "_model_module_version": "1.5.0",
            "_view_count": null,
            "_view_module_version": "1.2.0",
            "_model_module": "@jupyter-widgets/controls"
          }
        },
        "b99c479054634efcac6e899f70d061eb": {
          "model_module": "@jupyter-widgets/base",
          "model_name": "LayoutModel",
          "model_module_version": "1.2.0",
          "state": {
            "_view_name": "LayoutView",
            "grid_template_rows": null,
            "right": null,
            "justify_content": null,
            "_view_module": "@jupyter-widgets/base",
            "overflow": null,
            "_model_module_version": "1.2.0",
            "_view_count": null,
            "flex_flow": null,
            "width": null,
            "min_width": null,
            "border": null,
            "align_items": null,
            "bottom": null,
            "_model_module": "@jupyter-widgets/base",
            "top": null,
            "grid_column": null,
            "overflow_y": null,
            "overflow_x": null,
            "grid_auto_flow": null,
            "grid_area": null,
            "grid_template_columns": null,
            "flex": null,
            "_model_name": "LayoutModel",
            "justify_items": null,
            "grid_row": null,
            "max_height": null,
            "align_content": null,
            "visibility": null,
            "align_self": null,
            "height": null,
            "min_height": null,
            "padding": null,
            "grid_auto_rows": null,
            "grid_gap": null,
            "max_width": null,
            "order": null,
            "_view_module_version": "1.2.0",
            "grid_template_areas": null,
            "object_position": null,
            "object_fit": null,
            "grid_auto_columns": null,
            "margin": null,
            "display": null,
            "left": null
          }
        }
      }
    }
  },
  "nbformat": 4,
  "nbformat_minor": 5
}