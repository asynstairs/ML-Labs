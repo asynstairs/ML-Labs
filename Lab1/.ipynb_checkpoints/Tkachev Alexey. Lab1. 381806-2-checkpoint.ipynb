{
 "cells": [
  {
   "cell_type": "markdown",
   "id": "02f3c8b0",
   "metadata": {},
   "source": [
    "# Лабораторная работа 1. Машинное обучение.\n",
    "\n",
    "- Ткачев Алексей Игоревич\n",
    "- Группа 381806-2\n",
    "- ФИИТ\n",
    "- 4 курс\n",
    "  \n",
    "# Название задачи\n",
    "\n",
    "Классификация.\n"
   ]
  },
  {
   "cell_type": "markdown",
   "id": "75e01a39",
   "metadata": {},
   "source": [
    "# Название датасета\n",
    "\n",
    "Wine Quality Dataset"
   ]
  },
  {
   "cell_type": "markdown",
   "id": "d4e5bfab",
   "metadata": {},
   "source": [
    "# Описание задачи\n",
    "- На основе привденного датасета обучить машину распозновать качество вина, классифицируя его по оценкам от 3 до 9 включительно **(7 классов)**, где оценка - целое число.\n",
    "- Датасет имеет **12** уникальных признаков для классификации оценки вина.\n",
    "- Датасет имеет **6497** примеров."
   ]
  },
  {
   "cell_type": "markdown",
   "id": "cac8af97",
   "metadata": {},
   "source": [
    "# Загрузка нужных библиотек"
   ]
  },
  {
   "cell_type": "code",
   "execution_count": 1,
   "id": "1a2e8e8b",
   "metadata": {},
   "outputs": [],
   "source": [
    "import numpy as np\n",
    "import matplotlib.pyplot as plt\n",
    "import pandas as pd\n",
    "\n",
    "from time import time\n",
    "%matplotlib inline"
   ]
  },
  {
   "cell_type": "markdown",
   "id": "a02dd7b4",
   "metadata": {},
   "source": [
    "# Загрузка датасета\n",
    "`given_data` - весь \"сырой\" датасет."
   ]
  },
  {
   "cell_type": "code",
   "execution_count": 2,
   "id": "11cfb5cd",
   "metadata": {},
   "outputs": [],
   "source": [
    "given_data = pd.read_csv('dataset.csv', sep=',', header=0,  engine='python')"
   ]
  },
  {
   "cell_type": "markdown",
   "id": "6272a40e",
   "metadata": {},
   "source": [
    "Так как `given_data` первой строкой представлял имена столбцов, то аргумент `header=0`."
   ]
  },
  {
   "cell_type": "code",
   "execution_count": 3,
   "id": "f23c1e48",
   "metadata": {
    "scrolled": true
   },
   "outputs": [
    {
     "data": {
      "text/html": [
       "<div>\n",
       "<style scoped>\n",
       "    .dataframe tbody tr th:only-of-type {\n",
       "        vertical-align: middle;\n",
       "    }\n",
       "\n",
       "    .dataframe tbody tr th {\n",
       "        vertical-align: top;\n",
       "    }\n",
       "\n",
       "    .dataframe thead th {\n",
       "        text-align: right;\n",
       "    }\n",
       "</style>\n",
       "<table border=\"1\" class=\"dataframe\">\n",
       "  <thead>\n",
       "    <tr style=\"text-align: right;\">\n",
       "      <th></th>\n",
       "      <th>type</th>\n",
       "      <th>fixed acidity</th>\n",
       "      <th>volatile acidity</th>\n",
       "      <th>citric acid</th>\n",
       "      <th>residual sugar</th>\n",
       "      <th>chlorides</th>\n",
       "      <th>free sulfur dioxide</th>\n",
       "      <th>total sulfur dioxide</th>\n",
       "      <th>density</th>\n",
       "      <th>pH</th>\n",
       "      <th>sulphates</th>\n",
       "      <th>alcohol</th>\n",
       "      <th>quality</th>\n",
       "    </tr>\n",
       "  </thead>\n",
       "  <tbody>\n",
       "    <tr>\n",
       "      <th>0</th>\n",
       "      <td>white</td>\n",
       "      <td>7.0</td>\n",
       "      <td>0.270</td>\n",
       "      <td>0.36</td>\n",
       "      <td>20.7</td>\n",
       "      <td>0.045</td>\n",
       "      <td>45.0</td>\n",
       "      <td>170.0</td>\n",
       "      <td>1.00100</td>\n",
       "      <td>3.00</td>\n",
       "      <td>0.45</td>\n",
       "      <td>8.8</td>\n",
       "      <td>6</td>\n",
       "    </tr>\n",
       "    <tr>\n",
       "      <th>1</th>\n",
       "      <td>white</td>\n",
       "      <td>6.3</td>\n",
       "      <td>0.300</td>\n",
       "      <td>0.34</td>\n",
       "      <td>1.6</td>\n",
       "      <td>0.049</td>\n",
       "      <td>14.0</td>\n",
       "      <td>132.0</td>\n",
       "      <td>0.99400</td>\n",
       "      <td>3.30</td>\n",
       "      <td>0.49</td>\n",
       "      <td>9.5</td>\n",
       "      <td>6</td>\n",
       "    </tr>\n",
       "    <tr>\n",
       "      <th>2</th>\n",
       "      <td>white</td>\n",
       "      <td>8.1</td>\n",
       "      <td>0.280</td>\n",
       "      <td>0.40</td>\n",
       "      <td>6.9</td>\n",
       "      <td>0.050</td>\n",
       "      <td>30.0</td>\n",
       "      <td>97.0</td>\n",
       "      <td>0.99510</td>\n",
       "      <td>3.26</td>\n",
       "      <td>0.44</td>\n",
       "      <td>10.1</td>\n",
       "      <td>6</td>\n",
       "    </tr>\n",
       "    <tr>\n",
       "      <th>3</th>\n",
       "      <td>white</td>\n",
       "      <td>7.2</td>\n",
       "      <td>0.230</td>\n",
       "      <td>0.32</td>\n",
       "      <td>8.5</td>\n",
       "      <td>0.058</td>\n",
       "      <td>47.0</td>\n",
       "      <td>186.0</td>\n",
       "      <td>0.99560</td>\n",
       "      <td>3.19</td>\n",
       "      <td>0.40</td>\n",
       "      <td>9.9</td>\n",
       "      <td>6</td>\n",
       "    </tr>\n",
       "    <tr>\n",
       "      <th>4</th>\n",
       "      <td>white</td>\n",
       "      <td>7.2</td>\n",
       "      <td>0.230</td>\n",
       "      <td>0.32</td>\n",
       "      <td>8.5</td>\n",
       "      <td>0.058</td>\n",
       "      <td>47.0</td>\n",
       "      <td>186.0</td>\n",
       "      <td>0.99560</td>\n",
       "      <td>3.19</td>\n",
       "      <td>0.40</td>\n",
       "      <td>9.9</td>\n",
       "      <td>6</td>\n",
       "    </tr>\n",
       "    <tr>\n",
       "      <th>...</th>\n",
       "      <td>...</td>\n",
       "      <td>...</td>\n",
       "      <td>...</td>\n",
       "      <td>...</td>\n",
       "      <td>...</td>\n",
       "      <td>...</td>\n",
       "      <td>...</td>\n",
       "      <td>...</td>\n",
       "      <td>...</td>\n",
       "      <td>...</td>\n",
       "      <td>...</td>\n",
       "      <td>...</td>\n",
       "      <td>...</td>\n",
       "    </tr>\n",
       "    <tr>\n",
       "      <th>6492</th>\n",
       "      <td>red</td>\n",
       "      <td>6.2</td>\n",
       "      <td>0.600</td>\n",
       "      <td>0.08</td>\n",
       "      <td>2.0</td>\n",
       "      <td>0.090</td>\n",
       "      <td>32.0</td>\n",
       "      <td>44.0</td>\n",
       "      <td>0.99490</td>\n",
       "      <td>3.45</td>\n",
       "      <td>0.58</td>\n",
       "      <td>10.5</td>\n",
       "      <td>5</td>\n",
       "    </tr>\n",
       "    <tr>\n",
       "      <th>6493</th>\n",
       "      <td>red</td>\n",
       "      <td>5.9</td>\n",
       "      <td>0.550</td>\n",
       "      <td>0.10</td>\n",
       "      <td>2.2</td>\n",
       "      <td>0.062</td>\n",
       "      <td>39.0</td>\n",
       "      <td>51.0</td>\n",
       "      <td>0.99512</td>\n",
       "      <td>3.52</td>\n",
       "      <td>NaN</td>\n",
       "      <td>11.2</td>\n",
       "      <td>6</td>\n",
       "    </tr>\n",
       "    <tr>\n",
       "      <th>6494</th>\n",
       "      <td>red</td>\n",
       "      <td>6.3</td>\n",
       "      <td>0.510</td>\n",
       "      <td>0.13</td>\n",
       "      <td>2.3</td>\n",
       "      <td>0.076</td>\n",
       "      <td>29.0</td>\n",
       "      <td>40.0</td>\n",
       "      <td>0.99574</td>\n",
       "      <td>3.42</td>\n",
       "      <td>0.75</td>\n",
       "      <td>11.0</td>\n",
       "      <td>6</td>\n",
       "    </tr>\n",
       "    <tr>\n",
       "      <th>6495</th>\n",
       "      <td>red</td>\n",
       "      <td>5.9</td>\n",
       "      <td>0.645</td>\n",
       "      <td>0.12</td>\n",
       "      <td>2.0</td>\n",
       "      <td>0.075</td>\n",
       "      <td>32.0</td>\n",
       "      <td>44.0</td>\n",
       "      <td>0.99547</td>\n",
       "      <td>3.57</td>\n",
       "      <td>0.71</td>\n",
       "      <td>10.2</td>\n",
       "      <td>5</td>\n",
       "    </tr>\n",
       "    <tr>\n",
       "      <th>6496</th>\n",
       "      <td>red</td>\n",
       "      <td>6.0</td>\n",
       "      <td>0.310</td>\n",
       "      <td>0.47</td>\n",
       "      <td>3.6</td>\n",
       "      <td>0.067</td>\n",
       "      <td>18.0</td>\n",
       "      <td>42.0</td>\n",
       "      <td>0.99549</td>\n",
       "      <td>3.39</td>\n",
       "      <td>0.66</td>\n",
       "      <td>11.0</td>\n",
       "      <td>6</td>\n",
       "    </tr>\n",
       "  </tbody>\n",
       "</table>\n",
       "<p>6497 rows × 13 columns</p>\n",
       "</div>"
      ],
      "text/plain": [
       "       type  fixed acidity  volatile acidity  citric acid  residual sugar  \\\n",
       "0     white            7.0             0.270         0.36            20.7   \n",
       "1     white            6.3             0.300         0.34             1.6   \n",
       "2     white            8.1             0.280         0.40             6.9   \n",
       "3     white            7.2             0.230         0.32             8.5   \n",
       "4     white            7.2             0.230         0.32             8.5   \n",
       "...     ...            ...               ...          ...             ...   \n",
       "6492    red            6.2             0.600         0.08             2.0   \n",
       "6493    red            5.9             0.550         0.10             2.2   \n",
       "6494    red            6.3             0.510         0.13             2.3   \n",
       "6495    red            5.9             0.645         0.12             2.0   \n",
       "6496    red            6.0             0.310         0.47             3.6   \n",
       "\n",
       "      chlorides  free sulfur dioxide  total sulfur dioxide  density    pH  \\\n",
       "0         0.045                 45.0                 170.0  1.00100  3.00   \n",
       "1         0.049                 14.0                 132.0  0.99400  3.30   \n",
       "2         0.050                 30.0                  97.0  0.99510  3.26   \n",
       "3         0.058                 47.0                 186.0  0.99560  3.19   \n",
       "4         0.058                 47.0                 186.0  0.99560  3.19   \n",
       "...         ...                  ...                   ...      ...   ...   \n",
       "6492      0.090                 32.0                  44.0  0.99490  3.45   \n",
       "6493      0.062                 39.0                  51.0  0.99512  3.52   \n",
       "6494      0.076                 29.0                  40.0  0.99574  3.42   \n",
       "6495      0.075                 32.0                  44.0  0.99547  3.57   \n",
       "6496      0.067                 18.0                  42.0  0.99549  3.39   \n",
       "\n",
       "      sulphates  alcohol  quality  \n",
       "0          0.45      8.8        6  \n",
       "1          0.49      9.5        6  \n",
       "2          0.44     10.1        6  \n",
       "3          0.40      9.9        6  \n",
       "4          0.40      9.9        6  \n",
       "...         ...      ...      ...  \n",
       "6492       0.58     10.5        5  \n",
       "6493        NaN     11.2        6  \n",
       "6494       0.75     11.0        6  \n",
       "6495       0.71     10.2        5  \n",
       "6496       0.66     11.0        6  \n",
       "\n",
       "[6497 rows x 13 columns]"
      ]
     },
     "execution_count": 3,
     "metadata": {},
     "output_type": "execute_result"
    }
   ],
   "source": [
    "given_data"
   ]
  },
  {
   "cell_type": "markdown",
   "id": "0dcd8310",
   "metadata": {},
   "source": [
    "# Балансировка классов"
   ]
  },
  {
   "cell_type": "code",
   "execution_count": 4,
   "id": "185f7438",
   "metadata": {},
   "outputs": [
    {
     "data": {
      "text/plain": [
       "<AxesSubplot:xlabel='quality', ylabel='count'>"
      ]
     },
     "execution_count": 4,
     "metadata": {},
     "output_type": "execute_result"
    },
    {
     "data": {
      "image/png": "[encoded data removed]",
      "text/plain": [
       "<Figure size 432x288 with 1 Axes>"
      ]
     },
     "metadata": {
      "needs_background": "light"
     },
     "output_type": "display_data"
    }
   ],
   "source": [
    "import seaborn as sns\n",
    "sns.countplot(x='quality', data=given_data)"
   ]
  },
  {
   "cell_type": "code",
   "execution_count": 5,
   "id": "fb0ad194",
   "metadata": {},
   "outputs": [
    {
     "data": {
      "text/plain": [
       "Index(['type', 'fixed acidity', 'volatile acidity', 'citric acid',\n",
       "       'residual sugar', 'chlorides', 'free sulfur dioxide',\n",
       "       'total sulfur dioxide', 'density', 'pH', 'sulphates', 'alcohol',\n",
       "       'quality'],\n",
       "      dtype='object')"
      ]
     },
     "execution_count": 5,
     "metadata": {},
     "output_type": "execute_result"
    }
   ],
   "source": [
    "given_data.columns"
   ]
  },
  {
   "cell_type": "code",
   "execution_count": 6,
   "id": "415e0a65",
   "metadata": {},
   "outputs": [
    {
     "data": {
      "text/plain": [
       "'quality'"
      ]
     },
     "execution_count": 6,
     "metadata": {},
     "output_type": "execute_result"
    }
   ],
   "source": [
    "quality = given_data.columns[len(given_data.columns)-1]\n",
    "quality"
   ]
  },
  {
   "cell_type": "code",
   "execution_count": 7,
   "id": "8d7dbade",
   "metadata": {},
   "outputs": [],
   "source": [
    "given_data = given_data.drop(given_data[given_data[quality] == 3].index)\n",
    "given_data = given_data.drop(given_data[given_data[quality] == 4].index)\n",
    "given_data = given_data.drop(given_data[given_data[quality] == 7].index)\n",
    "given_data = given_data.drop(given_data[given_data[quality] == 8].index)\n",
    "given_data = given_data.drop(given_data[given_data[quality] == 9].index)"
   ]
  },
  {
   "cell_type": "code",
   "execution_count": 8,
   "id": "1cff0554",
   "metadata": {},
   "outputs": [
    {
     "data": {
      "text/plain": [
       "<AxesSubplot:xlabel='quality', ylabel='count'>"
      ]
     },
     "execution_count": 8,
     "metadata": {},
     "output_type": "execute_result"
    },
    {
     "data": {
      "image/png": "[encoded data removed]",
      "text/plain": [
       "<Figure size 432x288 with 1 Axes>"
      ]
     },
     "metadata": {
      "needs_background": "light"
     },
     "output_type": "display_data"
    }
   ],
   "source": [
    "sns.countplot(x='quality', data=given_data)"
   ]
  },
  {
   "cell_type": "markdown",
   "id": "9740162c",
   "metadata": {},
   "source": [
    "# Основные характеристики данных"
   ]
  },
  {
   "cell_type": "markdown",
   "id": "0af80257",
   "metadata": {},
   "source": [
    "Основные числое характеристики:"
   ]
  },
  {
   "cell_type": "code",
   "execution_count": 9,
   "id": "7c425fe8",
   "metadata": {},
   "outputs": [
    {
     "data": {
      "text/html": [
       "<div>\n",
       "<style scoped>\n",
       "    .dataframe tbody tr th:only-of-type {\n",
       "        vertical-align: middle;\n",
       "    }\n",
       "\n",
       "    .dataframe tbody tr th {\n",
       "        vertical-align: top;\n",
       "    }\n",
       "\n",
       "    .dataframe thead th {\n",
       "        text-align: right;\n",
       "    }\n",
       "</style>\n",
       "<table border=\"1\" class=\"dataframe\">\n",
       "  <thead>\n",
       "    <tr style=\"text-align: right;\">\n",
       "      <th></th>\n",
       "      <th>fixed acidity</th>\n",
       "      <th>volatile acidity</th>\n",
       "      <th>citric acid</th>\n",
       "      <th>residual sugar</th>\n",
       "      <th>chlorides</th>\n",
       "      <th>free sulfur dioxide</th>\n",
       "      <th>total sulfur dioxide</th>\n",
       "      <th>density</th>\n",
       "      <th>pH</th>\n",
       "      <th>sulphates</th>\n",
       "      <th>alcohol</th>\n",
       "      <th>quality</th>\n",
       "    </tr>\n",
       "  </thead>\n",
       "  <tbody>\n",
       "    <tr>\n",
       "      <th>count</th>\n",
       "      <td>4965.000000</td>\n",
       "      <td>4968.000000</td>\n",
       "      <td>4971.000000</td>\n",
       "      <td>4973.000000</td>\n",
       "      <td>4973.000000</td>\n",
       "      <td>4974.000000</td>\n",
       "      <td>4974.000000</td>\n",
       "      <td>4974.000000</td>\n",
       "      <td>4967.000000</td>\n",
       "      <td>4971.000000</td>\n",
       "      <td>4974.000000</td>\n",
       "      <td>4974.000000</td>\n",
       "    </tr>\n",
       "    <tr>\n",
       "      <th>mean</th>\n",
       "      <td>7.243041</td>\n",
       "      <td>0.346423</td>\n",
       "      <td>0.316880</td>\n",
       "      <td>5.659924</td>\n",
       "      <td>0.058681</td>\n",
       "      <td>30.766285</td>\n",
       "      <td>117.744069</td>\n",
       "      <td>0.995113</td>\n",
       "      <td>3.215269</td>\n",
       "      <td>0.529865</td>\n",
       "      <td>10.265275</td>\n",
       "      <td>5.570165</td>\n",
       "    </tr>\n",
       "    <tr>\n",
       "      <th>std</th>\n",
       "      <td>1.280200</td>\n",
       "      <td>0.165673</td>\n",
       "      <td>0.150596</td>\n",
       "      <td>4.935363</td>\n",
       "      <td>0.036438</td>\n",
       "      <td>17.604133</td>\n",
       "      <td>57.861460</td>\n",
       "      <td>0.002867</td>\n",
       "      <td>0.159417</td>\n",
       "      <td>0.144597</td>\n",
       "      <td>1.070626</td>\n",
       "      <td>0.495102</td>\n",
       "    </tr>\n",
       "    <tr>\n",
       "      <th>min</th>\n",
       "      <td>3.800000</td>\n",
       "      <td>0.080000</td>\n",
       "      <td>0.000000</td>\n",
       "      <td>0.600000</td>\n",
       "      <td>0.009000</td>\n",
       "      <td>1.000000</td>\n",
       "      <td>6.000000</td>\n",
       "      <td>0.987220</td>\n",
       "      <td>2.720000</td>\n",
       "      <td>0.230000</td>\n",
       "      <td>8.000000</td>\n",
       "      <td>5.000000</td>\n",
       "    </tr>\n",
       "    <tr>\n",
       "      <th>25%</th>\n",
       "      <td>6.400000</td>\n",
       "      <td>0.230000</td>\n",
       "      <td>0.240000</td>\n",
       "      <td>1.800000</td>\n",
       "      <td>0.040000</td>\n",
       "      <td>17.000000</td>\n",
       "      <td>76.000000</td>\n",
       "      <td>0.992993</td>\n",
       "      <td>3.110000</td>\n",
       "      <td>0.440000</td>\n",
       "      <td>9.400000</td>\n",
       "      <td>5.000000</td>\n",
       "    </tr>\n",
       "    <tr>\n",
       "      <th>50%</th>\n",
       "      <td>7.000000</td>\n",
       "      <td>0.300000</td>\n",
       "      <td>0.310000</td>\n",
       "      <td>3.100000</td>\n",
       "      <td>0.049000</td>\n",
       "      <td>29.000000</td>\n",
       "      <td>121.000000</td>\n",
       "      <td>0.995400</td>\n",
       "      <td>3.200000</td>\n",
       "      <td>0.510000</td>\n",
       "      <td>10.000000</td>\n",
       "      <td>6.000000</td>\n",
       "    </tr>\n",
       "    <tr>\n",
       "      <th>75%</th>\n",
       "      <td>7.700000</td>\n",
       "      <td>0.420000</td>\n",
       "      <td>0.400000</td>\n",
       "      <td>8.500000</td>\n",
       "      <td>0.070000</td>\n",
       "      <td>42.000000</td>\n",
       "      <td>160.000000</td>\n",
       "      <td>0.997200</td>\n",
       "      <td>3.320000</td>\n",
       "      <td>0.600000</td>\n",
       "      <td>11.000000</td>\n",
       "      <td>6.000000</td>\n",
       "    </tr>\n",
       "    <tr>\n",
       "      <th>max</th>\n",
       "      <td>15.900000</td>\n",
       "      <td>1.330000</td>\n",
       "      <td>1.660000</td>\n",
       "      <td>65.800000</td>\n",
       "      <td>0.611000</td>\n",
       "      <td>131.000000</td>\n",
       "      <td>344.000000</td>\n",
       "      <td>1.038980</td>\n",
       "      <td>4.010000</td>\n",
       "      <td>1.980000</td>\n",
       "      <td>14.900000</td>\n",
       "      <td>6.000000</td>\n",
       "    </tr>\n",
       "  </tbody>\n",
       "</table>\n",
       "</div>"
      ],
      "text/plain": [
       "       fixed acidity  volatile acidity  citric acid  residual sugar  \\\n",
       "count    4965.000000       4968.000000  4971.000000     4973.000000   \n",
       "mean        7.243041          0.346423     0.316880        5.659924   \n",
       "std         1.280200          0.165673     0.150596        4.935363   \n",
       "min         3.800000          0.080000     0.000000        0.600000   \n",
       "25%         6.400000          0.230000     0.240000        1.800000   \n",
       "50%         7.000000          0.300000     0.310000        3.100000   \n",
       "75%         7.700000          0.420000     0.400000        8.500000   \n",
       "max        15.900000          1.330000     1.660000       65.800000   \n",
       "\n",
       "         chlorides  free sulfur dioxide  total sulfur dioxide      density  \\\n",
       "count  4973.000000          4974.000000           4974.000000  4974.000000   \n",
       "mean      0.058681            30.766285            117.744069     0.995113   \n",
       "std       0.036438            17.604133             57.861460     0.002867   \n",
       "min       0.009000             1.000000              6.000000     0.987220   \n",
       "25%       0.040000            17.000000             76.000000     0.992993   \n",
       "50%       0.049000            29.000000            121.000000     0.995400   \n",
       "75%       0.070000            42.000000            160.000000     0.997200   \n",
       "max       0.611000           131.000000            344.000000     1.038980   \n",
       "\n",
       "                pH    sulphates      alcohol      quality  \n",
       "count  4967.000000  4971.000000  4974.000000  4974.000000  \n",
       "mean      3.215269     0.529865    10.265275     5.570165  \n",
       "std       0.159417     0.144597     1.070626     0.495102  \n",
       "min       2.720000     0.230000     8.000000     5.000000  \n",
       "25%       3.110000     0.440000     9.400000     5.000000  \n",
       "50%       3.200000     0.510000    10.000000     6.000000  \n",
       "75%       3.320000     0.600000    11.000000     6.000000  \n",
       "max       4.010000     1.980000    14.900000     6.000000  "
      ]
     },
     "execution_count": 9,
     "metadata": {},
     "output_type": "execute_result"
    }
   ],
   "source": [
    "given_data.describe()"
   ]
  },
  {
   "cell_type": "markdown",
   "id": "4209e6c7",
   "metadata": {},
   "source": [
    "Таблица корреляции:"
   ]
  },
  {
   "cell_type": "code",
   "execution_count": 10,
   "id": "9f76d2d7",
   "metadata": {},
   "outputs": [
    {
     "data": {
      "text/html": [
       "<div>\n",
       "<style scoped>\n",
       "    .dataframe tbody tr th:only-of-type {\n",
       "        vertical-align: middle;\n",
       "    }\n",
       "\n",
       "    .dataframe tbody tr th {\n",
       "        vertical-align: top;\n",
       "    }\n",
       "\n",
       "    .dataframe thead th {\n",
       "        text-align: right;\n",
       "    }\n",
       "</style>\n",
       "<table border=\"1\" class=\"dataframe\">\n",
       "  <thead>\n",
       "    <tr style=\"text-align: right;\">\n",
       "      <th></th>\n",
       "      <th>fixed acidity</th>\n",
       "      <th>volatile acidity</th>\n",
       "      <th>citric acid</th>\n",
       "      <th>residual sugar</th>\n",
       "      <th>chlorides</th>\n",
       "      <th>free sulfur dioxide</th>\n",
       "      <th>total sulfur dioxide</th>\n",
       "      <th>density</th>\n",
       "      <th>pH</th>\n",
       "      <th>sulphates</th>\n",
       "      <th>alcohol</th>\n",
       "      <th>quality</th>\n",
       "    </tr>\n",
       "  </thead>\n",
       "  <tbody>\n",
       "    <tr>\n",
       "      <th>fixed acidity</th>\n",
       "      <td>1.000000</td>\n",
       "      <td>0.245779</td>\n",
       "      <td>0.288985</td>\n",
       "      <td>-0.147009</td>\n",
       "      <td>0.277968</td>\n",
       "      <td>-0.292979</td>\n",
       "      <td>-0.335543</td>\n",
       "      <td>0.425819</td>\n",
       "      <td>-0.227387</td>\n",
       "      <td>0.303852</td>\n",
       "      <td>-0.040127</td>\n",
       "      <td>-0.058514</td>\n",
       "    </tr>\n",
       "    <tr>\n",
       "      <th>volatile acidity</th>\n",
       "      <td>0.245779</td>\n",
       "      <td>1.000000</td>\n",
       "      <td>-0.382587</td>\n",
       "      <td>-0.218822</td>\n",
       "      <td>0.385146</td>\n",
       "      <td>-0.368782</td>\n",
       "      <td>-0.439717</td>\n",
       "      <td>0.293125</td>\n",
       "      <td>0.274866</td>\n",
       "      <td>0.266959</td>\n",
       "      <td>-0.049147</td>\n",
       "      <td>-0.227241</td>\n",
       "    </tr>\n",
       "    <tr>\n",
       "      <th>citric acid</th>\n",
       "      <td>0.288985</td>\n",
       "      <td>-0.382587</td>\n",
       "      <td>1.000000</td>\n",
       "      <td>0.159680</td>\n",
       "      <td>0.026121</td>\n",
       "      <td>0.154748</td>\n",
       "      <td>0.229476</td>\n",
       "      <td>0.087842</td>\n",
       "      <td>-0.339325</td>\n",
       "      <td>0.029711</td>\n",
       "      <td>-0.020798</td>\n",
       "      <td>0.052817</td>\n",
       "    </tr>\n",
       "    <tr>\n",
       "      <th>residual sugar</th>\n",
       "      <td>-0.147009</td>\n",
       "      <td>-0.218822</td>\n",
       "      <td>0.159680</td>\n",
       "      <td>1.000000</td>\n",
       "      <td>-0.165767</td>\n",
       "      <td>0.453919</td>\n",
       "      <td>0.504631</td>\n",
       "      <td>0.559895</td>\n",
       "      <td>-0.248945</td>\n",
       "      <td>-0.184880</td>\n",
       "      <td>-0.356440</td>\n",
       "      <td>-0.025374</td>\n",
       "    </tr>\n",
       "    <tr>\n",
       "      <th>chlorides</th>\n",
       "      <td>0.277968</td>\n",
       "      <td>0.385146</td>\n",
       "      <td>0.026121</td>\n",
       "      <td>-0.165767</td>\n",
       "      <td>1.000000</td>\n",
       "      <td>-0.198275</td>\n",
       "      <td>-0.293608</td>\n",
       "      <td>0.308413</td>\n",
       "      <td>0.056817</td>\n",
       "      <td>0.405628</td>\n",
       "      <td>-0.211621</td>\n",
       "      <td>-0.142649</td>\n",
       "    </tr>\n",
       "    <tr>\n",
       "      <th>free sulfur dioxide</th>\n",
       "      <td>-0.292979</td>\n",
       "      <td>-0.368782</td>\n",
       "      <td>0.154748</td>\n",
       "      <td>0.453919</td>\n",
       "      <td>-0.198275</td>\n",
       "      <td>1.000000</td>\n",
       "      <td>0.733103</td>\n",
       "      <td>0.060922</td>\n",
       "      <td>-0.174936</td>\n",
       "      <td>-0.220145</td>\n",
       "      <td>-0.219735</td>\n",
       "      <td>0.026089</td>\n",
       "    </tr>\n",
       "    <tr>\n",
       "      <th>total sulfur dioxide</th>\n",
       "      <td>-0.335543</td>\n",
       "      <td>-0.439717</td>\n",
       "      <td>0.229476</td>\n",
       "      <td>0.504631</td>\n",
       "      <td>-0.293608</td>\n",
       "      <td>0.733103</td>\n",
       "      <td>1.000000</td>\n",
       "      <td>0.026404</td>\n",
       "      <td>-0.259041</td>\n",
       "      <td>-0.268465</td>\n",
       "      <td>-0.267935</td>\n",
       "      <td>-0.046448</td>\n",
       "    </tr>\n",
       "    <tr>\n",
       "      <th>density</th>\n",
       "      <td>0.425819</td>\n",
       "      <td>0.293125</td>\n",
       "      <td>0.087842</td>\n",
       "      <td>0.559895</td>\n",
       "      <td>0.308413</td>\n",
       "      <td>0.060922</td>\n",
       "      <td>0.026404</td>\n",
       "      <td>1.000000</td>\n",
       "      <td>0.052646</td>\n",
       "      <td>0.273445</td>\n",
       "      <td>-0.641054</td>\n",
       "      <td>-0.222920</td>\n",
       "    </tr>\n",
       "    <tr>\n",
       "      <th>pH</th>\n",
       "      <td>-0.227387</td>\n",
       "      <td>0.274866</td>\n",
       "      <td>-0.339325</td>\n",
       "      <td>-0.248945</td>\n",
       "      <td>0.056817</td>\n",
       "      <td>-0.174936</td>\n",
       "      <td>-0.259041</td>\n",
       "      <td>0.052646</td>\n",
       "      <td>1.000000</td>\n",
       "      <td>0.188407</td>\n",
       "      <td>0.109301</td>\n",
       "      <td>0.017576</td>\n",
       "    </tr>\n",
       "    <tr>\n",
       "      <th>sulphates</th>\n",
       "      <td>0.303852</td>\n",
       "      <td>0.266959</td>\n",
       "      <td>0.029711</td>\n",
       "      <td>-0.184880</td>\n",
       "      <td>0.405628</td>\n",
       "      <td>-0.220145</td>\n",
       "      <td>-0.268465</td>\n",
       "      <td>0.273445</td>\n",
       "      <td>0.188407</td>\n",
       "      <td>1.000000</td>\n",
       "      <td>-0.015696</td>\n",
       "      <td>0.020719</td>\n",
       "    </tr>\n",
       "    <tr>\n",
       "      <th>alcohol</th>\n",
       "      <td>-0.040127</td>\n",
       "      <td>-0.049147</td>\n",
       "      <td>-0.020798</td>\n",
       "      <td>-0.356440</td>\n",
       "      <td>-0.211621</td>\n",
       "      <td>-0.219735</td>\n",
       "      <td>-0.267935</td>\n",
       "      <td>-0.641054</td>\n",
       "      <td>0.109301</td>\n",
       "      <td>-0.015696</td>\n",
       "      <td>1.000000</td>\n",
       "      <td>0.346725</td>\n",
       "    </tr>\n",
       "    <tr>\n",
       "      <th>quality</th>\n",
       "      <td>-0.058514</td>\n",
       "      <td>-0.227241</td>\n",
       "      <td>0.052817</td>\n",
       "      <td>-0.025374</td>\n",
       "      <td>-0.142649</td>\n",
       "      <td>0.026089</td>\n",
       "      <td>-0.046448</td>\n",
       "      <td>-0.222920</td>\n",
       "      <td>0.017576</td>\n",
       "      <td>0.020719</td>\n",
       "      <td>0.346725</td>\n",
       "      <td>1.000000</td>\n",
       "    </tr>\n",
       "  </tbody>\n",
       "</table>\n",
       "</div>"
      ],
      "text/plain": [
       "                      fixed acidity  volatile acidity  citric acid  \\\n",
       "fixed acidity              1.000000          0.245779     0.288985   \n",
       "volatile acidity           0.245779          1.000000    -0.382587   \n",
       "citric acid                0.288985         -0.382587     1.000000   \n",
       "residual sugar            -0.147009         -0.218822     0.159680   \n",
       "chlorides                  0.277968          0.385146     0.026121   \n",
       "free sulfur dioxide       -0.292979         -0.368782     0.154748   \n",
       "total sulfur dioxide      -0.335543         -0.439717     0.229476   \n",
       "density                    0.425819          0.293125     0.087842   \n",
       "pH                        -0.227387          0.274866    -0.339325   \n",
       "sulphates                  0.303852          0.266959     0.029711   \n",
       "alcohol                   -0.040127         -0.049147    -0.020798   \n",
       "quality                   -0.058514         -0.227241     0.052817   \n",
       "\n",
       "                      residual sugar  chlorides  free sulfur dioxide  \\\n",
       "fixed acidity              -0.147009   0.277968            -0.292979   \n",
       "volatile acidity           -0.218822   0.385146            -0.368782   \n",
       "citric acid                 0.159680   0.026121             0.154748   \n",
       "residual sugar              1.000000  -0.165767             0.453919   \n",
       "chlorides                  -0.165767   1.000000            -0.198275   \n",
       "free sulfur dioxide         0.453919  -0.198275             1.000000   \n",
       "total sulfur dioxide        0.504631  -0.293608             0.733103   \n",
       "density                     0.559895   0.308413             0.060922   \n",
       "pH                         -0.248945   0.056817            -0.174936   \n",
       "sulphates                  -0.184880   0.405628            -0.220145   \n",
       "alcohol                    -0.356440  -0.211621            -0.219735   \n",
       "quality                    -0.025374  -0.142649             0.026089   \n",
       "\n",
       "                      total sulfur dioxide   density        pH  sulphates  \\\n",
       "fixed acidity                    -0.335543  0.425819 -0.227387   0.303852   \n",
       "volatile acidity                 -0.439717  0.293125  0.274866   0.266959   \n",
       "citric acid                       0.229476  0.087842 -0.339325   0.029711   \n",
       "residual sugar                    0.504631  0.559895 -0.248945  -0.184880   \n",
       "chlorides                        -0.293608  0.308413  0.056817   0.405628   \n",
       "free sulfur dioxide               0.733103  0.060922 -0.174936  -0.220145   \n",
       "total sulfur dioxide              1.000000  0.026404 -0.259041  -0.268465   \n",
       "density                           0.026404  1.000000  0.052646   0.273445   \n",
       "pH                               -0.259041  0.052646  1.000000   0.188407   \n",
       "sulphates                        -0.268465  0.273445  0.188407   1.000000   \n",
       "alcohol                          -0.267935 -0.641054  0.109301  -0.015696   \n",
       "quality                          -0.046448 -0.222920  0.017576   0.020719   \n",
       "\n",
       "                       alcohol   quality  \n",
       "fixed acidity        -0.040127 -0.058514  \n",
       "volatile acidity     -0.049147 -0.227241  \n",
       "citric acid          -0.020798  0.052817  \n",
       "residual sugar       -0.356440 -0.025374  \n",
       "chlorides            -0.211621 -0.142649  \n",
       "free sulfur dioxide  -0.219735  0.026089  \n",
       "total sulfur dioxide -0.267935 -0.046448  \n",
       "density              -0.641054 -0.222920  \n",
       "pH                    0.109301  0.017576  \n",
       "sulphates            -0.015696  0.020719  \n",
       "alcohol               1.000000  0.346725  \n",
       "quality               0.346725  1.000000  "
      ]
     },
     "execution_count": 10,
     "metadata": {},
     "output_type": "execute_result"
    }
   ],
   "source": [
    "given_data.corr()"
   ]
  },
  {
   "cell_type": "markdown",
   "id": "c576e81c",
   "metadata": {},
   "source": [
    "с помощью `seaborn` библиотеки отобразим нагляднее корреляцию данных.\n",
    "\n",
    "воспользуемся маской `np_triu()`, чтобы исключить повторяющиеся ячейки."
   ]
  },
  {
   "cell_type": "code",
   "execution_count": 11,
   "id": "dabb3a6c",
   "metadata": {},
   "outputs": [
    {
     "data": {
      "image/png": "[encoded data removed]",
      "text/plain": [
       "<Figure size 432x288 with 2 Axes>"
      ]
     },
     "metadata": {
      "needs_background": "light"
     },
     "output_type": "display_data"
    }
   ],
   "source": [
    "import seaborn as sb\n",
    "mask = np.triu(given_data.corr())\n",
    "sb.heatmap(given_data.corr(), mask=mask, cmap='coolwarm', vmin=-1, vmax=1)\n",
    "pass"
   ]
  },
  {
   "cell_type": "code",
   "execution_count": 12,
   "id": "bbcf8d4e",
   "metadata": {},
   "outputs": [
    {
     "data": {
      "image/png": "[encoded data removed]",
      "text/plain": [
       "<Figure size 864x864 with 144 Axes>"
      ]
     },
     "metadata": {
      "needs_background": "light"
     },
     "output_type": "display_data"
    }
   ],
   "source": [
    "from pandas.plotting import scatter_matrix\n",
    "scatter_matrix(given_data, alpha = .01, figsize = (12, 12))\n",
    "pass"
   ]
  },
  {
   "cell_type": "markdown",
   "id": "5fc00bec",
   "metadata": {},
   "source": [
    "# Есть пустые значения?"
   ]
  },
  {
   "cell_type": "markdown",
   "id": "6c5b781d",
   "metadata": {},
   "source": [
    "Вопрос: есть ли пустые значения?"
   ]
  },
  {
   "cell_type": "code",
   "execution_count": 13,
   "id": "11fbdbe8",
   "metadata": {},
   "outputs": [
    {
     "data": {
      "text/html": [
       "<div>\n",
       "<style scoped>\n",
       "    .dataframe tbody tr th:only-of-type {\n",
       "        vertical-align: middle;\n",
       "    }\n",
       "\n",
       "    .dataframe tbody tr th {\n",
       "        vertical-align: top;\n",
       "    }\n",
       "\n",
       "    .dataframe thead th {\n",
       "        text-align: right;\n",
       "    }\n",
       "</style>\n",
       "<table border=\"1\" class=\"dataframe\">\n",
       "  <thead>\n",
       "    <tr style=\"text-align: right;\">\n",
       "      <th></th>\n",
       "      <th>type</th>\n",
       "      <th>fixed acidity</th>\n",
       "      <th>volatile acidity</th>\n",
       "      <th>citric acid</th>\n",
       "      <th>residual sugar</th>\n",
       "      <th>chlorides</th>\n",
       "      <th>free sulfur dioxide</th>\n",
       "      <th>total sulfur dioxide</th>\n",
       "      <th>density</th>\n",
       "      <th>pH</th>\n",
       "      <th>sulphates</th>\n",
       "      <th>alcohol</th>\n",
       "      <th>quality</th>\n",
       "    </tr>\n",
       "  </thead>\n",
       "  <tbody>\n",
       "    <tr>\n",
       "      <th>0</th>\n",
       "      <td>white</td>\n",
       "      <td>7.0</td>\n",
       "      <td>0.270</td>\n",
       "      <td>0.36</td>\n",
       "      <td>20.7</td>\n",
       "      <td>0.045</td>\n",
       "      <td>45.0</td>\n",
       "      <td>170.0</td>\n",
       "      <td>1.00100</td>\n",
       "      <td>3.00</td>\n",
       "      <td>0.45</td>\n",
       "      <td>8.8</td>\n",
       "      <td>6</td>\n",
       "    </tr>\n",
       "    <tr>\n",
       "      <th>1</th>\n",
       "      <td>white</td>\n",
       "      <td>6.3</td>\n",
       "      <td>0.300</td>\n",
       "      <td>0.34</td>\n",
       "      <td>1.6</td>\n",
       "      <td>0.049</td>\n",
       "      <td>14.0</td>\n",
       "      <td>132.0</td>\n",
       "      <td>0.99400</td>\n",
       "      <td>3.30</td>\n",
       "      <td>0.49</td>\n",
       "      <td>9.5</td>\n",
       "      <td>6</td>\n",
       "    </tr>\n",
       "    <tr>\n",
       "      <th>2</th>\n",
       "      <td>white</td>\n",
       "      <td>8.1</td>\n",
       "      <td>0.280</td>\n",
       "      <td>0.40</td>\n",
       "      <td>6.9</td>\n",
       "      <td>0.050</td>\n",
       "      <td>30.0</td>\n",
       "      <td>97.0</td>\n",
       "      <td>0.99510</td>\n",
       "      <td>3.26</td>\n",
       "      <td>0.44</td>\n",
       "      <td>10.1</td>\n",
       "      <td>6</td>\n",
       "    </tr>\n",
       "    <tr>\n",
       "      <th>3</th>\n",
       "      <td>white</td>\n",
       "      <td>7.2</td>\n",
       "      <td>0.230</td>\n",
       "      <td>0.32</td>\n",
       "      <td>8.5</td>\n",
       "      <td>0.058</td>\n",
       "      <td>47.0</td>\n",
       "      <td>186.0</td>\n",
       "      <td>0.99560</td>\n",
       "      <td>3.19</td>\n",
       "      <td>0.40</td>\n",
       "      <td>9.9</td>\n",
       "      <td>6</td>\n",
       "    </tr>\n",
       "    <tr>\n",
       "      <th>4</th>\n",
       "      <td>white</td>\n",
       "      <td>7.2</td>\n",
       "      <td>0.230</td>\n",
       "      <td>0.32</td>\n",
       "      <td>8.5</td>\n",
       "      <td>0.058</td>\n",
       "      <td>47.0</td>\n",
       "      <td>186.0</td>\n",
       "      <td>0.99560</td>\n",
       "      <td>3.19</td>\n",
       "      <td>0.40</td>\n",
       "      <td>9.9</td>\n",
       "      <td>6</td>\n",
       "    </tr>\n",
       "    <tr>\n",
       "      <th>...</th>\n",
       "      <td>...</td>\n",
       "      <td>...</td>\n",
       "      <td>...</td>\n",
       "      <td>...</td>\n",
       "      <td>...</td>\n",
       "      <td>...</td>\n",
       "      <td>...</td>\n",
       "      <td>...</td>\n",
       "      <td>...</td>\n",
       "      <td>...</td>\n",
       "      <td>...</td>\n",
       "      <td>...</td>\n",
       "      <td>...</td>\n",
       "    </tr>\n",
       "    <tr>\n",
       "      <th>6491</th>\n",
       "      <td>red</td>\n",
       "      <td>6.8</td>\n",
       "      <td>0.620</td>\n",
       "      <td>0.08</td>\n",
       "      <td>1.9</td>\n",
       "      <td>0.068</td>\n",
       "      <td>28.0</td>\n",
       "      <td>38.0</td>\n",
       "      <td>0.99651</td>\n",
       "      <td>3.42</td>\n",
       "      <td>0.82</td>\n",
       "      <td>9.5</td>\n",
       "      <td>6</td>\n",
       "    </tr>\n",
       "    <tr>\n",
       "      <th>6492</th>\n",
       "      <td>red</td>\n",
       "      <td>6.2</td>\n",
       "      <td>0.600</td>\n",
       "      <td>0.08</td>\n",
       "      <td>2.0</td>\n",
       "      <td>0.090</td>\n",
       "      <td>32.0</td>\n",
       "      <td>44.0</td>\n",
       "      <td>0.99490</td>\n",
       "      <td>3.45</td>\n",
       "      <td>0.58</td>\n",
       "      <td>10.5</td>\n",
       "      <td>5</td>\n",
       "    </tr>\n",
       "    <tr>\n",
       "      <th>6494</th>\n",
       "      <td>red</td>\n",
       "      <td>6.3</td>\n",
       "      <td>0.510</td>\n",
       "      <td>0.13</td>\n",
       "      <td>2.3</td>\n",
       "      <td>0.076</td>\n",
       "      <td>29.0</td>\n",
       "      <td>40.0</td>\n",
       "      <td>0.99574</td>\n",
       "      <td>3.42</td>\n",
       "      <td>0.75</td>\n",
       "      <td>11.0</td>\n",
       "      <td>6</td>\n",
       "    </tr>\n",
       "    <tr>\n",
       "      <th>6495</th>\n",
       "      <td>red</td>\n",
       "      <td>5.9</td>\n",
       "      <td>0.645</td>\n",
       "      <td>0.12</td>\n",
       "      <td>2.0</td>\n",
       "      <td>0.075</td>\n",
       "      <td>32.0</td>\n",
       "      <td>44.0</td>\n",
       "      <td>0.99547</td>\n",
       "      <td>3.57</td>\n",
       "      <td>0.71</td>\n",
       "      <td>10.2</td>\n",
       "      <td>5</td>\n",
       "    </tr>\n",
       "    <tr>\n",
       "      <th>6496</th>\n",
       "      <td>red</td>\n",
       "      <td>6.0</td>\n",
       "      <td>0.310</td>\n",
       "      <td>0.47</td>\n",
       "      <td>3.6</td>\n",
       "      <td>0.067</td>\n",
       "      <td>18.0</td>\n",
       "      <td>42.0</td>\n",
       "      <td>0.99549</td>\n",
       "      <td>3.39</td>\n",
       "      <td>0.66</td>\n",
       "      <td>11.0</td>\n",
       "      <td>6</td>\n",
       "    </tr>\n",
       "  </tbody>\n",
       "</table>\n",
       "<p>4948 rows × 13 columns</p>\n",
       "</div>"
      ],
      "text/plain": [
       "       type  fixed acidity  volatile acidity  citric acid  residual sugar  \\\n",
       "0     white            7.0             0.270         0.36            20.7   \n",
       "1     white            6.3             0.300         0.34             1.6   \n",
       "2     white            8.1             0.280         0.40             6.9   \n",
       "3     white            7.2             0.230         0.32             8.5   \n",
       "4     white            7.2             0.230         0.32             8.5   \n",
       "...     ...            ...               ...          ...             ...   \n",
       "6491    red            6.8             0.620         0.08             1.9   \n",
       "6492    red            6.2             0.600         0.08             2.0   \n",
       "6494    red            6.3             0.510         0.13             2.3   \n",
       "6495    red            5.9             0.645         0.12             2.0   \n",
       "6496    red            6.0             0.310         0.47             3.6   \n",
       "\n",
       "      chlorides  free sulfur dioxide  total sulfur dioxide  density    pH  \\\n",
       "0         0.045                 45.0                 170.0  1.00100  3.00   \n",
       "1         0.049                 14.0                 132.0  0.99400  3.30   \n",
       "2         0.050                 30.0                  97.0  0.99510  3.26   \n",
       "3         0.058                 47.0                 186.0  0.99560  3.19   \n",
       "4         0.058                 47.0                 186.0  0.99560  3.19   \n",
       "...         ...                  ...                   ...      ...   ...   \n",
       "6491      0.068                 28.0                  38.0  0.99651  3.42   \n",
       "6492      0.090                 32.0                  44.0  0.99490  3.45   \n",
       "6494      0.076                 29.0                  40.0  0.99574  3.42   \n",
       "6495      0.075                 32.0                  44.0  0.99547  3.57   \n",
       "6496      0.067                 18.0                  42.0  0.99549  3.39   \n",
       "\n",
       "      sulphates  alcohol  quality  \n",
       "0          0.45      8.8        6  \n",
       "1          0.49      9.5        6  \n",
       "2          0.44     10.1        6  \n",
       "3          0.40      9.9        6  \n",
       "4          0.40      9.9        6  \n",
       "...         ...      ...      ...  \n",
       "6491       0.82      9.5        6  \n",
       "6492       0.58     10.5        5  \n",
       "6494       0.75     11.0        6  \n",
       "6495       0.71     10.2        5  \n",
       "6496       0.66     11.0        6  \n",
       "\n",
       "[4948 rows x 13 columns]"
      ]
     },
     "execution_count": 13,
     "metadata": {},
     "output_type": "execute_result"
    }
   ],
   "source": [
    "given_data.dropna()"
   ]
  },
  {
   "cell_type": "code",
   "execution_count": 14,
   "id": "03e0fdde",
   "metadata": {},
   "outputs": [
    {
     "name": "stdout",
     "output_type": "stream",
     "text": [
      "(4974, 13)\n",
      "(4948, 13)\n"
     ]
    }
   ],
   "source": [
    "print(given_data.shape)\n",
    "print(given_data.dropna(axis = 0).shape)"
   ]
  },
  {
   "cell_type": "markdown",
   "id": "64b2696a",
   "metadata": {},
   "source": [
    "Видим, что ~30 строк было выкинуто. Значит, пустые значения есть. Обработаем пустые значения."
   ]
  },
  {
   "cell_type": "markdown",
   "id": "c90bd680",
   "metadata": {},
   "source": [
    "# Обработка пустых значений"
   ]
  },
  {
   "cell_type": "markdown",
   "id": "a5f9bbe3",
   "metadata": {},
   "source": [
    "Найдем столбы для строковых данных `categorical_columns`, и численных `num_columns`"
   ]
  },
  {
   "cell_type": "code",
   "execution_count": 15,
   "id": "5293426d",
   "metadata": {},
   "outputs": [],
   "source": [
    "categorical_columns = [column for column in given_data.columns if given_data[column].dtype.name == 'object']\n",
    "num_columns = [column for column in given_data.columns if given_data[column].dtype.name != 'object' and column != 'quality']"
   ]
  },
  {
   "cell_type": "markdown",
   "id": "1d0c2db0",
   "metadata": {},
   "source": [
    "Теперь заполним пустые значения медианными (средними) значениями по каждому столбцу"
   ]
  },
  {
   "cell_type": "code",
   "execution_count": 16,
   "id": "390e1ef3",
   "metadata": {},
   "outputs": [],
   "source": [
    "median = given_data.median(axis = 0, numeric_only=True)"
   ]
  },
  {
   "cell_type": "code",
   "execution_count": 17,
   "id": "127d3f3c",
   "metadata": {},
   "outputs": [],
   "source": [
    "given_data = given_data.fillna(median, axis=0)"
   ]
  },
  {
   "cell_type": "code",
   "execution_count": 18,
   "id": "6d0b5901",
   "metadata": {},
   "outputs": [
    {
     "data": {
      "text/plain": [
       "fixed acidity           4974\n",
       "volatile acidity        4974\n",
       "citric acid             4974\n",
       "residual sugar          4974\n",
       "chlorides               4974\n",
       "free sulfur dioxide     4974\n",
       "total sulfur dioxide    4974\n",
       "density                 4974\n",
       "pH                      4974\n",
       "sulphates               4974\n",
       "alcohol                 4974\n",
       "dtype: int64"
      ]
     },
     "execution_count": 18,
     "metadata": {},
     "output_type": "execute_result"
    }
   ],
   "source": [
    "given_data[num_columns].count(axis = 0)"
   ]
  },
  {
   "cell_type": "code",
   "execution_count": 19,
   "id": "c60abb77",
   "metadata": {},
   "outputs": [
    {
     "data": {
      "text/plain": [
       "type    4974\n",
       "dtype: int64"
      ]
     },
     "execution_count": 19,
     "metadata": {},
     "output_type": "execute_result"
    }
   ],
   "source": [
    "given_data[categorical_columns].count(axis = 0)"
   ]
  },
  {
   "cell_type": "markdown",
   "id": "5e226004",
   "metadata": {},
   "source": [
    "Теперь можно выделить выборки `X` - все данные кроме ключевого столбца, и `Y` - один ключевой столбец"
   ]
  },
  {
   "cell_type": "code",
   "execution_count": 20,
   "id": "d2bfc9a7",
   "metadata": {},
   "outputs": [],
   "source": [
    "given_data.dropna(axis=0)\n",
    "Y = given_data['quality']\n",
    "X = given_data.drop('quality', axis=1)"
   ]
  },
  {
   "cell_type": "code",
   "execution_count": 21,
   "id": "989d8f70",
   "metadata": {},
   "outputs": [
    {
     "data": {
      "text/html": [
       "<div>\n",
       "<style scoped>\n",
       "    .dataframe tbody tr th:only-of-type {\n",
       "        vertical-align: middle;\n",
       "    }\n",
       "\n",
       "    .dataframe tbody tr th {\n",
       "        vertical-align: top;\n",
       "    }\n",
       "\n",
       "    .dataframe thead th {\n",
       "        text-align: right;\n",
       "    }\n",
       "</style>\n",
       "<table border=\"1\" class=\"dataframe\">\n",
       "  <thead>\n",
       "    <tr style=\"text-align: right;\">\n",
       "      <th></th>\n",
       "      <th>type</th>\n",
       "      <th>fixed acidity</th>\n",
       "      <th>volatile acidity</th>\n",
       "      <th>citric acid</th>\n",
       "      <th>residual sugar</th>\n",
       "      <th>chlorides</th>\n",
       "      <th>free sulfur dioxide</th>\n",
       "      <th>total sulfur dioxide</th>\n",
       "      <th>density</th>\n",
       "      <th>pH</th>\n",
       "      <th>sulphates</th>\n",
       "      <th>alcohol</th>\n",
       "    </tr>\n",
       "  </thead>\n",
       "  <tbody>\n",
       "    <tr>\n",
       "      <th>0</th>\n",
       "      <td>white</td>\n",
       "      <td>7.0</td>\n",
       "      <td>0.270</td>\n",
       "      <td>0.36</td>\n",
       "      <td>20.7</td>\n",
       "      <td>0.045</td>\n",
       "      <td>45.0</td>\n",
       "      <td>170.0</td>\n",
       "      <td>1.00100</td>\n",
       "      <td>3.00</td>\n",
       "      <td>0.45</td>\n",
       "      <td>8.8</td>\n",
       "    </tr>\n",
       "    <tr>\n",
       "      <th>1</th>\n",
       "      <td>white</td>\n",
       "      <td>6.3</td>\n",
       "      <td>0.300</td>\n",
       "      <td>0.34</td>\n",
       "      <td>1.6</td>\n",
       "      <td>0.049</td>\n",
       "      <td>14.0</td>\n",
       "      <td>132.0</td>\n",
       "      <td>0.99400</td>\n",
       "      <td>3.30</td>\n",
       "      <td>0.49</td>\n",
       "      <td>9.5</td>\n",
       "    </tr>\n",
       "    <tr>\n",
       "      <th>2</th>\n",
       "      <td>white</td>\n",
       "      <td>8.1</td>\n",
       "      <td>0.280</td>\n",
       "      <td>0.40</td>\n",
       "      <td>6.9</td>\n",
       "      <td>0.050</td>\n",
       "      <td>30.0</td>\n",
       "      <td>97.0</td>\n",
       "      <td>0.99510</td>\n",
       "      <td>3.26</td>\n",
       "      <td>0.44</td>\n",
       "      <td>10.1</td>\n",
       "    </tr>\n",
       "    <tr>\n",
       "      <th>3</th>\n",
       "      <td>white</td>\n",
       "      <td>7.2</td>\n",
       "      <td>0.230</td>\n",
       "      <td>0.32</td>\n",
       "      <td>8.5</td>\n",
       "      <td>0.058</td>\n",
       "      <td>47.0</td>\n",
       "      <td>186.0</td>\n",
       "      <td>0.99560</td>\n",
       "      <td>3.19</td>\n",
       "      <td>0.40</td>\n",
       "      <td>9.9</td>\n",
       "    </tr>\n",
       "    <tr>\n",
       "      <th>4</th>\n",
       "      <td>white</td>\n",
       "      <td>7.2</td>\n",
       "      <td>0.230</td>\n",
       "      <td>0.32</td>\n",
       "      <td>8.5</td>\n",
       "      <td>0.058</td>\n",
       "      <td>47.0</td>\n",
       "      <td>186.0</td>\n",
       "      <td>0.99560</td>\n",
       "      <td>3.19</td>\n",
       "      <td>0.40</td>\n",
       "      <td>9.9</td>\n",
       "    </tr>\n",
       "    <tr>\n",
       "      <th>...</th>\n",
       "      <td>...</td>\n",
       "      <td>...</td>\n",
       "      <td>...</td>\n",
       "      <td>...</td>\n",
       "      <td>...</td>\n",
       "      <td>...</td>\n",
       "      <td>...</td>\n",
       "      <td>...</td>\n",
       "      <td>...</td>\n",
       "      <td>...</td>\n",
       "      <td>...</td>\n",
       "      <td>...</td>\n",
       "    </tr>\n",
       "    <tr>\n",
       "      <th>6492</th>\n",
       "      <td>red</td>\n",
       "      <td>6.2</td>\n",
       "      <td>0.600</td>\n",
       "      <td>0.08</td>\n",
       "      <td>2.0</td>\n",
       "      <td>0.090</td>\n",
       "      <td>32.0</td>\n",
       "      <td>44.0</td>\n",
       "      <td>0.99490</td>\n",
       "      <td>3.45</td>\n",
       "      <td>0.58</td>\n",
       "      <td>10.5</td>\n",
       "    </tr>\n",
       "    <tr>\n",
       "      <th>6493</th>\n",
       "      <td>red</td>\n",
       "      <td>5.9</td>\n",
       "      <td>0.550</td>\n",
       "      <td>0.10</td>\n",
       "      <td>2.2</td>\n",
       "      <td>0.062</td>\n",
       "      <td>39.0</td>\n",
       "      <td>51.0</td>\n",
       "      <td>0.99512</td>\n",
       "      <td>3.52</td>\n",
       "      <td>0.51</td>\n",
       "      <td>11.2</td>\n",
       "    </tr>\n",
       "    <tr>\n",
       "      <th>6494</th>\n",
       "      <td>red</td>\n",
       "      <td>6.3</td>\n",
       "      <td>0.510</td>\n",
       "      <td>0.13</td>\n",
       "      <td>2.3</td>\n",
       "      <td>0.076</td>\n",
       "      <td>29.0</td>\n",
       "      <td>40.0</td>\n",
       "      <td>0.99574</td>\n",
       "      <td>3.42</td>\n",
       "      <td>0.75</td>\n",
       "      <td>11.0</td>\n",
       "    </tr>\n",
       "    <tr>\n",
       "      <th>6495</th>\n",
       "      <td>red</td>\n",
       "      <td>5.9</td>\n",
       "      <td>0.645</td>\n",
       "      <td>0.12</td>\n",
       "      <td>2.0</td>\n",
       "      <td>0.075</td>\n",
       "      <td>32.0</td>\n",
       "      <td>44.0</td>\n",
       "      <td>0.99547</td>\n",
       "      <td>3.57</td>\n",
       "      <td>0.71</td>\n",
       "      <td>10.2</td>\n",
       "    </tr>\n",
       "    <tr>\n",
       "      <th>6496</th>\n",
       "      <td>red</td>\n",
       "      <td>6.0</td>\n",
       "      <td>0.310</td>\n",
       "      <td>0.47</td>\n",
       "      <td>3.6</td>\n",
       "      <td>0.067</td>\n",
       "      <td>18.0</td>\n",
       "      <td>42.0</td>\n",
       "      <td>0.99549</td>\n",
       "      <td>3.39</td>\n",
       "      <td>0.66</td>\n",
       "      <td>11.0</td>\n",
       "    </tr>\n",
       "  </tbody>\n",
       "</table>\n",
       "<p>4974 rows × 12 columns</p>\n",
       "</div>"
      ],
      "text/plain": [
       "       type  fixed acidity  volatile acidity  citric acid  residual sugar  \\\n",
       "0     white            7.0             0.270         0.36            20.7   \n",
       "1     white            6.3             0.300         0.34             1.6   \n",
       "2     white            8.1             0.280         0.40             6.9   \n",
       "3     white            7.2             0.230         0.32             8.5   \n",
       "4     white            7.2             0.230         0.32             8.5   \n",
       "...     ...            ...               ...          ...             ...   \n",
       "6492    red            6.2             0.600         0.08             2.0   \n",
       "6493    red            5.9             0.550         0.10             2.2   \n",
       "6494    red            6.3             0.510         0.13             2.3   \n",
       "6495    red            5.9             0.645         0.12             2.0   \n",
       "6496    red            6.0             0.310         0.47             3.6   \n",
       "\n",
       "      chlorides  free sulfur dioxide  total sulfur dioxide  density    pH  \\\n",
       "0         0.045                 45.0                 170.0  1.00100  3.00   \n",
       "1         0.049                 14.0                 132.0  0.99400  3.30   \n",
       "2         0.050                 30.0                  97.0  0.99510  3.26   \n",
       "3         0.058                 47.0                 186.0  0.99560  3.19   \n",
       "4         0.058                 47.0                 186.0  0.99560  3.19   \n",
       "...         ...                  ...                   ...      ...   ...   \n",
       "6492      0.090                 32.0                  44.0  0.99490  3.45   \n",
       "6493      0.062                 39.0                  51.0  0.99512  3.52   \n",
       "6494      0.076                 29.0                  40.0  0.99574  3.42   \n",
       "6495      0.075                 32.0                  44.0  0.99547  3.57   \n",
       "6496      0.067                 18.0                  42.0  0.99549  3.39   \n",
       "\n",
       "      sulphates  alcohol  \n",
       "0          0.45      8.8  \n",
       "1          0.49      9.5  \n",
       "2          0.44     10.1  \n",
       "3          0.40      9.9  \n",
       "4          0.40      9.9  \n",
       "...         ...      ...  \n",
       "6492       0.58     10.5  \n",
       "6493       0.51     11.2  \n",
       "6494       0.75     11.0  \n",
       "6495       0.71     10.2  \n",
       "6496       0.66     11.0  \n",
       "\n",
       "[4974 rows x 12 columns]"
      ]
     },
     "execution_count": 21,
     "metadata": {},
     "output_type": "execute_result"
    }
   ],
   "source": [
    "X"
   ]
  },
  {
   "cell_type": "code",
   "execution_count": 22,
   "id": "f4e08f71",
   "metadata": {},
   "outputs": [
    {
     "data": {
      "text/plain": [
       "0       6\n",
       "1       6\n",
       "2       6\n",
       "3       6\n",
       "4       6\n",
       "       ..\n",
       "6492    5\n",
       "6493    6\n",
       "6494    6\n",
       "6495    5\n",
       "6496    6\n",
       "Name: quality, Length: 4974, dtype: int64"
      ]
     },
     "execution_count": 22,
     "metadata": {},
     "output_type": "execute_result"
    }
   ],
   "source": [
    "Y"
   ]
  },
  {
   "cell_type": "markdown",
   "id": "c17fa1e2",
   "metadata": {},
   "source": [
    "## Количество классов:"
   ]
  },
  {
   "cell_type": "code",
   "execution_count": 23,
   "id": "8280eed7",
   "metadata": {
    "scrolled": true
   },
   "outputs": [
    {
     "name": "stdout",
     "output_type": "stream",
     "text": [
      "[5 6]\n",
      "2\n"
     ]
    }
   ],
   "source": [
    "print(np.unique(Y))\n",
    "print(len(np.unique(Y)))"
   ]
  },
  {
   "cell_type": "markdown",
   "id": "02c4aad9",
   "metadata": {},
   "source": [
    "# Векторизация"
   ]
  },
  {
   "cell_type": "code",
   "execution_count": 24,
   "id": "ec68ade5",
   "metadata": {},
   "outputs": [
    {
     "data": {
      "text/html": [
       "<div>\n",
       "<style scoped>\n",
       "    .dataframe tbody tr th:only-of-type {\n",
       "        vertical-align: middle;\n",
       "    }\n",
       "\n",
       "    .dataframe tbody tr th {\n",
       "        vertical-align: top;\n",
       "    }\n",
       "\n",
       "    .dataframe thead th {\n",
       "        text-align: right;\n",
       "    }\n",
       "</style>\n",
       "<table border=\"1\" class=\"dataframe\">\n",
       "  <thead>\n",
       "    <tr style=\"text-align: right;\">\n",
       "      <th></th>\n",
       "      <th>type</th>\n",
       "    </tr>\n",
       "  </thead>\n",
       "  <tbody>\n",
       "    <tr>\n",
       "      <th>count</th>\n",
       "      <td>4974</td>\n",
       "    </tr>\n",
       "    <tr>\n",
       "      <th>unique</th>\n",
       "      <td>2</td>\n",
       "    </tr>\n",
       "    <tr>\n",
       "      <th>top</th>\n",
       "      <td>white</td>\n",
       "    </tr>\n",
       "    <tr>\n",
       "      <th>freq</th>\n",
       "      <td>3655</td>\n",
       "    </tr>\n",
       "  </tbody>\n",
       "</table>\n",
       "</div>"
      ],
      "text/plain": [
       "         type\n",
       "count    4974\n",
       "unique      2\n",
       "top     white\n",
       "freq     3655"
      ]
     },
     "execution_count": 24,
     "metadata": {},
     "output_type": "execute_result"
    }
   ],
   "source": [
    "data_describe = X.describe(include = [object])\n",
    "# for column in categorical_columns:\n",
    "    # X[column] = X[column].fillna(data_describe[column]['top'])\n",
    "data_describe"
   ]
  },
  {
   "cell_type": "code",
   "execution_count": 25,
   "id": "70c2535c",
   "metadata": {},
   "outputs": [
    {
     "name": "stdout",
     "output_type": "stream",
     "text": [
      "['type'] []\n"
     ]
    }
   ],
   "source": [
    "binary_columns  = [column for column in categorical_columns if data_describe[column]['unique'] == 2]\n",
    "non_binary_columns = [column for column in categorical_columns if data_describe[column]['unique'] > 2]\n",
    "print(binary_columns, non_binary_columns)"
   ]
  },
  {
   "cell_type": "code",
   "execution_count": 26,
   "id": "4dc73b51",
   "metadata": {},
   "outputs": [
    {
     "data": {
      "text/plain": [
       "array(['white', 'red'], dtype=object)"
      ]
     },
     "execution_count": 26,
     "metadata": {},
     "output_type": "execute_result"
    }
   ],
   "source": [
    "X['type'].unique()"
   ]
  },
  {
   "cell_type": "code",
   "execution_count": 27,
   "id": "518f203a",
   "metadata": {},
   "outputs": [
    {
     "data": {
      "text/plain": [
       "count    4974.000000\n",
       "mean        0.265179\n",
       "std         0.441473\n",
       "min         0.000000\n",
       "25%         0.000000\n",
       "50%         0.000000\n",
       "75%         1.000000\n",
       "max         1.000000\n",
       "Name: type, dtype: float64"
      ]
     },
     "execution_count": 27,
     "metadata": {},
     "output_type": "execute_result"
    }
   ],
   "source": [
    "X.at[X['type'] == 'white', 'type'] = 0\n",
    "X.at[X['type'] == 'red', 'type'] = 1\n",
    "X['type'].astype('float64').describe()"
   ]
  },
  {
   "cell_type": "code",
   "execution_count": 28,
   "id": "59ce6498",
   "metadata": {},
   "outputs": [
    {
     "data": {
      "text/plain": [
       "0       0\n",
       "1       0\n",
       "2       0\n",
       "3       0\n",
       "4       0\n",
       "       ..\n",
       "6492    1\n",
       "6493    1\n",
       "6494    1\n",
       "6495    1\n",
       "6496    1\n",
       "Name: type, Length: 4974, dtype: object"
      ]
     },
     "execution_count": 28,
     "metadata": {},
     "output_type": "execute_result"
    }
   ],
   "source": [
    "X['type']"
   ]
  },
  {
   "cell_type": "markdown",
   "id": "6933d893",
   "metadata": {},
   "source": [
    "# Нормализация"
   ]
  },
  {
   "cell_type": "markdown",
   "id": "d975f67e",
   "metadata": {},
   "source": [
    "В целом, если смотреть, данные весьма разнородные, если достаточно низние значения, есть высокие, а больше всего и вовсе средних. В целях увеличиния точности, проведем нормализацию всех числовых ячеек."
   ]
  },
  {
   "cell_type": "code",
   "execution_count": 29,
   "id": "69fb6a90",
   "metadata": {},
   "outputs": [
    {
     "data": {
      "text/html": [
       "<div>\n",
       "<style scoped>\n",
       "    .dataframe tbody tr th:only-of-type {\n",
       "        vertical-align: middle;\n",
       "    }\n",
       "\n",
       "    .dataframe tbody tr th {\n",
       "        vertical-align: top;\n",
       "    }\n",
       "\n",
       "    .dataframe thead th {\n",
       "        text-align: right;\n",
       "    }\n",
       "</style>\n",
       "<table border=\"1\" class=\"dataframe\">\n",
       "  <thead>\n",
       "    <tr style=\"text-align: right;\">\n",
       "      <th></th>\n",
       "      <th>fixed acidity</th>\n",
       "      <th>volatile acidity</th>\n",
       "      <th>citric acid</th>\n",
       "      <th>residual sugar</th>\n",
       "      <th>chlorides</th>\n",
       "      <th>free sulfur dioxide</th>\n",
       "      <th>total sulfur dioxide</th>\n",
       "      <th>density</th>\n",
       "      <th>pH</th>\n",
       "      <th>sulphates</th>\n",
       "      <th>alcohol</th>\n",
       "    </tr>\n",
       "  </thead>\n",
       "  <tbody>\n",
       "    <tr>\n",
       "      <th>count</th>\n",
       "      <td>4974.000000</td>\n",
       "      <td>4974.000000</td>\n",
       "      <td>4974.000000</td>\n",
       "      <td>4974.000000</td>\n",
       "      <td>4974.000000</td>\n",
       "      <td>4974.000000</td>\n",
       "      <td>4974.000000</td>\n",
       "      <td>4974.000000</td>\n",
       "      <td>4974.000000</td>\n",
       "      <td>4974.000000</td>\n",
       "      <td>4974.000000</td>\n",
       "    </tr>\n",
       "    <tr>\n",
       "      <th>mean</th>\n",
       "      <td>7.242602</td>\n",
       "      <td>0.346367</td>\n",
       "      <td>0.316876</td>\n",
       "      <td>5.659409</td>\n",
       "      <td>0.058679</td>\n",
       "      <td>30.766285</td>\n",
       "      <td>117.744069</td>\n",
       "      <td>0.995113</td>\n",
       "      <td>3.215247</td>\n",
       "      <td>0.529853</td>\n",
       "      <td>10.265275</td>\n",
       "    </tr>\n",
       "    <tr>\n",
       "      <th>std</th>\n",
       "      <td>1.279083</td>\n",
       "      <td>0.165580</td>\n",
       "      <td>0.150550</td>\n",
       "      <td>4.935000</td>\n",
       "      <td>0.036434</td>\n",
       "      <td>17.604133</td>\n",
       "      <td>57.861460</td>\n",
       "      <td>0.002867</td>\n",
       "      <td>0.159306</td>\n",
       "      <td>0.144554</td>\n",
       "      <td>1.070626</td>\n",
       "    </tr>\n",
       "    <tr>\n",
       "      <th>min</th>\n",
       "      <td>3.800000</td>\n",
       "      <td>0.080000</td>\n",
       "      <td>0.000000</td>\n",
       "      <td>0.600000</td>\n",
       "      <td>0.009000</td>\n",
       "      <td>1.000000</td>\n",
       "      <td>6.000000</td>\n",
       "      <td>0.987220</td>\n",
       "      <td>2.720000</td>\n",
       "      <td>0.230000</td>\n",
       "      <td>8.000000</td>\n",
       "    </tr>\n",
       "    <tr>\n",
       "      <th>25%</th>\n",
       "      <td>6.400000</td>\n",
       "      <td>0.230000</td>\n",
       "      <td>0.240000</td>\n",
       "      <td>1.800000</td>\n",
       "      <td>0.040000</td>\n",
       "      <td>17.000000</td>\n",
       "      <td>76.000000</td>\n",
       "      <td>0.992993</td>\n",
       "      <td>3.110000</td>\n",
       "      <td>0.440000</td>\n",
       "      <td>9.400000</td>\n",
       "    </tr>\n",
       "    <tr>\n",
       "      <th>50%</th>\n",
       "      <td>7.000000</td>\n",
       "      <td>0.300000</td>\n",
       "      <td>0.310000</td>\n",
       "      <td>3.100000</td>\n",
       "      <td>0.049000</td>\n",
       "      <td>29.000000</td>\n",
       "      <td>121.000000</td>\n",
       "      <td>0.995400</td>\n",
       "      <td>3.200000</td>\n",
       "      <td>0.510000</td>\n",
       "      <td>10.000000</td>\n",
       "    </tr>\n",
       "    <tr>\n",
       "      <th>75%</th>\n",
       "      <td>7.700000</td>\n",
       "      <td>0.420000</td>\n",
       "      <td>0.400000</td>\n",
       "      <td>8.500000</td>\n",
       "      <td>0.070000</td>\n",
       "      <td>42.000000</td>\n",
       "      <td>160.000000</td>\n",
       "      <td>0.997200</td>\n",
       "      <td>3.310000</td>\n",
       "      <td>0.600000</td>\n",
       "      <td>11.000000</td>\n",
       "    </tr>\n",
       "    <tr>\n",
       "      <th>max</th>\n",
       "      <td>15.900000</td>\n",
       "      <td>1.330000</td>\n",
       "      <td>1.660000</td>\n",
       "      <td>65.800000</td>\n",
       "      <td>0.611000</td>\n",
       "      <td>131.000000</td>\n",
       "      <td>344.000000</td>\n",
       "      <td>1.038980</td>\n",
       "      <td>4.010000</td>\n",
       "      <td>1.980000</td>\n",
       "      <td>14.900000</td>\n",
       "    </tr>\n",
       "  </tbody>\n",
       "</table>\n",
       "</div>"
      ],
      "text/plain": [
       "       fixed acidity  volatile acidity  citric acid  residual sugar  \\\n",
       "count    4974.000000       4974.000000  4974.000000     4974.000000   \n",
       "mean        7.242602          0.346367     0.316876        5.659409   \n",
       "std         1.279083          0.165580     0.150550        4.935000   \n",
       "min         3.800000          0.080000     0.000000        0.600000   \n",
       "25%         6.400000          0.230000     0.240000        1.800000   \n",
       "50%         7.000000          0.300000     0.310000        3.100000   \n",
       "75%         7.700000          0.420000     0.400000        8.500000   \n",
       "max        15.900000          1.330000     1.660000       65.800000   \n",
       "\n",
       "         chlorides  free sulfur dioxide  total sulfur dioxide      density  \\\n",
       "count  4974.000000          4974.000000           4974.000000  4974.000000   \n",
       "mean      0.058679            30.766285            117.744069     0.995113   \n",
       "std       0.036434            17.604133             57.861460     0.002867   \n",
       "min       0.009000             1.000000              6.000000     0.987220   \n",
       "25%       0.040000            17.000000             76.000000     0.992993   \n",
       "50%       0.049000            29.000000            121.000000     0.995400   \n",
       "75%       0.070000            42.000000            160.000000     0.997200   \n",
       "max       0.611000           131.000000            344.000000     1.038980   \n",
       "\n",
       "                pH    sulphates      alcohol  \n",
       "count  4974.000000  4974.000000  4974.000000  \n",
       "mean      3.215247     0.529853    10.265275  \n",
       "std       0.159306     0.144554     1.070626  \n",
       "min       2.720000     0.230000     8.000000  \n",
       "25%       3.110000     0.440000     9.400000  \n",
       "50%       3.200000     0.510000    10.000000  \n",
       "75%       3.310000     0.600000    11.000000  \n",
       "max       4.010000     1.980000    14.900000  "
      ]
     },
     "execution_count": 29,
     "metadata": {},
     "output_type": "execute_result"
    }
   ],
   "source": [
    "num_data = X[num_columns].astype('float64')\n",
    "num_data.describe()"
   ]
  },
  {
   "cell_type": "code",
   "execution_count": 30,
   "id": "076e7056",
   "metadata": {},
   "outputs": [],
   "source": [
    "num_data = (num_data - num_data.mean(axis = 0)) / num_data.std(axis = 0)"
   ]
  },
  {
   "cell_type": "code",
   "execution_count": 31,
   "id": "98a2108c",
   "metadata": {},
   "outputs": [
    {
     "data": {
      "text/html": [
       "<div>\n",
       "<style scoped>\n",
       "    .dataframe tbody tr th:only-of-type {\n",
       "        vertical-align: middle;\n",
       "    }\n",
       "\n",
       "    .dataframe tbody tr th {\n",
       "        vertical-align: top;\n",
       "    }\n",
       "\n",
       "    .dataframe thead th {\n",
       "        text-align: right;\n",
       "    }\n",
       "</style>\n",
       "<table border=\"1\" class=\"dataframe\">\n",
       "  <thead>\n",
       "    <tr style=\"text-align: right;\">\n",
       "      <th></th>\n",
       "      <th>fixed acidity</th>\n",
       "      <th>volatile acidity</th>\n",
       "      <th>citric acid</th>\n",
       "      <th>residual sugar</th>\n",
       "      <th>chlorides</th>\n",
       "      <th>free sulfur dioxide</th>\n",
       "      <th>total sulfur dioxide</th>\n",
       "      <th>density</th>\n",
       "      <th>pH</th>\n",
       "      <th>sulphates</th>\n",
       "      <th>alcohol</th>\n",
       "    </tr>\n",
       "  </thead>\n",
       "  <tbody>\n",
       "    <tr>\n",
       "      <th>count</th>\n",
       "      <td>4.974000e+03</td>\n",
       "      <td>4.974000e+03</td>\n",
       "      <td>4.974000e+03</td>\n",
       "      <td>4974.000000</td>\n",
       "      <td>4.974000e+03</td>\n",
       "      <td>4.974000e+03</td>\n",
       "      <td>4.974000e+03</td>\n",
       "      <td>4.974000e+03</td>\n",
       "      <td>4.974000e+03</td>\n",
       "      <td>4.974000e+03</td>\n",
       "      <td>4.974000e+03</td>\n",
       "    </tr>\n",
       "    <tr>\n",
       "      <th>mean</th>\n",
       "      <td>8.113958e-16</td>\n",
       "      <td>-1.371373e-16</td>\n",
       "      <td>-1.371373e-16</td>\n",
       "      <td>0.000000</td>\n",
       "      <td>1.371373e-16</td>\n",
       "      <td>6.856866e-17</td>\n",
       "      <td>9.142488e-17</td>\n",
       "      <td>-3.330151e-14</td>\n",
       "      <td>1.577079e-15</td>\n",
       "      <td>-2.742746e-16</td>\n",
       "      <td>-9.371050e-16</td>\n",
       "    </tr>\n",
       "    <tr>\n",
       "      <th>std</th>\n",
       "      <td>1.000000e+00</td>\n",
       "      <td>1.000000e+00</td>\n",
       "      <td>1.000000e+00</td>\n",
       "      <td>1.000000</td>\n",
       "      <td>1.000000e+00</td>\n",
       "      <td>1.000000e+00</td>\n",
       "      <td>1.000000e+00</td>\n",
       "      <td>1.000000e+00</td>\n",
       "      <td>1.000000e+00</td>\n",
       "      <td>1.000000e+00</td>\n",
       "      <td>1.000000e+00</td>\n",
       "    </tr>\n",
       "    <tr>\n",
       "      <th>min</th>\n",
       "      <td>-2.691461e+00</td>\n",
       "      <td>-1.608687e+00</td>\n",
       "      <td>-2.104785e+00</td>\n",
       "      <td>-1.025210</td>\n",
       "      <td>-1.363535e+00</td>\n",
       "      <td>-1.690869e+00</td>\n",
       "      <td>-1.931235e+00</td>\n",
       "      <td>-2.753565e+00</td>\n",
       "      <td>-3.108787e+00</td>\n",
       "      <td>-2.074327e+00</td>\n",
       "      <td>-2.115841e+00</td>\n",
       "    </tr>\n",
       "    <tr>\n",
       "      <th>25%</th>\n",
       "      <td>-6.587544e-01</td>\n",
       "      <td>-7.027829e-01</td>\n",
       "      <td>-5.106320e-01</td>\n",
       "      <td>-0.782048</td>\n",
       "      <td>-5.126865e-01</td>\n",
       "      <td>-7.819916e-01</td>\n",
       "      <td>-7.214486e-01</td>\n",
       "      <td>-7.397883e-01</td>\n",
       "      <td>-6.606626e-01</td>\n",
       "      <td>-6.215874e-01</td>\n",
       "      <td>-8.081956e-01</td>\n",
       "    </tr>\n",
       "    <tr>\n",
       "      <th>50%</th>\n",
       "      <td>-1.896683e-01</td>\n",
       "      <td>-2.800277e-01</td>\n",
       "      <td>-4.567084e-02</td>\n",
       "      <td>-0.518624</td>\n",
       "      <td>-2.656660e-01</td>\n",
       "      <td>-1.003335e-01</td>\n",
       "      <td>5.627115e-02</td>\n",
       "      <td>1.000849e-01</td>\n",
       "      <td>-9.571089e-02</td>\n",
       "      <td>-1.373409e-01</td>\n",
       "      <td>-2.477759e-01</td>\n",
       "    </tr>\n",
       "    <tr>\n",
       "      <th>75%</th>\n",
       "      <td>3.575988e-01</td>\n",
       "      <td>4.446956e-01</td>\n",
       "      <td>5.521364e-01</td>\n",
       "      <td>0.575601</td>\n",
       "      <td>3.107153e-01</td>\n",
       "      <td>6.381294e-01</td>\n",
       "      <td>7.302949e-01</td>\n",
       "      <td>7.280275e-01</td>\n",
       "      <td>5.947856e-01</td>\n",
       "      <td>4.852618e-01</td>\n",
       "      <td>6.862568e-01</td>\n",
       "    </tr>\n",
       "    <tr>\n",
       "      <th>max</th>\n",
       "      <td>6.768442e+00</td>\n",
       "      <td>5.940514e+00</td>\n",
       "      <td>8.921438e+00</td>\n",
       "      <td>12.186544</td>\n",
       "      <td>1.515939e+01</td>\n",
       "      <td>5.693760e+00</td>\n",
       "      <td>3.910305e+00</td>\n",
       "      <td>1.530327e+01</td>\n",
       "      <td>4.988854e+00</td>\n",
       "      <td>1.003184e+01</td>\n",
       "      <td>4.328984e+00</td>\n",
       "    </tr>\n",
       "  </tbody>\n",
       "</table>\n",
       "</div>"
      ],
      "text/plain": [
       "       fixed acidity  volatile acidity   citric acid  residual sugar  \\\n",
       "count   4.974000e+03      4.974000e+03  4.974000e+03     4974.000000   \n",
       "mean    8.113958e-16     -1.371373e-16 -1.371373e-16        0.000000   \n",
       "std     1.000000e+00      1.000000e+00  1.000000e+00        1.000000   \n",
       "min    -2.691461e+00     -1.608687e+00 -2.104785e+00       -1.025210   \n",
       "25%    -6.587544e-01     -7.027829e-01 -5.106320e-01       -0.782048   \n",
       "50%    -1.896683e-01     -2.800277e-01 -4.567084e-02       -0.518624   \n",
       "75%     3.575988e-01      4.446956e-01  5.521364e-01        0.575601   \n",
       "max     6.768442e+00      5.940514e+00  8.921438e+00       12.186544   \n",
       "\n",
       "          chlorides  free sulfur dioxide  total sulfur dioxide       density  \\\n",
       "count  4.974000e+03         4.974000e+03          4.974000e+03  4.974000e+03   \n",
       "mean   1.371373e-16         6.856866e-17          9.142488e-17 -3.330151e-14   \n",
       "std    1.000000e+00         1.000000e+00          1.000000e+00  1.000000e+00   \n",
       "min   -1.363535e+00        -1.690869e+00         -1.931235e+00 -2.753565e+00   \n",
       "25%   -5.126865e-01        -7.819916e-01         -7.214486e-01 -7.397883e-01   \n",
       "50%   -2.656660e-01        -1.003335e-01          5.627115e-02  1.000849e-01   \n",
       "75%    3.107153e-01         6.381294e-01          7.302949e-01  7.280275e-01   \n",
       "max    1.515939e+01         5.693760e+00          3.910305e+00  1.530327e+01   \n",
       "\n",
       "                 pH     sulphates       alcohol  \n",
       "count  4.974000e+03  4.974000e+03  4.974000e+03  \n",
       "mean   1.577079e-15 -2.742746e-16 -9.371050e-16  \n",
       "std    1.000000e+00  1.000000e+00  1.000000e+00  \n",
       "min   -3.108787e+00 -2.074327e+00 -2.115841e+00  \n",
       "25%   -6.606626e-01 -6.215874e-01 -8.081956e-01  \n",
       "50%   -9.571089e-02 -1.373409e-01 -2.477759e-01  \n",
       "75%    5.947856e-01  4.852618e-01  6.862568e-01  \n",
       "max    4.988854e+00  1.003184e+01  4.328984e+00  "
      ]
     },
     "execution_count": 31,
     "metadata": {},
     "output_type": "execute_result"
    }
   ],
   "source": [
    "num_data.describe()"
   ]
  },
  {
   "cell_type": "markdown",
   "id": "253435a1",
   "metadata": {},
   "source": [
    "# Соединние `num_data` и `X[binary_columns]`"
   ]
  },
  {
   "cell_type": "code",
   "execution_count": 32,
   "id": "d8997d76",
   "metadata": {},
   "outputs": [
    {
     "data": {
      "text/html": [
       "<div>\n",
       "<style scoped>\n",
       "    .dataframe tbody tr th:only-of-type {\n",
       "        vertical-align: middle;\n",
       "    }\n",
       "\n",
       "    .dataframe tbody tr th {\n",
       "        vertical-align: top;\n",
       "    }\n",
       "\n",
       "    .dataframe thead th {\n",
       "        text-align: right;\n",
       "    }\n",
       "</style>\n",
       "<table border=\"1\" class=\"dataframe\">\n",
       "  <thead>\n",
       "    <tr style=\"text-align: right;\">\n",
       "      <th></th>\n",
       "      <th>fixed acidity</th>\n",
       "      <th>volatile acidity</th>\n",
       "      <th>citric acid</th>\n",
       "      <th>residual sugar</th>\n",
       "      <th>chlorides</th>\n",
       "      <th>free sulfur dioxide</th>\n",
       "      <th>total sulfur dioxide</th>\n",
       "      <th>density</th>\n",
       "      <th>pH</th>\n",
       "      <th>sulphates</th>\n",
       "      <th>alcohol</th>\n",
       "    </tr>\n",
       "  </thead>\n",
       "  <tbody>\n",
       "    <tr>\n",
       "      <th>count</th>\n",
       "      <td>4.974000e+03</td>\n",
       "      <td>4.974000e+03</td>\n",
       "      <td>4.974000e+03</td>\n",
       "      <td>4974.000000</td>\n",
       "      <td>4.974000e+03</td>\n",
       "      <td>4.974000e+03</td>\n",
       "      <td>4.974000e+03</td>\n",
       "      <td>4.974000e+03</td>\n",
       "      <td>4.974000e+03</td>\n",
       "      <td>4.974000e+03</td>\n",
       "      <td>4.974000e+03</td>\n",
       "    </tr>\n",
       "    <tr>\n",
       "      <th>mean</th>\n",
       "      <td>8.113958e-16</td>\n",
       "      <td>-1.371373e-16</td>\n",
       "      <td>-1.371373e-16</td>\n",
       "      <td>0.000000</td>\n",
       "      <td>1.371373e-16</td>\n",
       "      <td>6.856866e-17</td>\n",
       "      <td>9.142488e-17</td>\n",
       "      <td>-3.330151e-14</td>\n",
       "      <td>1.577079e-15</td>\n",
       "      <td>-2.742746e-16</td>\n",
       "      <td>-9.371050e-16</td>\n",
       "    </tr>\n",
       "    <tr>\n",
       "      <th>std</th>\n",
       "      <td>1.000000e+00</td>\n",
       "      <td>1.000000e+00</td>\n",
       "      <td>1.000000e+00</td>\n",
       "      <td>1.000000</td>\n",
       "      <td>1.000000e+00</td>\n",
       "      <td>1.000000e+00</td>\n",
       "      <td>1.000000e+00</td>\n",
       "      <td>1.000000e+00</td>\n",
       "      <td>1.000000e+00</td>\n",
       "      <td>1.000000e+00</td>\n",
       "      <td>1.000000e+00</td>\n",
       "    </tr>\n",
       "    <tr>\n",
       "      <th>min</th>\n",
       "      <td>-2.691461e+00</td>\n",
       "      <td>-1.608687e+00</td>\n",
       "      <td>-2.104785e+00</td>\n",
       "      <td>-1.025210</td>\n",
       "      <td>-1.363535e+00</td>\n",
       "      <td>-1.690869e+00</td>\n",
       "      <td>-1.931235e+00</td>\n",
       "      <td>-2.753565e+00</td>\n",
       "      <td>-3.108787e+00</td>\n",
       "      <td>-2.074327e+00</td>\n",
       "      <td>-2.115841e+00</td>\n",
       "    </tr>\n",
       "    <tr>\n",
       "      <th>25%</th>\n",
       "      <td>-6.587544e-01</td>\n",
       "      <td>-7.027829e-01</td>\n",
       "      <td>-5.106320e-01</td>\n",
       "      <td>-0.782048</td>\n",
       "      <td>-5.126865e-01</td>\n",
       "      <td>-7.819916e-01</td>\n",
       "      <td>-7.214486e-01</td>\n",
       "      <td>-7.397883e-01</td>\n",
       "      <td>-6.606626e-01</td>\n",
       "      <td>-6.215874e-01</td>\n",
       "      <td>-8.081956e-01</td>\n",
       "    </tr>\n",
       "    <tr>\n",
       "      <th>50%</th>\n",
       "      <td>-1.896683e-01</td>\n",
       "      <td>-2.800277e-01</td>\n",
       "      <td>-4.567084e-02</td>\n",
       "      <td>-0.518624</td>\n",
       "      <td>-2.656660e-01</td>\n",
       "      <td>-1.003335e-01</td>\n",
       "      <td>5.627115e-02</td>\n",
       "      <td>1.000849e-01</td>\n",
       "      <td>-9.571089e-02</td>\n",
       "      <td>-1.373409e-01</td>\n",
       "      <td>-2.477759e-01</td>\n",
       "    </tr>\n",
       "    <tr>\n",
       "      <th>75%</th>\n",
       "      <td>3.575988e-01</td>\n",
       "      <td>4.446956e-01</td>\n",
       "      <td>5.521364e-01</td>\n",
       "      <td>0.575601</td>\n",
       "      <td>3.107153e-01</td>\n",
       "      <td>6.381294e-01</td>\n",
       "      <td>7.302949e-01</td>\n",
       "      <td>7.280275e-01</td>\n",
       "      <td>5.947856e-01</td>\n",
       "      <td>4.852618e-01</td>\n",
       "      <td>6.862568e-01</td>\n",
       "    </tr>\n",
       "    <tr>\n",
       "      <th>max</th>\n",
       "      <td>6.768442e+00</td>\n",
       "      <td>5.940514e+00</td>\n",
       "      <td>8.921438e+00</td>\n",
       "      <td>12.186544</td>\n",
       "      <td>1.515939e+01</td>\n",
       "      <td>5.693760e+00</td>\n",
       "      <td>3.910305e+00</td>\n",
       "      <td>1.530327e+01</td>\n",
       "      <td>4.988854e+00</td>\n",
       "      <td>1.003184e+01</td>\n",
       "      <td>4.328984e+00</td>\n",
       "    </tr>\n",
       "  </tbody>\n",
       "</table>\n",
       "</div>"
      ],
      "text/plain": [
       "       fixed acidity  volatile acidity   citric acid  residual sugar  \\\n",
       "count   4.974000e+03      4.974000e+03  4.974000e+03     4974.000000   \n",
       "mean    8.113958e-16     -1.371373e-16 -1.371373e-16        0.000000   \n",
       "std     1.000000e+00      1.000000e+00  1.000000e+00        1.000000   \n",
       "min    -2.691461e+00     -1.608687e+00 -2.104785e+00       -1.025210   \n",
       "25%    -6.587544e-01     -7.027829e-01 -5.106320e-01       -0.782048   \n",
       "50%    -1.896683e-01     -2.800277e-01 -4.567084e-02       -0.518624   \n",
       "75%     3.575988e-01      4.446956e-01  5.521364e-01        0.575601   \n",
       "max     6.768442e+00      5.940514e+00  8.921438e+00       12.186544   \n",
       "\n",
       "          chlorides  free sulfur dioxide  total sulfur dioxide       density  \\\n",
       "count  4.974000e+03         4.974000e+03          4.974000e+03  4.974000e+03   \n",
       "mean   1.371373e-16         6.856866e-17          9.142488e-17 -3.330151e-14   \n",
       "std    1.000000e+00         1.000000e+00          1.000000e+00  1.000000e+00   \n",
       "min   -1.363535e+00        -1.690869e+00         -1.931235e+00 -2.753565e+00   \n",
       "25%   -5.126865e-01        -7.819916e-01         -7.214486e-01 -7.397883e-01   \n",
       "50%   -2.656660e-01        -1.003335e-01          5.627115e-02  1.000849e-01   \n",
       "75%    3.107153e-01         6.381294e-01          7.302949e-01  7.280275e-01   \n",
       "max    1.515939e+01         5.693760e+00          3.910305e+00  1.530327e+01   \n",
       "\n",
       "                 pH     sulphates       alcohol  \n",
       "count  4.974000e+03  4.974000e+03  4.974000e+03  \n",
       "mean   1.577079e-15 -2.742746e-16 -9.371050e-16  \n",
       "std    1.000000e+00  1.000000e+00  1.000000e+00  \n",
       "min   -3.108787e+00 -2.074327e+00 -2.115841e+00  \n",
       "25%   -6.606626e-01 -6.215874e-01 -8.081956e-01  \n",
       "50%   -9.571089e-02 -1.373409e-01 -2.477759e-01  \n",
       "75%    5.947856e-01  4.852618e-01  6.862568e-01  \n",
       "max    4.988854e+00  1.003184e+01  4.328984e+00  "
      ]
     },
     "execution_count": 32,
     "metadata": {},
     "output_type": "execute_result"
    }
   ],
   "source": [
    "X = pd.concat((num_data, X[binary_columns]), axis = 1)\n",
    "X.describe()"
   ]
  },
  {
   "cell_type": "code",
   "execution_count": 33,
   "id": "c6ae799b",
   "metadata": {},
   "outputs": [
    {
     "data": {
      "text/html": [
       "<div>\n",
       "<style scoped>\n",
       "    .dataframe tbody tr th:only-of-type {\n",
       "        vertical-align: middle;\n",
       "    }\n",
       "\n",
       "    .dataframe tbody tr th {\n",
       "        vertical-align: top;\n",
       "    }\n",
       "\n",
       "    .dataframe thead th {\n",
       "        text-align: right;\n",
       "    }\n",
       "</style>\n",
       "<table border=\"1\" class=\"dataframe\">\n",
       "  <thead>\n",
       "    <tr style=\"text-align: right;\">\n",
       "      <th></th>\n",
       "      <th>fixed acidity</th>\n",
       "      <th>volatile acidity</th>\n",
       "      <th>citric acid</th>\n",
       "      <th>residual sugar</th>\n",
       "      <th>chlorides</th>\n",
       "      <th>free sulfur dioxide</th>\n",
       "      <th>total sulfur dioxide</th>\n",
       "      <th>density</th>\n",
       "      <th>pH</th>\n",
       "      <th>sulphates</th>\n",
       "      <th>alcohol</th>\n",
       "      <th>type</th>\n",
       "    </tr>\n",
       "  </thead>\n",
       "  <tbody>\n",
       "    <tr>\n",
       "      <th>0</th>\n",
       "      <td>-0.189668</td>\n",
       "      <td>-0.461209</td>\n",
       "      <td>0.286444</td>\n",
       "      <td>3.047739</td>\n",
       "      <td>-0.375453</td>\n",
       "      <td>0.808544</td>\n",
       "      <td>0.903122</td>\n",
       "      <td>2.053684</td>\n",
       "      <td>-1.351159</td>\n",
       "      <td>-0.552409</td>\n",
       "      <td>-1.368615</td>\n",
       "      <td>0</td>\n",
       "    </tr>\n",
       "    <tr>\n",
       "      <th>1</th>\n",
       "      <td>-0.736935</td>\n",
       "      <td>-0.280028</td>\n",
       "      <td>0.153598</td>\n",
       "      <td>-0.822575</td>\n",
       "      <td>-0.265666</td>\n",
       "      <td>-0.952406</td>\n",
       "      <td>0.246380</td>\n",
       "      <td>-0.388315</td>\n",
       "      <td>0.532013</td>\n",
       "      <td>-0.275697</td>\n",
       "      <td>-0.714792</td>\n",
       "      <td>0</td>\n",
       "    </tr>\n",
       "    <tr>\n",
       "      <th>2</th>\n",
       "      <td>0.670323</td>\n",
       "      <td>-0.400815</td>\n",
       "      <td>0.552136</td>\n",
       "      <td>0.251386</td>\n",
       "      <td>-0.238219</td>\n",
       "      <td>-0.043529</td>\n",
       "      <td>-0.358513</td>\n",
       "      <td>-0.004572</td>\n",
       "      <td>0.280924</td>\n",
       "      <td>-0.621587</td>\n",
       "      <td>-0.154373</td>\n",
       "      <td>0</td>\n",
       "    </tr>\n",
       "    <tr>\n",
       "      <th>3</th>\n",
       "      <td>-0.033306</td>\n",
       "      <td>-0.702783</td>\n",
       "      <td>0.020752</td>\n",
       "      <td>0.575601</td>\n",
       "      <td>-0.018645</td>\n",
       "      <td>0.922154</td>\n",
       "      <td>1.179644</td>\n",
       "      <td>0.169856</td>\n",
       "      <td>-0.158483</td>\n",
       "      <td>-0.898300</td>\n",
       "      <td>-0.341179</td>\n",
       "      <td>0</td>\n",
       "    </tr>\n",
       "    <tr>\n",
       "      <th>4</th>\n",
       "      <td>-0.033306</td>\n",
       "      <td>-0.702783</td>\n",
       "      <td>0.020752</td>\n",
       "      <td>0.575601</td>\n",
       "      <td>-0.018645</td>\n",
       "      <td>0.922154</td>\n",
       "      <td>1.179644</td>\n",
       "      <td>0.169856</td>\n",
       "      <td>-0.158483</td>\n",
       "      <td>-0.898300</td>\n",
       "      <td>-0.341179</td>\n",
       "      <td>0</td>\n",
       "    </tr>\n",
       "    <tr>\n",
       "      <th>...</th>\n",
       "      <td>...</td>\n",
       "      <td>...</td>\n",
       "      <td>...</td>\n",
       "      <td>...</td>\n",
       "      <td>...</td>\n",
       "      <td>...</td>\n",
       "      <td>...</td>\n",
       "      <td>...</td>\n",
       "      <td>...</td>\n",
       "      <td>...</td>\n",
       "      <td>...</td>\n",
       "      <td>...</td>\n",
       "    </tr>\n",
       "    <tr>\n",
       "      <th>6492</th>\n",
       "      <td>-0.815116</td>\n",
       "      <td>1.531781</td>\n",
       "      <td>-1.573400</td>\n",
       "      <td>-0.741522</td>\n",
       "      <td>0.859650</td>\n",
       "      <td>0.070081</td>\n",
       "      <td>-1.274494</td>\n",
       "      <td>-0.074344</td>\n",
       "      <td>1.473599</td>\n",
       "      <td>0.346906</td>\n",
       "      <td>0.219240</td>\n",
       "      <td>1</td>\n",
       "    </tr>\n",
       "    <tr>\n",
       "      <th>6493</th>\n",
       "      <td>-1.049659</td>\n",
       "      <td>1.229812</td>\n",
       "      <td>-1.440554</td>\n",
       "      <td>-0.700995</td>\n",
       "      <td>0.091141</td>\n",
       "      <td>0.467715</td>\n",
       "      <td>-1.153515</td>\n",
       "      <td>0.002405</td>\n",
       "      <td>1.913006</td>\n",
       "      <td>-0.137341</td>\n",
       "      <td>0.873063</td>\n",
       "      <td>1</td>\n",
       "    </tr>\n",
       "    <tr>\n",
       "      <th>6494</th>\n",
       "      <td>-0.736935</td>\n",
       "      <td>0.988238</td>\n",
       "      <td>-1.241285</td>\n",
       "      <td>-0.680731</td>\n",
       "      <td>0.475396</td>\n",
       "      <td>-0.100334</td>\n",
       "      <td>-1.343624</td>\n",
       "      <td>0.218696</td>\n",
       "      <td>1.285282</td>\n",
       "      <td>1.522933</td>\n",
       "      <td>0.686257</td>\n",
       "      <td>1</td>\n",
       "    </tr>\n",
       "    <tr>\n",
       "      <th>6495</th>\n",
       "      <td>-1.049659</td>\n",
       "      <td>1.803552</td>\n",
       "      <td>-1.307708</td>\n",
       "      <td>-0.741522</td>\n",
       "      <td>0.447949</td>\n",
       "      <td>0.070081</td>\n",
       "      <td>-1.274494</td>\n",
       "      <td>0.124505</td>\n",
       "      <td>2.226868</td>\n",
       "      <td>1.246221</td>\n",
       "      <td>-0.060969</td>\n",
       "      <td>1</td>\n",
       "    </tr>\n",
       "    <tr>\n",
       "      <th>6496</th>\n",
       "      <td>-0.971478</td>\n",
       "      <td>-0.219634</td>\n",
       "      <td>1.017098</td>\n",
       "      <td>-0.417307</td>\n",
       "      <td>0.228375</td>\n",
       "      <td>-0.725187</td>\n",
       "      <td>-1.309059</td>\n",
       "      <td>0.131482</td>\n",
       "      <td>1.096965</td>\n",
       "      <td>0.900330</td>\n",
       "      <td>0.686257</td>\n",
       "      <td>1</td>\n",
       "    </tr>\n",
       "  </tbody>\n",
       "</table>\n",
       "<p>4974 rows × 12 columns</p>\n",
       "</div>"
      ],
      "text/plain": [
       "      fixed acidity  volatile acidity  citric acid  residual sugar  chlorides  \\\n",
       "0         -0.189668         -0.461209     0.286444        3.047739  -0.375453   \n",
       "1         -0.736935         -0.280028     0.153598       -0.822575  -0.265666   \n",
       "2          0.670323         -0.400815     0.552136        0.251386  -0.238219   \n",
       "3         -0.033306         -0.702783     0.020752        0.575601  -0.018645   \n",
       "4         -0.033306         -0.702783     0.020752        0.575601  -0.018645   \n",
       "...             ...               ...          ...             ...        ...   \n",
       "6492      -0.815116          1.531781    -1.573400       -0.741522   0.859650   \n",
       "6493      -1.049659          1.229812    -1.440554       -0.700995   0.091141   \n",
       "6494      -0.736935          0.988238    -1.241285       -0.680731   0.475396   \n",
       "6495      -1.049659          1.803552    -1.307708       -0.741522   0.447949   \n",
       "6496      -0.971478         -0.219634     1.017098       -0.417307   0.228375   \n",
       "\n",
       "      free sulfur dioxide  total sulfur dioxide   density        pH  \\\n",
       "0                0.808544              0.903122  2.053684 -1.351159   \n",
       "1               -0.952406              0.246380 -0.388315  0.532013   \n",
       "2               -0.043529             -0.358513 -0.004572  0.280924   \n",
       "3                0.922154              1.179644  0.169856 -0.158483   \n",
       "4                0.922154              1.179644  0.169856 -0.158483   \n",
       "...                   ...                   ...       ...       ...   \n",
       "6492             0.070081             -1.274494 -0.074344  1.473599   \n",
       "6493             0.467715             -1.153515  0.002405  1.913006   \n",
       "6494            -0.100334             -1.343624  0.218696  1.285282   \n",
       "6495             0.070081             -1.274494  0.124505  2.226868   \n",
       "6496            -0.725187             -1.309059  0.131482  1.096965   \n",
       "\n",
       "      sulphates   alcohol type  \n",
       "0     -0.552409 -1.368615    0  \n",
       "1     -0.275697 -0.714792    0  \n",
       "2     -0.621587 -0.154373    0  \n",
       "3     -0.898300 -0.341179    0  \n",
       "4     -0.898300 -0.341179    0  \n",
       "...         ...       ...  ...  \n",
       "6492   0.346906  0.219240    1  \n",
       "6493  -0.137341  0.873063    1  \n",
       "6494   1.522933  0.686257    1  \n",
       "6495   1.246221 -0.060969    1  \n",
       "6496   0.900330  0.686257    1  \n",
       "\n",
       "[4974 rows x 12 columns]"
      ]
     },
     "execution_count": 33,
     "metadata": {},
     "output_type": "execute_result"
    }
   ],
   "source": [
    "X"
   ]
  },
  {
   "cell_type": "code",
   "execution_count": 34,
   "id": "8d80ca06",
   "metadata": {},
   "outputs": [
    {
     "name": "stdout",
     "output_type": "stream",
     "text": [
      "(4974, 12)\n"
     ]
    }
   ],
   "source": [
    "print(X.shape)"
   ]
  },
  {
   "cell_type": "markdown",
   "id": "8e75e7f6",
   "metadata": {},
   "source": [
    "# Обучение выборки"
   ]
  },
  {
   "cell_type": "code",
   "execution_count": 35,
   "id": "67f9dd4c",
   "metadata": {},
   "outputs": [
    {
     "data": {
      "text/plain": [
       "Index(['fixed acidity', 'volatile acidity', 'citric acid', 'residual sugar',\n",
       "       'chlorides', 'free sulfur dioxide', 'total sulfur dioxide', 'density',\n",
       "       'pH', 'sulphates', 'alcohol', 'type'],\n",
       "      dtype='object')"
      ]
     },
     "execution_count": 35,
     "metadata": {},
     "output_type": "execute_result"
    }
   ],
   "source": [
    "features = X.columns\n",
    "features"
   ]
  },
  {
   "cell_type": "code",
   "execution_count": 36,
   "id": "217a76b3",
   "metadata": {},
   "outputs": [
    {
     "data": {
      "text/plain": [
       "pandas.core.indexes.base.Index"
      ]
     },
     "execution_count": 36,
     "metadata": {},
     "output_type": "execute_result"
    }
   ],
   "source": [
    "type(features)"
   ]
  },
  {
   "cell_type": "code",
   "execution_count": 37,
   "id": "9e59063a",
   "metadata": {},
   "outputs": [],
   "source": [
    "X = X.to_numpy()"
   ]
  },
  {
   "cell_type": "code",
   "execution_count": 38,
   "id": "cc26a474",
   "metadata": {},
   "outputs": [],
   "source": [
    "Y = Y.to_numpy(dtype='int32')"
   ]
  },
  {
   "cell_type": "code",
   "execution_count": 39,
   "id": "4c3bb226",
   "metadata": {},
   "outputs": [
    {
     "name": "stdout",
     "output_type": "stream",
     "text": [
      "(4974, 12)\n",
      "(4974,)\n"
     ]
    }
   ],
   "source": [
    "print(X.shape)\n",
    "print(Y.shape)\n",
    "N, d = X.shape"
   ]
  },
  {
   "cell_type": "code",
   "execution_count": 40,
   "id": "1397803c",
   "metadata": {},
   "outputs": [
    {
     "data": {
      "text/plain": [
       "numpy.ndarray"
      ]
     },
     "execution_count": 40,
     "metadata": {},
     "output_type": "execute_result"
    }
   ],
   "source": [
    "type(X)"
   ]
  },
  {
   "cell_type": "code",
   "execution_count": 41,
   "id": "41e10fbc",
   "metadata": {},
   "outputs": [
    {
     "data": {
      "text/plain": [
       "numpy.ndarray"
      ]
     },
     "execution_count": 41,
     "metadata": {},
     "output_type": "execute_result"
    }
   ],
   "source": [
    "type(Y)"
   ]
  },
  {
   "cell_type": "code",
   "execution_count": 42,
   "id": "30293e7d",
   "metadata": {},
   "outputs": [
    {
     "data": {
      "text/plain": [
       "array([5, 6])"
      ]
     },
     "execution_count": 42,
     "metadata": {},
     "output_type": "execute_result"
    }
   ],
   "source": [
    "np.unique(Y)"
   ]
  },
  {
   "cell_type": "code",
   "execution_count": 43,
   "id": "394584c2",
   "metadata": {},
   "outputs": [
    {
     "name": "stdout",
     "output_type": "stream",
     "text": [
      "3481 1493\n"
     ]
    }
   ],
   "source": [
    "from sklearn.model_selection import train_test_split\n",
    "X_train, X_test, y_train, y_test = train_test_split(X, Y, test_size = 0.3, random_state = 42)\n",
    "\n",
    "N_train, _ = X_train.shape \n",
    "N_test,  _ = X_test.shape \n",
    "\n",
    "print(N_train, N_test)"
   ]
  },
  {
   "cell_type": "markdown",
   "id": "60fa2694",
   "metadata": {},
   "source": [
    "# kNN метод. Результаты."
   ]
  },
  {
   "cell_type": "markdown",
   "id": "c7db237b",
   "metadata": {},
   "source": [
    "Добавим "
   ]
  },
  {
   "cell_type": "code",
   "execution_count": 44,
   "id": "1d9ec37d",
   "metadata": {},
   "outputs": [
    {
     "data": {
      "text/plain": [
       "0.009002447128295898"
      ]
     },
     "execution_count": 44,
     "metadata": {},
     "output_type": "execute_result"
    }
   ],
   "source": [
    "from sklearn.neighbors import KNeighborsClassifier\n",
    "\n",
    "COUNT_NEIGHBOURS = 10\n",
    "\n",
    "t = time()\n",
    "knn = KNeighborsClassifier(n_neighbors = COUNT_NEIGHBOURS)\n",
    "knn.fit(X_train, y_train)\n",
    "knn_time = time() - t\n",
    "knn_time"
   ]
  },
  {
   "cell_type": "code",
   "execution_count": 45,
   "id": "bf123a08",
   "metadata": {},
   "outputs": [],
   "source": [
    "y_test_predict = knn.predict(X_test)\n",
    "error_test = np.mean(y_test  != y_test_predict)"
   ]
  },
  {
   "cell_type": "markdown",
   "id": "070b3e5c",
   "metadata": {},
   "source": [
    "Ошибка при реальном (тестировании) использовании классификации:"
   ]
  },
  {
   "cell_type": "code",
   "execution_count": 46,
   "id": "33c2e537",
   "metadata": {},
   "outputs": [
    {
     "data": {
      "text/plain": [
       "0.29872739450770264"
      ]
     },
     "execution_count": 46,
     "metadata": {},
     "output_type": "execute_result"
    }
   ],
   "source": [
    "error_test"
   ]
  },
  {
   "cell_type": "code",
   "execution_count": 47,
   "id": "3c640e20",
   "metadata": {},
   "outputs": [],
   "source": [
    "y_train_predict = knn.predict(X_train)\n",
    "error_train  = np.mean(y_train  != y_train_predict)"
   ]
  },
  {
   "cell_type": "markdown",
   "id": "b4c504dd",
   "metadata": {},
   "source": [
    "Ошибка при тренировке:"
   ]
  },
  {
   "cell_type": "code",
   "execution_count": 48,
   "id": "e5b91587",
   "metadata": {},
   "outputs": [
    {
     "data": {
      "text/plain": [
       "0.23556449296179258"
      ]
     },
     "execution_count": 48,
     "metadata": {},
     "output_type": "execute_result"
    }
   ],
   "source": [
    "error_train"
   ]
  },
  {
   "cell_type": "markdown",
   "id": "fbbc07b8",
   "metadata": {},
   "source": [
    "Разница:"
   ]
  },
  {
   "cell_type": "code",
   "execution_count": 49,
   "id": "089063da",
   "metadata": {},
   "outputs": [
    {
     "data": {
      "text/plain": [
       "0.06316290154591006"
      ]
     },
     "execution_count": 49,
     "metadata": {},
     "output_type": "execute_result"
    }
   ],
   "source": [
    "error_test - error_train"
   ]
  },
  {
   "cell_type": "markdown",
   "id": "23b305dd",
   "metadata": {},
   "source": [
    "## Меняем число соседей"
   ]
  },
  {
   "cell_type": "code",
   "execution_count": 50,
   "id": "4d8f96c2",
   "metadata": {},
   "outputs": [
    {
     "name": "stdout",
     "output_type": "stream",
     "text": [
      "0.2913596784996651 0.23556449296179258 0.05579518553787252\n"
     ]
    }
   ],
   "source": [
    "COUNT_NEIGHBOURS = 5\n",
    "\n",
    "knn.set_params(n_neighbors=COUNT_NEIGHBOURS)\n",
    "knn.fit(X_train, y_train)\n",
    "y_test_predict = knn.predict(X_test)\n",
    "error_test = np.mean(y_test  != y_test_predict)\n",
    "\n",
    "print(error_test, error_train, error_test - error_train)"
   ]
  },
  {
   "cell_type": "code",
   "execution_count": 51,
   "id": "7b259ea8",
   "metadata": {},
   "outputs": [
    {
     "name": "stdout",
     "output_type": "stream",
     "text": [
      "0.29872739450770264 0.23556449296179258 0.06316290154591006\n"
     ]
    }
   ],
   "source": [
    "COUNT_NEIGHBOURS = 2\n",
    "\n",
    "knn.set_params(n_neighbors=COUNT_NEIGHBOURS)\n",
    "knn.fit(X_train, y_train)\n",
    "y_test_predict = knn.predict(X_test)\n",
    "error_test = np.mean(y_test  != y_test_predict)\n",
    "\n",
    "print(error_test, error_train, error_test - error_train)"
   ]
  },
  {
   "cell_type": "code",
   "execution_count": 52,
   "id": "6a527557",
   "metadata": {},
   "outputs": [
    {
     "name": "stdout",
     "output_type": "stream",
     "text": [
      "0.3201607501674481 0.23556449296179258 0.08459625720565553\n"
     ]
    }
   ],
   "source": [
    "COUNT_NEIGHBOURS = 100\n",
    "\n",
    "knn.set_params(n_neighbors=COUNT_NEIGHBOURS)\n",
    "knn.fit(X_train, y_train)\n",
    "y_test_predict = knn.predict(X_test)\n",
    "error_test = np.mean(y_test  != y_test_predict)\n",
    "\n",
    "print(error_test, error_train, error_test - error_train)"
   ]
  },
  {
   "cell_type": "code",
   "execution_count": 53,
   "id": "8071746e",
   "metadata": {},
   "outputs": [
    {
     "name": "stdout",
     "output_type": "stream",
     "text": [
      "0.37307434695244474 0.23556449296179258 0.13750985399065216\n"
     ]
    }
   ],
   "source": [
    "COUNT_NEIGHBOURS = 1000\n",
    "\n",
    "knn.set_params(n_neighbors=COUNT_NEIGHBOURS)\n",
    "knn.fit(X_train, y_train)\n",
    "y_test_predict = knn.predict(X_test)\n",
    "error_test = np.mean(y_test  != y_test_predict)\n",
    "\n",
    "print(error_test, error_train, error_test - error_train)"
   ]
  },
  {
   "cell_type": "markdown",
   "id": "52b48c84",
   "metadata": {},
   "source": [
    "## Интерпретация результатов тренировки"
   ]
  },
  {
   "cell_type": "code",
   "execution_count": 54,
   "id": "da3d3eb9",
   "metadata": {},
   "outputs": [],
   "source": [
    "from sklearn.metrics import confusion_matrix"
   ]
  },
  {
   "cell_type": "code",
   "execution_count": 55,
   "id": "11198552",
   "metadata": {},
   "outputs": [
    {
     "name": "stdout",
     "output_type": "stream",
     "text": [
      "[[1086  382]\n",
      " [ 438 1575]]\n"
     ]
    }
   ],
   "source": [
    "print(confusion_matrix(y_train, y_train_predict))"
   ]
  },
  {
   "cell_type": "code",
   "execution_count": 56,
   "id": "9abab66c",
   "metadata": {},
   "outputs": [
    {
     "data": {
      "image/png": "[encoded data removed]",
      "text/plain": [
       "<Figure size 432x288 with 2 Axes>"
      ]
     },
     "metadata": {
      "needs_background": "light"
     },
     "output_type": "display_data"
    }
   ],
   "source": [
    "M = confusion_matrix(y_test_predict, y_test)\n",
    "M = np.sqrt(M)\n",
    "plt.imshow(M, interpolation = 'nearest')\n",
    "plt.set_cmap('binary')\n",
    "plt.xticks(range(2))\n",
    "plt.yticks(range(2))\n",
    "plt.xlabel(\"True\")\n",
    "plt.ylabel(\"Predicted\")\n",
    "plt.colorbar()\n",
    "pass"
   ]
  },
  {
   "cell_type": "code",
   "execution_count": 57,
   "id": "ddd29303",
   "metadata": {},
   "outputs": [
    {
     "name": "stdout",
     "output_type": "stream",
     "text": [
      "              precision    recall  f1-score   support\n",
      "\n",
      "           5       0.71      0.74      0.73      1468\n",
      "           6       0.80      0.78      0.79      2013\n",
      "\n",
      "    accuracy                           0.76      3481\n",
      "   macro avg       0.76      0.76      0.76      3481\n",
      "weighted avg       0.77      0.76      0.76      3481\n",
      "\n"
     ]
    }
   ],
   "source": [
    "from sklearn.metrics import classification_report\n",
    "print(classification_report(y_train, y_train_predict, zero_division=0))"
   ]
  },
  {
   "cell_type": "markdown",
   "id": "1e402a04",
   "metadata": {},
   "source": [
    "# Другие методы машинного обучения и результаты"
   ]
  },
  {
   "cell_type": "markdown",
   "id": "01d3bf18",
   "metadata": {},
   "source": [
    "Рассмотрим еще два метода машинного обучения. \n",
    "\n",
    "Первым будет SVC, который хорошо (по документации) подходит для более или менее большого количества признаков (но количество признаков < количества строк). \n",
    "\n",
    "А вторым GBT, как пример машинного обучения, который, разумеется, должен быть точнее, т.к. он сложнее и \"запутаннее\", а значит и намного более медленным."
   ]
  },
  {
   "cell_type": "markdown",
   "id": "eb7709f4",
   "metadata": {},
   "source": [
    "## SVC"
   ]
  },
  {
   "cell_type": "code",
   "execution_count": 58,
   "id": "cbc6e5dd",
   "metadata": {},
   "outputs": [
    {
     "name": "stdout",
     "output_type": "stream",
     "text": [
      "0.2539500143636886 0.2793034159410583 0.025353401577369705\n"
     ]
    }
   ],
   "source": [
    "from sklearn.svm import SVC\n",
    "\n",
    "t = time()\n",
    "svc = SVC(gamma='auto')\n",
    "svc.fit(X_train, y_train)\n",
    "svc_time = time() - t\n",
    "\n",
    "error_train = np.mean(y_train != svc.predict(X_train))\n",
    "error_test  = np.mean(y_test  != svc.predict(X_test))\n",
    "\n",
    "print(error_train, error_test, error_test - error_train)"
   ]
  },
  {
   "cell_type": "markdown",
   "id": "6c2d2c01",
   "metadata": {},
   "source": [
    "## GBT"
   ]
  },
  {
   "cell_type": "code",
   "execution_count": 59,
   "id": "6cd6389a",
   "metadata": {},
   "outputs": [
    {
     "name": "stdout",
     "output_type": "stream",
     "text": [
      "0.037345590347601265 0.23710649698593436 0.025353401577369705\n"
     ]
    }
   ],
   "source": [
    "from sklearn import ensemble\n",
    "\n",
    "t = time()\n",
    "gbt = ensemble.GradientBoostingClassifier(n_estimators = 1000)\n",
    "gbt.fit(X_train, y_train)\n",
    "gbt_time = time() - t\n",
    "\n",
    "err_train = np.mean(y_train != gbt.predict(X_train))\n",
    "err_test = np.mean(y_test != gbt.predict(X_test))\n",
    "\n",
    "print(err_train, err_test, error_test - error_train)"
   ]
  },
  {
   "cell_type": "markdown",
   "id": "409527cf",
   "metadata": {},
   "source": [
    "# Время выполнения"
   ]
  },
  {
   "cell_type": "code",
   "execution_count": 60,
   "id": "d45f8f6e",
   "metadata": {},
   "outputs": [
    {
     "name": "stdout",
     "output_type": "stream",
     "text": [
      "0.009002447128295898 0.2795865535736084 4.613878965377808\n"
     ]
    }
   ],
   "source": [
    "print(knn_time, svc_time, gbt_time)"
   ]
  },
  {
   "cell_type": "markdown",
   "id": "a62cbc1f",
   "metadata": {},
   "source": [
    "**Общий вывод**: kNN метод оказался самым ошибочными, но и одним из самых быстрых. а gbt - самым точным, но медленным по выполнению. Наиболее выгодно использовать svc, т.к. он точнее knn, но работает \"допустимое\" время."
   ]
  },
  {
   "cell_type": "code",
   "execution_count": 61,
   "id": "6067dc48",
   "metadata": {},
   "outputs": [
    {
     "name": "stdout",
     "output_type": "stream",
     "text": [
      "31.056728197250987 512.5138642442861\n"
     ]
    }
   ],
   "source": [
    "print(svc_time / knn_time, gbt_time / knn_time)"
   ]
  },
  {
   "cell_type": "markdown",
   "id": "e84a25b9",
   "metadata": {},
   "source": [
    "# Общий вывод и заключение"
   ]
  },
  {
   "cell_type": "markdown",
   "id": "2ff02509",
   "metadata": {},
   "source": [
    "Данные не идеальные и данных достаточно мало (<10000), но зато датасет имеет разнообразные признаки и множество классов, и в целом с ним удалось провести все необходимые преобразования, отображения и проверки. Точность предсказания здесь \"уперлась в потолок\", т.к. уже зависит только от количества данных. Еще стоит заметить, что классификация идет не на 2, а сразу на 7 классов. В купе с количеством данных это дает высокую ошибку. \n",
    "\n",
    "Датасет еще хорош тем, что все признаки разнообразно коррелируют друг с другом (что видно по таблице и графику корреляции), и задача не становится такой простой, какой могла быть."
   ]
  },
  {
   "cell_type": "markdown",
   "id": "fc6c0f95",
   "metadata": {},
   "source": [
    "Заметка: если увеличивать количество данных в данном датасете, то резонно использовать только быстрые классификаторы.\n",
    "\n",
    "Заметка: если не увеличивать количество данных в данном датасете, то резонно использовать gbt классификатор, т.к. он дает ошибку наименьшую, а в тренировочной выборке и вовсе 10%."
   ]
  },
  {
   "cell_type": "markdown",
   "id": "829c2f47",
   "metadata": {},
   "source": [
    "# Спасибо за внимание!"
   ]
  }
 ],
 "metadata": {
  "interpreter": {
   "hash": "247ab06e135bb35fa78c5eff31b2a9a0050dcb5fb773c2631d2a29ac689eeccb"
  },
  "kernelspec": {
   "display_name": "Python 3 (ipykernel)",
   "language": "python",
   "name": "python3"
  },
  "language_info": {
   "codemirror_mode": {
    "name": "ipython",
    "version": 3
   },
   "file_extension": ".py",
   "mimetype": "text/x-python",
   "name": "python",
   "nbconvert_exporter": "python",
   "pygments_lexer": "ipython3",
   "version": "3.10.1"
  }
 },
 "nbformat": 4,
 "nbformat_minor": 5
}
