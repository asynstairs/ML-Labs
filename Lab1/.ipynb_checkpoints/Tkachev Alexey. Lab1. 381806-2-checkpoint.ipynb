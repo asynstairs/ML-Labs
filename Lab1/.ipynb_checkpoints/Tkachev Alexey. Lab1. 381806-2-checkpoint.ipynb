{
 "cells": [
  {
   "cell_type": "markdown",
   "id": "02f3c8b0",
   "metadata": {},
   "source": [
    "# Лабораторная работа 1. Машинное обучение.\n",
    "\n",
    "- Ткачев Алексей Игоревич\n",
    "- Группа 381806-2\n",
    "- ФИИТ\n",
    "- 4 курс\n",
    "  \n",
    "# Название задачи\n",
    "\n",
    "Классификация.\n"
   ]
  },
  {
   "cell_type": "markdown",
   "id": "63ce0faf",
   "metadata": {},
   "source": [
    "# Название датасета\n",
    "\n",
    "Wine Quality Dataset"
   ]
  },
  {
   "cell_type": "markdown",
   "id": "d4e5bfab",
   "metadata": {},
   "source": [
    "# Описание задачи\n",
    "- На основе привденного датасета обучить машину распозновать качество вина, классифицируя его по оценкам от 3 до 9 включительно **(7 классов)**, где оценка - целое число.\n",
    "- Датасет имеет **12** уникальных признаков для классификации оценки вина.\n",
    "- Датасет имеет **6497** примеров."
   ]
  },
  {
   "cell_type": "markdown",
   "id": "cac8af97",
   "metadata": {},
   "source": [
    "# Загрузка нужных библиотек"
   ]
  },
  {
   "cell_type": "code",
   "execution_count": 1,
   "id": "1a2e8e8b",
   "metadata": {},
   "outputs": [],
   "source": [
    "import numpy as np\n",
    "import matplotlib.pyplot as plt\n",
    "import pandas as pd\n",
    "\n",
    "from time import time\n",
    "%matplotlib inline"
   ]
  },
  {
   "cell_type": "markdown",
   "id": "a02dd7b4",
   "metadata": {},
   "source": [
    "# Загрузка датасета\n",
    "`given_data` - весь \"сырой\" датасет."
   ]
  },
  {
   "cell_type": "code",
   "execution_count": 2,
   "id": "11cfb5cd",
   "metadata": {},
   "outputs": [],
   "source": [
    "given_data = pd.read_csv('dataset.csv', sep=',', header=0,  engine='python')"
   ]
  },
  {
   "cell_type": "markdown",
   "id": "6272a40e",
   "metadata": {},
   "source": [
    "Так как `given_data` первой строкой представлял имена столбцов, то аргумент `header=0`."
   ]
  },
  {
   "cell_type": "code",
   "execution_count": 3,
   "id": "f23c1e48",
   "metadata": {
    "scrolled": true
   },
   "outputs": [
    {
     "data": {
      "text/html": [
       "<div>\n",
       "<style scoped>\n",
       "    .dataframe tbody tr th:only-of-type {\n",
       "        vertical-align: middle;\n",
       "    }\n",
       "\n",
       "    .dataframe tbody tr th {\n",
       "        vertical-align: top;\n",
       "    }\n",
       "\n",
       "    .dataframe thead th {\n",
       "        text-align: right;\n",
       "    }\n",
       "</style>\n",
       "<table border=\"1\" class=\"dataframe\">\n",
       "  <thead>\n",
       "    <tr style=\"text-align: right;\">\n",
       "      <th></th>\n",
       "      <th>type</th>\n",
       "      <th>fixed acidity</th>\n",
       "      <th>volatile acidity</th>\n",
       "      <th>citric acid</th>\n",
       "      <th>residual sugar</th>\n",
       "      <th>chlorides</th>\n",
       "      <th>free sulfur dioxide</th>\n",
       "      <th>total sulfur dioxide</th>\n",
       "      <th>density</th>\n",
       "      <th>pH</th>\n",
       "      <th>sulphates</th>\n",
       "      <th>alcohol</th>\n",
       "      <th>quality</th>\n",
       "    </tr>\n",
       "  </thead>\n",
       "  <tbody>\n",
       "    <tr>\n",
       "      <th>0</th>\n",
       "      <td>white</td>\n",
       "      <td>7.0</td>\n",
       "      <td>0.270</td>\n",
       "      <td>0.36</td>\n",
       "      <td>20.7</td>\n",
       "      <td>0.045</td>\n",
       "      <td>45.0</td>\n",
       "      <td>170.0</td>\n",
       "      <td>1.00100</td>\n",
       "      <td>3.00</td>\n",
       "      <td>0.45</td>\n",
       "      <td>8.8</td>\n",
       "      <td>6</td>\n",
       "    </tr>\n",
       "    <tr>\n",
       "      <th>1</th>\n",
       "      <td>white</td>\n",
       "      <td>6.3</td>\n",
       "      <td>0.300</td>\n",
       "      <td>0.34</td>\n",
       "      <td>1.6</td>\n",
       "      <td>0.049</td>\n",
       "      <td>14.0</td>\n",
       "      <td>132.0</td>\n",
       "      <td>0.99400</td>\n",
       "      <td>3.30</td>\n",
       "      <td>0.49</td>\n",
       "      <td>9.5</td>\n",
       "      <td>6</td>\n",
       "    </tr>\n",
       "    <tr>\n",
       "      <th>2</th>\n",
       "      <td>white</td>\n",
       "      <td>8.1</td>\n",
       "      <td>0.280</td>\n",
       "      <td>0.40</td>\n",
       "      <td>6.9</td>\n",
       "      <td>0.050</td>\n",
       "      <td>30.0</td>\n",
       "      <td>97.0</td>\n",
       "      <td>0.99510</td>\n",
       "      <td>3.26</td>\n",
       "      <td>0.44</td>\n",
       "      <td>10.1</td>\n",
       "      <td>6</td>\n",
       "    </tr>\n",
       "    <tr>\n",
       "      <th>3</th>\n",
       "      <td>white</td>\n",
       "      <td>7.2</td>\n",
       "      <td>0.230</td>\n",
       "      <td>0.32</td>\n",
       "      <td>8.5</td>\n",
       "      <td>0.058</td>\n",
       "      <td>47.0</td>\n",
       "      <td>186.0</td>\n",
       "      <td>0.99560</td>\n",
       "      <td>3.19</td>\n",
       "      <td>0.40</td>\n",
       "      <td>9.9</td>\n",
       "      <td>6</td>\n",
       "    </tr>\n",
       "    <tr>\n",
       "      <th>4</th>\n",
       "      <td>white</td>\n",
       "      <td>7.2</td>\n",
       "      <td>0.230</td>\n",
       "      <td>0.32</td>\n",
       "      <td>8.5</td>\n",
       "      <td>0.058</td>\n",
       "      <td>47.0</td>\n",
       "      <td>186.0</td>\n",
       "      <td>0.99560</td>\n",
       "      <td>3.19</td>\n",
       "      <td>0.40</td>\n",
       "      <td>9.9</td>\n",
       "      <td>6</td>\n",
       "    </tr>\n",
       "    <tr>\n",
       "      <th>...</th>\n",
       "      <td>...</td>\n",
       "      <td>...</td>\n",
       "      <td>...</td>\n",
       "      <td>...</td>\n",
       "      <td>...</td>\n",
       "      <td>...</td>\n",
       "      <td>...</td>\n",
       "      <td>...</td>\n",
       "      <td>...</td>\n",
       "      <td>...</td>\n",
       "      <td>...</td>\n",
       "      <td>...</td>\n",
       "      <td>...</td>\n",
       "    </tr>\n",
       "    <tr>\n",
       "      <th>6492</th>\n",
       "      <td>red</td>\n",
       "      <td>6.2</td>\n",
       "      <td>0.600</td>\n",
       "      <td>0.08</td>\n",
       "      <td>2.0</td>\n",
       "      <td>0.090</td>\n",
       "      <td>32.0</td>\n",
       "      <td>44.0</td>\n",
       "      <td>0.99490</td>\n",
       "      <td>3.45</td>\n",
       "      <td>0.58</td>\n",
       "      <td>10.5</td>\n",
       "      <td>5</td>\n",
       "    </tr>\n",
       "    <tr>\n",
       "      <th>6493</th>\n",
       "      <td>red</td>\n",
       "      <td>5.9</td>\n",
       "      <td>0.550</td>\n",
       "      <td>0.10</td>\n",
       "      <td>2.2</td>\n",
       "      <td>0.062</td>\n",
       "      <td>39.0</td>\n",
       "      <td>51.0</td>\n",
       "      <td>0.99512</td>\n",
       "      <td>3.52</td>\n",
       "      <td>NaN</td>\n",
       "      <td>11.2</td>\n",
       "      <td>6</td>\n",
       "    </tr>\n",
       "    <tr>\n",
       "      <th>6494</th>\n",
       "      <td>red</td>\n",
       "      <td>6.3</td>\n",
       "      <td>0.510</td>\n",
       "      <td>0.13</td>\n",
       "      <td>2.3</td>\n",
       "      <td>0.076</td>\n",
       "      <td>29.0</td>\n",
       "      <td>40.0</td>\n",
       "      <td>0.99574</td>\n",
       "      <td>3.42</td>\n",
       "      <td>0.75</td>\n",
       "      <td>11.0</td>\n",
       "      <td>6</td>\n",
       "    </tr>\n",
       "    <tr>\n",
       "      <th>6495</th>\n",
       "      <td>red</td>\n",
       "      <td>5.9</td>\n",
       "      <td>0.645</td>\n",
       "      <td>0.12</td>\n",
       "      <td>2.0</td>\n",
       "      <td>0.075</td>\n",
       "      <td>32.0</td>\n",
       "      <td>44.0</td>\n",
       "      <td>0.99547</td>\n",
       "      <td>3.57</td>\n",
       "      <td>0.71</td>\n",
       "      <td>10.2</td>\n",
       "      <td>5</td>\n",
       "    </tr>\n",
       "    <tr>\n",
       "      <th>6496</th>\n",
       "      <td>red</td>\n",
       "      <td>6.0</td>\n",
       "      <td>0.310</td>\n",
       "      <td>0.47</td>\n",
       "      <td>3.6</td>\n",
       "      <td>0.067</td>\n",
       "      <td>18.0</td>\n",
       "      <td>42.0</td>\n",
       "      <td>0.99549</td>\n",
       "      <td>3.39</td>\n",
       "      <td>0.66</td>\n",
       "      <td>11.0</td>\n",
       "      <td>6</td>\n",
       "    </tr>\n",
       "  </tbody>\n",
       "</table>\n",
       "<p>6497 rows × 13 columns</p>\n",
       "</div>"
      ],
      "text/plain": [
       "       type  fixed acidity  volatile acidity  citric acid  residual sugar  \\\n",
       "0     white            7.0             0.270         0.36            20.7   \n",
       "1     white            6.3             0.300         0.34             1.6   \n",
       "2     white            8.1             0.280         0.40             6.9   \n",
       "3     white            7.2             0.230         0.32             8.5   \n",
       "4     white            7.2             0.230         0.32             8.5   \n",
       "...     ...            ...               ...          ...             ...   \n",
       "6492    red            6.2             0.600         0.08             2.0   \n",
       "6493    red            5.9             0.550         0.10             2.2   \n",
       "6494    red            6.3             0.510         0.13             2.3   \n",
       "6495    red            5.9             0.645         0.12             2.0   \n",
       "6496    red            6.0             0.310         0.47             3.6   \n",
       "\n",
       "      chlorides  free sulfur dioxide  total sulfur dioxide  density    pH  \\\n",
       "0         0.045                 45.0                 170.0  1.00100  3.00   \n",
       "1         0.049                 14.0                 132.0  0.99400  3.30   \n",
       "2         0.050                 30.0                  97.0  0.99510  3.26   \n",
       "3         0.058                 47.0                 186.0  0.99560  3.19   \n",
       "4         0.058                 47.0                 186.0  0.99560  3.19   \n",
       "...         ...                  ...                   ...      ...   ...   \n",
       "6492      0.090                 32.0                  44.0  0.99490  3.45   \n",
       "6493      0.062                 39.0                  51.0  0.99512  3.52   \n",
       "6494      0.076                 29.0                  40.0  0.99574  3.42   \n",
       "6495      0.075                 32.0                  44.0  0.99547  3.57   \n",
       "6496      0.067                 18.0                  42.0  0.99549  3.39   \n",
       "\n",
       "      sulphates  alcohol  quality  \n",
       "0          0.45      8.8        6  \n",
       "1          0.49      9.5        6  \n",
       "2          0.44     10.1        6  \n",
       "3          0.40      9.9        6  \n",
       "4          0.40      9.9        6  \n",
       "...         ...      ...      ...  \n",
       "6492       0.58     10.5        5  \n",
       "6493        NaN     11.2        6  \n",
       "6494       0.75     11.0        6  \n",
       "6495       0.71     10.2        5  \n",
       "6496       0.66     11.0        6  \n",
       "\n",
       "[6497 rows x 13 columns]"
      ]
     },
     "execution_count": 3,
     "metadata": {},
     "output_type": "execute_result"
    }
   ],
   "source": [
    "given_data"
   ]
  },
  {
   "cell_type": "markdown",
   "id": "cfdf4e65",
   "metadata": {},
   "source": [
    "Т.к. данные собираемся обрабатывать, временно уберем ключевой столбец с классами `quality`."
   ]
  },
  {
   "cell_type": "markdown",
   "id": "9740162c",
   "metadata": {},
   "source": [
    "# Основные характеристики данных"
   ]
  },
  {
   "cell_type": "markdown",
   "id": "0af80257",
   "metadata": {},
   "source": [
    "Основные числое характеристики:"
   ]
  },
  {
   "cell_type": "code",
   "execution_count": 4,
   "id": "7c425fe8",
   "metadata": {},
   "outputs": [
    {
     "data": {
      "text/html": [
       "<div>\n",
       "<style scoped>\n",
       "    .dataframe tbody tr th:only-of-type {\n",
       "        vertical-align: middle;\n",
       "    }\n",
       "\n",
       "    .dataframe tbody tr th {\n",
       "        vertical-align: top;\n",
       "    }\n",
       "\n",
       "    .dataframe thead th {\n",
       "        text-align: right;\n",
       "    }\n",
       "</style>\n",
       "<table border=\"1\" class=\"dataframe\">\n",
       "  <thead>\n",
       "    <tr style=\"text-align: right;\">\n",
       "      <th></th>\n",
       "      <th>fixed acidity</th>\n",
       "      <th>volatile acidity</th>\n",
       "      <th>citric acid</th>\n",
       "      <th>residual sugar</th>\n",
       "      <th>chlorides</th>\n",
       "      <th>free sulfur dioxide</th>\n",
       "      <th>total sulfur dioxide</th>\n",
       "      <th>density</th>\n",
       "      <th>pH</th>\n",
       "      <th>sulphates</th>\n",
       "      <th>alcohol</th>\n",
       "      <th>quality</th>\n",
       "    </tr>\n",
       "  </thead>\n",
       "  <tbody>\n",
       "    <tr>\n",
       "      <th>count</th>\n",
       "      <td>6487.000000</td>\n",
       "      <td>6489.000000</td>\n",
       "      <td>6494.000000</td>\n",
       "      <td>6495.000000</td>\n",
       "      <td>6495.000000</td>\n",
       "      <td>6497.000000</td>\n",
       "      <td>6497.000000</td>\n",
       "      <td>6497.000000</td>\n",
       "      <td>6488.000000</td>\n",
       "      <td>6493.000000</td>\n",
       "      <td>6497.000000</td>\n",
       "      <td>6497.000000</td>\n",
       "    </tr>\n",
       "    <tr>\n",
       "      <th>mean</th>\n",
       "      <td>7.216579</td>\n",
       "      <td>0.339691</td>\n",
       "      <td>0.318722</td>\n",
       "      <td>5.444326</td>\n",
       "      <td>0.056042</td>\n",
       "      <td>30.525319</td>\n",
       "      <td>115.744574</td>\n",
       "      <td>0.994697</td>\n",
       "      <td>3.218395</td>\n",
       "      <td>0.531215</td>\n",
       "      <td>10.491801</td>\n",
       "      <td>5.818378</td>\n",
       "    </tr>\n",
       "    <tr>\n",
       "      <th>std</th>\n",
       "      <td>1.296750</td>\n",
       "      <td>0.164649</td>\n",
       "      <td>0.145265</td>\n",
       "      <td>4.758125</td>\n",
       "      <td>0.035036</td>\n",
       "      <td>17.749400</td>\n",
       "      <td>56.521855</td>\n",
       "      <td>0.002999</td>\n",
       "      <td>0.160748</td>\n",
       "      <td>0.148814</td>\n",
       "      <td>1.192712</td>\n",
       "      <td>0.873255</td>\n",
       "    </tr>\n",
       "    <tr>\n",
       "      <th>min</th>\n",
       "      <td>3.800000</td>\n",
       "      <td>0.080000</td>\n",
       "      <td>0.000000</td>\n",
       "      <td>0.600000</td>\n",
       "      <td>0.009000</td>\n",
       "      <td>1.000000</td>\n",
       "      <td>6.000000</td>\n",
       "      <td>0.987110</td>\n",
       "      <td>2.720000</td>\n",
       "      <td>0.220000</td>\n",
       "      <td>8.000000</td>\n",
       "      <td>3.000000</td>\n",
       "    </tr>\n",
       "    <tr>\n",
       "      <th>25%</th>\n",
       "      <td>6.400000</td>\n",
       "      <td>0.230000</td>\n",
       "      <td>0.250000</td>\n",
       "      <td>1.800000</td>\n",
       "      <td>0.038000</td>\n",
       "      <td>17.000000</td>\n",
       "      <td>77.000000</td>\n",
       "      <td>0.992340</td>\n",
       "      <td>3.110000</td>\n",
       "      <td>0.430000</td>\n",
       "      <td>9.500000</td>\n",
       "      <td>5.000000</td>\n",
       "    </tr>\n",
       "    <tr>\n",
       "      <th>50%</th>\n",
       "      <td>7.000000</td>\n",
       "      <td>0.290000</td>\n",
       "      <td>0.310000</td>\n",
       "      <td>3.000000</td>\n",
       "      <td>0.047000</td>\n",
       "      <td>29.000000</td>\n",
       "      <td>118.000000</td>\n",
       "      <td>0.994890</td>\n",
       "      <td>3.210000</td>\n",
       "      <td>0.510000</td>\n",
       "      <td>10.300000</td>\n",
       "      <td>6.000000</td>\n",
       "    </tr>\n",
       "    <tr>\n",
       "      <th>75%</th>\n",
       "      <td>7.700000</td>\n",
       "      <td>0.400000</td>\n",
       "      <td>0.390000</td>\n",
       "      <td>8.100000</td>\n",
       "      <td>0.065000</td>\n",
       "      <td>41.000000</td>\n",
       "      <td>156.000000</td>\n",
       "      <td>0.996990</td>\n",
       "      <td>3.320000</td>\n",
       "      <td>0.600000</td>\n",
       "      <td>11.300000</td>\n",
       "      <td>6.000000</td>\n",
       "    </tr>\n",
       "    <tr>\n",
       "      <th>max</th>\n",
       "      <td>15.900000</td>\n",
       "      <td>1.580000</td>\n",
       "      <td>1.660000</td>\n",
       "      <td>65.800000</td>\n",
       "      <td>0.611000</td>\n",
       "      <td>289.000000</td>\n",
       "      <td>440.000000</td>\n",
       "      <td>1.038980</td>\n",
       "      <td>4.010000</td>\n",
       "      <td>2.000000</td>\n",
       "      <td>14.900000</td>\n",
       "      <td>9.000000</td>\n",
       "    </tr>\n",
       "  </tbody>\n",
       "</table>\n",
       "</div>"
      ],
      "text/plain": [
       "       fixed acidity  volatile acidity  citric acid  residual sugar  \\\n",
       "count    6487.000000       6489.000000  6494.000000     6495.000000   \n",
       "mean        7.216579          0.339691     0.318722        5.444326   \n",
       "std         1.296750          0.164649     0.145265        4.758125   \n",
       "min         3.800000          0.080000     0.000000        0.600000   \n",
       "25%         6.400000          0.230000     0.250000        1.800000   \n",
       "50%         7.000000          0.290000     0.310000        3.000000   \n",
       "75%         7.700000          0.400000     0.390000        8.100000   \n",
       "max        15.900000          1.580000     1.660000       65.800000   \n",
       "\n",
       "         chlorides  free sulfur dioxide  total sulfur dioxide      density  \\\n",
       "count  6495.000000          6497.000000           6497.000000  6497.000000   \n",
       "mean      0.056042            30.525319            115.744574     0.994697   \n",
       "std       0.035036            17.749400             56.521855     0.002999   \n",
       "min       0.009000             1.000000              6.000000     0.987110   \n",
       "25%       0.038000            17.000000             77.000000     0.992340   \n",
       "50%       0.047000            29.000000            118.000000     0.994890   \n",
       "75%       0.065000            41.000000            156.000000     0.996990   \n",
       "max       0.611000           289.000000            440.000000     1.038980   \n",
       "\n",
       "                pH    sulphates      alcohol      quality  \n",
       "count  6488.000000  6493.000000  6497.000000  6497.000000  \n",
       "mean      3.218395     0.531215    10.491801     5.818378  \n",
       "std       0.160748     0.148814     1.192712     0.873255  \n",
       "min       2.720000     0.220000     8.000000     3.000000  \n",
       "25%       3.110000     0.430000     9.500000     5.000000  \n",
       "50%       3.210000     0.510000    10.300000     6.000000  \n",
       "75%       3.320000     0.600000    11.300000     6.000000  \n",
       "max       4.010000     2.000000    14.900000     9.000000  "
      ]
     },
     "execution_count": 4,
     "metadata": {},
     "output_type": "execute_result"
    }
   ],
   "source": [
    "given_data.describe()"
   ]
  },
  {
   "cell_type": "markdown",
   "id": "4209e6c7",
   "metadata": {},
   "source": [
    "Таблица корреляции:"
   ]
  },
  {
   "cell_type": "code",
   "execution_count": 5,
   "id": "9f76d2d7",
   "metadata": {},
   "outputs": [
    {
     "data": {
      "text/html": [
       "<div>\n",
       "<style scoped>\n",
       "    .dataframe tbody tr th:only-of-type {\n",
       "        vertical-align: middle;\n",
       "    }\n",
       "\n",
       "    .dataframe tbody tr th {\n",
       "        vertical-align: top;\n",
       "    }\n",
       "\n",
       "    .dataframe thead th {\n",
       "        text-align: right;\n",
       "    }\n",
       "</style>\n",
       "<table border=\"1\" class=\"dataframe\">\n",
       "  <thead>\n",
       "    <tr style=\"text-align: right;\">\n",
       "      <th></th>\n",
       "      <th>fixed acidity</th>\n",
       "      <th>volatile acidity</th>\n",
       "      <th>citric acid</th>\n",
       "      <th>residual sugar</th>\n",
       "      <th>chlorides</th>\n",
       "      <th>free sulfur dioxide</th>\n",
       "      <th>total sulfur dioxide</th>\n",
       "      <th>density</th>\n",
       "      <th>pH</th>\n",
       "      <th>sulphates</th>\n",
       "      <th>alcohol</th>\n",
       "      <th>quality</th>\n",
       "    </tr>\n",
       "  </thead>\n",
       "  <tbody>\n",
       "    <tr>\n",
       "      <th>fixed acidity</th>\n",
       "      <td>1.000000</td>\n",
       "      <td>0.220172</td>\n",
       "      <td>0.323736</td>\n",
       "      <td>-0.112319</td>\n",
       "      <td>0.298421</td>\n",
       "      <td>-0.283317</td>\n",
       "      <td>-0.329747</td>\n",
       "      <td>0.459204</td>\n",
       "      <td>-0.251814</td>\n",
       "      <td>0.300380</td>\n",
       "      <td>-0.095603</td>\n",
       "      <td>-0.077031</td>\n",
       "    </tr>\n",
       "    <tr>\n",
       "      <th>volatile acidity</th>\n",
       "      <td>0.220172</td>\n",
       "      <td>1.000000</td>\n",
       "      <td>-0.378061</td>\n",
       "      <td>-0.196702</td>\n",
       "      <td>0.377167</td>\n",
       "      <td>-0.353230</td>\n",
       "      <td>-0.414928</td>\n",
       "      <td>0.271193</td>\n",
       "      <td>0.260660</td>\n",
       "      <td>0.225476</td>\n",
       "      <td>-0.038248</td>\n",
       "      <td>-0.265953</td>\n",
       "    </tr>\n",
       "    <tr>\n",
       "      <th>citric acid</th>\n",
       "      <td>0.323736</td>\n",
       "      <td>-0.378061</td>\n",
       "      <td>1.000000</td>\n",
       "      <td>0.142486</td>\n",
       "      <td>0.039315</td>\n",
       "      <td>0.133437</td>\n",
       "      <td>0.195218</td>\n",
       "      <td>0.096320</td>\n",
       "      <td>-0.328689</td>\n",
       "      <td>0.057613</td>\n",
       "      <td>-0.010433</td>\n",
       "      <td>0.085706</td>\n",
       "    </tr>\n",
       "    <tr>\n",
       "      <th>residual sugar</th>\n",
       "      <td>-0.112319</td>\n",
       "      <td>-0.196702</td>\n",
       "      <td>0.142486</td>\n",
       "      <td>1.000000</td>\n",
       "      <td>-0.128902</td>\n",
       "      <td>0.403439</td>\n",
       "      <td>0.495820</td>\n",
       "      <td>0.552498</td>\n",
       "      <td>-0.267050</td>\n",
       "      <td>-0.185745</td>\n",
       "      <td>-0.359706</td>\n",
       "      <td>-0.036825</td>\n",
       "    </tr>\n",
       "    <tr>\n",
       "      <th>chlorides</th>\n",
       "      <td>0.298421</td>\n",
       "      <td>0.377167</td>\n",
       "      <td>0.039315</td>\n",
       "      <td>-0.128902</td>\n",
       "      <td>1.000000</td>\n",
       "      <td>-0.195042</td>\n",
       "      <td>-0.279580</td>\n",
       "      <td>0.362594</td>\n",
       "      <td>0.044806</td>\n",
       "      <td>0.395332</td>\n",
       "      <td>-0.256861</td>\n",
       "      <td>-0.200886</td>\n",
       "    </tr>\n",
       "    <tr>\n",
       "      <th>free sulfur dioxide</th>\n",
       "      <td>-0.283317</td>\n",
       "      <td>-0.353230</td>\n",
       "      <td>0.133437</td>\n",
       "      <td>0.403439</td>\n",
       "      <td>-0.195042</td>\n",
       "      <td>1.000000</td>\n",
       "      <td>0.720934</td>\n",
       "      <td>0.025717</td>\n",
       "      <td>-0.145191</td>\n",
       "      <td>-0.188489</td>\n",
       "      <td>-0.179838</td>\n",
       "      <td>0.055463</td>\n",
       "    </tr>\n",
       "    <tr>\n",
       "      <th>total sulfur dioxide</th>\n",
       "      <td>-0.329747</td>\n",
       "      <td>-0.414928</td>\n",
       "      <td>0.195218</td>\n",
       "      <td>0.495820</td>\n",
       "      <td>-0.279580</td>\n",
       "      <td>0.720934</td>\n",
       "      <td>1.000000</td>\n",
       "      <td>0.032395</td>\n",
       "      <td>-0.237687</td>\n",
       "      <td>-0.275381</td>\n",
       "      <td>-0.265740</td>\n",
       "      <td>-0.041385</td>\n",
       "    </tr>\n",
       "    <tr>\n",
       "      <th>density</th>\n",
       "      <td>0.459204</td>\n",
       "      <td>0.271193</td>\n",
       "      <td>0.096320</td>\n",
       "      <td>0.552498</td>\n",
       "      <td>0.362594</td>\n",
       "      <td>0.025717</td>\n",
       "      <td>0.032395</td>\n",
       "      <td>1.000000</td>\n",
       "      <td>0.011920</td>\n",
       "      <td>0.259454</td>\n",
       "      <td>-0.686745</td>\n",
       "      <td>-0.305858</td>\n",
       "    </tr>\n",
       "    <tr>\n",
       "      <th>pH</th>\n",
       "      <td>-0.251814</td>\n",
       "      <td>0.260660</td>\n",
       "      <td>-0.328689</td>\n",
       "      <td>-0.267050</td>\n",
       "      <td>0.044806</td>\n",
       "      <td>-0.145191</td>\n",
       "      <td>-0.237687</td>\n",
       "      <td>0.011920</td>\n",
       "      <td>1.000000</td>\n",
       "      <td>0.191248</td>\n",
       "      <td>0.121002</td>\n",
       "      <td>0.019366</td>\n",
       "    </tr>\n",
       "    <tr>\n",
       "      <th>sulphates</th>\n",
       "      <td>0.300380</td>\n",
       "      <td>0.225476</td>\n",
       "      <td>0.057613</td>\n",
       "      <td>-0.185745</td>\n",
       "      <td>0.395332</td>\n",
       "      <td>-0.188489</td>\n",
       "      <td>-0.275381</td>\n",
       "      <td>0.259454</td>\n",
       "      <td>0.191248</td>\n",
       "      <td>1.000000</td>\n",
       "      <td>-0.003261</td>\n",
       "      <td>0.038729</td>\n",
       "    </tr>\n",
       "    <tr>\n",
       "      <th>alcohol</th>\n",
       "      <td>-0.095603</td>\n",
       "      <td>-0.038248</td>\n",
       "      <td>-0.010433</td>\n",
       "      <td>-0.359706</td>\n",
       "      <td>-0.256861</td>\n",
       "      <td>-0.179838</td>\n",
       "      <td>-0.265740</td>\n",
       "      <td>-0.686745</td>\n",
       "      <td>0.121002</td>\n",
       "      <td>-0.003261</td>\n",
       "      <td>1.000000</td>\n",
       "      <td>0.444319</td>\n",
       "    </tr>\n",
       "    <tr>\n",
       "      <th>quality</th>\n",
       "      <td>-0.077031</td>\n",
       "      <td>-0.265953</td>\n",
       "      <td>0.085706</td>\n",
       "      <td>-0.036825</td>\n",
       "      <td>-0.200886</td>\n",
       "      <td>0.055463</td>\n",
       "      <td>-0.041385</td>\n",
       "      <td>-0.305858</td>\n",
       "      <td>0.019366</td>\n",
       "      <td>0.038729</td>\n",
       "      <td>0.444319</td>\n",
       "      <td>1.000000</td>\n",
       "    </tr>\n",
       "  </tbody>\n",
       "</table>\n",
       "</div>"
      ],
      "text/plain": [
       "                      fixed acidity  volatile acidity  citric acid  \\\n",
       "fixed acidity              1.000000          0.220172     0.323736   \n",
       "volatile acidity           0.220172          1.000000    -0.378061   \n",
       "citric acid                0.323736         -0.378061     1.000000   \n",
       "residual sugar            -0.112319         -0.196702     0.142486   \n",
       "chlorides                  0.298421          0.377167     0.039315   \n",
       "free sulfur dioxide       -0.283317         -0.353230     0.133437   \n",
       "total sulfur dioxide      -0.329747         -0.414928     0.195218   \n",
       "density                    0.459204          0.271193     0.096320   \n",
       "pH                        -0.251814          0.260660    -0.328689   \n",
       "sulphates                  0.300380          0.225476     0.057613   \n",
       "alcohol                   -0.095603         -0.038248    -0.010433   \n",
       "quality                   -0.077031         -0.265953     0.085706   \n",
       "\n",
       "                      residual sugar  chlorides  free sulfur dioxide  \\\n",
       "fixed acidity              -0.112319   0.298421            -0.283317   \n",
       "volatile acidity           -0.196702   0.377167            -0.353230   \n",
       "citric acid                 0.142486   0.039315             0.133437   \n",
       "residual sugar              1.000000  -0.128902             0.403439   \n",
       "chlorides                  -0.128902   1.000000            -0.195042   \n",
       "free sulfur dioxide         0.403439  -0.195042             1.000000   \n",
       "total sulfur dioxide        0.495820  -0.279580             0.720934   \n",
       "density                     0.552498   0.362594             0.025717   \n",
       "pH                         -0.267050   0.044806            -0.145191   \n",
       "sulphates                  -0.185745   0.395332            -0.188489   \n",
       "alcohol                    -0.359706  -0.256861            -0.179838   \n",
       "quality                    -0.036825  -0.200886             0.055463   \n",
       "\n",
       "                      total sulfur dioxide   density        pH  sulphates  \\\n",
       "fixed acidity                    -0.329747  0.459204 -0.251814   0.300380   \n",
       "volatile acidity                 -0.414928  0.271193  0.260660   0.225476   \n",
       "citric acid                       0.195218  0.096320 -0.328689   0.057613   \n",
       "residual sugar                    0.495820  0.552498 -0.267050  -0.185745   \n",
       "chlorides                        -0.279580  0.362594  0.044806   0.395332   \n",
       "free sulfur dioxide               0.720934  0.025717 -0.145191  -0.188489   \n",
       "total sulfur dioxide              1.000000  0.032395 -0.237687  -0.275381   \n",
       "density                           0.032395  1.000000  0.011920   0.259454   \n",
       "pH                               -0.237687  0.011920  1.000000   0.191248   \n",
       "sulphates                        -0.275381  0.259454  0.191248   1.000000   \n",
       "alcohol                          -0.265740 -0.686745  0.121002  -0.003261   \n",
       "quality                          -0.041385 -0.305858  0.019366   0.038729   \n",
       "\n",
       "                       alcohol   quality  \n",
       "fixed acidity        -0.095603 -0.077031  \n",
       "volatile acidity     -0.038248 -0.265953  \n",
       "citric acid          -0.010433  0.085706  \n",
       "residual sugar       -0.359706 -0.036825  \n",
       "chlorides            -0.256861 -0.200886  \n",
       "free sulfur dioxide  -0.179838  0.055463  \n",
       "total sulfur dioxide -0.265740 -0.041385  \n",
       "density              -0.686745 -0.305858  \n",
       "pH                    0.121002  0.019366  \n",
       "sulphates            -0.003261  0.038729  \n",
       "alcohol               1.000000  0.444319  \n",
       "quality               0.444319  1.000000  "
      ]
     },
     "execution_count": 5,
     "metadata": {},
     "output_type": "execute_result"
    }
   ],
   "source": [
    "given_data.corr()"
   ]
  },
  {
   "cell_type": "markdown",
   "id": "c576e81c",
   "metadata": {},
   "source": [
    "с помощью `seaborn` библиотеки отобразим нагляднее корреляцию данных.\n",
    "\n",
    "воспользуемся маской `np_triu()`, чтобы исключить повторяющиеся ячейки."
   ]
  },
  {
   "cell_type": "code",
   "execution_count": 6,
   "id": "dabb3a6c",
   "metadata": {},
   "outputs": [
    {
     "data": {
      "image/png": "[encoded data removed]",
      "text/plain": [
       "<Figure size 432x288 with 2 Axes>"
      ]
     },
     "metadata": {
      "needs_background": "light"
     },
     "output_type": "display_data"
    }
   ],
   "source": [
    "import seaborn as sb\n",
    "mask = np.triu(given_data.corr())\n",
    "sb.heatmap(given_data.corr(), mask=mask, cmap='coolwarm')\n",
    "pass"
   ]
  },
  {
   "cell_type": "code",
   "execution_count": 7,
   "id": "bbcf8d4e",
   "metadata": {},
   "outputs": [
    {
     "data": {
      "image/png": "[encoded data removed]",
      "text/plain": [
       "<Figure size 864x864 with 144 Axes>"
      ]
     },
     "metadata": {
      "needs_background": "light"
     },
     "output_type": "display_data"
    }
   ],
   "source": [
    "from pandas.plotting import scatter_matrix\n",
    "scatter_matrix(given_data, alpha = .01, figsize = (12, 12))\n",
    "pass"
   ]
  },
  {
   "cell_type": "markdown",
   "id": "5fc00bec",
   "metadata": {},
   "source": [
    "# Есть пустые значения?"
   ]
  },
  {
   "cell_type": "markdown",
   "id": "6c5b781d",
   "metadata": {},
   "source": [
    "Вопрос: есть ли пустые значения?"
   ]
  },
  {
   "cell_type": "code",
   "execution_count": 8,
   "id": "11fbdbe8",
   "metadata": {},
   "outputs": [
    {
     "data": {
      "text/html": [
       "<div>\n",
       "<style scoped>\n",
       "    .dataframe tbody tr th:only-of-type {\n",
       "        vertical-align: middle;\n",
       "    }\n",
       "\n",
       "    .dataframe tbody tr th {\n",
       "        vertical-align: top;\n",
       "    }\n",
       "\n",
       "    .dataframe thead th {\n",
       "        text-align: right;\n",
       "    }\n",
       "</style>\n",
       "<table border=\"1\" class=\"dataframe\">\n",
       "  <thead>\n",
       "    <tr style=\"text-align: right;\">\n",
       "      <th></th>\n",
       "      <th>type</th>\n",
       "      <th>fixed acidity</th>\n",
       "      <th>volatile acidity</th>\n",
       "      <th>citric acid</th>\n",
       "      <th>residual sugar</th>\n",
       "      <th>chlorides</th>\n",
       "      <th>free sulfur dioxide</th>\n",
       "      <th>total sulfur dioxide</th>\n",
       "      <th>density</th>\n",
       "      <th>pH</th>\n",
       "      <th>sulphates</th>\n",
       "      <th>alcohol</th>\n",
       "      <th>quality</th>\n",
       "    </tr>\n",
       "  </thead>\n",
       "  <tbody>\n",
       "    <tr>\n",
       "      <th>0</th>\n",
       "      <td>white</td>\n",
       "      <td>7.0</td>\n",
       "      <td>0.270</td>\n",
       "      <td>0.36</td>\n",
       "      <td>20.7</td>\n",
       "      <td>0.045</td>\n",
       "      <td>45.0</td>\n",
       "      <td>170.0</td>\n",
       "      <td>1.00100</td>\n",
       "      <td>3.00</td>\n",
       "      <td>0.45</td>\n",
       "      <td>8.8</td>\n",
       "      <td>6</td>\n",
       "    </tr>\n",
       "    <tr>\n",
       "      <th>1</th>\n",
       "      <td>white</td>\n",
       "      <td>6.3</td>\n",
       "      <td>0.300</td>\n",
       "      <td>0.34</td>\n",
       "      <td>1.6</td>\n",
       "      <td>0.049</td>\n",
       "      <td>14.0</td>\n",
       "      <td>132.0</td>\n",
       "      <td>0.99400</td>\n",
       "      <td>3.30</td>\n",
       "      <td>0.49</td>\n",
       "      <td>9.5</td>\n",
       "      <td>6</td>\n",
       "    </tr>\n",
       "    <tr>\n",
       "      <th>2</th>\n",
       "      <td>white</td>\n",
       "      <td>8.1</td>\n",
       "      <td>0.280</td>\n",
       "      <td>0.40</td>\n",
       "      <td>6.9</td>\n",
       "      <td>0.050</td>\n",
       "      <td>30.0</td>\n",
       "      <td>97.0</td>\n",
       "      <td>0.99510</td>\n",
       "      <td>3.26</td>\n",
       "      <td>0.44</td>\n",
       "      <td>10.1</td>\n",
       "      <td>6</td>\n",
       "    </tr>\n",
       "    <tr>\n",
       "      <th>3</th>\n",
       "      <td>white</td>\n",
       "      <td>7.2</td>\n",
       "      <td>0.230</td>\n",
       "      <td>0.32</td>\n",
       "      <td>8.5</td>\n",
       "      <td>0.058</td>\n",
       "      <td>47.0</td>\n",
       "      <td>186.0</td>\n",
       "      <td>0.99560</td>\n",
       "      <td>3.19</td>\n",
       "      <td>0.40</td>\n",
       "      <td>9.9</td>\n",
       "      <td>6</td>\n",
       "    </tr>\n",
       "    <tr>\n",
       "      <th>4</th>\n",
       "      <td>white</td>\n",
       "      <td>7.2</td>\n",
       "      <td>0.230</td>\n",
       "      <td>0.32</td>\n",
       "      <td>8.5</td>\n",
       "      <td>0.058</td>\n",
       "      <td>47.0</td>\n",
       "      <td>186.0</td>\n",
       "      <td>0.99560</td>\n",
       "      <td>3.19</td>\n",
       "      <td>0.40</td>\n",
       "      <td>9.9</td>\n",
       "      <td>6</td>\n",
       "    </tr>\n",
       "    <tr>\n",
       "      <th>...</th>\n",
       "      <td>...</td>\n",
       "      <td>...</td>\n",
       "      <td>...</td>\n",
       "      <td>...</td>\n",
       "      <td>...</td>\n",
       "      <td>...</td>\n",
       "      <td>...</td>\n",
       "      <td>...</td>\n",
       "      <td>...</td>\n",
       "      <td>...</td>\n",
       "      <td>...</td>\n",
       "      <td>...</td>\n",
       "      <td>...</td>\n",
       "    </tr>\n",
       "    <tr>\n",
       "      <th>6491</th>\n",
       "      <td>red</td>\n",
       "      <td>6.8</td>\n",
       "      <td>0.620</td>\n",
       "      <td>0.08</td>\n",
       "      <td>1.9</td>\n",
       "      <td>0.068</td>\n",
       "      <td>28.0</td>\n",
       "      <td>38.0</td>\n",
       "      <td>0.99651</td>\n",
       "      <td>3.42</td>\n",
       "      <td>0.82</td>\n",
       "      <td>9.5</td>\n",
       "      <td>6</td>\n",
       "    </tr>\n",
       "    <tr>\n",
       "      <th>6492</th>\n",
       "      <td>red</td>\n",
       "      <td>6.2</td>\n",
       "      <td>0.600</td>\n",
       "      <td>0.08</td>\n",
       "      <td>2.0</td>\n",
       "      <td>0.090</td>\n",
       "      <td>32.0</td>\n",
       "      <td>44.0</td>\n",
       "      <td>0.99490</td>\n",
       "      <td>3.45</td>\n",
       "      <td>0.58</td>\n",
       "      <td>10.5</td>\n",
       "      <td>5</td>\n",
       "    </tr>\n",
       "    <tr>\n",
       "      <th>6494</th>\n",
       "      <td>red</td>\n",
       "      <td>6.3</td>\n",
       "      <td>0.510</td>\n",
       "      <td>0.13</td>\n",
       "      <td>2.3</td>\n",
       "      <td>0.076</td>\n",
       "      <td>29.0</td>\n",
       "      <td>40.0</td>\n",
       "      <td>0.99574</td>\n",
       "      <td>3.42</td>\n",
       "      <td>0.75</td>\n",
       "      <td>11.0</td>\n",
       "      <td>6</td>\n",
       "    </tr>\n",
       "    <tr>\n",
       "      <th>6495</th>\n",
       "      <td>red</td>\n",
       "      <td>5.9</td>\n",
       "      <td>0.645</td>\n",
       "      <td>0.12</td>\n",
       "      <td>2.0</td>\n",
       "      <td>0.075</td>\n",
       "      <td>32.0</td>\n",
       "      <td>44.0</td>\n",
       "      <td>0.99547</td>\n",
       "      <td>3.57</td>\n",
       "      <td>0.71</td>\n",
       "      <td>10.2</td>\n",
       "      <td>5</td>\n",
       "    </tr>\n",
       "    <tr>\n",
       "      <th>6496</th>\n",
       "      <td>red</td>\n",
       "      <td>6.0</td>\n",
       "      <td>0.310</td>\n",
       "      <td>0.47</td>\n",
       "      <td>3.6</td>\n",
       "      <td>0.067</td>\n",
       "      <td>18.0</td>\n",
       "      <td>42.0</td>\n",
       "      <td>0.99549</td>\n",
       "      <td>3.39</td>\n",
       "      <td>0.66</td>\n",
       "      <td>11.0</td>\n",
       "      <td>6</td>\n",
       "    </tr>\n",
       "  </tbody>\n",
       "</table>\n",
       "<p>6463 rows × 13 columns</p>\n",
       "</div>"
      ],
      "text/plain": [
       "       type  fixed acidity  volatile acidity  citric acid  residual sugar  \\\n",
       "0     white            7.0             0.270         0.36            20.7   \n",
       "1     white            6.3             0.300         0.34             1.6   \n",
       "2     white            8.1             0.280         0.40             6.9   \n",
       "3     white            7.2             0.230         0.32             8.5   \n",
       "4     white            7.2             0.230         0.32             8.5   \n",
       "...     ...            ...               ...          ...             ...   \n",
       "6491    red            6.8             0.620         0.08             1.9   \n",
       "6492    red            6.2             0.600         0.08             2.0   \n",
       "6494    red            6.3             0.510         0.13             2.3   \n",
       "6495    red            5.9             0.645         0.12             2.0   \n",
       "6496    red            6.0             0.310         0.47             3.6   \n",
       "\n",
       "      chlorides  free sulfur dioxide  total sulfur dioxide  density    pH  \\\n",
       "0         0.045                 45.0                 170.0  1.00100  3.00   \n",
       "1         0.049                 14.0                 132.0  0.99400  3.30   \n",
       "2         0.050                 30.0                  97.0  0.99510  3.26   \n",
       "3         0.058                 47.0                 186.0  0.99560  3.19   \n",
       "4         0.058                 47.0                 186.0  0.99560  3.19   \n",
       "...         ...                  ...                   ...      ...   ...   \n",
       "6491      0.068                 28.0                  38.0  0.99651  3.42   \n",
       "6492      0.090                 32.0                  44.0  0.99490  3.45   \n",
       "6494      0.076                 29.0                  40.0  0.99574  3.42   \n",
       "6495      0.075                 32.0                  44.0  0.99547  3.57   \n",
       "6496      0.067                 18.0                  42.0  0.99549  3.39   \n",
       "\n",
       "      sulphates  alcohol  quality  \n",
       "0          0.45      8.8        6  \n",
       "1          0.49      9.5        6  \n",
       "2          0.44     10.1        6  \n",
       "3          0.40      9.9        6  \n",
       "4          0.40      9.9        6  \n",
       "...         ...      ...      ...  \n",
       "6491       0.82      9.5        6  \n",
       "6492       0.58     10.5        5  \n",
       "6494       0.75     11.0        6  \n",
       "6495       0.71     10.2        5  \n",
       "6496       0.66     11.0        6  \n",
       "\n",
       "[6463 rows x 13 columns]"
      ]
     },
     "execution_count": 8,
     "metadata": {},
     "output_type": "execute_result"
    }
   ],
   "source": [
    "given_data.dropna()"
   ]
  },
  {
   "cell_type": "code",
   "execution_count": 9,
   "id": "03e0fdde",
   "metadata": {},
   "outputs": [
    {
     "name": "stdout",
     "output_type": "stream",
     "text": [
      "(6497, 13)\n",
      "(6463, 13)\n"
     ]
    }
   ],
   "source": [
    "print(given_data.shape)\n",
    "print(given_data.dropna(axis = 0).shape)"
   ]
  },
  {
   "cell_type": "markdown",
   "id": "64b2696a",
   "metadata": {},
   "source": [
    "Видим, что ~30 строк было выкинуто. Значит, пустые значения есть. Обработаем пустые значения."
   ]
  },
  {
   "cell_type": "markdown",
   "id": "c90bd680",
   "metadata": {},
   "source": [
    "# Обработка пустых значений"
   ]
  },
  {
   "cell_type": "markdown",
   "id": "a5f9bbe3",
   "metadata": {},
   "source": [
    "Найдем столбы для строковых данных `categorical_columns`, и численных `num_columns`"
   ]
  },
  {
   "cell_type": "code",
   "execution_count": 10,
   "id": "5293426d",
   "metadata": {},
   "outputs": [],
   "source": [
    "categorical_columns = [column for column in given_data.columns if given_data[column].dtype.name == 'object']\n",
    "num_columns = [column for column in given_data.columns if given_data[column].dtype.name != 'object' and column != 'quality']"
   ]
  },
  {
   "cell_type": "markdown",
   "id": "1d0c2db0",
   "metadata": {},
   "source": [
    "Теперь заполним пустые значения медианными (средними) значениями по каждому столбцу"
   ]
  },
  {
   "cell_type": "code",
   "execution_count": 11,
   "id": "390e1ef3",
   "metadata": {},
   "outputs": [],
   "source": [
    "median = given_data.median(axis = 0, numeric_only=True)"
   ]
  },
  {
   "cell_type": "code",
   "execution_count": 12,
   "id": "127d3f3c",
   "metadata": {},
   "outputs": [],
   "source": [
    "given_data = given_data.fillna(median, axis=0)"
   ]
  },
  {
   "cell_type": "code",
   "execution_count": 13,
   "id": "6d0b5901",
   "metadata": {},
   "outputs": [
    {
     "data": {
      "text/plain": [
       "fixed acidity           6497\n",
       "volatile acidity        6497\n",
       "citric acid             6497\n",
       "residual sugar          6497\n",
       "chlorides               6497\n",
       "free sulfur dioxide     6497\n",
       "total sulfur dioxide    6497\n",
       "density                 6497\n",
       "pH                      6497\n",
       "sulphates               6497\n",
       "alcohol                 6497\n",
       "dtype: int64"
      ]
     },
     "execution_count": 13,
     "metadata": {},
     "output_type": "execute_result"
    }
   ],
   "source": [
    "given_data[num_columns].count(axis = 0)"
   ]
  },
  {
   "cell_type": "code",
   "execution_count": 14,
   "id": "c60abb77",
   "metadata": {},
   "outputs": [
    {
     "data": {
      "text/plain": [
       "type    6497\n",
       "dtype: int64"
      ]
     },
     "execution_count": 14,
     "metadata": {},
     "output_type": "execute_result"
    }
   ],
   "source": [
    "given_data[categorical_columns].count(axis = 0)"
   ]
  },
  {
   "cell_type": "markdown",
   "id": "5e226004",
   "metadata": {},
   "source": [
    "Теперь можно выделить выборки `X` - все данные кроме ключевого столбца, и `Y` - один ключевой столбец"
   ]
  },
  {
   "cell_type": "code",
   "execution_count": 15,
   "id": "d2bfc9a7",
   "metadata": {},
   "outputs": [],
   "source": [
    "given_data.dropna(axis=0)\n",
    "Y = given_data['quality']\n",
    "X = given_data.drop('quality', axis=1)"
   ]
  },
  {
   "cell_type": "code",
   "execution_count": 16,
   "id": "989d8f70",
   "metadata": {},
   "outputs": [
    {
     "data": {
      "text/html": [
       "<div>\n",
       "<style scoped>\n",
       "    .dataframe tbody tr th:only-of-type {\n",
       "        vertical-align: middle;\n",
       "    }\n",
       "\n",
       "    .dataframe tbody tr th {\n",
       "        vertical-align: top;\n",
       "    }\n",
       "\n",
       "    .dataframe thead th {\n",
       "        text-align: right;\n",
       "    }\n",
       "</style>\n",
       "<table border=\"1\" class=\"dataframe\">\n",
       "  <thead>\n",
       "    <tr style=\"text-align: right;\">\n",
       "      <th></th>\n",
       "      <th>type</th>\n",
       "      <th>fixed acidity</th>\n",
       "      <th>volatile acidity</th>\n",
       "      <th>citric acid</th>\n",
       "      <th>residual sugar</th>\n",
       "      <th>chlorides</th>\n",
       "      <th>free sulfur dioxide</th>\n",
       "      <th>total sulfur dioxide</th>\n",
       "      <th>density</th>\n",
       "      <th>pH</th>\n",
       "      <th>sulphates</th>\n",
       "      <th>alcohol</th>\n",
       "    </tr>\n",
       "  </thead>\n",
       "  <tbody>\n",
       "    <tr>\n",
       "      <th>0</th>\n",
       "      <td>white</td>\n",
       "      <td>7.0</td>\n",
       "      <td>0.270</td>\n",
       "      <td>0.36</td>\n",
       "      <td>20.7</td>\n",
       "      <td>0.045</td>\n",
       "      <td>45.0</td>\n",
       "      <td>170.0</td>\n",
       "      <td>1.00100</td>\n",
       "      <td>3.00</td>\n",
       "      <td>0.45</td>\n",
       "      <td>8.8</td>\n",
       "    </tr>\n",
       "    <tr>\n",
       "      <th>1</th>\n",
       "      <td>white</td>\n",
       "      <td>6.3</td>\n",
       "      <td>0.300</td>\n",
       "      <td>0.34</td>\n",
       "      <td>1.6</td>\n",
       "      <td>0.049</td>\n",
       "      <td>14.0</td>\n",
       "      <td>132.0</td>\n",
       "      <td>0.99400</td>\n",
       "      <td>3.30</td>\n",
       "      <td>0.49</td>\n",
       "      <td>9.5</td>\n",
       "    </tr>\n",
       "    <tr>\n",
       "      <th>2</th>\n",
       "      <td>white</td>\n",
       "      <td>8.1</td>\n",
       "      <td>0.280</td>\n",
       "      <td>0.40</td>\n",
       "      <td>6.9</td>\n",
       "      <td>0.050</td>\n",
       "      <td>30.0</td>\n",
       "      <td>97.0</td>\n",
       "      <td>0.99510</td>\n",
       "      <td>3.26</td>\n",
       "      <td>0.44</td>\n",
       "      <td>10.1</td>\n",
       "    </tr>\n",
       "    <tr>\n",
       "      <th>3</th>\n",
       "      <td>white</td>\n",
       "      <td>7.2</td>\n",
       "      <td>0.230</td>\n",
       "      <td>0.32</td>\n",
       "      <td>8.5</td>\n",
       "      <td>0.058</td>\n",
       "      <td>47.0</td>\n",
       "      <td>186.0</td>\n",
       "      <td>0.99560</td>\n",
       "      <td>3.19</td>\n",
       "      <td>0.40</td>\n",
       "      <td>9.9</td>\n",
       "    </tr>\n",
       "    <tr>\n",
       "      <th>4</th>\n",
       "      <td>white</td>\n",
       "      <td>7.2</td>\n",
       "      <td>0.230</td>\n",
       "      <td>0.32</td>\n",
       "      <td>8.5</td>\n",
       "      <td>0.058</td>\n",
       "      <td>47.0</td>\n",
       "      <td>186.0</td>\n",
       "      <td>0.99560</td>\n",
       "      <td>3.19</td>\n",
       "      <td>0.40</td>\n",
       "      <td>9.9</td>\n",
       "    </tr>\n",
       "    <tr>\n",
       "      <th>...</th>\n",
       "      <td>...</td>\n",
       "      <td>...</td>\n",
       "      <td>...</td>\n",
       "      <td>...</td>\n",
       "      <td>...</td>\n",
       "      <td>...</td>\n",
       "      <td>...</td>\n",
       "      <td>...</td>\n",
       "      <td>...</td>\n",
       "      <td>...</td>\n",
       "      <td>...</td>\n",
       "      <td>...</td>\n",
       "    </tr>\n",
       "    <tr>\n",
       "      <th>6492</th>\n",
       "      <td>red</td>\n",
       "      <td>6.2</td>\n",
       "      <td>0.600</td>\n",
       "      <td>0.08</td>\n",
       "      <td>2.0</td>\n",
       "      <td>0.090</td>\n",
       "      <td>32.0</td>\n",
       "      <td>44.0</td>\n",
       "      <td>0.99490</td>\n",
       "      <td>3.45</td>\n",
       "      <td>0.58</td>\n",
       "      <td>10.5</td>\n",
       "    </tr>\n",
       "    <tr>\n",
       "      <th>6493</th>\n",
       "      <td>red</td>\n",
       "      <td>5.9</td>\n",
       "      <td>0.550</td>\n",
       "      <td>0.10</td>\n",
       "      <td>2.2</td>\n",
       "      <td>0.062</td>\n",
       "      <td>39.0</td>\n",
       "      <td>51.0</td>\n",
       "      <td>0.99512</td>\n",
       "      <td>3.52</td>\n",
       "      <td>0.51</td>\n",
       "      <td>11.2</td>\n",
       "    </tr>\n",
       "    <tr>\n",
       "      <th>6494</th>\n",
       "      <td>red</td>\n",
       "      <td>6.3</td>\n",
       "      <td>0.510</td>\n",
       "      <td>0.13</td>\n",
       "      <td>2.3</td>\n",
       "      <td>0.076</td>\n",
       "      <td>29.0</td>\n",
       "      <td>40.0</td>\n",
       "      <td>0.99574</td>\n",
       "      <td>3.42</td>\n",
       "      <td>0.75</td>\n",
       "      <td>11.0</td>\n",
       "    </tr>\n",
       "    <tr>\n",
       "      <th>6495</th>\n",
       "      <td>red</td>\n",
       "      <td>5.9</td>\n",
       "      <td>0.645</td>\n",
       "      <td>0.12</td>\n",
       "      <td>2.0</td>\n",
       "      <td>0.075</td>\n",
       "      <td>32.0</td>\n",
       "      <td>44.0</td>\n",
       "      <td>0.99547</td>\n",
       "      <td>3.57</td>\n",
       "      <td>0.71</td>\n",
       "      <td>10.2</td>\n",
       "    </tr>\n",
       "    <tr>\n",
       "      <th>6496</th>\n",
       "      <td>red</td>\n",
       "      <td>6.0</td>\n",
       "      <td>0.310</td>\n",
       "      <td>0.47</td>\n",
       "      <td>3.6</td>\n",
       "      <td>0.067</td>\n",
       "      <td>18.0</td>\n",
       "      <td>42.0</td>\n",
       "      <td>0.99549</td>\n",
       "      <td>3.39</td>\n",
       "      <td>0.66</td>\n",
       "      <td>11.0</td>\n",
       "    </tr>\n",
       "  </tbody>\n",
       "</table>\n",
       "<p>6497 rows × 12 columns</p>\n",
       "</div>"
      ],
      "text/plain": [
       "       type  fixed acidity  volatile acidity  citric acid  residual sugar  \\\n",
       "0     white            7.0             0.270         0.36            20.7   \n",
       "1     white            6.3             0.300         0.34             1.6   \n",
       "2     white            8.1             0.280         0.40             6.9   \n",
       "3     white            7.2             0.230         0.32             8.5   \n",
       "4     white            7.2             0.230         0.32             8.5   \n",
       "...     ...            ...               ...          ...             ...   \n",
       "6492    red            6.2             0.600         0.08             2.0   \n",
       "6493    red            5.9             0.550         0.10             2.2   \n",
       "6494    red            6.3             0.510         0.13             2.3   \n",
       "6495    red            5.9             0.645         0.12             2.0   \n",
       "6496    red            6.0             0.310         0.47             3.6   \n",
       "\n",
       "      chlorides  free sulfur dioxide  total sulfur dioxide  density    pH  \\\n",
       "0         0.045                 45.0                 170.0  1.00100  3.00   \n",
       "1         0.049                 14.0                 132.0  0.99400  3.30   \n",
       "2         0.050                 30.0                  97.0  0.99510  3.26   \n",
       "3         0.058                 47.0                 186.0  0.99560  3.19   \n",
       "4         0.058                 47.0                 186.0  0.99560  3.19   \n",
       "...         ...                  ...                   ...      ...   ...   \n",
       "6492      0.090                 32.0                  44.0  0.99490  3.45   \n",
       "6493      0.062                 39.0                  51.0  0.99512  3.52   \n",
       "6494      0.076                 29.0                  40.0  0.99574  3.42   \n",
       "6495      0.075                 32.0                  44.0  0.99547  3.57   \n",
       "6496      0.067                 18.0                  42.0  0.99549  3.39   \n",
       "\n",
       "      sulphates  alcohol  \n",
       "0          0.45      8.8  \n",
       "1          0.49      9.5  \n",
       "2          0.44     10.1  \n",
       "3          0.40      9.9  \n",
       "4          0.40      9.9  \n",
       "...         ...      ...  \n",
       "6492       0.58     10.5  \n",
       "6493       0.51     11.2  \n",
       "6494       0.75     11.0  \n",
       "6495       0.71     10.2  \n",
       "6496       0.66     11.0  \n",
       "\n",
       "[6497 rows x 12 columns]"
      ]
     },
     "execution_count": 16,
     "metadata": {},
     "output_type": "execute_result"
    }
   ],
   "source": [
    "X"
   ]
  },
  {
   "cell_type": "code",
   "execution_count": 17,
   "id": "f4e08f71",
   "metadata": {},
   "outputs": [
    {
     "data": {
      "text/plain": [
       "0       6\n",
       "1       6\n",
       "2       6\n",
       "3       6\n",
       "4       6\n",
       "       ..\n",
       "6492    5\n",
       "6493    6\n",
       "6494    6\n",
       "6495    5\n",
       "6496    6\n",
       "Name: quality, Length: 6497, dtype: int64"
      ]
     },
     "execution_count": 17,
     "metadata": {},
     "output_type": "execute_result"
    }
   ],
   "source": [
    "Y"
   ]
  },
  {
   "cell_type": "markdown",
   "id": "02c4aad9",
   "metadata": {},
   "source": [
    "# Векторизация"
   ]
  },
  {
   "cell_type": "code",
   "execution_count": 18,
   "id": "ec68ade5",
   "metadata": {},
   "outputs": [
    {
     "data": {
      "text/html": [
       "<div>\n",
       "<style scoped>\n",
       "    .dataframe tbody tr th:only-of-type {\n",
       "        vertical-align: middle;\n",
       "    }\n",
       "\n",
       "    .dataframe tbody tr th {\n",
       "        vertical-align: top;\n",
       "    }\n",
       "\n",
       "    .dataframe thead th {\n",
       "        text-align: right;\n",
       "    }\n",
       "</style>\n",
       "<table border=\"1\" class=\"dataframe\">\n",
       "  <thead>\n",
       "    <tr style=\"text-align: right;\">\n",
       "      <th></th>\n",
       "      <th>type</th>\n",
       "    </tr>\n",
       "  </thead>\n",
       "  <tbody>\n",
       "    <tr>\n",
       "      <th>count</th>\n",
       "      <td>6497</td>\n",
       "    </tr>\n",
       "    <tr>\n",
       "      <th>unique</th>\n",
       "      <td>2</td>\n",
       "    </tr>\n",
       "    <tr>\n",
       "      <th>top</th>\n",
       "      <td>white</td>\n",
       "    </tr>\n",
       "    <tr>\n",
       "      <th>freq</th>\n",
       "      <td>4898</td>\n",
       "    </tr>\n",
       "  </tbody>\n",
       "</table>\n",
       "</div>"
      ],
      "text/plain": [
       "         type\n",
       "count    6497\n",
       "unique      2\n",
       "top     white\n",
       "freq     4898"
      ]
     },
     "execution_count": 18,
     "metadata": {},
     "output_type": "execute_result"
    }
   ],
   "source": [
    "data_describe = X.describe(include = [object])\n",
    "for column in categorical_columns:\n",
    "    X[column] = X[column].fillna(data_describe[column]['top'])\n",
    "data_describe"
   ]
  },
  {
   "cell_type": "code",
   "execution_count": 19,
   "id": "70c2535c",
   "metadata": {},
   "outputs": [
    {
     "name": "stdout",
     "output_type": "stream",
     "text": [
      "['type'] []\n"
     ]
    }
   ],
   "source": [
    "binary_columns  = [column for column in categorical_columns if data_describe[column]['unique'] == 2]\n",
    "non_binary_columns = [column for column in categorical_columns if data_describe[column]['unique'] > 2]\n",
    "print(binary_columns, non_binary_columns)"
   ]
  },
  {
   "cell_type": "code",
   "execution_count": 20,
   "id": "4dc73b51",
   "metadata": {},
   "outputs": [
    {
     "data": {
      "text/plain": [
       "array(['white', 'red'], dtype=object)"
      ]
     },
     "execution_count": 20,
     "metadata": {},
     "output_type": "execute_result"
    }
   ],
   "source": [
    "X['type'].unique()"
   ]
  },
  {
   "cell_type": "code",
   "execution_count": 21,
   "id": "518f203a",
   "metadata": {},
   "outputs": [
    {
     "data": {
      "text/plain": [
       "count    6497.000000\n",
       "mean        0.246114\n",
       "std         0.430779\n",
       "min         0.000000\n",
       "25%         0.000000\n",
       "50%         0.000000\n",
       "75%         0.000000\n",
       "max         1.000000\n",
       "Name: type, dtype: float64"
      ]
     },
     "execution_count": 21,
     "metadata": {},
     "output_type": "execute_result"
    }
   ],
   "source": [
    "X.at[X['type'] == 'white', 'type'] = 0\n",
    "X.at[X['type'] == 'red', 'type'] = 1\n",
    "X['type'].astype('float64').describe()"
   ]
  },
  {
   "cell_type": "code",
   "execution_count": 22,
   "id": "59ce6498",
   "metadata": {},
   "outputs": [
    {
     "data": {
      "text/plain": [
       "0       0\n",
       "1       0\n",
       "2       0\n",
       "3       0\n",
       "4       0\n",
       "       ..\n",
       "6492    1\n",
       "6493    1\n",
       "6494    1\n",
       "6495    1\n",
       "6496    1\n",
       "Name: type, Length: 6497, dtype: object"
      ]
     },
     "execution_count": 22,
     "metadata": {},
     "output_type": "execute_result"
    }
   ],
   "source": [
    "X['type']"
   ]
  },
  {
   "cell_type": "markdown",
   "id": "6933d893",
   "metadata": {},
   "source": [
    "# Нормализация"
   ]
  },
  {
   "cell_type": "markdown",
   "id": "d975f67e",
   "metadata": {},
   "source": [
    "В целом, если смотреть, данные весьма разнородные, если достаточно низние значения, есть высокие, а больше всего и вовсе средних. В целях увеличиния точности, проведем нормализацию всех числовых ячеек."
   ]
  },
  {
   "cell_type": "code",
   "execution_count": 23,
   "id": "69fb6a90",
   "metadata": {},
   "outputs": [
    {
     "data": {
      "text/html": [
       "<div>\n",
       "<style scoped>\n",
       "    .dataframe tbody tr th:only-of-type {\n",
       "        vertical-align: middle;\n",
       "    }\n",
       "\n",
       "    .dataframe tbody tr th {\n",
       "        vertical-align: top;\n",
       "    }\n",
       "\n",
       "    .dataframe thead th {\n",
       "        text-align: right;\n",
       "    }\n",
       "</style>\n",
       "<table border=\"1\" class=\"dataframe\">\n",
       "  <thead>\n",
       "    <tr style=\"text-align: right;\">\n",
       "      <th></th>\n",
       "      <th>fixed acidity</th>\n",
       "      <th>volatile acidity</th>\n",
       "      <th>citric acid</th>\n",
       "      <th>residual sugar</th>\n",
       "      <th>chlorides</th>\n",
       "      <th>free sulfur dioxide</th>\n",
       "      <th>total sulfur dioxide</th>\n",
       "      <th>density</th>\n",
       "      <th>pH</th>\n",
       "      <th>sulphates</th>\n",
       "      <th>alcohol</th>\n",
       "    </tr>\n",
       "  </thead>\n",
       "  <tbody>\n",
       "    <tr>\n",
       "      <th>count</th>\n",
       "      <td>6497.000000</td>\n",
       "      <td>6497.000000</td>\n",
       "      <td>6497.000000</td>\n",
       "      <td>6497.000000</td>\n",
       "      <td>6497.000000</td>\n",
       "      <td>6497.000000</td>\n",
       "      <td>6497.000000</td>\n",
       "      <td>6497.000000</td>\n",
       "      <td>6497.000000</td>\n",
       "      <td>6497.000000</td>\n",
       "      <td>6497.000000</td>\n",
       "    </tr>\n",
       "    <tr>\n",
       "      <th>mean</th>\n",
       "      <td>7.216246</td>\n",
       "      <td>0.339630</td>\n",
       "      <td>0.318718</td>\n",
       "      <td>5.443574</td>\n",
       "      <td>0.056039</td>\n",
       "      <td>30.525319</td>\n",
       "      <td>115.744574</td>\n",
       "      <td>0.994697</td>\n",
       "      <td>3.218384</td>\n",
       "      <td>0.531202</td>\n",
       "      <td>10.491801</td>\n",
       "    </tr>\n",
       "    <tr>\n",
       "      <th>std</th>\n",
       "      <td>1.295779</td>\n",
       "      <td>0.164557</td>\n",
       "      <td>0.145231</td>\n",
       "      <td>4.757585</td>\n",
       "      <td>0.035031</td>\n",
       "      <td>17.749400</td>\n",
       "      <td>56.521855</td>\n",
       "      <td>0.002999</td>\n",
       "      <td>0.160637</td>\n",
       "      <td>0.148769</td>\n",
       "      <td>1.192712</td>\n",
       "    </tr>\n",
       "    <tr>\n",
       "      <th>min</th>\n",
       "      <td>3.800000</td>\n",
       "      <td>0.080000</td>\n",
       "      <td>0.000000</td>\n",
       "      <td>0.600000</td>\n",
       "      <td>0.009000</td>\n",
       "      <td>1.000000</td>\n",
       "      <td>6.000000</td>\n",
       "      <td>0.987110</td>\n",
       "      <td>2.720000</td>\n",
       "      <td>0.220000</td>\n",
       "      <td>8.000000</td>\n",
       "    </tr>\n",
       "    <tr>\n",
       "      <th>25%</th>\n",
       "      <td>6.400000</td>\n",
       "      <td>0.230000</td>\n",
       "      <td>0.250000</td>\n",
       "      <td>1.800000</td>\n",
       "      <td>0.038000</td>\n",
       "      <td>17.000000</td>\n",
       "      <td>77.000000</td>\n",
       "      <td>0.992340</td>\n",
       "      <td>3.110000</td>\n",
       "      <td>0.430000</td>\n",
       "      <td>9.500000</td>\n",
       "    </tr>\n",
       "    <tr>\n",
       "      <th>50%</th>\n",
       "      <td>7.000000</td>\n",
       "      <td>0.290000</td>\n",
       "      <td>0.310000</td>\n",
       "      <td>3.000000</td>\n",
       "      <td>0.047000</td>\n",
       "      <td>29.000000</td>\n",
       "      <td>118.000000</td>\n",
       "      <td>0.994890</td>\n",
       "      <td>3.210000</td>\n",
       "      <td>0.510000</td>\n",
       "      <td>10.300000</td>\n",
       "    </tr>\n",
       "    <tr>\n",
       "      <th>75%</th>\n",
       "      <td>7.700000</td>\n",
       "      <td>0.400000</td>\n",
       "      <td>0.390000</td>\n",
       "      <td>8.100000</td>\n",
       "      <td>0.065000</td>\n",
       "      <td>41.000000</td>\n",
       "      <td>156.000000</td>\n",
       "      <td>0.996990</td>\n",
       "      <td>3.320000</td>\n",
       "      <td>0.600000</td>\n",
       "      <td>11.300000</td>\n",
       "    </tr>\n",
       "    <tr>\n",
       "      <th>max</th>\n",
       "      <td>15.900000</td>\n",
       "      <td>1.580000</td>\n",
       "      <td>1.660000</td>\n",
       "      <td>65.800000</td>\n",
       "      <td>0.611000</td>\n",
       "      <td>289.000000</td>\n",
       "      <td>440.000000</td>\n",
       "      <td>1.038980</td>\n",
       "      <td>4.010000</td>\n",
       "      <td>2.000000</td>\n",
       "      <td>14.900000</td>\n",
       "    </tr>\n",
       "  </tbody>\n",
       "</table>\n",
       "</div>"
      ],
      "text/plain": [
       "       fixed acidity  volatile acidity  citric acid  residual sugar  \\\n",
       "count    6497.000000       6497.000000  6497.000000     6497.000000   \n",
       "mean        7.216246          0.339630     0.318718        5.443574   \n",
       "std         1.295779          0.164557     0.145231        4.757585   \n",
       "min         3.800000          0.080000     0.000000        0.600000   \n",
       "25%         6.400000          0.230000     0.250000        1.800000   \n",
       "50%         7.000000          0.290000     0.310000        3.000000   \n",
       "75%         7.700000          0.400000     0.390000        8.100000   \n",
       "max        15.900000          1.580000     1.660000       65.800000   \n",
       "\n",
       "         chlorides  free sulfur dioxide  total sulfur dioxide      density  \\\n",
       "count  6497.000000          6497.000000           6497.000000  6497.000000   \n",
       "mean      0.056039            30.525319            115.744574     0.994697   \n",
       "std       0.035031            17.749400             56.521855     0.002999   \n",
       "min       0.009000             1.000000              6.000000     0.987110   \n",
       "25%       0.038000            17.000000             77.000000     0.992340   \n",
       "50%       0.047000            29.000000            118.000000     0.994890   \n",
       "75%       0.065000            41.000000            156.000000     0.996990   \n",
       "max       0.611000           289.000000            440.000000     1.038980   \n",
       "\n",
       "                pH    sulphates      alcohol  \n",
       "count  6497.000000  6497.000000  6497.000000  \n",
       "mean      3.218384     0.531202    10.491801  \n",
       "std       0.160637     0.148769     1.192712  \n",
       "min       2.720000     0.220000     8.000000  \n",
       "25%       3.110000     0.430000     9.500000  \n",
       "50%       3.210000     0.510000    10.300000  \n",
       "75%       3.320000     0.600000    11.300000  \n",
       "max       4.010000     2.000000    14.900000  "
      ]
     },
     "execution_count": 23,
     "metadata": {},
     "output_type": "execute_result"
    }
   ],
   "source": [
    "num_data = X[num_columns].astype('float64')\n",
    "num_data.describe()"
   ]
  },
  {
   "cell_type": "code",
   "execution_count": 24,
   "id": "076e7056",
   "metadata": {},
   "outputs": [],
   "source": [
    "num_data = (num_data - num_data.mean(axis = 0)) / num_data.std(axis = 0)"
   ]
  },
  {
   "cell_type": "code",
   "execution_count": 25,
   "id": "98a2108c",
   "metadata": {},
   "outputs": [
    {
     "data": {
      "text/html": [
       "<div>\n",
       "<style scoped>\n",
       "    .dataframe tbody tr th:only-of-type {\n",
       "        vertical-align: middle;\n",
       "    }\n",
       "\n",
       "    .dataframe tbody tr th {\n",
       "        vertical-align: top;\n",
       "    }\n",
       "\n",
       "    .dataframe thead th {\n",
       "        text-align: right;\n",
       "    }\n",
       "</style>\n",
       "<table border=\"1\" class=\"dataframe\">\n",
       "  <thead>\n",
       "    <tr style=\"text-align: right;\">\n",
       "      <th></th>\n",
       "      <th>fixed acidity</th>\n",
       "      <th>volatile acidity</th>\n",
       "      <th>citric acid</th>\n",
       "      <th>residual sugar</th>\n",
       "      <th>chlorides</th>\n",
       "      <th>free sulfur dioxide</th>\n",
       "      <th>total sulfur dioxide</th>\n",
       "      <th>density</th>\n",
       "      <th>pH</th>\n",
       "      <th>sulphates</th>\n",
       "      <th>alcohol</th>\n",
       "    </tr>\n",
       "  </thead>\n",
       "  <tbody>\n",
       "    <tr>\n",
       "      <th>count</th>\n",
       "      <td>6.497000e+03</td>\n",
       "      <td>6.497000e+03</td>\n",
       "      <td>6.497000e+03</td>\n",
       "      <td>6.497000e+03</td>\n",
       "      <td>6.497000e+03</td>\n",
       "      <td>6.497000e+03</td>\n",
       "      <td>6497.000000</td>\n",
       "      <td>6.497000e+03</td>\n",
       "      <td>6.497000e+03</td>\n",
       "      <td>6.497000e+03</td>\n",
       "      <td>6.497000e+03</td>\n",
       "    </tr>\n",
       "    <tr>\n",
       "      <th>mean</th>\n",
       "      <td>4.899540e-16</td>\n",
       "      <td>1.399869e-16</td>\n",
       "      <td>1.749836e-17</td>\n",
       "      <td>1.749836e-17</td>\n",
       "      <td>-3.674655e-16</td>\n",
       "      <td>-8.749179e-17</td>\n",
       "      <td>0.000000</td>\n",
       "      <td>-3.517170e-15</td>\n",
       "      <td>-1.924819e-16</td>\n",
       "      <td>-2.799737e-16</td>\n",
       "      <td>-8.399212e-16</td>\n",
       "    </tr>\n",
       "    <tr>\n",
       "      <th>std</th>\n",
       "      <td>1.000000e+00</td>\n",
       "      <td>1.000000e+00</td>\n",
       "      <td>1.000000e+00</td>\n",
       "      <td>1.000000e+00</td>\n",
       "      <td>1.000000e+00</td>\n",
       "      <td>1.000000e+00</td>\n",
       "      <td>1.000000</td>\n",
       "      <td>1.000000e+00</td>\n",
       "      <td>1.000000e+00</td>\n",
       "      <td>1.000000e+00</td>\n",
       "      <td>1.000000e+00</td>\n",
       "    </tr>\n",
       "    <tr>\n",
       "      <th>min</th>\n",
       "      <td>-2.636441e+00</td>\n",
       "      <td>-1.577752e+00</td>\n",
       "      <td>-2.194552e+00</td>\n",
       "      <td>-1.018074e+00</td>\n",
       "      <td>-1.342776e+00</td>\n",
       "      <td>-1.663455e+00</td>\n",
       "      <td>-1.941631</td>\n",
       "      <td>-2.529997e+00</td>\n",
       "      <td>-3.102543e+00</td>\n",
       "      <td>-2.091845e+00</td>\n",
       "      <td>-2.089189e+00</td>\n",
       "    </tr>\n",
       "    <tr>\n",
       "      <th>25%</th>\n",
       "      <td>-6.299267e-01</td>\n",
       "      <td>-6.662125e-01</td>\n",
       "      <td>-4.731613e-01</td>\n",
       "      <td>-7.658452e-01</td>\n",
       "      <td>-5.149380e-01</td>\n",
       "      <td>-7.620156e-01</td>\n",
       "      <td>-0.685480</td>\n",
       "      <td>-7.858922e-01</td>\n",
       "      <td>-6.747121e-01</td>\n",
       "      <td>-6.802623e-01</td>\n",
       "      <td>-8.315512e-01</td>\n",
       "    </tr>\n",
       "    <tr>\n",
       "      <th>50%</th>\n",
       "      <td>-1.668849e-01</td>\n",
       "      <td>-3.015969e-01</td>\n",
       "      <td>-6.002746e-02</td>\n",
       "      <td>-5.136164e-01</td>\n",
       "      <td>-2.580226e-01</td>\n",
       "      <td>-8.593639e-02</td>\n",
       "      <td>0.039904</td>\n",
       "      <td>6.448391e-02</td>\n",
       "      <td>-5.219133e-02</td>\n",
       "      <td>-1.425167e-01</td>\n",
       "      <td>-1.608107e-01</td>\n",
       "    </tr>\n",
       "    <tr>\n",
       "      <th>75%</th>\n",
       "      <td>3.733306e-01</td>\n",
       "      <td>3.668652e-01</td>\n",
       "      <td>4.908177e-01</td>\n",
       "      <td>5.583559e-01</td>\n",
       "      <td>2.558082e-01</td>\n",
       "      <td>5.901428e-01</td>\n",
       "      <td>0.712210</td>\n",
       "      <td>7.647937e-01</td>\n",
       "      <td>6.325815e-01</td>\n",
       "      <td>4.624472e-01</td>\n",
       "      <td>6.776148e-01</td>\n",
       "    </tr>\n",
       "    <tr>\n",
       "      <th>max</th>\n",
       "      <td>6.701569e+00</td>\n",
       "      <td>7.537640e+00</td>\n",
       "      <td>9.235485e+00</td>\n",
       "      <td>1.268636e+01</td>\n",
       "      <td>1.584201e+01</td>\n",
       "      <td>1.456245e+01</td>\n",
       "      <td>5.736815</td>\n",
       "      <td>1.476765e+01</td>\n",
       "      <td>4.927975e+00</td>\n",
       "      <td>9.872995e+00</td>\n",
       "      <td>3.695947e+00</td>\n",
       "    </tr>\n",
       "  </tbody>\n",
       "</table>\n",
       "</div>"
      ],
      "text/plain": [
       "       fixed acidity  volatile acidity   citric acid  residual sugar  \\\n",
       "count   6.497000e+03      6.497000e+03  6.497000e+03    6.497000e+03   \n",
       "mean    4.899540e-16      1.399869e-16  1.749836e-17    1.749836e-17   \n",
       "std     1.000000e+00      1.000000e+00  1.000000e+00    1.000000e+00   \n",
       "min    -2.636441e+00     -1.577752e+00 -2.194552e+00   -1.018074e+00   \n",
       "25%    -6.299267e-01     -6.662125e-01 -4.731613e-01   -7.658452e-01   \n",
       "50%    -1.668849e-01     -3.015969e-01 -6.002746e-02   -5.136164e-01   \n",
       "75%     3.733306e-01      3.668652e-01  4.908177e-01    5.583559e-01   \n",
       "max     6.701569e+00      7.537640e+00  9.235485e+00    1.268636e+01   \n",
       "\n",
       "          chlorides  free sulfur dioxide  total sulfur dioxide       density  \\\n",
       "count  6.497000e+03         6.497000e+03           6497.000000  6.497000e+03   \n",
       "mean  -3.674655e-16        -8.749179e-17              0.000000 -3.517170e-15   \n",
       "std    1.000000e+00         1.000000e+00              1.000000  1.000000e+00   \n",
       "min   -1.342776e+00        -1.663455e+00             -1.941631 -2.529997e+00   \n",
       "25%   -5.149380e-01        -7.620156e-01             -0.685480 -7.858922e-01   \n",
       "50%   -2.580226e-01        -8.593639e-02              0.039904  6.448391e-02   \n",
       "75%    2.558082e-01         5.901428e-01              0.712210  7.647937e-01   \n",
       "max    1.584201e+01         1.456245e+01              5.736815  1.476765e+01   \n",
       "\n",
       "                 pH     sulphates       alcohol  \n",
       "count  6.497000e+03  6.497000e+03  6.497000e+03  \n",
       "mean  -1.924819e-16 -2.799737e-16 -8.399212e-16  \n",
       "std    1.000000e+00  1.000000e+00  1.000000e+00  \n",
       "min   -3.102543e+00 -2.091845e+00 -2.089189e+00  \n",
       "25%   -6.747121e-01 -6.802623e-01 -8.315512e-01  \n",
       "50%   -5.219133e-02 -1.425167e-01 -1.608107e-01  \n",
       "75%    6.325815e-01  4.624472e-01  6.776148e-01  \n",
       "max    4.927975e+00  9.872995e+00  3.695947e+00  "
      ]
     },
     "execution_count": 25,
     "metadata": {},
     "output_type": "execute_result"
    }
   ],
   "source": [
    "num_data.describe()"
   ]
  },
  {
   "cell_type": "markdown",
   "id": "253435a1",
   "metadata": {},
   "source": [
    "# Соединние `num_data` и `X[binary_columns]`"
   ]
  },
  {
   "cell_type": "code",
   "execution_count": 26,
   "id": "d8997d76",
   "metadata": {},
   "outputs": [
    {
     "data": {
      "text/html": [
       "<div>\n",
       "<style scoped>\n",
       "    .dataframe tbody tr th:only-of-type {\n",
       "        vertical-align: middle;\n",
       "    }\n",
       "\n",
       "    .dataframe tbody tr th {\n",
       "        vertical-align: top;\n",
       "    }\n",
       "\n",
       "    .dataframe thead th {\n",
       "        text-align: right;\n",
       "    }\n",
       "</style>\n",
       "<table border=\"1\" class=\"dataframe\">\n",
       "  <thead>\n",
       "    <tr style=\"text-align: right;\">\n",
       "      <th></th>\n",
       "      <th>fixed acidity</th>\n",
       "      <th>volatile acidity</th>\n",
       "      <th>citric acid</th>\n",
       "      <th>residual sugar</th>\n",
       "      <th>chlorides</th>\n",
       "      <th>free sulfur dioxide</th>\n",
       "      <th>total sulfur dioxide</th>\n",
       "      <th>density</th>\n",
       "      <th>pH</th>\n",
       "      <th>sulphates</th>\n",
       "      <th>alcohol</th>\n",
       "    </tr>\n",
       "  </thead>\n",
       "  <tbody>\n",
       "    <tr>\n",
       "      <th>count</th>\n",
       "      <td>6.497000e+03</td>\n",
       "      <td>6.497000e+03</td>\n",
       "      <td>6.497000e+03</td>\n",
       "      <td>6.497000e+03</td>\n",
       "      <td>6.497000e+03</td>\n",
       "      <td>6.497000e+03</td>\n",
       "      <td>6497.000000</td>\n",
       "      <td>6.497000e+03</td>\n",
       "      <td>6.497000e+03</td>\n",
       "      <td>6.497000e+03</td>\n",
       "      <td>6.497000e+03</td>\n",
       "    </tr>\n",
       "    <tr>\n",
       "      <th>mean</th>\n",
       "      <td>4.899540e-16</td>\n",
       "      <td>1.399869e-16</td>\n",
       "      <td>1.749836e-17</td>\n",
       "      <td>1.749836e-17</td>\n",
       "      <td>-3.674655e-16</td>\n",
       "      <td>-8.749179e-17</td>\n",
       "      <td>0.000000</td>\n",
       "      <td>-3.517170e-15</td>\n",
       "      <td>-1.924819e-16</td>\n",
       "      <td>-2.799737e-16</td>\n",
       "      <td>-8.399212e-16</td>\n",
       "    </tr>\n",
       "    <tr>\n",
       "      <th>std</th>\n",
       "      <td>1.000000e+00</td>\n",
       "      <td>1.000000e+00</td>\n",
       "      <td>1.000000e+00</td>\n",
       "      <td>1.000000e+00</td>\n",
       "      <td>1.000000e+00</td>\n",
       "      <td>1.000000e+00</td>\n",
       "      <td>1.000000</td>\n",
       "      <td>1.000000e+00</td>\n",
       "      <td>1.000000e+00</td>\n",
       "      <td>1.000000e+00</td>\n",
       "      <td>1.000000e+00</td>\n",
       "    </tr>\n",
       "    <tr>\n",
       "      <th>min</th>\n",
       "      <td>-2.636441e+00</td>\n",
       "      <td>-1.577752e+00</td>\n",
       "      <td>-2.194552e+00</td>\n",
       "      <td>-1.018074e+00</td>\n",
       "      <td>-1.342776e+00</td>\n",
       "      <td>-1.663455e+00</td>\n",
       "      <td>-1.941631</td>\n",
       "      <td>-2.529997e+00</td>\n",
       "      <td>-3.102543e+00</td>\n",
       "      <td>-2.091845e+00</td>\n",
       "      <td>-2.089189e+00</td>\n",
       "    </tr>\n",
       "    <tr>\n",
       "      <th>25%</th>\n",
       "      <td>-6.299267e-01</td>\n",
       "      <td>-6.662125e-01</td>\n",
       "      <td>-4.731613e-01</td>\n",
       "      <td>-7.658452e-01</td>\n",
       "      <td>-5.149380e-01</td>\n",
       "      <td>-7.620156e-01</td>\n",
       "      <td>-0.685480</td>\n",
       "      <td>-7.858922e-01</td>\n",
       "      <td>-6.747121e-01</td>\n",
       "      <td>-6.802623e-01</td>\n",
       "      <td>-8.315512e-01</td>\n",
       "    </tr>\n",
       "    <tr>\n",
       "      <th>50%</th>\n",
       "      <td>-1.668849e-01</td>\n",
       "      <td>-3.015969e-01</td>\n",
       "      <td>-6.002746e-02</td>\n",
       "      <td>-5.136164e-01</td>\n",
       "      <td>-2.580226e-01</td>\n",
       "      <td>-8.593639e-02</td>\n",
       "      <td>0.039904</td>\n",
       "      <td>6.448391e-02</td>\n",
       "      <td>-5.219133e-02</td>\n",
       "      <td>-1.425167e-01</td>\n",
       "      <td>-1.608107e-01</td>\n",
       "    </tr>\n",
       "    <tr>\n",
       "      <th>75%</th>\n",
       "      <td>3.733306e-01</td>\n",
       "      <td>3.668652e-01</td>\n",
       "      <td>4.908177e-01</td>\n",
       "      <td>5.583559e-01</td>\n",
       "      <td>2.558082e-01</td>\n",
       "      <td>5.901428e-01</td>\n",
       "      <td>0.712210</td>\n",
       "      <td>7.647937e-01</td>\n",
       "      <td>6.325815e-01</td>\n",
       "      <td>4.624472e-01</td>\n",
       "      <td>6.776148e-01</td>\n",
       "    </tr>\n",
       "    <tr>\n",
       "      <th>max</th>\n",
       "      <td>6.701569e+00</td>\n",
       "      <td>7.537640e+00</td>\n",
       "      <td>9.235485e+00</td>\n",
       "      <td>1.268636e+01</td>\n",
       "      <td>1.584201e+01</td>\n",
       "      <td>1.456245e+01</td>\n",
       "      <td>5.736815</td>\n",
       "      <td>1.476765e+01</td>\n",
       "      <td>4.927975e+00</td>\n",
       "      <td>9.872995e+00</td>\n",
       "      <td>3.695947e+00</td>\n",
       "    </tr>\n",
       "  </tbody>\n",
       "</table>\n",
       "</div>"
      ],
      "text/plain": [
       "       fixed acidity  volatile acidity   citric acid  residual sugar  \\\n",
       "count   6.497000e+03      6.497000e+03  6.497000e+03    6.497000e+03   \n",
       "mean    4.899540e-16      1.399869e-16  1.749836e-17    1.749836e-17   \n",
       "std     1.000000e+00      1.000000e+00  1.000000e+00    1.000000e+00   \n",
       "min    -2.636441e+00     -1.577752e+00 -2.194552e+00   -1.018074e+00   \n",
       "25%    -6.299267e-01     -6.662125e-01 -4.731613e-01   -7.658452e-01   \n",
       "50%    -1.668849e-01     -3.015969e-01 -6.002746e-02   -5.136164e-01   \n",
       "75%     3.733306e-01      3.668652e-01  4.908177e-01    5.583559e-01   \n",
       "max     6.701569e+00      7.537640e+00  9.235485e+00    1.268636e+01   \n",
       "\n",
       "          chlorides  free sulfur dioxide  total sulfur dioxide       density  \\\n",
       "count  6.497000e+03         6.497000e+03           6497.000000  6.497000e+03   \n",
       "mean  -3.674655e-16        -8.749179e-17              0.000000 -3.517170e-15   \n",
       "std    1.000000e+00         1.000000e+00              1.000000  1.000000e+00   \n",
       "min   -1.342776e+00        -1.663455e+00             -1.941631 -2.529997e+00   \n",
       "25%   -5.149380e-01        -7.620156e-01             -0.685480 -7.858922e-01   \n",
       "50%   -2.580226e-01        -8.593639e-02              0.039904  6.448391e-02   \n",
       "75%    2.558082e-01         5.901428e-01              0.712210  7.647937e-01   \n",
       "max    1.584201e+01         1.456245e+01              5.736815  1.476765e+01   \n",
       "\n",
       "                 pH     sulphates       alcohol  \n",
       "count  6.497000e+03  6.497000e+03  6.497000e+03  \n",
       "mean  -1.924819e-16 -2.799737e-16 -8.399212e-16  \n",
       "std    1.000000e+00  1.000000e+00  1.000000e+00  \n",
       "min   -3.102543e+00 -2.091845e+00 -2.089189e+00  \n",
       "25%   -6.747121e-01 -6.802623e-01 -8.315512e-01  \n",
       "50%   -5.219133e-02 -1.425167e-01 -1.608107e-01  \n",
       "75%    6.325815e-01  4.624472e-01  6.776148e-01  \n",
       "max    4.927975e+00  9.872995e+00  3.695947e+00  "
      ]
     },
     "execution_count": 26,
     "metadata": {},
     "output_type": "execute_result"
    }
   ],
   "source": [
    "X = pd.concat((num_data, X[binary_columns]), axis = 1)\n",
    "X.describe()"
   ]
  },
  {
   "cell_type": "code",
   "execution_count": 27,
   "id": "c6ae799b",
   "metadata": {},
   "outputs": [
    {
     "data": {
      "text/html": [
       "<div>\n",
       "<style scoped>\n",
       "    .dataframe tbody tr th:only-of-type {\n",
       "        vertical-align: middle;\n",
       "    }\n",
       "\n",
       "    .dataframe tbody tr th {\n",
       "        vertical-align: top;\n",
       "    }\n",
       "\n",
       "    .dataframe thead th {\n",
       "        text-align: right;\n",
       "    }\n",
       "</style>\n",
       "<table border=\"1\" class=\"dataframe\">\n",
       "  <thead>\n",
       "    <tr style=\"text-align: right;\">\n",
       "      <th></th>\n",
       "      <th>fixed acidity</th>\n",
       "      <th>volatile acidity</th>\n",
       "      <th>citric acid</th>\n",
       "      <th>residual sugar</th>\n",
       "      <th>chlorides</th>\n",
       "      <th>free sulfur dioxide</th>\n",
       "      <th>total sulfur dioxide</th>\n",
       "      <th>density</th>\n",
       "      <th>pH</th>\n",
       "      <th>sulphates</th>\n",
       "      <th>alcohol</th>\n",
       "      <th>type</th>\n",
       "    </tr>\n",
       "  </thead>\n",
       "  <tbody>\n",
       "    <tr>\n",
       "      <th>0</th>\n",
       "      <td>-0.166885</td>\n",
       "      <td>-0.423135</td>\n",
       "      <td>0.284251</td>\n",
       "      <td>3.206758</td>\n",
       "      <td>-0.315115</td>\n",
       "      <td>0.815503</td>\n",
       "      <td>0.959902</td>\n",
       "      <td>2.102052</td>\n",
       "      <td>-1.359485</td>\n",
       "      <td>-0.545826</td>\n",
       "      <td>-1.418449</td>\n",
       "      <td>0</td>\n",
       "    </tr>\n",
       "    <tr>\n",
       "      <th>1</th>\n",
       "      <td>-0.707100</td>\n",
       "      <td>-0.240828</td>\n",
       "      <td>0.146539</td>\n",
       "      <td>-0.807883</td>\n",
       "      <td>-0.200930</td>\n",
       "      <td>-0.931035</td>\n",
       "      <td>0.287595</td>\n",
       "      <td>-0.232314</td>\n",
       "      <td>0.508077</td>\n",
       "      <td>-0.276953</td>\n",
       "      <td>-0.831551</td>\n",
       "      <td>0</td>\n",
       "    </tr>\n",
       "    <tr>\n",
       "      <th>2</th>\n",
       "      <td>0.682025</td>\n",
       "      <td>-0.362366</td>\n",
       "      <td>0.559673</td>\n",
       "      <td>0.306127</td>\n",
       "      <td>-0.172384</td>\n",
       "      <td>-0.029596</td>\n",
       "      <td>-0.331634</td>\n",
       "      <td>0.134515</td>\n",
       "      <td>0.259069</td>\n",
       "      <td>-0.613044</td>\n",
       "      <td>-0.328496</td>\n",
       "      <td>0</td>\n",
       "    </tr>\n",
       "    <tr>\n",
       "      <th>3</th>\n",
       "      <td>-0.012538</td>\n",
       "      <td>-0.666213</td>\n",
       "      <td>0.008828</td>\n",
       "      <td>0.642432</td>\n",
       "      <td>0.055985</td>\n",
       "      <td>0.928182</td>\n",
       "      <td>1.242978</td>\n",
       "      <td>0.301255</td>\n",
       "      <td>-0.176695</td>\n",
       "      <td>-0.881917</td>\n",
       "      <td>-0.496181</td>\n",
       "      <td>0</td>\n",
       "    </tr>\n",
       "    <tr>\n",
       "      <th>4</th>\n",
       "      <td>-0.012538</td>\n",
       "      <td>-0.666213</td>\n",
       "      <td>0.008828</td>\n",
       "      <td>0.642432</td>\n",
       "      <td>0.055985</td>\n",
       "      <td>0.928182</td>\n",
       "      <td>1.242978</td>\n",
       "      <td>0.301255</td>\n",
       "      <td>-0.176695</td>\n",
       "      <td>-0.881917</td>\n",
       "      <td>-0.496181</td>\n",
       "      <td>0</td>\n",
       "    </tr>\n",
       "    <tr>\n",
       "      <th>...</th>\n",
       "      <td>...</td>\n",
       "      <td>...</td>\n",
       "      <td>...</td>\n",
       "      <td>...</td>\n",
       "      <td>...</td>\n",
       "      <td>...</td>\n",
       "      <td>...</td>\n",
       "      <td>...</td>\n",
       "      <td>...</td>\n",
       "      <td>...</td>\n",
       "      <td>...</td>\n",
       "      <td>...</td>\n",
       "    </tr>\n",
       "    <tr>\n",
       "      <th>6492</th>\n",
       "      <td>-0.784274</td>\n",
       "      <td>1.582251</td>\n",
       "      <td>-1.643707</td>\n",
       "      <td>-0.723807</td>\n",
       "      <td>0.969462</td>\n",
       "      <td>0.083083</td>\n",
       "      <td>-1.269324</td>\n",
       "      <td>0.067819</td>\n",
       "      <td>1.441858</td>\n",
       "      <td>0.328011</td>\n",
       "      <td>0.006874</td>\n",
       "      <td>1</td>\n",
       "    </tr>\n",
       "    <tr>\n",
       "      <th>6493</th>\n",
       "      <td>-1.015795</td>\n",
       "      <td>1.278404</td>\n",
       "      <td>-1.505996</td>\n",
       "      <td>-0.681769</td>\n",
       "      <td>0.170170</td>\n",
       "      <td>0.477463</td>\n",
       "      <td>-1.145479</td>\n",
       "      <td>0.141185</td>\n",
       "      <td>1.877623</td>\n",
       "      <td>-0.142517</td>\n",
       "      <td>0.593772</td>\n",
       "      <td>1</td>\n",
       "    </tr>\n",
       "    <tr>\n",
       "      <th>6494</th>\n",
       "      <td>-0.707100</td>\n",
       "      <td>1.035327</td>\n",
       "      <td>-1.299429</td>\n",
       "      <td>-0.660750</td>\n",
       "      <td>0.569816</td>\n",
       "      <td>-0.085936</td>\n",
       "      <td>-1.340094</td>\n",
       "      <td>0.347943</td>\n",
       "      <td>1.255102</td>\n",
       "      <td>1.470720</td>\n",
       "      <td>0.426087</td>\n",
       "      <td>1</td>\n",
       "    </tr>\n",
       "    <tr>\n",
       "      <th>6495</th>\n",
       "      <td>-1.015795</td>\n",
       "      <td>1.855712</td>\n",
       "      <td>-1.368285</td>\n",
       "      <td>-0.723807</td>\n",
       "      <td>0.541270</td>\n",
       "      <td>0.083083</td>\n",
       "      <td>-1.269324</td>\n",
       "      <td>0.257903</td>\n",
       "      <td>2.188883</td>\n",
       "      <td>1.201847</td>\n",
       "      <td>-0.244653</td>\n",
       "      <td>1</td>\n",
       "    </tr>\n",
       "    <tr>\n",
       "      <th>6496</th>\n",
       "      <td>-0.938621</td>\n",
       "      <td>-0.180058</td>\n",
       "      <td>1.041663</td>\n",
       "      <td>-0.387502</td>\n",
       "      <td>0.312900</td>\n",
       "      <td>-0.705676</td>\n",
       "      <td>-1.304709</td>\n",
       "      <td>0.264572</td>\n",
       "      <td>1.068346</td>\n",
       "      <td>0.865756</td>\n",
       "      <td>0.426087</td>\n",
       "      <td>1</td>\n",
       "    </tr>\n",
       "  </tbody>\n",
       "</table>\n",
       "<p>6497 rows × 12 columns</p>\n",
       "</div>"
      ],
      "text/plain": [
       "      fixed acidity  volatile acidity  citric acid  residual sugar  chlorides  \\\n",
       "0         -0.166885         -0.423135     0.284251        3.206758  -0.315115   \n",
       "1         -0.707100         -0.240828     0.146539       -0.807883  -0.200930   \n",
       "2          0.682025         -0.362366     0.559673        0.306127  -0.172384   \n",
       "3         -0.012538         -0.666213     0.008828        0.642432   0.055985   \n",
       "4         -0.012538         -0.666213     0.008828        0.642432   0.055985   \n",
       "...             ...               ...          ...             ...        ...   \n",
       "6492      -0.784274          1.582251    -1.643707       -0.723807   0.969462   \n",
       "6493      -1.015795          1.278404    -1.505996       -0.681769   0.170170   \n",
       "6494      -0.707100          1.035327    -1.299429       -0.660750   0.569816   \n",
       "6495      -1.015795          1.855712    -1.368285       -0.723807   0.541270   \n",
       "6496      -0.938621         -0.180058     1.041663       -0.387502   0.312900   \n",
       "\n",
       "      free sulfur dioxide  total sulfur dioxide   density        pH  \\\n",
       "0                0.815503              0.959902  2.102052 -1.359485   \n",
       "1               -0.931035              0.287595 -0.232314  0.508077   \n",
       "2               -0.029596             -0.331634  0.134515  0.259069   \n",
       "3                0.928182              1.242978  0.301255 -0.176695   \n",
       "4                0.928182              1.242978  0.301255 -0.176695   \n",
       "...                   ...                   ...       ...       ...   \n",
       "6492             0.083083             -1.269324  0.067819  1.441858   \n",
       "6493             0.477463             -1.145479  0.141185  1.877623   \n",
       "6494            -0.085936             -1.340094  0.347943  1.255102   \n",
       "6495             0.083083             -1.269324  0.257903  2.188883   \n",
       "6496            -0.705676             -1.304709  0.264572  1.068346   \n",
       "\n",
       "      sulphates   alcohol type  \n",
       "0     -0.545826 -1.418449    0  \n",
       "1     -0.276953 -0.831551    0  \n",
       "2     -0.613044 -0.328496    0  \n",
       "3     -0.881917 -0.496181    0  \n",
       "4     -0.881917 -0.496181    0  \n",
       "...         ...       ...  ...  \n",
       "6492   0.328011  0.006874    1  \n",
       "6493  -0.142517  0.593772    1  \n",
       "6494   1.470720  0.426087    1  \n",
       "6495   1.201847 -0.244653    1  \n",
       "6496   0.865756  0.426087    1  \n",
       "\n",
       "[6497 rows x 12 columns]"
      ]
     },
     "execution_count": 27,
     "metadata": {},
     "output_type": "execute_result"
    }
   ],
   "source": [
    "X"
   ]
  },
  {
   "cell_type": "code",
   "execution_count": 28,
   "id": "8d80ca06",
   "metadata": {},
   "outputs": [
    {
     "name": "stdout",
     "output_type": "stream",
     "text": [
      "(6497, 12)\n"
     ]
    }
   ],
   "source": [
    "print(X.shape)"
   ]
  },
  {
   "cell_type": "markdown",
   "id": "8e75e7f6",
   "metadata": {},
   "source": [
    "# Обучение выборки"
   ]
  },
  {
   "cell_type": "code",
   "execution_count": 29,
   "id": "67f9dd4c",
   "metadata": {},
   "outputs": [
    {
     "data": {
      "text/plain": [
       "Index(['fixed acidity', 'volatile acidity', 'citric acid', 'residual sugar',\n",
       "       'chlorides', 'free sulfur dioxide', 'total sulfur dioxide', 'density',\n",
       "       'pH', 'sulphates', 'alcohol', 'type'],\n",
       "      dtype='object')"
      ]
     },
     "execution_count": 29,
     "metadata": {},
     "output_type": "execute_result"
    }
   ],
   "source": [
    "features = X.columns\n",
    "features"
   ]
  },
  {
   "cell_type": "code",
   "execution_count": 30,
   "id": "217a76b3",
   "metadata": {},
   "outputs": [
    {
     "data": {
      "text/plain": [
       "pandas.core.indexes.base.Index"
      ]
     },
     "execution_count": 30,
     "metadata": {},
     "output_type": "execute_result"
    }
   ],
   "source": [
    "type(features)"
   ]
  },
  {
   "cell_type": "code",
   "execution_count": 31,
   "id": "9e59063a",
   "metadata": {},
   "outputs": [],
   "source": [
    "X = X.to_numpy()"
   ]
  },
  {
   "cell_type": "code",
   "execution_count": 32,
   "id": "cc26a474",
   "metadata": {},
   "outputs": [],
   "source": [
    "Y = Y.to_numpy(dtype='int32')"
   ]
  },
  {
   "cell_type": "code",
   "execution_count": 33,
   "id": "4c3bb226",
   "metadata": {},
   "outputs": [
    {
     "name": "stdout",
     "output_type": "stream",
     "text": [
      "(6497, 12)\n",
      "(6497,)\n"
     ]
    }
   ],
   "source": [
    "print(X.shape)\n",
    "print(Y.shape)\n",
    "N, d = X.shape"
   ]
  },
  {
   "cell_type": "code",
   "execution_count": 34,
   "id": "1397803c",
   "metadata": {},
   "outputs": [
    {
     "data": {
      "text/plain": [
       "numpy.ndarray"
      ]
     },
     "execution_count": 34,
     "metadata": {},
     "output_type": "execute_result"
    }
   ],
   "source": [
    "type(X)"
   ]
  },
  {
   "cell_type": "code",
   "execution_count": 35,
   "id": "41e10fbc",
   "metadata": {},
   "outputs": [
    {
     "data": {
      "text/plain": [
       "numpy.ndarray"
      ]
     },
     "execution_count": 35,
     "metadata": {},
     "output_type": "execute_result"
    }
   ],
   "source": [
    "type(Y)"
   ]
  },
  {
   "cell_type": "code",
   "execution_count": 36,
   "id": "30293e7d",
   "metadata": {},
   "outputs": [
    {
     "data": {
      "text/plain": [
       "array([3, 4, 5, 6, 7, 8, 9])"
      ]
     },
     "execution_count": 36,
     "metadata": {},
     "output_type": "execute_result"
    }
   ],
   "source": [
    "np.unique(Y)"
   ]
  },
  {
   "cell_type": "code",
   "execution_count": 37,
   "id": "394584c2",
   "metadata": {},
   "outputs": [
    {
     "name": "stdout",
     "output_type": "stream",
     "text": [
      "4547 1950\n"
     ]
    }
   ],
   "source": [
    "from sklearn.model_selection import train_test_split\n",
    "X_train, X_test, y_train, y_test = train_test_split(X, Y, test_size = 0.3, random_state = 42)\n",
    "\n",
    "N_train, _ = X_train.shape \n",
    "N_test,  _ = X_test.shape \n",
    "\n",
    "print(N_train, N_test)"
   ]
  },
  {
   "cell_type": "markdown",
   "id": "60fa2694",
   "metadata": {},
   "source": [
    "# kNN метод. Результаты."
   ]
  },
  {
   "cell_type": "markdown",
   "id": "c7db237b",
   "metadata": {},
   "source": [
    "Добавим "
   ]
  },
  {
   "cell_type": "code",
   "execution_count": 38,
   "id": "1d9ec37d",
   "metadata": {},
   "outputs": [],
   "source": [
    "from sklearn.neighbors import KNeighborsClassifier\n",
    "\n",
    "COUNT_NEIGHBOURS = 10\n",
    "\n",
    "t = time()\n",
    "knn = KNeighborsClassifier(n_neighbors = COUNT_NEIGHBOURS)\n",
    "knn.fit(X_train, y_train)\n",
    "knn_time = time() - t"
   ]
  },
  {
   "cell_type": "code",
   "execution_count": 39,
   "id": "bf123a08",
   "metadata": {},
   "outputs": [],
   "source": [
    "y_test_predict = knn.predict(X_test)\n",
    "error_test = np.mean(y_test  != y_test_predict)"
   ]
  },
  {
   "cell_type": "markdown",
   "id": "070b3e5c",
   "metadata": {},
   "source": [
    "Ошибка при реальном (тестировании) использовании классификации:"
   ]
  },
  {
   "cell_type": "code",
   "execution_count": 40,
   "id": "33c2e537",
   "metadata": {},
   "outputs": [
    {
     "data": {
      "text/plain": [
       "0.4369230769230769"
      ]
     },
     "execution_count": 40,
     "metadata": {},
     "output_type": "execute_result"
    }
   ],
   "source": [
    "error_test"
   ]
  },
  {
   "cell_type": "code",
   "execution_count": 41,
   "id": "3c640e20",
   "metadata": {},
   "outputs": [],
   "source": [
    "y_train_predict = knn.predict(X_train)\n",
    "error_train  = np.mean(y_train  != y_train_predict)"
   ]
  },
  {
   "cell_type": "markdown",
   "id": "b4c504dd",
   "metadata": {},
   "source": [
    "Ошибка при тренировке:"
   ]
  },
  {
   "cell_type": "code",
   "execution_count": 42,
   "id": "e5b91587",
   "metadata": {},
   "outputs": [
    {
     "data": {
      "text/plain": [
       "0.36815482735869803"
      ]
     },
     "execution_count": 42,
     "metadata": {},
     "output_type": "execute_result"
    }
   ],
   "source": [
    "error_train"
   ]
  },
  {
   "cell_type": "markdown",
   "id": "fbbc07b8",
   "metadata": {},
   "source": [
    "Разница:"
   ]
  },
  {
   "cell_type": "code",
   "execution_count": 43,
   "id": "089063da",
   "metadata": {},
   "outputs": [
    {
     "data": {
      "text/plain": [
       "0.06876824956437888"
      ]
     },
     "execution_count": 43,
     "metadata": {},
     "output_type": "execute_result"
    }
   ],
   "source": [
    "error_test - error_train"
   ]
  },
  {
   "cell_type": "markdown",
   "id": "23b305dd",
   "metadata": {},
   "source": [
    "## Меняем число соседей"
   ]
  },
  {
   "cell_type": "code",
   "execution_count": 44,
   "id": "4d8f96c2",
   "metadata": {},
   "outputs": [
    {
     "name": "stdout",
     "output_type": "stream",
     "text": [
      "0.4482051282051282 0.36815482735869803 0.08005030084643017\n"
     ]
    }
   ],
   "source": [
    "COUNT_NEIGHBOURS = 5\n",
    "\n",
    "knn.set_params(n_neighbors=COUNT_NEIGHBOURS)\n",
    "knn.fit(X_train, y_train)\n",
    "y_test_predict = knn.predict(X_test)\n",
    "error_test = np.mean(y_test  != y_test_predict)\n",
    "\n",
    "print(error_test, error_train, error_test - error_train)"
   ]
  },
  {
   "cell_type": "code",
   "execution_count": 45,
   "id": "7b259ea8",
   "metadata": {},
   "outputs": [
    {
     "name": "stdout",
     "output_type": "stream",
     "text": [
      "0.44153846153846155 0.36815482735869803 0.07338363417976351\n"
     ]
    }
   ],
   "source": [
    "COUNT_NEIGHBOURS = 2\n",
    "\n",
    "knn.set_params(n_neighbors=COUNT_NEIGHBOURS)\n",
    "knn.fit(X_train, y_train)\n",
    "y_test_predict = knn.predict(X_test)\n",
    "error_test = np.mean(y_test  != y_test_predict)\n",
    "\n",
    "print(error_test, error_train, error_test - error_train)"
   ]
  },
  {
   "cell_type": "code",
   "execution_count": 46,
   "id": "6a527557",
   "metadata": {},
   "outputs": [
    {
     "name": "stdout",
     "output_type": "stream",
     "text": [
      "0.45384615384615384 0.36815482735869803 0.08569132648745581\n"
     ]
    }
   ],
   "source": [
    "COUNT_NEIGHBOURS = 100\n",
    "\n",
    "knn.set_params(n_neighbors=COUNT_NEIGHBOURS)\n",
    "knn.fit(X_train, y_train)\n",
    "y_test_predict = knn.predict(X_test)\n",
    "error_test = np.mean(y_test  != y_test_predict)\n",
    "\n",
    "print(error_test, error_train, error_test - error_train)"
   ]
  },
  {
   "cell_type": "code",
   "execution_count": 47,
   "id": "8071746e",
   "metadata": {},
   "outputs": [
    {
     "name": "stdout",
     "output_type": "stream",
     "text": [
      "0.5030769230769231 0.36815482735869803 0.13492209571822505\n"
     ]
    }
   ],
   "source": [
    "COUNT_NEIGHBOURS = 1000\n",
    "\n",
    "knn.set_params(n_neighbors=COUNT_NEIGHBOURS)\n",
    "knn.fit(X_train, y_train)\n",
    "y_test_predict = knn.predict(X_test)\n",
    "error_test = np.mean(y_test  != y_test_predict)\n",
    "\n",
    "print(error_test, error_train, error_test - error_train)"
   ]
  },
  {
   "cell_type": "markdown",
   "id": "01df3882",
   "metadata": {},
   "source": [
    "## Интерпретация результатов тестирования"
   ]
  },
  {
   "cell_type": "code",
   "execution_count": 48,
   "id": "6156c7f7",
   "metadata": {},
   "outputs": [
    {
     "name": "stdout",
     "output_type": "stream",
     "text": [
      "[[  0   0   2   4   0   0]\n",
      " [  0   0  21  42   0   0]\n",
      " [  0   0 226 414   0   0]\n",
      " [  0   0 119 743   0   0]\n",
      " [  0   0  15 310   0   0]\n",
      " [  0   0   0  54   0   0]]\n"
     ]
    }
   ],
   "source": [
    "from sklearn.metrics import confusion_matrix\n",
    "print(confusion_matrix(y_test, y_test_predict))"
   ]
  },
  {
   "cell_type": "code",
   "execution_count": 49,
   "id": "44c98526",
   "metadata": {},
   "outputs": [
    {
     "name": "stdout",
     "output_type": "stream",
     "text": [
      "              precision    recall  f1-score   support\n",
      "\n",
      "           3       0.00      0.00      0.00         6\n",
      "           4       0.00      0.00      0.00        63\n",
      "           5       0.59      0.35      0.44       640\n",
      "           6       0.47      0.86      0.61       862\n",
      "           7       0.00      0.00      0.00       325\n",
      "           8       0.00      0.00      0.00        54\n",
      "\n",
      "    accuracy                           0.50      1950\n",
      "   macro avg       0.18      0.20      0.18      1950\n",
      "weighted avg       0.40      0.50      0.42      1950\n",
      "\n"
     ]
    }
   ],
   "source": [
    "from sklearn.metrics import classification_report\n",
    "print(classification_report(y_test, y_test_predict, zero_division=0))"
   ]
  },
  {
   "cell_type": "markdown",
   "id": "52b48c84",
   "metadata": {},
   "source": [
    "## Интерпретация результатов тренировки"
   ]
  },
  {
   "cell_type": "code",
   "execution_count": 50,
   "id": "11198552",
   "metadata": {},
   "outputs": [
    {
     "name": "stdout",
     "output_type": "stream",
     "text": [
      "[[   1    0   13    8    2    0    0]\n",
      " [   0   18   80   54    1    0    0]\n",
      " [   0    7 1071  372   43    5    0]\n",
      " [   0    3  430 1388  147    6    0]\n",
      " [   0    0   37  341  368    8    0]\n",
      " [   0    1    4   55   52   27    0]\n",
      " [   0    0    0    1    4    0    0]]\n"
     ]
    }
   ],
   "source": [
    "print(confusion_matrix(y_train, y_train_predict))"
   ]
  },
  {
   "cell_type": "code",
   "execution_count": 51,
   "id": "ddd29303",
   "metadata": {},
   "outputs": [
    {
     "name": "stdout",
     "output_type": "stream",
     "text": [
      "              precision    recall  f1-score   support\n",
      "\n",
      "           3       1.00      0.04      0.08        24\n",
      "           4       0.62      0.12      0.20       153\n",
      "           5       0.66      0.71      0.68      1498\n",
      "           6       0.63      0.70      0.66      1974\n",
      "           7       0.60      0.49      0.54       754\n",
      "           8       0.59      0.19      0.29       139\n",
      "           9       0.00      0.00      0.00         5\n",
      "\n",
      "    accuracy                           0.63      4547\n",
      "   macro avg       0.58      0.32      0.35      4547\n",
      "weighted avg       0.63      0.63      0.62      4547\n",
      "\n"
     ]
    }
   ],
   "source": [
    "print(classification_report(y_train, y_train_predict, zero_division=0))"
   ]
  },
  {
   "cell_type": "markdown",
   "id": "1e402a04",
   "metadata": {},
   "source": [
    "# Другие методы машинного обучения и результаты"
   ]
  },
  {
   "cell_type": "markdown",
   "id": "01d3bf18",
   "metadata": {},
   "source": [
    "Рассмотрим еще два метода машинного обучения. \n",
    "\n",
    "Первым будет SVC, который хорошо (по документации) подходит для более или менее большого количества признаков (но количество признаков < количества строк). \n",
    "\n",
    "А вторым GBT, как пример машинного обучения, который, разумеется, должен быть точнее, т.к. он сложнее и \"запутаннее\", а значит и намного более медленным."
   ]
  },
  {
   "cell_type": "markdown",
   "id": "eb7709f4",
   "metadata": {},
   "source": [
    "## SVC"
   ]
  },
  {
   "cell_type": "code",
   "execution_count": 52,
   "id": "cbc6e5dd",
   "metadata": {},
   "outputs": [
    {
     "name": "stdout",
     "output_type": "stream",
     "text": [
      "0.39124697602815045 0.418974358974359 0.027727382946208523\n"
     ]
    }
   ],
   "source": [
    "from sklearn.svm import SVC\n",
    "\n",
    "t = time()\n",
    "svc = SVC(gamma='auto')\n",
    "svc.fit(X_train, y_train)\n",
    "svc_time = time() - t\n",
    "\n",
    "error_train = np.mean(y_train != svc.predict(X_train))\n",
    "error_test  = np.mean(y_test  != svc.predict(X_test))\n",
    "\n",
    "print(error_train, error_test, error_test - error_train)"
   ]
  },
  {
   "cell_type": "markdown",
   "id": "6c2d2c01",
   "metadata": {},
   "source": [
    "## GBT"
   ]
  },
  {
   "cell_type": "code",
   "execution_count": 53,
   "id": "6cd6389a",
   "metadata": {},
   "outputs": [
    {
     "name": "stdout",
     "output_type": "stream",
     "text": [
      "0.01627446668132835 0.3646153846153846 0.027727382946208523\n"
     ]
    }
   ],
   "source": [
    "from sklearn import ensemble\n",
    "\n",
    "t = time()\n",
    "gbt = ensemble.GradientBoostingClassifier(n_estimators = 1000)\n",
    "gbt.fit(X_train, y_train)\n",
    "gbt_time = time() - t\n",
    "\n",
    "err_train = np.mean(y_train != gbt.predict(X_train))\n",
    "err_test = np.mean(y_test != gbt.predict(X_test))\n",
    "\n",
    "print(err_train, err_test, error_test - error_train)"
   ]
  },
  {
   "cell_type": "markdown",
   "id": "409527cf",
   "metadata": {},
   "source": [
    "# Время выполнения"
   ]
  },
  {
   "cell_type": "code",
   "execution_count": 54,
   "id": "d45f8f6e",
   "metadata": {},
   "outputs": [
    {
     "name": "stdout",
     "output_type": "stream",
     "text": [
      "0.012995719909667969 0.6904017925262451 41.751542806625366\n"
     ]
    }
   ],
   "source": [
    "print(knn_time, svc_time, gbt_time)"
   ]
  },
  {
   "cell_type": "markdown",
   "id": "a62cbc1f",
   "metadata": {},
   "source": [
    "**Общий вывод**: kNN метод оказался самым ошибочными, но и одним из самых быстрых. а gbt - самым точным, но медленным по выполнению. Наиболее выгодно использовать svc, т.к. он точнее knn, но работает \"допустимое\" время."
   ]
  },
  {
   "cell_type": "code",
   "execution_count": 55,
   "id": "6067dc48",
   "metadata": {},
   "outputs": [
    {
     "name": "stdout",
     "output_type": "stream",
     "text": [
      "53.125321053790266 3212.71488588831\n"
     ]
    }
   ],
   "source": [
    "print(svc_time / knn_time, gbt_time / knn_time)"
   ]
  },
  {
   "cell_type": "markdown",
   "id": "e84a25b9",
   "metadata": {},
   "source": [
    "# Общий вывод и заключение"
   ]
  },
  {
   "cell_type": "markdown",
   "id": "2ff02509",
   "metadata": {},
   "source": [
    "Данные не идеальные и данных достаточно мало (<10000), но зато датасет имеет разнообразные признаки и множество классов, и в целом с ним удалось провести все необходимые преобразования, отображения и проверки. Точность предсказания здесь \"уперлась в потолок\", т.к. уже зависит только от количества данных. Еще стоит заметить, что классификация идет не на 2, а сразу на 7 классов. В купе с количеством данных это дает высокую ошибку. \n",
    "\n",
    "Датасет еще хорош тем, что все признаки разнообразно коррелируют друг с другом (что видно по таблице и графику корреляции), и задача не становится такой простой, какой могла быть."
   ]
  },
  {
   "cell_type": "markdown",
   "id": "fc6c0f95",
   "metadata": {},
   "source": [
    "Заметка: если увеличивать количество данных в данном датасете, то резонно использовать только быстрые классификаторы.\n",
    "\n",
    "Заметка: если не увеличивать количество данных в данном датасете, то резонно использовать gbt классификатор, т.к. он дает ошибку наименьшую, а в тренировочной выборке и вовсе 10%."
   ]
  },
  {
   "cell_type": "markdown",
   "id": "90bb5c1e",
   "metadata": {},
   "source": [
    "# Спасибо за внимание!"
   ]
  }
 ],
 "metadata": {
  "interpreter": {
   "hash": "247ab06e135bb35fa78c5eff31b2a9a0050dcb5fb773c2631d2a29ac689eeccb"
  },
  "kernelspec": {
   "display_name": "Python 3 (ipykernel)",
   "language": "python",
   "name": "python3"
  },
  "language_info": {
   "codemirror_mode": {
    "name": "ipython",
    "version": 3
   },
   "file_extension": ".py",
   "mimetype": "text/x-python",
   "name": "python",
   "nbconvert_exporter": "python",
   "pygments_lexer": "ipython3",
   "version": "3.9.7"
  }
 },
 "nbformat": 4,
 "nbformat_minor": 5
}
